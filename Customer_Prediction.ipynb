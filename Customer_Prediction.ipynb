{
  "nbformat": 4,
  "nbformat_minor": 0,
  "metadata": {
    "colab": {
      "name": "Customer Prediction.ipynb",
      "provenance": []
    },
    "kernelspec": {
      "name": "python3",
      "display_name": "Python 3"
    }
  },
  "cells": [
    {
      "cell_type": "code",
      "metadata": {
        "id": "PzTpGifv5oVw",
        "outputId": "945aaf93-f1b0-4d62-dfa6-914126fcad5a",
        "colab": {
          "resources": {
            "http://localhost:8080/nbextensions/google.colab/files.js": {
              "data": "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",
              "ok": true,
              "headers": [
                [
                  "content-type",
                  "application/javascript"
                ]
              ],
              "status": 200,
              "status_text": ""
            }
          },
          "base_uri": "https://localhost:8080/",
          "height": 109
        }
      },
      "source": [
        "from google.colab import files\n",
        "files.upload()"
      ],
      "execution_count": 1,
      "outputs": [
        {
          "output_type": "display_data",
          "data": {
            "text/html": [
              "\n",
              "     <input type=\"file\" id=\"files-4f8dc3d1-cf1f-4a12-8e6e-fad70f972539\" name=\"files[]\" multiple disabled\n",
              "        style=\"border:none\" />\n",
              "     <output id=\"result-4f8dc3d1-cf1f-4a12-8e6e-fad70f972539\">\n",
              "      Upload widget is only available when the cell has been executed in the\n",
              "      current browser session. Please rerun this cell to enable.\n",
              "      </output>\n",
              "      <script src=\"/nbextensions/google.colab/files.js\"></script> "
            ],
            "text/plain": [
              "<IPython.core.display.HTML object>"
            ]
          },
          "metadata": {
            "tags": []
          }
        },
        {
          "output_type": "stream",
          "text": [
            "Saving Customers2.xlsx to Customers2.xlsx\n"
          ],
          "name": "stdout"
        },
        {
          "output_type": "execute_result",
          "data": {
            "text/plain": [
              "{'Customers2.xlsx': b'PK\\x03\\x04\\x14\\x00\\x08\\x08\\x08\\x00\\x8d^\\x8bP\\x00\\x00\\x00\\x00\\x00\\x00\\x00\\x00\\x00\\x00\\x00\\x00\\x18\\x00\\x00\\x00xl/drawings/drawing1.xml\\x9d\\x90\\xcd\\x0e\\x820\\x10\\x84\\xef>\\x05\\xd9\\xbb\\x14=\\x18C\\xf8\\xb9\\x10\\x9f@\\x1f`C\\x17hB\\xb7M\\xb7\\n\\xbe\\xbdM\\x90\\xbb\\xf18\\x99\\xcc\\x97\\x99\\xa9\\xda\\xd5\\xce\\xd9\\x8b\\x82\\x18\\xc75\\x9c\\xf2\\x022\\xe2\\xdei\\xc3c\\r\\x8f\\xfb\\xedx\\x85L\"\\xb2\\xc6\\xd91\\xd5\\xf0&\\x81\\xb69T\\xab\\x0e\\xe5\"]\\xc8R\\x9e\\xa5L\\xb2\\x86)F_*%\\xfdD\\x16%w\\x9e8\\xb9\\x83\\x0b\\x16c\\x92aT:\\xe0\\x92\\xc8vV\\xe7\\xa2\\xb8(\\xf1\\x81P\\xcbD\\x14\\xbb\\xcd\\x81/\\x0f\\xff\\xa0Y4\\xbc\\xe7\\x7fj\\xe3\\x86\\xc1\\xf4\\xd4\\xb9\\xfei\\x89\\xe3\\x06\\t4cL_\\xc8d\\xbc@S\\xa9}h\\xf3\\x01PK\\x07\\x08\\xc7\\xcdN\\xab\\xa8\\x00\\x00\\x00+\\x01\\x00\\x00PK\\x03\\x04\\x14\\x00\\x08\\x08\\x08\\x00\\x8d^\\x8bP\\x00\\x00\\x00\\x00\\x00\\x00\\x00\\x00\\x00\\x00\\x00\\x00\\x1a\\x00\\x00\\x00xl/_rels/workbook.xml.rels\\xad\\x91Mk\\xc30\\x0c\\x86\\xef\\xfd\\x15F\\xf7\\xc5I\\x07c\\x8c8\\xbd\\x8cA\\xaf\\xfd\\xf8\\x01\\xc6Q\\xe2\\xd0\\xc46\\x92\\xd6\\xb5\\xff~.\\x1b[\\ne\\xec\\xd0\\x93\\xd0\\xd7\\xf3\\xbeH\\xf5\\xea4\\x8d\\xea\\x88\\xc4C\\x0c\\x06\\xaa\\xa2\\x04\\x85\\xc1\\xc5v\\x08\\xbd\\x81\\xfd\\xee\\xed\\xe1\\x19V\\xcd\\xa2\\xde\\xe0h%\\x8f\\xb0\\x1f\\x12\\xab\\xbc\\x13\\xd8\\x80\\x17I/Z\\xb3\\xf38Y.b\\xc2\\x90;]\\xa4\\xc9JN\\xa9\\xd7\\xc9\\xba\\x83\\xedQ/\\xcb\\xf2I\\xd3\\x9c\\x01\\xcd\\x15S\\xad[\\x03\\xb4n+P\\xbbs\\xc2\\xff\\xb0c\\xd7\\r\\x0e_\\xa3{\\x9f0\\xc8\\r\\t\\xcdr\\x1e\\x913\\xd1R\\x8fb\\xe0+/2\\x07\\xf4m\\xf9\\xe5=\\xe5?\"\\x1d\\xd8#\\xca\\xaf\\x83\\x9fR6w\\t\\xd5_f\\x1e\\xefz\\x0bo\\t\\xdb\\xadP~\\xec\\xfc$\\xf3\\xf2\\xb7\\x99E\\xad\\xaf\\xde\\xdd|\\x02PK\\x07\\x08O\\xf0\\xf9z\\xd2\\x00\\x00\\x00%\\x02\\x00\\x00PK\\x03\\x04\\x14\\x00\\x08\\x08\\x08\\x00\\x8d^\\x8bP\\x00\\x00\\x00\\x00\\x00\\x00\\x00\\x00\\x00\\x00\\x00\\x00\\x14\\x00\\x00\\x00xl/sharedStrings.xml\\x95\\x96As\\xda0\\x10\\x85\\xef\\xfd\\x15\\x1e\\xdf\\x8bI:\\xcdt2\\xc6\\x19bBK\\xdbd\\x98\\x92\\xb4\\xd3\\xe3bomMd\\x89\\xae$H\\xf8\\xf5]\\xa0\\x87\\x9e:\\x8f\\xa3\\xf1\\x87\\xf4\\xf4v\\xf7\\xc9\\xe5\\xcd\\xcb`\\xb3-K0\\xdeM\\xf2\\x8b\\xd18\\xcf\\xd85\\xbe5\\xae\\x9b\\xe4O\\x8f\\xf3\\xb7\\x1f\\xf2,Dr-Y\\xefx\\x92\\xbfr\\xc8o\\xaa7e\\x081\\xd3\\xbf\\xba0\\xc9\\xfb\\x187\\xd7E\\x11\\x9a\\x9e\\x07\\n#\\xbfa\\xa7o~y\\x19(\\xea\\xa3tE\\xd8\\x08S\\x1bz\\xe68\\xd8\\xe2r<\\xbe*\\x062.\\xcf\\x1a\\x9f\\\\\\x9c\\xe4\\xef\\xc6\\xef/\\xf3,9\\xf3;q}\\xfa\\xe9\\xea\"\\xaf\\xca`\\xaa\\xf2\\xb8\\xcdu\\xd8P\\xa3\\xbb\\xeb:\\x81e\\xcbyU\\xa7\\x10\\xfd\\xc0\\xb2\\x98\\x95E\\xac\\xca\\xe2\\x80\\xfe\\x07\\x7fHCM\\xd6\\x06\\x14\\xbeS}8=\\xf3;g\\xbd\\x9e\\x10^~\\xcb.\\xc2\\xf4\\\\\\xad\\xc4\\xe0\\xaf\\xe4\\xbaD\\x1dC\\xf0\\xd1iy\\x85\\xd8\\x1f\\xbc\\xfen\\x82\\x015/U\\xc29\\xb8\\x18/\\xb55\\xea\\t\\xc4\\xdfS\\xcb\\xd3e\\x92\\xa6\\xa7\\x80\\x1d\\xf5#k3\\xba3P\\xcc\\x95\\x9f\\x0c\\xd6\\xd0C\\xd8\\x9d\\xeb\\xac\\t=\\xc4>\\xad\\xa6\\x10\\xb7\\xda\\x90C\\xd7\\xbc\\xe7\\x17\\xd3`R\\x17\\xae5\\x84\\n0\\x98\\xf3uo\\x1c\\xb6\\xe6\\x81d\\xb0\\xf43v\\x03\\xc93\\xc4\\xceE\\xb3\\x0f\\xf3j.\\xe4\\x1aL\\xc1g\\xd2\\x1a\\xa0r\\x8f0D~\\xf1\\x1a\\xaa\\x18\\xba\\xda\\x99\\xb8g\\xb1\\x1a\\xe3Xsu\\x87\\xc0\\x87\\xd0\\xa9t:\\xb6h\\xe1\\xa6\\x9a\\xda\\x026\\xce-\\xdb\\xce\\xa4\\x01\\x8c2\\xeb\\x875\\xda\\x91z\\xb7\\xd1F\\xdd\\x83\\xe8OIi\\xd5\\x8c9}\\xa2\\xb1\\xf4Xz\\x89\\xa9Khg\\xdc\\n\\xed\\x8d\\x85P\\x97,\\x06\\xea Yl\\xf7E$\\x8b\\x9ap`\\xcf\\xb1\\x80@\\xb1\\xe4\\x08\\xec\\xcaY\\x8a\\xe0\\x1c?&yF\\xf3qn\\x1c\\x9c\\xa5\\xca\\xc2\\xe3\\xf6-\\x85\\x80z[\\xef\\x19<\\xd9\\xdf\\x90\\xcc\\xa2P;\\xc2\\xae)\\x8e\\xfd)%\\xb0km\\xc5\\x82\\xce\\xdcThm\\x1a\\xac\"\\xbd~z\\xa1\\xd6-Y\\x12x\\x05\\xcb\\x8e;\\xd4\\xe5\\x03M\\xff\\xb4p\\xa1\\x9f\\xbb\\xd5\\x1fPK\\x07\\x08\"\\xa2\\xcf\\xa3\\t\\x02\\x00\\x00,\\x0b\\x00\\x00PK\\x03\\x04\\x14\\x00\\x08\\x08\\x08\\x00\\x8d^\\x8bP\\x00\\x00\\x00\\x00\\x00\\x00\\x00\\x00\\x00\\x00\\x00\\x00#\\x00\\x00\\x00xl/worksheets/_rels/sheet1.xml.rels\\x8d\\x8f\\xcb\\n\\xc20\\x10E\\xf7~E\\x98\\xbdI\\xebBD\\x9av#B\\xb7R? $\\xd34\\xd8<H\\xe2\\xeb\\xef\\xcdF\\xb1\\xe0\\xc2\\xe5\\xcc\\xbds\\x86\\xd3t\\x0f;\\x93\\x1b\\xc6d\\xbc\\xe3P\\xd3\\n\\x08:\\xe9\\x95q\\x9a\\xc3y8\\xaew\\xd0\\xb5\\xab\\xe6\\x84\\xb3\\xc8\\xa5\\x92&\\x13\\x12)7.q\\x98r\\x0e{\\xc6\\x92\\x9c\\xd0\\x8aD}@W\\x92\\xd1G+r\\x19\\xa3fA\\xc8\\x8b\\xd0\\xc86U\\xb5e\\xf1\\x9b\\x01\\xed\\x82Iz\\xc5!\\xf6\\xaa\\x062<\\x03\\xfe\\xc3\\xf6\\xe3h$\\x1e\\xbc\\xbcZt\\xf9\\xc7\\x0b\\xa6\\xa2\\xb8\\x17\\x8f\\x82\\x14Qc\\xe6@\\xe9{\\xf7\\tkZ\\xb0\\xc0\\x8a\"[8\\xb6/PK\\x07\\x08\\xc2\\xd51\\x97\\xa8\\x00\\x00\\x00\\x1a\\x01\\x00\\x00PK\\x03\\x04\\x14\\x00\\x08\\x08\\x08\\x00\\x8d^\\x8bP\\x00\\x00\\x00\\x00\\x00\\x00\\x00\\x00\\x00\\x00\\x00\\x00\\x0f\\x00\\x00\\x00xl/workbook.xml\\x8dS\\xdbr\\xda0\\x10}\\xefW\\xb8\\x1a^\\xc16\\xb7\\x00\\x83\\xc9P\\x08\\x93\\xcc$m\\'\\xa4\\xc9cF\\xb6\\xd6XE\\x96<\\x92\\xcc\\xa5\\x9d\\xfe{\\xd72\\xa60\\xedC\\x1flk/:{\\xce\\xeezz{\\xc8\\x85\\xb7\\x03m\\xb8\\x92\\x11\\t;\\x01\\xf1@&\\x8aq\\xb9\\x89\\xc8\\xb7\\x97U{D<c\\xa9dT(\\t\\x119\\x82!\\xb7\\xb3\\x0f\\xd3\\xbd\\xd2\\xdbX\\xa9\\xad\\x87\\xf7\\xa5\\x89Hfm1\\xf1}\\x93d\\x90S\\xd3Q\\x05H\\x8c\\xa4J\\xe7\\xd4\\xa2\\xa97\\xbe)4Pf2\\x00\\x9b\\x0b\\xbf\\x1b\\x04C?\\xa7\\\\\\x92\\x1aa\\xa2\\xff\\x07C\\xa5)O`\\xa9\\x922\\x07ik\\x10\\r\\x82Zdo2^\\x182\\x9b\\xa6\\\\\\xc0k-\\xc8\\xa3E\\xf1\\x99\\xe6H{AEB\\xfc\\xd9\\x99\\xf6W\\xed\\xc54\\xd9\\x96\\xc5\\n\\xb3#\\x92Ra\\x00\\x85fj\\xff%\\xfe\\x0e\\x89EET\\x08\\xe21j!\\x1c\\x07\\xfd&\\xe5\\nBY\\xcc\\xc42\\xe8\\xac\\x1c\\xaf\\x1c\\xf6\\xe6O\\xbc2\\x1d\\xe2\\xbd\\xd2\\xfc\\x87\\x92\\x96\\x8au\\xa2\\x95\\x10\\x11\\xb1\\xba<UC\\xa2\\x96\\'\\xff\\x8a\\xac\\xabF\\xbd\\xd0\\xd84\\xce\\xc3\\x1b\\x97L\\xed#\\x82#:^\\x9c\\xf7\\xee\\xf8\\xc6\\x99\\xcdp\\x80\\xc3\\xde\\xa8\\xdf\\xf8\\xee\\x81o2\\x1b\\x91Q8\\xee\\x12\\xcf\\xd2\\xf8\\xb9jTD\\x06\\x01^K\\xb96\\xd6\\x15q(\\x14\\x95\\xec\\x00\\xebU\\x16\\n\\xf2/\\x14\\xb9\\x995_O\\xba\\x86bfX\\x11E\\xcf\\x03\\xc3\\xbanK,\\x06v\\xdc\\xf0X _=\\xe1\\x18\\xd0\\x0f\\xac\\xeb\\xf0\\x1a\\x10\\x06)\\x97\\xc0\\xaa\\xb1\\\\[^ZJ\\xd7\\xce\\xf382\\xce\\x18\\xc8F\\xbfPU\\x9f\\x9a\\x82H\\xb9&\\xf2~\\x102\\xef\\xbc\\xe3\\x1c-\\xe8%E\\x95\\xb4\\xba\\xbb\\x8bq>\\t\\xb0R\\x9f\\xc7;\\xab8\\x7fl\\xcd[\\xe1\\xa4\\xf5\\xd4\\xba\\x19\\xf4\\xa7\\xfeE\\xf9\\xd9\\x95\\x85\\xd4\\xb0Z\\x82k\\xc2\\x11\\x16\\x85-T)\\xb1Sa\\xd5:\\r\\xe9\\x93b\\x88;G\\xd9\\xa7\\xf8\\x99\\xf4\\xc9^\\x82\\xb0\\x14iv\\x82 \\x08\\xab\\x06\\xc0\\xc1>\\x1a\\xeb\\xbe\\xa7\\x8d\\x17\\n\\xcf\\x7fm\\xbd\\xe0\\xb1\\x86z\\xcf\\xdd\\xca\\x13\\xaf\\xd4<\"?o\\x86\\xdd\\xe1b4\\xec\\xb6\\xbb\\xf3\\xb0\\xd7\\x0e\\xc3\\xbbA\\xfbS\\xaf?h\\xaf\\xeeV+\\x1c\\xf0b\\xb9\\x18\\xaf~\\xe1\\xfa;\\xd4\\t>\\x8b\\x9a\\xbf\\xb1\\x1a\\xff\\xe5gH\\xd7G\\\\\\xc1CD\\xee\\x0e\\t\\x88\\xb9\\xe3\\xe4cZ\\xfdv\\xd4\\xfcfug\\xbf\\x01PK\\x07\\x08a\\xf9{\\xd0L\\x02\\x00\\x00\\x17\\x04\\x00\\x00PK\\x03\\x04\\x14\\x00\\x08\\x08\\x08\\x00\\x8d^\\x8bP\\x00\\x00\\x00\\x00\\x00\\x00\\x00\\x00\\x00\\x00\\x00\\x00\\r\\x00\\x00\\x00xl/styles.xml\\xed\\x98AO\\xdb0\\x18\\x86\\xef\\xfb\\x15\\x96\\xef#I)\\x05\\xa6$\\x08\\x982\\xed2\\xa1Q$\\xa4i\\x077q\\x12\\x0b\\xc7\\x8el\\x17Z~\\xfd>\\xc7i\\x9a\\x06\\xd8\\xa0;\\xacL\\xe5\\x92\\xf8\\x8d\\xfd|o\\xde\\xd8\\xc1Mx\\xb6\\xa88\\xba\\xa7J3)\"\\x1c\\x1c\\xf8\\x18Q\\x91\\xca\\x8c\\x89\"\\xc27\\xd3\\xe4\\xe3\\tF\\xda\\x10\\x91\\x11.\\x05\\x8d\\xf0\\x92j|\\x16\\x7f\\x08\\xb5Yrz]Rj\\x10\\x10\\x84\\x8epiL\\xfd\\xc9\\xf3tZ\\xd2\\x8a\\xe8\\x03YS\\x01Wr\\xa9*b\\xa0\\xa9\\nO\\xd7\\x8a\\x92L\\xdbA\\x15\\xf7F\\xbe?\\xf1*\\xc2\\x04\\x8eC1\\xaf\\x92\\xcah\\x94\\xca\\xb90`\\xa3\\x93\\x90;|\\xcd@\\x9c\\x8c1r\\xb8K\\x99\\x81\\x95/TPE8\\xf6\\xe2\\xd0k\\x01q\\x98K\\xb1\\xe6\\x8c\\xb1\\x13\\xe2P?\\xa2{\\xc2\\x01\\x12\\xd8\\xee\\xa9\\xe4R!U\\xcc\"\\x9c$~\\xf3geA*\\xea\\xba]\\x12\\xcef\\x8aY1\\'\\x15\\xe3K\\'\\x8f\\x9a\\xc1%Q\\x1an\\xdb\\xf1\\x9a\\xea\\xae\\xc6\\xa0\\xd2\\x00y\\xae\\x98\\xf3\\xda\\x07\\xfa;3\\xbc9\\xd8\\xfc\\x18\\xe7]~#\\xec\\x848\\xac\\x891T\\x89\\x04\\x1a\\xa8=\\x9f.kx\\x08\\x02f\\x85\\xc34\\xfd\\xfe\\xd0\\xbbPd\\x19\\x8c\\x8ez\\x03\\x9a\\x03\\xd4\\x9dI\\x95\\xc1,\\xecWv\\x12\\xca\\x18)\\xa4 \\xfc\\xa6\\x8epN\\xb8\\xa6\\xb8\\x93>\\xcb\\x07\\xb1\\x12\\xe3\\x90\\xd3\\xdc\\x00X\\xb1\\xa2\\xb4G#k\\xcfB\\x8c\\x91\\x15\\x9c\\xac\\xc6\\xd8\\xd2\\x8e\\xbc]\\x05\\xd4\\xcc\\xfc\\x08\\x9b\\x12f\\xee\\xaa\\xdcP\\x84\\xdaC\\xc9\\x19\\x19\\xaa\\xcf\\xb9jO \\x94\\x94r~m\\x07\\xdc\\xe6\\xebd|0\\xb2\\xc8\\x9f.\\x0c\\xd14`\\xfd\\xdaD\\xdbSGj\\x1b\\xa4\\xae\\xf92\\x91\\x16b\\xd4\\x9c\\xb6\\xc2E\\xd3eC:\\xe7\\xac\\x10\\x15\\x1dt\\xbcR\\xd2\\xd0\\xd44\\xef\\x89F\\x8eC\\xb2\\xea\\x88J\\xa9\\xd8#\\xa0\\xed\\xb4*\\xdaui_+\\x86\\xa5Vr7\\x8f\\x91\\xa1\\x0b\\xf3]\\x1a\\xe2(\\xe0\\xe9A\\x91z\\nb\\x17<\\x13YS\\x18\\xae\\xe9R1q7\\x95\\t\\xeb.CLug\\x03q\\x99\\xde\\xd1le\\xb2d\\x19\\x0c\\xed\\xf5\\xf4\\x16\\xf9 )\\x7f\\x9dS\\xb0mN\\xad\\xcfaP}\\xb9\\x9f\\xd4j\\xea\\xbc\\x1f3\\xa3\\xbd\\x99\\x17\\xccl\\xbd\\xb6\\xf6f\\xf6f\\xf6f\\xf6f\\xf6f\\xb613>\\xdc\\xa5\\xff\\x94\\xe3`\\xa7\\xdc\\x8cw\\xca\\xcdh\\x97\\xdc\\x9c\\xfec3^\\x7f\\xfb\\xee6\\xf3\\xbd}\\xfc\\xe1\\xb6\\xdb\\xf8E\\xfe\\xd4y\\xdf\\xcf_Z\\x7fo{\\xfaW\\xc5\\x16<\\x1f\\xdb\\xab\\x7f\\x06\\xedC\\xfb\\xfd\\\\\\xfboS\\xf3\\xdaU\\xdb\\xfb-\\xde\\xad\\xe0\\t\\xee\\xa9\\xc8~k\\x89\\xf07\\xfb}\\x8a\\xf7\\x82\\x9b\\xcd\\x197L\\xb4\\xadt\\xae\\xe1F.\\x9c\\xd6\\xab5\\xc4\\\\\\xca\\xaa\"+Jp\\xb4\\x819|#\\x06\\xfd\\xf0\\x7fv\\xa8\\xc9\\x06j\\xf2\\x06\\xd4\\\\)*\\xd2eG:\\xde \\x8d\\xdfN\\xda\\xf0u\\xb2A;~=\\xed\\x8a\\xaa\\x14\\x9ex\\x07:\\xdd\\x00\\x1d\\xbd\\x0cZ\\xbf\\x9d\\xe1\\xe1z\\xeb\\xcf\\x99\\xf1/PK\\x07\\x08\\x96a\\xae\\xec\\xdb\\x02\\x00\\x00\\x13\\x15\\x00\\x00PK\\x03\\x04\\x14\\x00\\x08\\x08\\x08\\x00\\x8d^\\x8bP\\x00\\x00\\x00\\x00\\x00\\x00\\x00\\x00\\x00\\x00\\x00\\x00\\x0b\\x00\\x00\\x00_rels/.rels\\xad\\x92\\xc1N\\xc30\\x0c\\x86\\xef{\\x8a*\\xf75\\xdd@\\x08\\xa1\\xa6\\xbbLH\\xbb!4\\x1e\\xc0$n\\x1b\\xb5\\x89\\xa3\\xc4\\x83\\xf2\\xf6D\\x13\\x12\\x0c\\x8d\\xb2\\xc3\\x8eq~\\x7f\\xfeb\\xa5\\xdeLn,\\xde0&K^\\x89UY\\x89\\x02\\xbd&c}\\xa7\\xc4\\xcb\\xfeqy/6\\xcd\\xa2~\\xc6\\x118GRoC*r\\x8fOJ\\xf4\\xcc\\xe1A\\xca\\xa4{t\\x90J\\n\\xe8\\xf3MK\\xd1\\x01\\xe7c\\xecd\\x00=@\\x87r]Uw2\\xfed\\x88\\xe6\\x84Y\\xec\\x8c\\x12qgV\\xa2\\xd8\\x7f\\x04\\xbc\\x84Mmk5nI\\x1f\\x1cz>3\\xe2W\"\\x93!v\\xc8JL\\xa3|\\xa78\\xbc\\x12\\re\\x86\\ny\\xdee}\\xb9\\xcb\\xdf\\xef\\x94\\x0e\\x19\\x0c0HM\\x11\\x97!\\xe6\\xee\\xc8\\x16\\xd3\\xb7\\x8e!\\xfd\\x94\\xcb\\xe9\\x98\\x98\\x13\\xba\\xb9\\xe6rpb\\xf4\\x06\\xcd\\xbc\\x12\\x840gt{M#}HL\\xee\\x9f\\x15\\x1d3_J\\x8bZ\\x9e\\xfc\\xcb\\xe6\\x13PK\\x07\\x08\\x85\\x9a4\\x9a\\xee\\x00\\x00\\x00\\xce\\x02\\x00\\x00PK\\x03\\x04\\x14\\x00\\x08\\x08\\x08\\x00\\x8d^\\x8bP\\x00\\x00\\x00\\x00\\x00\\x00\\x00\\x00\\x00\\x00\\x00\\x00\\x13\\x00\\x00\\x00docProps/custom.xml\\xb5\\xd3Mo\\x820\\x18\\x07\\xf0\\xfb>\\x05\\xe9\\x1d[PT\\x0c`\\x144;\\xec\\xb0\\xc4\\x97{W\\x8a4\\x83\\xb6i\\xab\\x1bY\\xf6\\xddW\\x86\\xe8\\xd1d\\xd3\\xdb\\xd3\\x97\\xfc\\x7f\\xed\\x936\\x9a\\x7f\\xd6\\x95s\\xa2J3\\xc1c\\xe0\\r\\x10p(\\'\"g\\xfc\\x10\\x83\\xddv\\xedN\\x81\\xa3\\r\\xe69\\xae\\x04\\xa71h\\xa8\\x06\\xf3\\xe4)zUBRe\\x18\\xd5\\x8eM\\xe0:\\x06\\xa51r\\x06\\xa1&%\\xad\\xb1\\x1e\\xd8enW\\n\\xa1jl\\xecP\\x1d\\xa0(\\nFh&\\xc8\\xb1\\xa6\\xdc@\\x1f\\xa11$GmD\\xed\\xcaK\\x1c\\xe8\\xf2f\\'\\xf3\\xd7\\xc8\\\\\\x90\\xf6tz\\xbfm\\xa4\\xcdK\\xa2sx\\xe3\\x14\\xb5ay\\x0c\\xbe\\xb2 \\xcd\\xb2\\x00\\x05\\xae\\xbf\\nS\\xd7C\\xde\\xd2\\r\\x87\\xe1\\xc4ES\\x84\\xfc\\xa5\\x9f\\xae\\xc3\\xc5\\xea\\x1b8\\xb2\\xdd\\xec\\x03\\x87\\xe3\\xda\\xde|!\\xe5\\xbe\\xeb\\x93\\x8d<\\x99Y%?\\xb4Q\\x897\\x1e\\xa0!B\\x11\\xbcNE\\xb0\\x17\\xffi\\x0f{\\xdb^pC\\xc9Q1\\xd3t8\\x1b%\\x1di\\x8b\\xbbq\\xa3\\x9e{\\xb6\\x8dS\\x15\\xe3\\xef:-1?\\xd0\\xbcC\\xdf\\x84\\xa8\\xce\\xecoy78\\xe8\\xe1\\x97\\xd6\\xdc\\xc9\\xad\\xc8\\xb0\\xa1\\x0fF\\xc7=\\xba!\\xb8\\xa2\\xa9\\x8dz08\\xb9\\x80%V\\xed\\x9b\\xbd\\xed\\xc1\\xeb7K~\\x00PK\\x07\\x089\\xb4\\xa9\\x1bA\\x01\\x00\\x00\\xab\\x03\\x00\\x00PK\\x03\\x04\\x14\\x00\\x08\\x08\\x08\\x00\\x8d^\\x8bP\\x00\\x00\\x00\\x00\\x00\\x00\\x00\\x00\\x00\\x00\\x00\\x00\\x11\\x00\\x00\\x00docProps/core.xml\\x8dR\\xdbJ\\x031\\x10}\\xf7+B\\x9e\\x14\\xdc&\\xbbU)a\\x1bAE\\x10T\\x84V\\x14\\xdfbv\\xac\\xd1l6$\\xe9\\xcd\\xaf7\\xbb\\xdb\\xc6zy\\xf0)3s\\xce\\x9c\\xb9\\xa5<]\\xd5\\x1a-\\xc0y\\xd5\\x981\\xce\\x07\\x14#0\\xb2\\xa9\\x94\\x99\\x8d\\xf1\\xfd\\xf42\\x1ba\\xe4\\x830\\x95\\xd0\\x8d\\x811^\\x83\\xc7\\xa7|\\xaf\\x94\\x96\\xc9\\xc6\\xc1\\x9dk,\\xb8\\xa0\\xc0\\xa3(d<\\x93v\\x8c_C\\xb0\\x8c\\x10/_\\xa1\\x16~\\x10\\x19&\\x82/\\x8d\\xabE\\x88\\xae\\x9b\\x11+\\xe4\\xbb\\x98\\x01)(=!5\\x04Q\\x89 H+\\x98\\xd9\\xa4\\x887\\x92\\x95L\\x92v\\xeet\\'PI\\x02\\x1aj0\\xc1\\x93|\\x90\\x93/n\\x00W\\xfb?\\x13:d\\x87Y\\xab\\xb0\\xb6\\xf0\\'u\\x0b&\\xf6\\xca\\xabD\\\\.\\x97\\x83\\xe5\\xb0\\xa3\\xc6\\xfes\\xf2xs=\\xe9F\\xcd\\x94iW%\\x01\\xf3r\\xd3\\x08\\x93\\x0eD\\x80\\nE\\x01\\xd6\\x97\\xdb\"\\x0f\\xc3\\xf3\\x8b\\xe9%\\xe6\\x05-hF\\x8f2ZL\\xe9\\x90\\xe5\\xc7\\xac8y*\\xc9\\x8f\\xfcV\\xb0\\xb7\\x1b\\xc7\\x9f\\x14h\\xf9\\xb16\\xfe]\\x1d\\xa2;\\x88D\\xb4\\x0f\\xab\\xf8\\x18\\xa1Q\\x86&\\xe0\\x16J\\xc2A+\\x92r\\xda\\xfc\\n\\xbct\\xca\\x86xj\\xde\\x81\\xdf\\x02\\xd1\\xd7\\xc2\\xcc\\xe6\\xf1.\\x1cLvu\\xdbQR\\xa8\\xbd\\xb8\\x16>\\xdc\\xc4\\xbf\\xf1\\xa2\\xa0:[\\xf3\\xbe\\xf4N7%\\xf9MJ\\x9b\\xa87\\xb1\\x7f\\xac\"\\xcf\\xa7\\xb4`\\xc7#FG;\\xab\\xd8\\nt\\xad8X\\xa8\\xf6\\xcfr\\xda\\x15Mn;\\x86\\x9f?\\xbf\\x81\\x0c\\xfd\\x8c\\xc9\\x89vPAC\\x1f\\xde\\x9a\\xbf\\xfe1\\xff\\x04PK\\x07\\x08$[\\x0fX\\x8c\\x01\\x00\\x00\\x13\\x03\\x00\\x00PK\\x03\\x04\\x14\\x00\\x08\\x08\\x08\\x00\\x8d^\\x8bP\\x00\\x00\\x00\\x00\\x00\\x00\\x00\\x00\\x00\\x00\\x00\\x00\\x10\\x00\\x00\\x00docProps/app.xml\\x9d\\x90OO\\xc30\\x0c\\xc5\\xef|\\x8a*\\xda\\xb5M`\\xa8LS\\x9a\\t\\x848M\\x82CA\\xdc\\xaa,q\\xb7\\xa0\\xfcS\\xe2N\\xdd\\xb7\\'\\x80\\xb4\\xed\\xcc\\xcd\\xcf\\xcf\\xfa\\xd9~|3;[\\x1d!e\\x13|Gn\\x1bF*\\xf0*h\\xe3\\xf7\\x1dy\\xef_\\xea\\x15\\xa92J\\xaf\\xa5\\r\\x1e:r\\x82L6\\xe2\\x86\\xbf\\xa5\\x10!\\xa1\\x81\\\\\\x15\\x82\\xcf\\x1d9 \\xc65\\xa5Y\\x1d\\xc0\\xc9\\xdc\\x14\\xdb\\x17g\\x0c\\xc9I,2\\xedi\\x18G\\xa3\\xe09\\xa8\\xc9\\x81Gz\\xc7XKaF\\xf0\\x1at\\x1d\\xcf@\\xf2G\\\\\\x1f\\xf1\\xbfP\\x1d\\xd4\\xcf}\\xf9\\xa3?\\xc5\\xc2\\x13\\xbc\\x07\\x17\\xadD\\x10\\x9c^\\xca>\\xa0\\xb4\\xbdq Xi\\x9f\\x05\\x7f\\x8c\\xd1\\x1a%\\xb1$\"\\xb6f\\x97\\xe0\\xf5w\\x05m\\x1b\\xd6<4\\xcb\\xc5\\xd6\\xf8i\\x1e>W\\xed\\xd0\\xdeWW\\x03Cy\\xe1\\x0b\\x14R\\xc6\\x1c[<M\\xc6\\xeaz\\xc9\\xe95\\x8e\\xd3Kn\\xe2\\x1bPK\\x07\\x08\\xe2\\xaeS\\xb8\\xeb\\x00\\x00\\x00|\\x01\\x00\\x00PK\\x03\\x04\\x14\\x00\\x08\\x08\\x08\\x00\\x8d^\\x8bP\\x00\\x00\\x00\\x00\\x00\\x00\\x00\\x00\\x00\\x00\\x00\\x00\\x13\\x00\\x00\\x00[Content_Types].xml\\xbd\\x94Io\\xc20\\x10\\x85\\xef\\xfc\\x8a\\xc8\\xd7*1\\xf4PUU\\x02\\x87J=\\xb6H\\xa5\\xe7\\xca\\xb5\\x07b\\x11/\\xf2\\x98\\xed\\xdfw\\x1c\\xa0tQY\\x04\\xe2\\x94\\xd8\\xf1{\\xdf\\xbc\\x19+\\xe5`i\\x9al\\x0e\\x01\\xb5\\xb3\\x15\\xeb\\x15]\\x96\\x81\\x95Ni;\\xa9\\xd8\\xdb\\xe8)\\xbfg\\x83~\\xa7\\x1c\\xad<`Fg-V\\xac\\x8e\\xd1?p\\x8e\\xb2\\x06#\\xb0p\\x1e,}\\x19\\xbb`D\\xa4e\\x98p/\\xe4TL\\x80\\xdfv\\xbbw\\\\:\\x1b\\xc1\\xc6<&\\x0f\\xd6/_\\x08\\x17\\xb4\\x82l(B|\\x16\\x06*\\xc6\\x97\\rWA,\\x88\\x8a\\xdb\\x97^A\\xa6,{\\\\\\xabS\\x01\\x15\\x13\\xde7Z\\x8aH\\xc5\\xf2\\xb9U\\xbf\\xd0\\xb9\\x1b\\x8f\\xb5\\x04\\xe5\\xe4\\xcc\\x90\\xa4\\xd8\\x18\\xdd$\\x1f\\xfe/\\xf7=@\\x83|\\xe1\\xc2\\xf4\\xc3\\xb9i\\x82\\x16i\\xe74\\xf2&pR\\xb6g\\xb0\\xd6\\x1e\\x0f\\x80\\xb1\\x16\\x01\\xd4k\\x0c)\\xf5\\xd9a\\xd1\\x07\\x10\\nk\\x80H\\t~x\\x1f\\xa8#Eou\\xb8\\xe9E\\xbb\\xe8]\\xb1\\x13\\xdf*\\xd8\\xb1/\\xd8\\x8d/\\xff#\\xea\\xd8^\\x82\\x8b\\x0e\\x83\\x9e\\x85\\x11\\xda\\x1e\\xba\\x11q\\xd5\\xc0\\xc5\\xafBk\\xba\\x8f\\xbc\\x9e\\xfa5fM%\\x0e\\x83\\xf3\\xc8\\xe5\\x0c\\xa33g\\']\\xdb\\xe4\\x9e<!D\\xbd?\\xe6\\x0e\\xee\\x02\\x9c\\x8e\\xde\\x86M\\xeaS\\x89d}vVX\\x92R\\x81\\xfa\\xcb\\xee\\x94\\xbc\\xfd?\\xf7?\\x01PK\\x07\\x08\\xfa\\xae\\x87\\xf2V\\x01\\x00\\x00\\xce\\x05\\x00\\x00PK\\x03\\x04\\x14\\x00\\x08\\x08\\x08\\x00\\x8d^\\x8bP\\x00\\x00\\x00\\x00\\x00\\x00\\x00\\x00\\x00\\x00\\x00\\x00\\x18\\x00\\x00\\x00xl/worksheets/sheet1.xml\\xbc\\xbd]\\x93$\\xc7\\x99\\xa5w\\xaf_A\\xc3\\xadLdg|e\\xe4\\x18\\x87k\\x9bU\\xe1\\xce\\x8e\\xa0\\xa45\\xcd\\xaed\\xa6;\\x0c\\xd9\\x1c\\xc2\\x16DS\\x00\\x88\\xd9\\xd9_\\xaf\\xeaB\\x95\\x0f\\xfd=\\xc7\\xf3\\x9c0\\x1b\\xfa\\xcd\\x0c\\x08<o\\xbe\\x9e\\xd9\\xa7=<\\x9f\\xf0\\xf0\\xfc\\xf5\\x7f\\xfa\\x1f\\x7f\\xfe\\xf6\\x17?}\\xfa\\xfe\\x87o>\\x7f\\xf7\\x8f_]~\\xf9\\xe1\\xab_|\\xfa\\xee\\xf7\\x9f\\xff\\xf0\\xcdw\\xff\\xf2\\x8f_\\xfd\\xb7\\xff\\x9a\\xfe\\xb7\\xf5\\xab_\\xfc\\xf0\\xe3\\xd7\\xdf\\xfd\\xe1\\xebo?\\x7f\\xf7\\xe9\\x1f\\xbf\\xfa\\xb7O?|\\xf5\\x9f~\\xf3\\xbf\\xfc\\xfa_?\\x7f\\xff\\xdf\\x7f\\xf8\\xd3\\xa7O?\\xfe\\xe2\\xe5\\x05\\xbe\\xfb\\xe1\\x1f\\xbf\\xfa\\xd3\\x8f?\\xfe\\xe5\\x1f~\\xf5\\xab\\x1f~\\xff\\xa7O\\x7f\\xfe\\xfa\\x87_~\\xfe\\xcb\\xa7\\xef^\\xfe\\xcb\\x1f?\\x7f\\xff\\xe7\\xaf\\x7f|\\xf9\\x9f\\xdf\\xff\\xcb\\xaf~\\xf8\\xcb\\xf7\\x9f\\xbe\\xfe\\xc3k\\xd1\\x9f\\xbf\\xfd\\xd5\\xf0\\xe1\\xc3\\xf2\\xab?\\x7f\\xfd\\xcdw_\\xfd\\xfc\\n\\xff\\xf0\\xbd\\xf3\\x1a\\x9f\\xff\\xf8\\xc7o~\\xff\\xe9\\xf9\\xf3\\xef\\xff\\xfa\\xe7O\\xdf\\xfd\\xf8\\xf3\\x8b|\\xff\\xe9\\xdb\\xaf\\x7f|\\x19\\xfe\\x0f\\x7f\\xfa\\xe6/?|\\xf5\\x9b_\\xbfv\\xf8/\\xdf\\xff\\xe2\\x8f\\xdf|\\xfb\\xe3\\xa7\\xef\\xff\\xf7\\xcf\\x7fx\\x19\\xf6\\x1f\\xbf\\xfe\\xf6\\x87O/\\xff\\xed/_\\xff\\xcb\\xa7\\x7f\\xfa\\xf4\\xe3\\x7f\\xfb\\xcb\\xeb\\x7f\\xff\\xf1\\xbf~\\xfe//\\xff\\xe2\\xfd?\\xff\\xea7\\xbf\\xfe\\xd5[\\xf1o~\\xfd\\x87o^:|\\xf9T~\\xf1\\xfd\\xa7?\\xfe\\xe3W\\xff\\xf9\\xf2\\x0f\\xbf\\xbb\\xce\\xd3\\x17\\xe6\\x15\\xf9\\xbf\\xbf\\xf9\\xf4\\xaf?\\xfc\\xcd?\\xff\\xe2\\x87?}\\xfe\\xd7\\xf42\\xd2\\xbf~\\xfb\\xf5\\x0f\\xef/\\xf8\\xfa/\\xf3\\xf7\\xdf\\xfc\\xe1w\\xdf|\\xf7\\xe9\\xe5\\xdf\\xfe\\xf8\\xfd_\\xdf\\xfe\\xe5\\xff\\xf5\\xf9_\\x9f>\\x7f\\xfb\\xdb\\x97\\xcf\\xe3\\xe5\\xa3\\xff\\xdb\\xff\\xf0\\xff~\\xfa\\xfes\\xf9\\x17\\xdf\\x7f\\xf3/\\x7fz\\x19\\xe3\\xef>\\xfd\\xf1\\xc7\\xf2\\x92?~\\xfd\\xcf\\xff\\xf4\\xe9\\xdbO\\xbf\\xff\\xf1\\xd3\\x1f\\xfe\\xb6\\xee\\xff\\xfc\\xeb\\x8f\\xdf\\xbe4\\xf9\\xa7\\x7f\\xfb\\xf3?\\x7f\\xfe\\xb6\\xbc\\xc0\\x1f>\\xfd\\xf1\\xeb\\xbf~\\xfb\\xe3\\x97!\\xbc\\xb4\\xfb\\xfc\\xfd\\xfb\\xbf\\xff\\xe9e\\xc4\\xff\\xf8\\xd5w_>\\xd8o_^\\xf2\\xf3_\\xbe\\xb4x\\xfa\\xf4\\xed\\xb7_\\xde\\xe8W\\xbf\\xf8\\xfd\\x17\\xf6\\xe3\\xcb\\xeb/\\xd3W\\xbf\\xf8\\x9f\\x9f?\\xff\\xf9\\x9f~\\xff\\xf5\\xb7/\\x1f\\xd3\\xe5\\xc3\\x87\\xbf\\xf9\\xdf\\xff\\xc7ky\\xfc\\xb7_>\\xd0\\xdf}\\xfdo\\x9f\\xff\\xfa\\xfa\\xb1\\xbc\\xfd\\xd7/i\\xf9\\xe7\\xcf\\x9f\\xff\\xfb\\x97\\x7f\\xf5\\xe5u?|\\xf9cz}\\x17_>\\xe0\\xbf|\\xfd%Yo\\xa3\\xf8\\xea\\x17_\\xbf\\xfc\\xdb\\x9f>\\xbd\\x8df\\xfc\\xdb\\xff\\xfds\\xe9/~\\xf8\\xff~\\xfe#\\x19\\xff\\xfdO\\xec\\xcb\\x0b\\xff\\xed?\\xbf\\xff\\xd1\\xa4\\xd7\\xec\\xbc\\xfca\\xbf}\\x12/\\x9f\\xfbo?}\\xf9T_\\x066\\xfd\\xf2\\xcb\\xbb{\\xf9\\xbc\\xdf\\xff\\xcd\\xdb\\'\\xfc\\xf9\\xe7\\x8f\\xf2w\\x9f~\\xfa\\xf4\\xed\\x0b\\xff\\xda\\xf2o\\xff\\xdd\\xcb\\'\\xf9\\xf3;\\xf8U\\xd5\\xe27\\xbf~\\xf9\\xd8~x\\xfd\\xbf_>\\xc0o\\xbf\\xfe\\xcb\\x0f_\\xfe\\x88\\xde^\\xf4\\xf7\\x7f\\xfd\\xe1\\xc7\\xcf\\x7f\\xfe\\x7f\\xbe\\xf9\\xc3\\x8f\\x7fz\\xffC\\xf8\\xd37\\x7f\\xf8\\xc3\\xa7\\xefh\\xdb\\xd7\\x9e\\x7f\\xfe\\xfa\\x7f\\xbc\\x8c\\xf2\\xe5\\xff\\x7f\\xf3\\xdd\\xeb\\xff\\xff\\xe1\\xc7\\x7f\\xfb\\xf2\\x87\\xf0\\xe5\\xe3\\xfc\\xf9e.\\xaf\\x1f\\xc0\\x7fl\\xbf\\xe1\\xad\\xdf\\xc0\\xfa-\\xff\\xf1\\xfd\\xc6\\xb7~#\\xeb7\\xfcr\\xfc;\\xbc\\xc5\\xe9\\xad\\xe5D\\xdf\\xe2/\\xd7\\xdb\\x7f|\\xcb\\xf9\\xad\\xe5\\xccZN\\xbf\\x9c\\xe7\\xff\\xf8\\x96\\xcb[\\xcb\\x85\\xb6\\xfc\\x8f\\xefw}\\xebwe\\xfd\\xae\\xbf\\\\\\xae\\xff\\xf1-\\xd7\\xb7\\x96+k\\xb9\\xfe]\\xb2s{ky\\xe3\\x7f\\x90\\xcb\\xdf\\xe1o\\xc8\\xe5\\xc3\\xfb\\x14\\xf0\\x817\\xbd\\\\\\xfe\\x0eM\\xcb\\xbcC\\'\\x9e\\xf9\\xef\\xf3N\\xdf\\'\\x9f\\x0b\\x9b}\\x86\\xe5\\x97\\xc3\\xdf\\xe3\\x9d~\\x18\\xde\\xffv^\\xd8$\\xb4\\xfer\\xfe\\xf9:\\xf3\\xf3\\xec\\xfe:\\xe5?\\x7f\\xfd\\xe3\\xd7\\xbf\\xf9\\xf5\\xf7\\x9f\\xff\\xf5\\x17\\xdf\\xbf\\xce\\xcc?\\xf7\\xfe\\xf9BP\\xda\\xfd\\xfb5&\\x8c\\xe3g\\xfa\\xc1E\\xe7\\xb5=\\xbc\\xc3\\x977\\xfe\\xa5\\xdd\\x97\\xeb\\xf3\\x0f\\xaf]_\\x8a\\xbf,w~\\xfa\\xcd\\x87_\\xff\\xea\\xa7/\\x03|#\\xeeH\\\\j\\xe2\\t\\x89\\xa1&\\x9e\\x91\\x18kbCb\\xaa\\x89\\x84\\xc4\\\\\\x13\\x19\\x89\\xa5&~\\x8b\\xc4\\xb5&>\"\\xb1\\xd6\\xc4\\x8e\\xc4\\xad&\\x0e\\xf2\\x89\\x85\\x0f\\xf5w\\x04\\xf9\\xf7O\\xf5W/Y(\\x81\\x18:\\x07bx\\x1d\\xd9\\xf0:\\xb2\\xef\\xd8\\x1f\\xf7\\x1d\\x891\\xfci>\\x91\\x17\\t\\x1f\\xd2\\xb3\\xec\\xb3!\\x11>\\xc5$_#\\xff-\\xf1\\xf69\\x87l\\xfe\\x96 \\xe1\\xed|$}\\xc2Pv9\\xd8\\x83\\xf4\\t\\x11\\xff\\x1dAf\\x9e\\x8a\\xf1Q*^\\xe6S\\x91\\x8a\\x9fg4?\\x14cxw\\x7f|YF\\x7f]\\xa0\\xcb\\xff\\xfa\\x9f_>\\xd4?\\x92\\xbf\\xf8\\xf7X\\x08\\x1f\\xcb\\x13\\x12\\xe1\\xcf\\xf0Y\\xbe\\xc6&_#\\xc9\\xd7\\xc8#~\\xf6q\\xf6 H\\x9c>\\xb0\\xcf\\x12\\x86\\xb2\\xcb\\xa1\\x1c\\xa4O\\x98\\xea~\\xf7\\x10\\xa9\\x922u\\x9e?&\\x15\\x95\\xf1-*\\xe1/\\xd9=\\x16\\xc2\\x15\\xe0\\t\\x89\\xf0\\'\\xf4\\x8cD\\x08\\xe4\\x86D\\x9cT$\\x91\\'\\xfc\\xf0\\xc3E\\xe2\\xb7\\x04\\t\\x13\\xe0G\\xec\\x13\\x93\"Gr\\x9061)\\x0f\\x91*)s\\xe7\\xa4\\xcc*)\\xd3[RB\\x0e\\xee\\xb1\\x10\\'\\x15$\\xe2\\x84\\xfd,_d\\x93D\"mBTf=\\xab 2\\x84>\\x1f\\xb1\\xcf\\x10^e\\x97\\x83=\\xc8PbV\\x1e\"UV\\x96\\xceYYTV\\xe6\\xb7\\xac\\x84\\xb7t\\x8f\\x85\\xb0\\xe2{B\"FE\\x12\\x9b$\\x92$\\xf2\\xa2\\xa3B\\x90x\\x01\\xc2>\\x978\\xad\\xc8\\xa1\\x1c\\xa4O\\x8c\\nA&\\x1e\\x95k\\xe7\\xa8\\\\UT\\x96\\xb7\\xa8\\x84O\\xf7\\x1e\\x0bq\\xd2x\"H\\xc8\\n\\x121+\\xf25\\x92|\\x8d|\\xd5Y!H\\xcc\\n\\xf6\\x19\\xe3\\xb2V\\x0e\\xe5 }\\xe2\\xb2\\x96 \\x8die\\xed\\x9c\\x95Ue\\xe5\\xfa\\x96\\x95\\xf0\\xd1\\xddc!L<OH\\xc4iE\\x12\\x9b$\\x92$\\xf2\\xaa\\xa3B\\x90\\x18\\x15\\xec\\x03\\xdf\\x80\\xe4P\\x0e\\xd2\\'N+\\x0f\\x91**\\xb7\\xceQ\\xb9\\xa9\\xa8\\xacoQ\\tK\\xc1{,D\\x7f\\x82D\\x8c\\x8a$6I$I\\xe4\\x9b\\x8e\\nAbT\\xb0O\\x98\\x0fv9\\x92\\x83\\xb4\\x89Iy\\x88TI\\xf9b:\\xfb:\\xb5\\x0f*+\\xb7\\xb7\\xac\\x84\\xef\\x04w\\xa8\\xc4\\x95\\xde\\x13ab\\\\4\\xb2i$i$WH#2\\x84\\x81\\x05.i\\x15\\xff\\xc0w=\\x9c\\x83\\r\\'\\xe6\\x861\\x8d\\x95\\xcb\\xa5\\xbb\\x8c\\xbd\\xa8\\xe0|\\x99u\\xff\\xc8\\xa6\\xdf;\\xd4\\xe2\\xca\\xef\\x890\\x10\\x1d\\x89l\\x1aI\\x1a\\xc9\\x15\\xd2\\xf8\\x16M\\x98\\xe1\\x12\\xa3C\\xde7DG\\x0e\\xe7`\\xc3\\x89\\xeb\\x98\\xc7L\\x1d\\x9d\\xa1wt\\xa2\\x80\\xc4\\xe8\\\\\\xde\\xa3\\x13\\x85.\\xd4\\xe2B\\xf0\\x890\\x10\\x1d\\x89l\\x1aI\\x1a\\xc9\\x15\\xd2\\x9au\\x90\\x19\\x86\\x18\\x1d\\xd9j\\'\\xc8%&\\x87\\x8c\\x06\\x92C\\x98\\xd6\\xd5\\xea\\xa1\\xda\\xfd{$G\\xca\\xdd\\xcb\\xbb\\xdd\\x8d\\xee\\xfc\\x0e\\xb5\\xe4;\\x13a 9Z\\xf1j$i$_\\x0c\\xcbK\\x18L\\x8e~\\xdf\\xbb\\x1e\\xce\\xc1\\x86\\x03\\xd7+\\xc2\\xb4&\\x9d\\xde\\xae\\xf7\"e\\xef\\xe5\\xdd\\xf6\\xc6{*w\\xa8E\\xdfK\\x10H\\x8eD6\\x8d$\\x8d\\xe4\\x0bz\\xd4a\\x8c\\xc9!\\x0c$G\\xb6\\xda5r\\x90N8\\xe7<d\\xea\\xe0\\xf4V\\xbf\\x17\\xe9~/\\xef\\xf27\\xbe\\xaf;\\xd4\\xe2_\\x9a\\'\\xc2@r\\xb4\\x00\\xd6Hb\\x83\\x89\\xc91\\x1c0a\\x86)&\\x07[\\xc1:G[`6\\x1aH\\x8e\\xef\\x81/\\xbdE\\xf0E\\x9a\\xe0\\xcb\\xbb\\n\\x8e\\xa9\\xb8C-K\\x8e\\xd6\\xc1\\x1a\\xd94\\x924\\x92/(Y\\x879&\\x870KL\\x8el\\xb5k\\xe4 \\x9d\\xf0b\\xe5k\\xe1Ko/|\\x91b\\xf8\\xf2n\\x86\\xe3\\xdf\\xcf;\\xd4\\xe2-\\'\\x82D7\\xac\\x91M#I\\x8f%_\\xd0\\xb8\\x0e\\xd7\\x18\\x1c\\xc2\\xac18\\xd8*\\xdew\\xd2\\xa39H\\'\\x9cr|G|\\xe9-\\x89/\\xd2\\x12_\\xde5q\\x94aw\\xa8e\\x0bd\\xad\\x8a5\\xb2i$i$_P\\xc0\\x0e\\xb7\\x98\\x1c\\xc3\\x17\\xb3\\xf7\\x1d\\x93\\xa3\\x851\\xeb\\x04S\\x0eaZSNog|\\x91\\xd2\\xf8\\xf2n\\x8d\\xa3\\xfb\\xb8C-\\x99r\\xb48&\\x08L9\\x12I\\xbaQ\\xbe\\xa0\\x8f\\xc5)\\x8700\\xe5\\xc8V;A\\xa6\\x18\\x1cb\\x87a\\xca\\xf1\\r\\xf2\\xd0\\xdb \\x0f\\xd2 _\\xde\\x15r\\xdcWr\\x87Z\\xbc7E\\x90\\x18\\x1c\\x8dl\\x1aI\\x1a\\xc9\\x83\\xa1\\x90\\t\\x13\\x05\\xd5G\\xd2*\\xce8\\x04\\t\\x9d\\x0e6\\x9a8\\xe30\\xa61\\xe3\\x0c\\xbd\\r\\xf2 \\r\\xf2\\xf0n\\x90\\xa3\\x84\\xbfC-\\xce8\\x1ay\\xd6\\xc8F\\x90!\\x06G\\x0b\\xe4\\x81\\xd8X\\x08\\x0ea\\xe2\\xa5\\x8a\\xb4\\x82\\xe0H\\xe4`\\x9d`{\\'aZ3\\xce\\xd0;8Qtbp\\xde\\xfdqT\\xf0w\\xa8\\x85\\xbfWO\\x04\\x81\\xe0Hd\\xd3H\\xd2H\\xae\\x90Vp\\x90\\x19\\xe3\\x9d\\x07\\xddj\\xd7\\xc8\\xc1F\\x03\\xc1y\\xc8\\xd4\\xc1\\xe9\\xad\\x8f\\x07\\xbd7\\xb8l\\x0e\\x8e\\xfa\\x18j\\xf1\\xde8A 8\\xf2U6\\x82\\xc0\\x8c\\xa3\\xed\\xf1`\\xd8c\\xc6\\xc0\\x8c#[\\xed\\xfa=\\x1d\\xac\\x13\\x04\\xc7\\x97\\xc7Coy<Hy<\\xbc\\xcb\\xe3hZ\\xefPK.U\\xd2/?\\xebW\\xd94\\x924\\x92\\x07\\xa2b\\xe11\\x04\\xc2\\xc0s\\x08Z\\x1ek\\xe4`\\x9d`\\x8d\\xe3\\xcb\\xe3\\xa1\\xb7<\\x1e\\xa4<\\x1e\\xde\\xe5q\\x94\\xa8w\\xa8%3\\x0e\"q\\x9b9{\\x15\\x98rd\\xa7\\xa4\\x91<\\x18\\xf2\\x9810\\xe5H3\\xbck\\xe4`\\x9d`\\xcay\\xc8\\xd4\\xc9\\xe9-\\x8f\\x07)\\x8f\\x87wy\\x1cE\\xeb\\x1dj\\x89<&L|\\x12\\x8e 0\\xe7hy\\xac\\x91<\\x18\\xfb\\x89\\x19\\x03\\xc9\\xd1\\xf2X#\\x07\\xeb\\x04\\xc9\\xf1\\xe5\\xf1\\xd0[\\x1e\\x0fR\\x1e\\x0f\\xef\\xf28\\xea\\xf7;\\xd4\\xc2\\xbe\\xaf\\'\\x82@p\\xb4<\\xd6H\\xd2H\\x1e\\x88\\x8a\\x8d\\x1bs\\x083\\xc6;\\x9d\\xa4\\x15\\x04G\\x8e\\xe6`\\xa3\\x81\\xe0<d\\xea\\xe0\\xf4\\x96\\xc7\\x83\\x94\\xc7\\xc3\\xbb<\\x8e\\xbe\\xec\\x0e\\xb5d\\x95\\x83\\x08\\x04G\\xbbc\\x8d$\\x8d\\xe4\\x81\\x98XX\\xe5 \\x13\\x1f\\x1e\\xfdHZ\\xc5\\x1d\\xa4z4\\x07\\x1b\\r\\x04\\xc7w\\xc7Cow<Hw<\\xbc\\xbb\\xe3(Q\\xefPK\\x14\\xa0v\\xc7\\x1a\\xd94\\x924\\x92\\x07c\\xe31c\\xe2\\x13u\\xa4U\\xbc]E\\x90\\xb8r;X+X\\x1f?\\x14\\xcc\\xf5\\xa3\\xba\\xbd\\xe5\\xf1(\\xe5\\xf1\\xf0.\\x8f\\xe3\\xbd\\x9d;\\xd4\\xc2|\\xf2D\\x90\\x98\\x1c\\x8dl\\x1aI\\x1a\\xc9\\xa3!\\x8f\\x19\\x13\\x93\\xa3\\xdf\\xf6\\xaeGs\\xb0Nq\\xcay\\xcc\\xd4\\xc1\\xe9-\\x8fG)\\x8f\\xc7wy\\x1c\\xf5\\xfb\\x1dj\\xc9\\x93\\xdeZ\\x1ekd\\xd3H\\xd2H\\x1e\\ry\\xcc\\x18\\x08\\x8eT\\xd9;A\\xe2\\x8c\\xc3:\\xc1\\x13\\xdf\\xbe<\\x1e\\x87\\xde\\xc1\\x89\\x9a\\x13\\x83\\xf3.\\x8f\\xa3E\\xbdC-\\t\\x8eD\\x9e\\t\\x12\\x9f\\xfc\\xd6\\xaf\\x924\\x92+\\xa4\\x15\\x1c\\xc2\\xc0A\\x01r\\xc0\\xbb\\x1e\\xcd\\xc1:\\xc1\\x8cC\\x98Vpz\\xcb\\xe3Q\\xca\\xe3\\xf1]\\x1e\\xc7\\xef\\x17w\\xa8\\x85G\\xaf\\x9e\\x08\\x02\\xc11N\\x97\\xd0[\\x8f5\\x92GC\\x1e3&\\xae\\x8eu\\xab]#\\x07\\xeb\\x043\\x8e/\\x8f\\xc7\\xde\\xf2x\\xd4\\xc7L\\x94s&\\xa2<\\x86Z\\xbc\\xa5\\xf5D\\x989&G\\x1f6A\\x10H\\x0e9\\x06b\\x8a\\xd11\\xf41c :Z\\x1fk\\xe4`\\x9d`\\xce\\xf1\\xf5\\xf1\\xd8[\\x1f\\x8fR\\x1f\\x8f\\xef\\xfax\\x8c\\xfa\\x18jQ\\xe5\\x10\\x04\\xe6\\x1c\\xbd\\xf5X#I#y4\\xec1c\\xe0b\\xa5\\xed\\xb1F\\x0e\\xd6\\t\\xe6\\x1c\\xdf\\x1e\\x8f\\xbd\\xed\\xf1(\\xed\\xf1\\xf8n\\x8f\\xc7h\\x8f\\xa1\\x96\\xacr\\x88`\\x8e\\xc1\\x91\\xc8\\xa6\\x1b%\\x8d\\xe4\\x91\\xec*\\x8e\\xbb\\xb9\\x18\\x13ws\\xe9V;A\\x86\\x18\\x1cC\\x1e?f\\xea\\xe0\\xf4\\x96\\xc7\\xa3\\x94\\xc7\\xe3\\xbb<\\x1e\\xa3<\\x86Z\\x12\\x1c\\x89<\\x13\\x04\\xaeUZ\\x1e\\xebFy4v\\x1e3\\x06\\x82\\xa3\\xe5\\xb1F\\x0e\\xd2\\t\\x83\\xe3\\xef<\\x1e{\\xcb\\xe3Q\\xca\\xe3\\xf1]\\x1e\\x8fQ\\x1eC-\\t\\x8e\\xdexL\\x90xr#A 8Z\\x1e\\x8fD\\xc5\\xc2\\xa5\\x8a\\xc8\\xe3\\xf8\\x94\\x0ci\\x15\\x9f\\x92!\\x08\\xcc8\\x86<fL+8\\xbd\\xe5\\xf1(\\xe5\\xf1\\xf8.\\x8f\\xc7(\\x8f\\xa1\\x16\\x1f\\xcc#\\x08\\x04G\\xcbc\\x8d$\\x82\\xc4\\xdbU\\xa3!\\x8f\\x19\\x03k\\x1c\\xbd\\xf1X#\\x07\\xeb\\x04\\xc1\\xf1\\xdd\\xf1\\xd4\\xdb\\x1dO\\xd2\\x1d\\x8f\\xef\\xeex\\x8c\\xee\\x18j\\xc9\\xb3\\x0e\\x84\\x89\\xc9\\xd1\\xc8\\xa6\\x91\\xa4\\x91<\\x11\\x15\\x0b\\xe7\\xf8\\x91\\x9d\\xc7a>\\xf9\\xc8\\xdewH\\x8eF\\x0e6\\x1a8\\xcb\\xcf\\x97\\xc7Soy<Iy<\\xbd\\xcb\\xe3)\\xcac\\xa8\\xc5k\\x15A\\xa6\\xb8<&L\\\\\\x1e\\x13$n\\x04\\xd4H\\x9e\\x0c{L\\x98\\xb8\\xb8\\xfb\\xa8\\xdf\\xf7\\xaeGs\\xb0\\xd1\\xc49\\xe71S\\'g\\xe8\\x9d\\x9c\\xe8919\\xef\\xf68\\xfe\\x91\\xdf\\xa1\\x96$\\x07\\x91\\xa8r\\xf4\\xabl\\x1aI\\x1a\\xc9\\x15\\xd2\\n\\x0ea\\xe2\\xc5\\x8a\\xb4\\x8a\\xd3\\xf1N\\x988\\x1d\\x1f\\xac\\x17D\\xe7!SG\\xa7\\xb7?\\x9e\\xa4?\\x9e\\xde\\xfd\\xf1\\x14\\xfd1\\xd4\\x92\\xe8\\x90]\\xb8\\x90\\x1d\\xb9\\xb5x#H<\\xdc\\\\\\x0f&O\\x86@f\\x0cd\\x87\\x8c\\x06f\\x1dm\\x90Y+\\x88\\x8eo\\x90\\xa7\\xee\\xe7\\x14K\\x83<\\xbd\\x1b\\xe4\\t\\x8e*\\xd6\\xdb\\x8f\\t2\\xc6\\xe4\\x18\\xa7\\x15\\xcbM\\xccI\\x8f%O\\xc4\\xc6Br\\x08\\x03\\xc9!\\xa3\\x81\\x95\\x8eqh\\xb1!\\x90\\x1f3urz\\x0b\\xe4I\\x1f\\\\\\\\N.\\x8e\\x02\\x19jIr\\xc8i\\xbf19Z k$i$OD\\xc7\\xc2\\x12\\x990p\\xd65\\xb6\\x8a\\xf3\\xf1\\xae\\x87s\\xb0V\\x90\\x1c\\xdf O\\xbd\\r\\xf2$\\r\\xf2\\xf4n\\x90\\xa7h\\x90\\xa1\\x96$\\x07\\x11\\x98s\\xf4\\xf6c\\x8d$\\x8d\\xe4\\xc9\\xd8~\\xcc\\x18\\x98s\\xb0U\\x9c\\x8ew=\\x9c\\x83\\xb5\\x82\\xe4\\xf8\\ny\\xea\\xad\\x90\\'\\xa9\\x90\\xa7w\\x85<E\\x85\\x0c\\xb5$9Z!\\x13\\x04\\xbe\\\\\\xc9WI\\x1a\\xc9\\x13\\x11\\xb2\\x90\\x1c\\xe3tc\\xd2\\n\\x93\\xa3\\x1d2k\\x05\\xc9\\xf1\\x1d\\xf2\\xd4\\xdb!O\\xd2!O\\xef\\x0ey\\x8a\\x0e\\x19jIr\\x88\\xfd\\x85IG\\xef@\\xd6H\\xd2H\\x9e\\x0c\\x89\\xcc\\x18\\x88\\x0e\\xd9\\x81\\x0c\\xd1\\xd1[\\x90Y+\\x88\\x8e\\xbf\\x05y\\xeam\\x91\\'i\\x91\\xa7w\\x8b<E\\x8b\\x0c\\xb5\\xb8\\x91T#\\xcf\\x04\\x81\\xe4h\\x8bL\\x901&\\x878\\xd9\\xb8\\xc5\\x821q\\x8b\\x05{Oq\\x0f2afp:\\x86G~\\xcc\\xd4?\\xed\\xd1\\xdb#\\xcf\\xd2#O\\xef\\x1ey\\x8a\\x1e\\x19j1:\\x04\\x89\\xd7+\\x8dl\\x1aI\\x1a\\xc93\\x91\\xb21:\\x8c\\x89\\xd1!\\xad\\xc0\\xe9\\x10\\x06\\x9c\\x0e\\xeb\\x05?\\xf4\\xe1\\x8b\\xe4\\xb9\\xb7H\\x9e\\xa5H\\x9e\\xdfE\\xf2\\x1cE2\\xd4\\xe2\\x05\\x8b \\xd1#\\xebW\\xd94\\x924\\x92gbe!:\\x84\\x81\\xe8\\x109\\x1e\\x95\\x8e\\x1e\\xce\\xc1ZAr|\\x91<\\x0f\\xbd\\x93\\x13\\x8d\\'&\\xe7]$\\xcfQ$C-I\\x8eD\\x9e\\t\\x12\\x17\\xc9\\xfaU\\x92Fr\\x854V:\\x8c\\x89+\\x1d\\xd2\\n\\x94\\x8e\\x1e\\xce\\xc1ZAr\\x1e2urz{\\xe4Yz\\xe4\\xf9\\xdd#\\xc7K\\xf5\\x1dj\\xc9\\x83\\xc1\\x84\\x81\\xe8\\xe8\\x8d\\xc8\\x1aI\\x1a\\xc93J\\xd9\\xb8y\\xe4\\xb7\\x8c\\x89[tH+p:z8\\x07i\\x05+\\x9d\\xc7L\\x1d\\x9d\\xde\\x1ey\\x96\\x1ey~\\xf7\\xc8s\\xf4\\xc8PK\\xee\\x98\\x13\\x06\\xa2\\xa3\\xcf\\xb1\\xd0H\\xd2H\\x9e\\r\\x91\\xcc\\x18\\x98u\\x88H\\x8e\\xdf\\xaf\\xf4p\\x0e\\xd6\\n\\xa2\\xe3\\x8b\\xe4\\xb9\\xfb\\x0f\\xe0I\\x91<\\xbf\\x8b\\xe4\\x19~\\x03\\x0fmi\\xfc\\x11V\\x82@r\\xe4\\t\\x14\\x9b~\\x95\\xa4_%\\xcfhe\\xe3\\xe2\\xf6\\xb7\\x84\\x89\\xab\\x98\\x8f\\xa4U|6\\x98\\x8df\\x8e\\xc91D\\xf2c\\xa6NNo\\x91<\\xeb\\xdf\\xc3+?\\x88\\x17E2\\xd4\\x92\\x95\\x8e\\x16\\xc9\\xfaU6\\x8d$\\x8d\\xe4\\x99l3\\x8e\\x07\\xaf3&\\x1eG@\\x18\\\\\\xe9h\\xe6 \\x0cF\\xc77\\xc9so\\x93<K\\x93<\\xbf\\x9b\\xe49\\x9ad\\xa8%\\xd1\\xd1&\\x99 \\xf1\\xbe\\'A\\xe2\\x9eR\\xdd(\\xcf\\x86I&\\x0c\\x1c-I\\x18\\x8c\\x8ef\\x0e6\\x1e\\x88\\x8e\\xaf\\x92\\xe7\\xde*y\\x96*y~W\\xc9sT\\xc9PK\\xaeWz;\\xb2F6\\x8d$\\x8d\\xe4\\x99h\\xd9x\\xe3\\x930q\\x01\\xfc\\x911\\x10\\x1d\\xcd\\x1cl<\\xf0\\x05\\xcbW\\xc9so\\x95<K\\x95<\\xbf\\xab\\xe49\\xaad\\xa8\\xc5s\\xbd\\x9e\\x08\\x03\\xd9\\x91\\xbay\\xd3H\\xd2\\x8d\\xf2\\x8c^6\\xaen\\x7f\\xcb\\x98\\xb8\\x95\\x9d1\\x90\\x1d\\xcd\\x1c\\x84\\xc1i\\xc7w\\xc9Ko\\x97\\xbcH\\x97<\\xbf\\xbb\\xe49\\xbad\\xa8\\xc5+\\x96F\\x9e5\\xb2\\x11$FG\\xbfJ^\\xd0\\xcb\\xc2\\xe33\\x8c\\x89\\xdf\\xcd\\t\\x03\\xd11\\x98\\x830\\x10\\x1d\\xc6\\xb4~5\\xba\\xb7K^\\xa4K^\\xde]\\xf2\\x12]2\\xd4\\x92\\xe8 \\xb2\\xc6\\xe8h\\x97\\xac\\x91\\xa4\\x91\\xbc\\x18{\\x92\\x19\\x03? \\x8d\\x0cFG3\\x07\\xeb\\x05\\xd1\\xf1e\\xf22\\xf4\\x8eN\\xb4\\x9e\\x18\\x9dw\\x99\\xbcD\\x99\\x0c\\xb5\\xb0|}\"\\x08\\xcc:\\x12\\xd94\\x924\\x92+\\xa4\\xb1\\xd8!\\x0c<\\x08A\\x18\\x8c\\x8ef\\x0e6\\x1e\\x88\\xceC\\xa6\\x8eNo\\x9b\\xbcH\\x9b\\xbc\\xbc\\xdb\\xe4%\\xdad\\xa8%\\xb3\\x8e\\x96\\xc9\\x1a\\xd9\\x08\\x12\\xbfbi$/\\xc4\\xcc\\xc6;X\\x8c\\x89w\\xb0\\x08\\x83\\xd1\\xd1\\xcc\\xc1zAt\\x1e\\x9e}QG\\xa7\\xb7M^\\xa4M^\\xdem\\xf2\\x12m2\\xd4\\x12\\x9bL\\x98x\\xb8-A ;\\xda&k$/D\\xcdBv\\x90\\x81\\xaf\\xe7\\x84\\xc1\\xech\\xe6`\\xe3\\x81\\xec\\xf8:y\\xe9\\xad\\x93\\x17\\xa9\\x93\\x97w\\x9d\\xbcD\\x9d\\x0c\\xb5x\\xe0\\xce\\x13a`\\xde\\x91{\\x977\\x8d$\\xdd(/\\x86O&L\\xdcU\\xfb\\x911\\x90\\x1d\\xcd\\x1c\\x84\\xc1\\xec\\xf8By\\xe9-\\x94\\x17)\\x94\\x97w\\xa1\\xbcD\\xa1\\x0c\\xb5l\\xdeA&>HC\\x10\\xc8\\x8e6\\xca\\x1a\\xc9\\x8b\\xb15\\x991\\xb0R6\\x8c\\xb2\\xc1\\x1c\\xac\\x17d\\xc77\\xcaKo\\xa3\\xbcH\\xa3\\xbc\\xbc\\x1b\\xe5%\\x1ae\\xa8%\\xcb\\x1dm\\x945\\xb2\\x11\\x04\\x96;\\xda(/\\x86Q&L\\xdc\\x92\\xfd\\x911\\x10\\x1d\\xc3(\\xb3\\xf1@t|\\xa3\\xbc\\xf46\\xca\\x8b4\\xca\\xcb\\xbbQ^\\xa2Q\\x86Z\\x12\\x1dy4\\xc5\\xb3~\\x95M#I#y1\\x8c2c`\\xd61\\x8c\\xb2\\xc1\\x1c\\xac\\x17D\\xc7?\\xe2b\\xe9m\\x94\\x17i\\x94\\x97w\\xa3\\xbcD\\xa3\\x0c\\xb5$:\\xf2,\\xe1g\\xfd*\\x1bA`\\xd6\\x91\\xc7m\\xe4\\x85\\xc8Y\\x98u\\x8c#.\\x08\\x83\\xd11\\x842\\xeb\\x05\\xd1\\xf1\\x7f]\\xef\\xda[(_\\xa5P^\\xde\\x85\\xf2\\x12\\x852\\xd4\\xe2\\x97\\xd9\\'\\xc2\\xc4+\\x96F6\\x8d$\\x8d\\xe4+\\xb1\\xb3q\\xdaaL\\xcc\\x8e\\xf1\\xbew=\\x9c\\x83\\xb5\\x8a\\xf7\\xb1\\x1e3utz\\x0b\\xe5\\xab\\x14\\xca\\xd7w\\xa1|\\x8dB\\x19jq\\xd6!H\\xbc`\\xe9W\\xd94\\x924\\x92\\xafD\\xceBr\\x8c#\\x92u\\xab]\\xbf\\xed\\x83u\\x82\\xe0\\xf8G$_\\x87\\xde\\xc1\\x89\\x1a\\x16\\x83\\xf3\\xae\\x93\\xafQ\\'C-\\x9e\\xc8D\\x10\\x98r$\\xb2i$i$WH\\xe3r\\xc5\\x18\\x98r\\xe4\\xdb\\xde\\xf5h\\x0e\\xd6)^\\xac\\x1e3upz\\xcb\\xe4\\xab\\x94\\xc9\\xd7w\\x99|\\x8d2\\x19jq\\xd3\\x05A 8Z&k$i$_\\x89\\x98\\x85\\xe0\\x18\\'\\\\\\xe8\\xb7\\xbd\\xeb\\xd1\\x1c\\xac\\x13\\x04\\xc7W\\xc9\\xd7\\xde*\\xf9*U\\xf2\\xf5]%_\\xa3J\\x86Z\\xa2t\\x08\\x03\\xc9\\xd1*Y#I#\\xf9j\\xa8d\\xc6\\xc4\\xdb\\x10\\xc6\\xfb\\xde\\xf5p\\x0e\\xd6\\n\\xa2\\xf3\\xf0W\\xf8\\xea\\xe8\\xf46\\xc9Wi\\x92\\xaf\\xef&\\xf9\\x1aM2\\xd4\\xe2\\xd3{\\x04\\x81\\xe4\\xe8\\x13.4\\x924\\x92\\xafD\\xca\\xc2\\x9cC\\x18H\\x8e|\\xdb\\xbb\\x1e\\xcd\\xc1:Ap\\x1e\\x1e\\xa3\\\\\\x07\\xa7\\xb7F\\xbeJ\\x8d|}\\xd7\\xc8\\xd7\\xa8\\x91\\xa1\\x16o\\x9a\\x13\\x04\\x82\\xa3\\xf7%\\x13$\\xde\\x81\\xd0c\\xc9Wbda\\xca!\\xf67\\xaa@\\xddj\\xd7\\xef\\xe9`\\xa3\\x81\\xe0\\xf8\\x0e\\xf9\\xda\\xdb!_\\xa5C\\xbe\\xbe;\\xe4kt\\xc8PK\\xbeWI\\xfb\\xfb\\xac_e\\xd3H\\xd2H\\xbe\\x1a\\x0e\\x990\\xf1\\xe7\\xda?\\xeaV\\xbb~\\xdb\\x07\\x1b\\r\\x04\\xc7\\xff}\\xbdko\\x83|\\x95\\x06\\xf9\\xfan\\x90\\xaf\\xd1 C-yr\\x8f0\\xf1g\\x84\\t\\x02\\xc9\\xd1\\nY#\\xf9J\\xb4n\\xdc\\x1dH\\x18x\\x14\\xc2x\\xdf\\xbb~\\xdf\\x07i\\x85\\xd1\\xf1\\r\\xf2\\xb5\\xb7A\\xbeJ\\x83|}7\\xc8\\xd7h\\x90\\xa1\\x96-\\x90\\xa5\\xfc}&\\x08DG\\x9fo\\xa1\\x91|%:\\x16\\xaeV\\xc8\\xc0^\\x0b\\xe3}\\xef\\xfa}\\x1fl8`s\\xfc-\\xc9ko\\x83\\xbcJ\\x83|}7\\xc8\\xd7h\\x90\\xa1\\x96D\\x870\\xf1v9Abt4\\x924\\x92W\\xa2c\\xe3\\xf5\\x8a1\\xf1[\\xb9\\xf1\\xbew\\xfd\\xbe\\x0f\\xd6*F\\x871\\xad\\xe8\\xf46\\xc8\\xab4\\xc8\\xeb\\xbbA^\\xa3A\\x86Z\\x16\\x1d\\xfd+{\\x1a\\xd94\\x924\\x92W\\xb2O8*d\\xc2`t\\xf4\\xfb\\xde\\xf5p\\x0e\\xd6\\n\\xa2\\xe3;\\xe4u\\xe8\\x1d\\x9dh;1:\\xef\\x0ey\\x8d\\x0e\\x19j\\xf1\\'\\xce\\x9f\\x08\\x03\\xd1\\x91\\xc8\\xa6\\x91\\xa4\\x91\\\\!\\xadY\\x870\\x10\\x1d\\xfd\\xbew=\\x9c\\x83\\xb5\\x8ak\\x9d\\xc7L\\x1d\\x9d\\xde\\x16y\\x95\\x16y}\\xb7\\xc8k\\xb4\\xc8P\\x8b\\xdf\\xaf4\\xf2\\xac\\x91M#I#yE\\'\\x0b[\\x03\\t\\x03\\x8f\\x9a\\xebV\\xbbF\\x0e\\xd2\\t\\x83\\xe3[\\xe4\\xb5\\xb7E^\\xa5E^\\xdf-\\xf2\\x1a-2\\xd4\\xe2\\x0f\\x0e?\\x11\\x06\\x92\\xa3-\\xb2F\\x92F\\xf2J\\x94,\\\\\\xae\\x90\\x89?\\x1e\\xf8\\xd1x\\xdf\\xbb\\x1e\\xce\\xc1\\x86\\x03\\xd1\\xf1\\xf7#\\xaf\\xbd-\\xf2*-\\xf2\\xfan\\x91\\xd7h\\x91\\xa1\\x16\\xff(\\x9e\\x18\\x13\\xa3\\xa35\\xb2F\\x92F\\xf2J\\xf6\\x08\\xc3\\xa4\\x83L<\\xc0\\xec\\xa3\\xf1\\xbew\\xfd\\xbe\\x0f\\xd2\\nW:\\xbeG^{{\\xe4Uz\\xe4\\xf5\\xdd#\\xaf\\xd1#C-zd\\x82\\xc0\\xa4\\xa3=\\xb2F\\x92F\\xf2j\\xecFf\\x0c,t\\xb4G\\xd6\\xa39X\\'\\x98s|\\x8f\\xbc\\xf6\\xf6\\xc8\\xab\\xf4\\xc8\\xeb\\xbbG^\\xa3G\\x86Z\\xfc\\x93x\"\\x0c$G\\x8bd\\x8d$\\x8d\\xe4\\x95hY\\xb8\\\\\\x91M\\xc40\\xe7\\x90\\xf7\\x1d\\xef\\x97\\xeb\\xe1\\x1cl80\\xe7\\xf8&y\\xedm\\x92Wi\\x92\\xd7w\\x93\\xbcF\\x93\\x0c\\xb5d\\x89\\x8cH\\xdcPJ\\x90\\xf8\\x04\\x84n\\x944\\x92W\"\\x89\\xe3\\t\\x05\\x8c\\x89\"Y\\xb7\\xda\\t\\x02\\x17+\\xc3#?f\\xea\\xe0\\xf4\\xf6\\xc8\\xab\\xf4\\xc8\\xeb\\xbbG^\\xa3G\\x86Z\\xb2\\x9d\\x94119\\xda#k$i$\\xaf\\xc6Vd\\xc2\\xe0\\x12Y\\xeez\\xde\\xf5h\\x0e6\\x1a\\x98r|\\x8d|\\xeb\\xad\\x91oR#\\xaf\\xef\\x1ay\\x8d\\x1a\\x19jq\\x99C\\x90x\\xb1\\xd2\\xc8\\xa6\\x91\\xa4\\x91|3,2c\\xe22\\x87\\xb4\\x8a\\xd7*=\\x9a\\x83u\\x8aS\\xcec\\xa6\\x0eNo\\x89|\\x93\\x12\\xf9\\xf6.\\x91oQ\"C\\xed\\xcb\\xfb\\x82\\xe4h\\x89\\xcc^&&GKd\\x8d\\xe4\\x1b\\x91\\xc8\\xf1b\\xc5\\x98x\\x9c\\x0e\\x1bp\\xbcZ\\xe9\\xe1\\x1c\\xa4\\x15\\xcc9\\x8ciEg\\xe8\\x1d\\x9d(;1:\\xef\\x12\\xf9\\x16%2\\xd4\\xe2\\xde.\\x82\\xc4\\x8b\\x15A`\\xce\\x91H\\xd2H\\xae\\x90\\xb7/\\xdc\\x97\\x98\\x1c\"ma\\xce\\x91o{\\xd7\\xa39X\\'\\x98s\\x1e2upz+\\xe4\\x9bT\\xc8\\xb7w\\x85|\\x8b\\n\\x19j\\xc9\\xc5J+d\\x8dl\\x1aI\\x1a\\xc97c#2c 8\\xf2m\\xefz4\\x07\\xeb\\x043\\x8e\\x7fB\\xf2\\xad\\xb7B\\xbeI\\x85|{W\\xc8\\xb7\\xa8\\x90\\xa1\\x16NXz\"\\x08\\x04G\\x1bd\\x8d$\\x8d\\xe4\\x1b\\xd1\\xb1\\x10\\x1c\\xe3\\x80d\\xddj\\'H\\xfcb\\xc5:\\xc1\\x8c\\xe3\\x0b\\xe4[o\\x81|\\x93\\x02\\xf9\\xf6.\\x90oQ C-~#\\xd7\\xc8\\xb3F6\\x8d$\\x8d\\xe4\\x9b\\xb1\\r\\x990\\xb0)\\x90\\xb4\\x82\\xad]\\x84\\x89[\\xbb\\xd8p`\\xca\\xf1\\xfd\\xf1\\xad\\xb7?\\xbeI\\x7f|{\\xf7\\xc7\\xb7\\xe8\\x8f\\xa1\\x16\\xb7A=\\x11\\x06\\xa2\\xa3\\x8f\\xb3 H|:X\\xbfJ\\xbe\\x19\\x1b\\x91\\t\\x03\\x1b\\x91\\xd9h`\\xd2\\x91#>\\xd8p`\\xd2!L+:\\xbd\\r\\xf2M\\x1a\\xe4\\xdb\\xbbA\\xbeE\\x83\\x0c\\xb5d\\xd2\\xd1;\\x91\\xf5\\xabl\\x1aI\\x1a\\xc97c\\'2c\\xe0jE\\xde\\x13$\\x07\\x99\\xb8\\xb3\\x8b\\xb5\\x82I\\xc7?\\xcc\\xe2\\xd6[ \\xdf\\xa4@\\xbe\\xbd\\x0b\\xe4[\\x14\\xc8PK\\x92CL*L:z+\\xb2F\\x92F\\xf2\\x8d\\xf8\\xd8x\\xef\\x810pd\\xa0\\xf1\\xa6v=\\x9c\\x83\\r\\x07&\\x1d\\x7f+\\xf2\\xad\\xb7B\\xbeI\\x85|{W\\xc8\\xb7\\xa8\\x90\\xa1\\x16\\xfef=\\x11\\x04\\x92\\xa3\\r\\xb2F\\x92F\\xf2\\xcd\\xd8\\x89L\\x18\\xbc\\\\\\x91\\xb3\\x9aa\\xa5\\xa3\\x152\\x1b\\x0eL:\\xbeB\\xbe|\\xe8\\xed\\x90_;\\x8a\\xec\\xbcK\\xe4[\\x94\\xc8XL\\xeey2(\\xc6\\xc7`6\\x83I\\x06\\x93k\\xa6q\\xddb\\x10\\xdc\\xbf2\\xba\\xed\\x06s\\xd0\\x11\\xc5\\x14Q\\xa8\\x19\\xa3\\xdeF\\xf9\\xb5\\xe3\\xe3\\x18\\xbd\\xbc\\x81\\xb7\\x1c\\xbd\\xfeS\\x08\\x92>\\xdc\\x821q\\xedc\\xbc\\xcef0\\xc9`r\\xcd4sd\\xecOf\\xdd`\\xc7\\x971\\xa4\\x83v\\xc3 \\xf9z\\xf9\\xf2a\\xe8\\x1e\\xa4\\xa8BI\\x90.%HQ1c9\\xaaB\\xc6\\xe0\\x84$\\x99\\xcd`\\x92\\xc1\\xe4\\x9ai\\x06\\x89@\\x18$\\xf2\\xee\\xe3\\xfe/\\xe3#:h\\xb7\\xb8\"\\xa2PcIt\\xf9\\xd0\\xdb7\\xbfvTA\\x1aJ\\x90\\xa2r\\xc6r6#i\\xe9\\xcc\\x98x\\xa3\\xcbx\\x9dd0\\xb9f\\xde.Z\\xf1\\t?\\n\\xc5\\x1f\\x00\\xa0\\xa3\\xc6 \\xc9\\xb7v\\xb0n$H\\xbe~\\xbe|\\xe8\\xed\\x9f_;\\xaa \\x8d%HQAc9\\x9b\\x91\\xb4\\x846\\x98\\xcd`\\x92\\xc1\\xe4\\x9ai\\xceH\\x86\\x89\\xa6\\xef\\x1e\\x83\\xa4e4\\xed\\x86\\x976\\xffT\\x8c\\xcb\\x87\\xde>\\xfa\\xb5\\xa3\\n\\xd2T\\x82\\x14\\x954\\x96\\xb3\\x19Ioj6^g3\\x98d\\xf4\\xca5\\xd3\\x0c\\x12\\x810H\\xa4[\\xdc\\xbaa\\x0c\\xe9\\xa0\\xddpF\\xf2\\x0f[\\xbe|\\xe8\\xad\\xa7_;\\xaa \\xcd%H\\xd1Pc9\\xde\\x87g\\x0c\\xceHz\\x93\\xb3\\xc1$\\x83\\xc95\\xd3\\xd8sH!\\xfc\\xd2\\xa6w:\\x1b\\xcc\\xc1\\x9a\\x91\\x1c\\xf9\\xaa\\xfa\\xf2\\xa1\\xb7\\xab~\\xed\\xa8r\\xb4\\x94\\x1cE]\\x8d\\xe5\\xec\\xca\\xa6w<\\x1b\\xccf0\\xc9`r\\xcd4\\xcc#\\x83@=\\xd2w\\x8fA\\xd2Gh\\xd0!a\\x90\\xfc\\xad\\xcf\\x97\\x0f\\xbd\\xd5\\xf5kG\\x15\\xa4k\\tR\\xb4\\xd7X\\xce\\xael\\xfa\\xe7\\xfd\\x18\\x13o\\x9a\\x19\\xaf\\x93\\x0c&\\xd7L\\xf3\\xcaf\\x9c\\xc8l\\x8czg\\x0c\\xe6\\xc8\\xb0\\xd8\\x14jNH\\xbd=\\xf6kG\\x95\\xa3\\xb5\\xe4(\\xaal,\\xc7\\x03\\x0b\\x19\\x839\\xd26\\xdb`\\x12cp\\x85dl\\x89\\xa6\\x10\\xe6Hv\\xdb\\r\\xe6\\xa0\\xcd0G\\'\\xa4\\xf6\\xa5\\xbb\\xd4\\xbeH\\xa9\\xfd\\xf2\\x06J\\x8e@kC9Y \\x11\\x06r\\xa4\\x99\\xcd`\\x92\\xc1\\xe4\\x9ai\\xe5\\x88A\\x90#\\xd2\\r\\xbe\\xb1\\x11\\x06r\\xc4\\x9a\\xc17\\xb6\\xc7P\\xc8Qw\\xab}\\xd1V\\xfbR\\xacv\\xbc\\xf3x\\xc7rr]\\xd3\\xcc3c\\xc0!\\x11&\\x1eKg\\xf4\\xca5\\xd3rH\\x0c\\x02\\x87\\xa4\\xbb\\xed\\xc6;;X3\\x9c\\x8f\\x18\\xd4\\xcc\\xd1\\xd0=GQ\\xb9\\x92\\x1c\\x15\\xa9\\x1dW\\x91w,g\\xf3\\x91\\x14\\xcd\\xcf\\x06\\xb3\\x19L2\\x98\\\\3o\\x11\\x99!G\\x04\\x8awjY\\xb7\\xb8\\xa3jg\\x10\\x06\\t\\xbb\\x91 =\\x84B\\x90\\xbaK\\xed\\x8b\\x96\\xda\\x97\"\\xb5\\xe3\\x8d\\xf1;\\x96\\x93ol\\x84\\xc1 \\xe9\\xad\\xd4\\x06\\x93\\x0c&\\xd7L\\xf3\\xc2fl\\xa76\\xba\\xed\\xc6\\'t\\xd0f\\x98\\xa3\\x13N\\xfb\\xd2\\xddi_\\xb4\\xd3\\xbe\\x14\\xa7\\x1d=\\xdb\\x1d\\xcbY\\x8e\\x0c\\xa7\\xad\\x99\\xcd`\\x92\\xc1\\xe4\\x9ai\\x1c\\xec\\xc2 x\\xe0\\xd9\\xe8\\xb6\\x1b\\x9f\\xd0\\xc1\\x9a\\x91\\x1c\\xf9;\\xac/\\x97\\xeeJ\\xfb\\xa2\\x95\\xf6\\xa5(\\xed\\xf8\\xe6\\xeeX\\x8e\\xfb\\xb7\\x9e\\x18\\x84A2\\x9c\\xb6f\\x92\\xc1\\xe4\\x9ailAb\\x10\\xecAb\\xdd\\xe2\\x1e$\\xfa\\x11A\\x90\\x8c\\xfd\\xd6\\x14j\\x06\\xa9\\xbb\\xd2\\xbeh\\xa5})J;\\xbe\\xb9;\\x96\\xb3\\x95\\xb6\\xa1\\xb4\\t\\x83+m}\\x00\\xb4\\xd1+\\xd7Ls\\xa5M \\\\i\\x93Q/\\x10$\\xc3i\\x93ndF:\\xe1\\xb4/\\xdd\\x9d\\xf6E;\\xedKq\\xda\\xf1S\\xbac9\\x0b\\x92\\xe1\\xb4\\t\\x83AB\\x06\\x83d8\\xed\\x0b\\xbaa\\x12$\\x02a\\x90\\xf4\\xa1\\xd0\\xc6;;X3\\x92#\\x7f3\\xf6\\xe5\\xd2]i_\\xb4\\xd2\\xbe\\x14\\xa5\\x1d\\xd7\\x9aw,\\xa7W6\\xc3ikf3\\x98d0\\xb9fZ7\\xd9\\x18\\x047\\xd9\\xd8\\xdb\\x87 \\x19N\\x9b4#W6\\xfft\\x8f\\xcb\\xa5\\xbb\\xd3\\xbeh\\xa7})N;\\xde\\x8b\\xbac\\xf9O\\xbf\\x89\\x87\\xe01\\x06sd8m\\xcd$\\x83\\xc95\\xf3\\xb6\\xf8\\x81\\x9bl\\x04\"_\\xd9d\\xb7\\x9d1\\x98#c\\x9f6\\x85Z9\\x1a\\xba;\\xedA;\\xedKq\\xda\\xf1g\\xd4\\xeeX\\x8e\\x1f\\xf7\\x13\\x83 H\\x9a\\xd9h\\xb3\\x18$\\xcd\\xe4\\x9ai}\\xf7\\'\\x10\\x9c\\xde@\\xbb\\x81\\xd5\\xd6C:\\xe8\\x90\\xe0\\xd2\\xf6\\x18\\nI\\xean\\xb5\\x07m\\xb5\\x87b\\xb5\\xe33\\xa2w,\\'w\\xd9\\x08\\x83A2\\xf6jk&\\x19L\\xae\\x99\\xd6m\\x7f\\x02\\xc1\\xc9C\\xac\\x1b\\t\\x92\\xa1\\xb5\\xd9\\x90`JbP3HC\\xf7 E\\xe9J\\x82T\\xb4v\\xfc(\\xefXN\\xd6\\xda\\x9ayf\\x0c\\xac\\xb5\\xf5\\xeb$\\x83\\xc95\\xd3\\x9c\\x91\\x10\\x1a\\xe1\\xcb?\\x1b5\\x06I\\xbe\\xb5\\x83\\x0e\\t\\x83\\xf4\\x10\\nA\\xea\\xae\\xb5\\x07\\xad\\xb5\\x87\\xa2\\xb5\\xe3j\\xf3\\x8e\\xe5DG\\x12\\x06\\x83dhm\\xcd$\\x83\\xc95\\xd3\\x0c\\x92\\xa3\\xb5\\xd9\\xbb\\xc7 \\x19^\\x9bu\\xc3 \\x9d\\xf0\\xdaCw\\xaf=h\\xaf=\\x14\\xaf\\x1d\\xbf\\xdb\\xdc\\xb1\\x9c]\\xda\\x0c\\xaf\\xad\\x99\\xcd`\\x92\\xc1\\xe4\\x9ai}\\xfbg\\x10|\\xfb\\'\\xddH\\x90\\x0c\\xb1M\\xba\\x915\\xd2\\t\\xb1=t\\x17\\xdb\\x83\\x16\\xdbC\\x11\\xdb\\x03\\x88m(g\\x976\\xc3k\\x13\\x06/m\\x86\\xd7\\xd6L\\xae\\x99\\xd6\\xb7\\x7f\\x06\\xc1\\xb7\\x7f6j\\x0c\\x92!\\xb6I7\\x12$\\xff$\\x91\\xcb\\xd0]l\\x0fZl\\x0fEl\\xc7;\\xe4w,gA2\\xc46a0H\\xc6^m\\xcd\\xe4\\x9ai\\xceH\\x8e\\xd8f\\xa3\\x1ea\\xd7?\\xa1\\xe2b\\xf3`\\xfdH\\x94N\\xa8\\xed\\xa1\\xbb\\xda\\x1e\\xb4\\xda\\x1e\\x8a\\xda\\x8e\\xfb(\\xeeX\\xce\\xa2d\\xa8m\\xc2`\\x94\\x8c\\xed\\xda\\x9a\\xc95\\xd3\\x8c\\x92\\xa3\\xb6I\\xb7+\\x04\\x89\\x9c2r\\x83 9n\\x9bA\\xcd uw\\xdb\\x83v\\xdbCq\\xdb\\xf1\\xf3\\xbec9\\x0b\\x122#\\x04\\xc9P\\xdb\\x9aI\\x06\\x93k\\xa6\\xb9\\xdc6\\x8e\\x1ca\\xdd\\xe2\\xd9\\xc3\\x94\\xc1 9\\xfb\\xb5\\x19\\xd4\\x0cRw\\xb7=h\\xb7=\\x14\\xb7\\x1d\\xffN\\xde\\xb1\\x9c\\xdd$!\\x10NI\\x86\\xdc\\xd6L2\\x98\\\\3?\\xd0?\\xdb\\xdf2\\x08~\\xac\\x83u\\xc3)Ini?X3\\xf2\\xbd\\xed!T\\x07i\\xec.\\xb7G-\\xb7\\x87\"\\xb7\\xe3\\xd9\\x08w,\\'\\xdf\\xdb\\x08\\x039\\xd2\\xccf0\\xc9`r\\xcd\\xb4f$\\x06\\x81\\x00 \\xdd\\xe0\\xee?a\\xae1G\\xac\\x19LH\\x0cj\\xe6\\xa8\\xbb\\xda\\x1e\\xb5\\xda\\x1e\\x8b\\xda\\x8e\\xbbH\\xefXN\\xael\\x9ay6\\x98\\xcd`\\x12c\\xe2\\xf9}5\\xd3\\xcc\\x119\\xe1\\x1a\\x8c$\\xe9\\x06\\xdb\\x91\\x083\\xc2Z\\x9b\\r\\t\\x83tBm\\x8fC\\xf7 E\\xf1J\\x82T\\xd4v\\xfc\\x04\\xeeX\\xce\\x82$\\x99g\\xc6\\xc0Z[3\\xc9`r\\xcd4\\x83D\\xa0\\x1b\\x04Iv\\xdb)3@\\x90H7\\x0c\\xd2C(\\x04\\xa9\\xbb\\xda\\x1e\\xb5\\xda\\x1e\\x8b\\xda\\x1eAmC9\\x0b\\x92t\\xbb\\xcf\\xc6\\xebl\\x06\\x93\\x0c&\\xd7L3H\\x8e\\xda&\\xdd`\\xadM\\x98x\\xcf\\xf2\\xa0\\xdd0H\\'\\xd4\\xf6\\xd8]m\\x8fZm\\x8fEmGIr\\xc7r\\x94$O\\x0c\\xbaA\\x92\\x0c\\xb7\\xad\\x99d0\\xb9fZ\\x0f\\x910\\x08\\xafmD[\\xa3I2>\\xa4\\x83\\xf5\\xc3\\xe5\\xf6c(d\\xa9\\xbb\\xdd\\x1e\\xb5\\xdd\\x1e\\x8b\\xdd\\x1e\\xc1nC9,&\\x9f\\x18\\x13?\\xa5g\\x06a\\x96\\x0c\\xbd\\xad\\x99\\\\3\\xadm\\xdb\\x04\"\\xeb$\\xec\\x86I\"[\\xbb\\xc1\\x00\\xb0!a\\x92N\\xec\\xdb\\x1e\\xbb\\xeb\\xedQ\\xeb\\xed\\xb1\\xe8\\xed(S\\xeeX\\xce\\x92$\\x99g\\xc6\\xe0:\\xc9\\xd0\\xdb\\x9a\\xc95\\xd3\\x0c\\x92qd6\\xeb\\x06O\\xfe\\x13\\x06U\\x12\\x1b\\x12^\\xdeN\\xc8\\xed\\xb1\\xbb\\xdc\\x1e\\xb5\\xdc\\x1e\\x8b\\xdc\\x8e\\xbb)\\xeeX\\xce\\x0c\\x002+\\x04\\xc98\\x8bD3\\x891\\xb8\\xe06\\x0e\\xd0f\\x10>\\x91\\xa4G\\xb43\\x86\\\\\\xdb\\x1c\\xb9\\xfd\\x18\\nA\\xea.\\xb7G-\\xb7\\xc7\"\\xb7G\\x90\\xdbP\\x0eK\\xce\\'\\xc6\\xe077Cn\\x13\\x06\\xbf\\xb9\\x19r{t\\xe46\\x81\\xc8\\x8cd\\x9cEB\\x18ris6n?\\x86B\\x90\\xba\\xcb\\xedQ\\xcb\\xed\\xb1\\xc8\\xed\\x11\\xe46\\x94\\xb3\\x19\\xc9p\\xdb\\x9a\\xd9\\x18\\x83A2\\xdc\\xf6H$1^\\xda\\x8c\\xe3\\xb5\\x8d\\x11\\xed\\x8c!\\x976\\xe74\\x92\\xc7P\\x1d\\xa4\\xa9\\xbb\\xdc\\x9e\\xb4\\xdc\\x1e\\x8b\\xdc\\x8e\\xcf\\xa4\\xde\\xb1\\x9c(\\x00\\xcd<\\x1b\\xccf0\\xc9`r\\xcd\\xb4f$\\x02a\\x90H7\\x08\\x12a\\xaepicC\\x82 1\\xa85#M\\xdd\\xed\\xf6\\xa4\\xed\\xf6T\\xecv\\\\%\\xdc\\xb1\\x1c\\xffP\\x9e\\x18\\x84I2\\xf4\\xb6f\\x92\\xc1\\xe4\\x9ai&\\xc99e\\x9b\\xbd}X%\\x11(\\xfeD\\xfcA\\xdba\\x94N\\xf8\\xedi\\xe8\\x1e\\xa5\\xa8_I\\x94\\x8a\\xdf\\x9e\\xc0oC9y*\\x890\\x98$\\xc9l\\x06\\x93\\x0c&\\xd7Lk\\x7f\\x1b\\x83`\\x7f\\x9b\\xee\\xb6\\xd3O\\x08.n\\xa4\\x1b\\t\\x12\\x81\\x9asRw\\xbf=i\\xbf=\\x15\\xbf=\\x81\\xdf\\x86rvq3\\xb6nkf3\\x98\\xc4\\x18\\xb8\\xe369~\\x9b@\\xf1~\\xe3GcD;c\\xe0D\\x8e\\x83\\x8e\\t\\x93tBpO\\xdd\\x05\\xf7\\xa4\\x05\\xf7T\\x04w\\xfc\\r\\xdf;\\x96\\xb3$!3A\\x92\\x0c\\xbfM\\x18xr[\\xbfN\\xae\\x99\\xb7\\x15\\x10lo#PT\\xb2\\x1fY7rq\\xd3\\xd0\\xc1\\xda\\x91$\\x9d\\xd8\\xbc=u\\xd7\\xdb\\x93\\xd6\\xdbS\\xd1\\xdb\\xf1Y\\xc1;\\x96\\xd3u\\x92\\xb1{[3\\x9b\\xc1$\\x83\\xc95\\xf3\\xb6\\xe3\\x08\\xbe\\xba\\x11\\x88\\xac\\x93\\xb0\\x1b\\xfc\\x18\\ta\\xe2\\xbd\\xcb\\x83v\\xc3$\\x9d\\xd0\\xdbSw\\xbd=i\\xbd=\\x15\\xbd=\\x81\\xde\\x86r6\\'\\x19\\xbb\\xb75\\xb31f\\x82 \\x91\\x1f\\xa7\\x84 \\x11M\\x8cW7\\x02a\\x90\\x88\\x94\\x87\\rn\\x0c\\xc29\\xc9\\xf1\\xdb\\x0cj\\xae\\x93\\xba\\xfb\\xedI\\xfb\\xed\\xa9\\xf8\\xed\\xf85\\xf8\\x8e\\xe5,I\\xc6\\xe6m\\xcdl\\x8c\\x01\\x9b\\xa4\\x99\\\\3oS\\x12.\\xb8\\x8d_\\x88d\\xdd\\xe0\\x8e\\x9b~g\\x07m\\x869:\\xb1w{\\xea\\xae\\xb7\\'\\xad\\xb7\\xa7\\xa2\\xb7\\xe3b\\xe2\\x8e\\xe5\\xf8s\\x7f\\x8c\\xc1\\x1c\\x19z[3\\x891\\x98#b\\xae1G\\x04\\xc2U\\x92\\x1c\\xd1n0\\x07kFrt\\xe2X\\x92\\xa9\\xbb\\xdd\\x9e\\xb4\\xdd\\x9e\\x8a\\xdd\\x8e\\xa7w\\xdc\\xb1\\x9c\\xcdG\\xd2\\x01?\\x1b\\xcc\\xc6\\x98\\x11rd\\xd8\\xed\\t-1>L\\xc2 x\\x98D\\x8fz7Ft\\xb0f$G\\'\\xe4\\xf6\\xdc]n\\xcfZnOEnG\\xbd\\x7f\\xc7r\\x92#\\xcd<3\\x06r\\xa4\\x99d\\xf4\\xca5\\xd3Z!1\\x08\\xaek\\xa4\\x1b\\\\\\xd7\\xd8\\xa8\\xe1\\xeb?\\xeb\\x06AbP\\xeb\\xc26w\\x97\\xdb\\xb3\\x96\\xdbs\\x91\\xdb\\xf1a\\x8a;\\x96\\xb3 \\x19n\\x9b0\\xf0\\x1b\\x12\\xfau\\x92\\xc1\\xe4\\x9ai\\x06\\t!<LBw\\xdb\\r\\xe6\\xa0#\\xc2\\x1c\\x9d8k{\\x1e\\xba\\xe7(\\x8aW\\x92\\xa3b\\xb6g0\\xdbPN\\xce\\xda&\\x0c\\xe6H2\\x9b\\xc1$\\x83\\xc95\\xd3\\xcc\\x11B\\xb8MRw\\xdb\\x193A\\x8e\\xc8\\x880G\\x0f\\xa1\\x90\\xa3\\xeeb{\\xd6b{.b;\\xaa\\x96;\\x96\\xb3\\xf9\\xc8\\x10\\xdb\\x84\\xc1\\x0b\\x9b\\x94\\xd6\\xc9\\xe8\\x95k\\xa6\\xb5@b\\x10,\\x90t\\xb7\\x9d1x]s\\xb4\\xf6c(\\xe4\\xa8\\xbb\\xd6\\x9e\\xb5\\xd6\\x9e\\x8b\\xd6\\x8e\\xdf\\x8f\\xefX\\x8e~\\xe4\\x89A\\x18$\\xc3kk&\\x19L\\xae\\x99\\xe6\\x84\\xe4\\xfc~\\xa4\\xee\\xb6;\\x1f\\xd1A\\xbba\\x92Nh\\xed\\xb9\\xbb\\xd6\\x9e\\xb5\\xd6\\x9e\\x8b\\xd6\\x9eAkC9\\x9b\\x91\\x0c\\xabM\\x98\\x11\\x82dXm\\xcd\\xe4\\x9ai\\x06\\xc9\\xd9\\xb4M\\xba\\xe1\\r\\x12\\x02\\x81\\xd5fC\\xc2 \\x9d8\\x93d\\xeen\\xb5gm\\xb5\\xe7b\\xb5g\\xb0\\xdaPNv\\xb6\\x11\\x06\\x83dXm\\xcd$\\x83\\xc95\\xd3\\x0c\\x92c\\xb5\\xf5\\xbb\\xdf\\x19\\x03\\xfb\\x91X3\\xd8!\\xc9\\xa0\\xe6\\x84\\xd4\\xddi\\xcf\\xdai\\xcf\\xc5i\\xcf\\xe0\\xb4\\xa1\\x1c>\\xa5\\'\\xc6`\\x8e\\x0c\\xa7M\\x98\\x05r\\xa4\\x7f\\xd11\\xd7P3H\\x8e\\xd4\\xd6\\xc3\\xde\\r\\xe6\\xa0\\xcdpB:\\xb1g{\\xee.\\xb5g-\\xb5\\xe7\"\\xb5g\\x90\\xdaPNv#\\x11f\\x80 \\x19R[3\\xc9`r\\xcd4sD\\xa46l\"!\\xddpB\"\\x9a\\x1d\\xb6\\xb5\\xb1!\\xe1\\x8ct\\xc2j\\xcf\\xdd\\xad\\xf6\\xac\\xad\\xf6\\\\\\xac\\xf6\\x0cV\\x1b\\xca\\xe1\\t\\x91\\'\\xc6\\xe0\\x8cd\\xec\\xd9\\xd6L2\\x98\\\\3o\\x7f p\\xb4-\\x81\\xf0h[\\xd2-\\xfe\\xf9\\xef\\x14\\xc2)\\xc99\\x91\\x84A\\xad$-\\xdd\\xbd\\xf6\\xa2\\xbd\\xf6\\\\\\xbcv|\\xfe\\xe1\\x8e\\xe5x-yb\\x10DI3\\x9b\\xc1$\\x83\\xc95\\xd3\\x8a\\x12\\x81\\xf0\\x90$\\xd2\\r\\x1e\\xdcf\\x1f\\x11$\\x89\\r\\t\\x92\\xc4\\xa0f\\x92\\xba\\x8b\\xedE\\x8b\\xed\\xa5\\x88\\xed\\x05\\xc46\\x94\\x93\\xd56a\\xe0\\xc96\\xc2`\\x90\\x0c\\xb1M\\x18\\xd8!\\xb98b\\x9b@8\\'\\xe9\\x11\\xed\\x8c!Ar\\xcc\\xf6c(\\x04i\\xe8\\x1e\\xa4(^I\\x90\\x8a\\xd9^\\xc0lC93I\\x04\\xc2)I2\\x9b\\xc1$\\x83\\xc95\\xd3L\\x12\\x81`\\xb9M\\xba\\xc12\\x890\\xf1\\xbc\\x81\\x83v\\xc3$=\\x84B\\x92\\xba\\xbb\\xedE\\xbb\\xed\\xa5\\xb8\\xed\\x05\\xdc6\\x94\\xe3N\\xfa\\'\\x06\\xc1\\xdd\\x7f\\xc2`\\x92\\x8c]\\xdb\\x9a\\xc95\\xd3L\\x92\\xb3k\\x9bt\\x83\\r\\x92zD\\x07\\x1d\\x11\\x06\\xe9\\x84\\xdc^\\xba\\xcb\\xedE\\xcb\\xed\\xa5\\xc8\\xed\\x05\\xe46\\x94\\x13%I\\x18\\xcc\\x91\\xe1\\xb65\\x93\\x0c&\\xd7L\\xeb1\\x12\\x06\\xc1c$\\xec\\x9da\\x90\\xc8Vsx\\x8e\\x84\\xb4#I:!\\xb7\\x97\\xeer{\\xd1r{)r{\\x01\\xb9\\r\\xe5xW\\xea\\x89Axq3\\xf6lk&\\x19L\\xae\\x99\\xd6\\xc66\\x06\\xc1\\xc66\\xddm\\xa7\\x1f\\x11\\xceI\\xce\\x91$\\x0cj&\\xa9\\xbb\\xdd^\\xb4\\xdd^\\x8a\\xdd^\\xc0nC99\\x00\\x800\\x18$\\xc3nk&\\x19L\\xae\\x99\\xd6s$\\x04\\x8a7\\x89>\\xb2n\\xb0\\xb3\\x8d0\\xf1(\\xa5\\x83u#A:\\xa1\\xb7\\x97\\xeez{\\xd1z{)z{\\x01\\xbd\\r\\xe5\\xec\\xe2F\\x943<\\x91\\xa4_hc\\x0cl\\x01\\xd0\\xaf\\x93k\\xa6\\xb9JB\\x88(\\x00m\\xd3wcH\\x07\\x1d\\x12^\\xdcNl\\xda^\\xba\\xfb\\xedE\\xfb\\xed\\xa5\\xf8\\xed\\x05\\xfc6\\x94\\xe3\\xdf\\xa5\\'\\x06\\xe1\\x9cd\\x08n\\xcd$\\x83\\xc95\\xd3:K\\x82@q*\\xf9H\\xdf>&I\\x9e\\xdbr\\xd0!\\xe1\\x9ct\\xe2P\\x92\\xa5\\xbb\\xe0^\\xb4\\xe0^\\x8a\\xe0^@pC9~S~b\\x10&\\xc90\\xdc\\x9aI\\x06\\x93k\\xa69\\'\\x11\\x08\\x0e&eo\\x1f\\x82d\\xec\\xdbf\\xcdpJ:q\\xe2\\xf6\\xb5\\xbb\\xdf\\xbej\\xbf\\xbd\\x14\\xbf\\xbd\\x80\\xdf\\x86rrq#\\x0c\\x9c\\x00\\xa8_g3\\x98d0\\xb9fZz\\x9bA\\x90#\\xd2\\rrD\\x18\\xd8K\\xc2\\x9a\\xc1\\x84\\xc4\\xa0\\xd6\"\\xe9\\xda\\xddn_\\xb5\\xdd\\xbe\\x16\\xbb}\\x05\\xbb\\r\\xe5,G\\xc6\\xb6m\\xc2\\xc06I\\xc2\\xc0\\x1aI3\\xb9fZ\\xf3\\x11\\x83\\xc0I\\xeaw\\xb6\\xd3w\\x06\\x13\\x12\\xeb\\x06\\x13\\xd2c(\\x04i\\xe8\\x1e\\xa4\\xe8^I\\x90\\x8a\\xdd\\x8e\\xc7\\xfb\\xdc\\xb1\\x9c\\x05\\t\\x19PI\\xfau6\\x83I\\x06\\x93k\\xa6\\xb5D\"\\x10\\xeen\\xd3\\xddv\\xc6,\\x90#2\"\\x9c\\x90\\x08\\xd4\\xccQw\\xb7}\\xd5n\\xfbZ\\xdc\\xf6\\x15\\xdc6\\x94\\x93\\xdbm\\x84\\xc1\\t\\xc9P\\xdb\\x9aI\\x06\\x93k\\xa69!!Drd\\xec\\xdb&\\x0clnc#\\xc2\\x1c=\\x84B\\x8e\\xba\\xab\\xed\\xabV\\xdb\\xd7\\xa2\\xb6\\xaf\\xa0\\xb6\\xa1\\x9c}g#\\x10\\x06\\xc9p\\xdb\\x9aI\\x06\\x93k\\xa69!\\x91CK0H\\xd8\\r\\x1e\\xfd\\'L|\"\\xe5\\xa0C\\xc2+\\xdb\\t\\xb5}\\xed\\xae\\xb6\\xafZm_\\x8b\\xda\\xbe\\x82\\xda\\x86r\"$\\t\\x83A2\\xcc6a\\xe0\\x11I\\xfd:\\xb9f\\xde\\xee\\x7f\\xc0\\x8f$\\x11\\x88,\\x91\\xe4\\x88v\\xca\\xe0\\x94\\xe4\\xec\\xdbfPsJ\\xean\\xb6\\xaf\\xdal_\\x8b\\xd9\\xbe\\x82\\xd9\\x86r\\xb6D\\x92\\xbb\\x9b\\x9f\\x19\\x03\\x8fH\\x12\\x06N#!\\x0cl\\xb7\\xbd\\xa2!\\xc6G\\x92\\x18\\x04\\x8f$\\xb1Q\\xc3\\xee6\\xf6\\xf6q\\xb1\\xed\\x9cF\\xf2\\x18\\nI\\xea\\xae\\xb6\\xafZm_\\x8b\\xda\\xbe\\x82\\xda\\x86r\\xb6H2vn\\xeb\\xd7\\xd9\\x8c\\xd7I\\x06\\x93k\\xa6\\xf9\\xed\\xdf9m\\x9bt\\x8b\\x7f\\xfe;\\x850I\\x8e\\xdafPsN\\xea\\xae\\xb6\\xafZm_\\x8b\\xda\\xbe\\x82\\xda\\x86r\\xb2u\\x9b0\\x98$\\xc3lk&\\x19L\\xae\\x99\\xe6r\\x1b\\xa1\\xf8$\\xcdG\\xd6\\r/n\\x86\\xd8f#\\xc2\\x1c\\x9d\\xd8\\xb9}\\xed.\\xb6\\xafZl_\\x8b\\xd8\\xbe\\x82\\xd8\\x86r\\xd4vO\\x0c\\xc2 \\x19b[3\\xc9`r\\xcd\\xbce\\x04\\x83D42\\xae\\x92\\xb0[\\xdco\\xb2\\xd3\\xcf\\x08v\\xb7\\xb1v\\xf8\\xcd\\xed\\x84\\xda^\\xbb\\xab\\xedU\\xab\\xedkQ\\xdbWP\\xdbPN\\x96I\\x84\\x81e\\x92~\\x9d\\xcd`\\x92\\xc1\\xe4\\x9ay\\xbb\\x8f\\x06\\xebm\\x02\\xe1\\xc5\\x8dt\\x83 \\x11\\x06\\x83D\\xbaa\\x90\\x18\\xd4\\x9a\\x93\\xd6\\xeen{\\xd5n{-n{\\x05\\xb7\\r\\xe50\\xbb?1\\x06\\xa6$\\xcdl\\x06\\x93\\x0c&\\xd7Lk\\x95D \\xdc\\xb9\\xad\\xbb\\xed\\x06s\\xd0\\x11a\\x8eN\\x1cI\\xb2\\x0e\\xdds\\x14\\xcd+\\xc9QQ\\xdb+\\xa8m(g\\xcf\\x92\\x10\\x08\\x83$\\x99\\xcd`\\x92\\xc1\\xe4\\x9ai-\\x92\\x18\\x04\\xd76\\xd2\\rV\\xdb\\xec#\\xc2$\\x91n\\x98$\\x025g\\xa4\\xeer{\\xd5r{-r{\\x05\\xb9\\r\\xe54I\\xc6\\xc6m\\xc2`\\x92\\xe4\\xeb$\\xe3ur\\xcd4\\x93\\xe4\\xfc\\x9c$\\x1b\\x11XI=\\xa4\\x83v\\x83\\xf5\\xf6c($\\xa9\\xbb\\xde^\\xb5\\xde^\\x8b\\xde^AoC9\\xbb\\xb6\\x19v[3\\x9b\\xc1$\\x83\\xc95\\xd3\\x0c\\x92s*\\x89\\xee\\xb6\\xd3O\\x08~r\\x9bu\\xc3)\\xe9\\x84\\xdd^\\xbb\\xdb\\xedU\\xdb\\xed\\xb5\\xd8\\xed\\x15\\xec6\\x94\\xb3 \\x19v[3\\x9b\\xc1$\\x83\\xc95\\xd3\\x0c\\x92c\\xb7u\\xb7\\xdd`\\x0e\\xda\\x0c\\'\\xa4\\x13\\xdb\\xb6\\xd7\\xeer{\\xd5r{-r;\\xfe&\\xcb\\x1d\\xcb\\xd9\\xb76c\\xdb6a`#\\x89~\\x9dd0\\xb9f\\x9a9\"\\xdb\\xb61GzK\\xf6n\\x0c\\xe9\\xa0C\\xc2 \\x9d8i{\\xed\\xee\\xb6W\\xed\\xb6\\xd7\\xe2\\xb6Wp\\xdbP\\xce\\x82d\\xb8m\\xcdl\\x8c\\x81\\x1dI\\xfaur\\xcd\\xb4\\xee\\x920\\x08\\xee\\x92\\x90n`$\\xf5\\x88\\x0e\\xd6\\x8c\\xe4\\xe8\\x84\\xd9^\\xbb\\x9b\\xedU\\x9b\\xed\\xb5\\x98\\xed\\x15\\xcc6\\x94\\xb3\\x1c\\x19\\x87\\x92\\xe8\\xd7\\xd9\\x0c&\\x19L\\xae\\x99\\xd6s$\\x04\\xc2\\xe7Ht\\xb7\\x9d1\\xf0\\x18\\tiF\\x16H\\'\\xcc\\xf6\\xda\\xddl\\xaf\\xdal\\xaf\\xc5l\\xaf`\\xb6\\xa1\\x9c\\xfcD2ap>2\\xc4\\xb6f\\x92\\xc1\\xe4\\x9ai^\\xd8\\xc8\\x99$\\xa8#\\xc9oDB\\x8e\\x1c\\xaf\\xcd\\x86\\x84A:q$\\xc9\\xad\\xbb\\xd7\\xbei\\xaf\\xbd\\x16\\xaf\\xbd\\x82\\xd7\\x86r\\xb2\\xd2&\\x0c\\x04I3\\x9b\\xc1$\\x83\\xc95\\xd3\\n\\x12\\x83`\\x85\\xa4\\xdf\\xfd\\xce\\x18\\xb8\\xd5\\xc6\\x9a\\xc1\\x85\\xed1\\x14r\\xd4]k\\xdf\\xb4\\xd6\\xbe\\x15\\xad}\\x03\\xad\\r\\xe5\\xb8\\x91\\xe2\\x89A\\x18$\\xc3kk&\\x19L\\xae\\x99f\\x90\\x9c=\\xdb\\xec\\xed\\x83D\\xd2C:h7L\\xd2\\x89=\\xdb\\xb7\\xa1{\\x92\\xa2v%I*b\\xfb\\x06b\\x1b\\xca\\xf1\\x13xb\\x10&I2\\x9b\\xc1$\\x83\\xc95\\xd3L\\x12\\x810I\\xd8\\r\\x1e\\xff\\'\\x0c\\xac\\x91X3\\xb8\\xb41\\xa8\\x19\\xa4\\xee^\\xfb\\xa6\\xbd\\xf6\\xadx\\xed\\x1bxm(g\\x976c\\xd3\\xb6f6\\x83I\\x06\\x93k\\xa6\\x99#Gk\\xb3w\\x8f3\\x92<\\xb4\\xe4\\xa0\\xddpF:\\xa1\\xb5o\\xdd\\xb5\\xf6Mk\\xed[\\xd1\\xda7\\xd0\\xdaP\\x8e\\xfb(\\x9e\\x18\\x84I2\\xbc\\xb6f\\x92\\xc1\\xe4\\x9ai\\xed\\xda&\\x10\\xee\\xda&\\xddH\\x92\\xf4\\xb1%\\x07\\x1d\\x13F\\xe9\\x84\\xd8\\xbeu\\x17\\xdb7-\\xb6oEl\\xdf@lC9\\xf9!\\t\\xc2`\\x92\\xa4 \\xdf\\x8c\\xd7I\\x06\\x93k\\xa6\\x99$\\xe7\\xb8m6j\\x10\\x00zH\\x07\\x1d\\x12\\x06\\xe9\\x84\\xd9\\xbeu7\\xdb7m\\xb6o\\xc5l\\xdf\\xc0lC9\\x11I\\x9ayf\\x0c\\x06\\xc90\\xdb\\x9a\\xc95\\xd3\\x0c\\x129\\xb5\\x04\\x83$7\\x9b\\xef\\x8c\\x89?Y~\\xd0!a\\x90N\\x98\\xed[w\\xb3}\\xd3f\\xfbV\\xcc\\xf6\\r\\xcc6\\x94\\x93\\x07I\\x08\\x83A2\\xcc\\xb6f\\x92\\xc1\\xe4\\x9ai\\x06\\x89\\xec\\xda\\xc6 \\x19\\xc7m\\x13\\x06\\x1f$aC\\xc2 \\x9d8o\\xfb\\xd6]m\\xdf\\xb4\\xda\\xbe\\x15\\xb5}\\x03\\xb5\\r\\xe5\\xb8Lxb\\x10&\\xc9p\\xdb\\x9aI\\x06\\x93k\\xa6\\x99$\"\\xc01I\\x86\\xdbf\\x1f\\x11\\xde\\xfegc\\xc2on\\'\\xec\\xf6\\xad\\xbb\\xdd\\xbei\\xbb}+v\\xfb\\x06v\\x1b\\xca\\xd9\\xc5\\x8dln\\x86$\\x19v[3\\xc9`r\\xcd4\\xbf\\xb99v[w\\xdb\\x19\\x83[\\xdb\\xd8\\x900H\\xbe\\xdd\\x1e>\\xf4\\xb6\\xdb\\xaf\\x1dU\\x90\\x8a\\xdd\\xbeE\\xbb\\x8d\\xe5\\x18$\\xc6\\xc4 \\x19\\xaf\\xb31&\\xeel3^\\'\\xd7L#H\\x0c\\x82 \\xd1w\\x16\\xf56\\x85\\xa2L\\xa2c\\x8aW7\\x01\\x85$\\xf5\\xf6\\xdb\\xaf\\x1d\\x1f\\'\\xe9\\xe5\\r\\xbc%\\xe9\\xf5\\x9fB\\x92\\xc8\\x81\\xdb\\xf1\\xe96\\x06\\xc5\\xab\\x1bc\\xe2\\x82\\xdbx\\x9dd0\\xb9f\\x1a;\\x00(\\x14w\\x00\\x18\\xddv\\x839X3\\x12$_o\\x0f\\x1f\\x86\\xeeA\\x8a\\xf2\\x95\\x04\\xe9R\\x82\\x14\\xf56\\x96\\xa3\\x95d\\x0c\\xe6H2\\x9b\\xc1$\\x83\\xc95\\xd3\\x9c\\x92\\x10\\x82\\x9f$e\\xdd\\xe2\\x8e$\\xc6\\xc4@\\x1etH\\x18\\xa4\\x87P\\x08Ro\\xbd\\xfd\\xdaQ\\x05i(A\\x8az\\x1b\\xcb\\xd9\\xb5M\\xef\\xda6^g3\\x98d0\\xb9f\\x9aA\"\\xc7m\\xc7\\x87$\\x8dn;c\\xe2\\xa3M\\x07\\x1d\\x12\\x06\\xc9\\xd7\\xdb\\xc3\\x87\\xdez\\xfb\\xb5\\xa3\\n\\xd2X\\x82\\x14\\xf56\\x96\\xa3\\x01`\\x0c\\xceH\\xdan\\x1bL2\\x98\\\\3o_\\xc9\\xe2\\xa3m\\x0c\\x8a?\\x11\\xfd\\xd1\\xe8\\xb6\\x1b\\xcc\\xc1\\x9a\\xc1b\\x9bB\\xcd\\x1c\\xf5v\\xdb\\xaf\\x1dU\\x8e\\xa6\\x92\\xa3\\xe8\\xb6\\xb1\\x9c]\\xd9\\xb4\\xdb6\\x98\\xcd`\\x92\\xc1\\xe4\\x9aiNH\\xc6\\xa6m\\xa3\\xdbN?\\xa1\\xb8\\'\\x89v\\xc3\\t\\xc9w\\xdb\\xc3\\x87\\xden\\xfb\\xb5\\xa3\\n\\xd2\\\\\\x82\\x14\\xdd6\\x96\\xe3\\xb2\\xf5\\x89A\\x98$}\\xda\\xb6\\xc1$\\x83\\xc95\\xd3xF\\x92A\\xf0\\x8c\\xa4\\xd1mg\\x0c\\x88$:$\\x9c\\x92\\xfc#I\\x86\\x0f\\xbd\\xe5\\xf6kG\\x95\\xa4\\xa5$)\\xcam,\\xc7\\x83$\\x18\\x83A\\xd2r\\xdb`\\x92\\xc1\\xe4\\x9ai\\x9c\\x92\\xc4 2%\\xe9\\xd3FvcH\\x07\\xed\\x86A\\xf2\\xe5\\xf6\\xf0\\xa1\\xb7\\xdc~\\xed\\xa8\\x82t-A\\x8ar\\x1b\\xcb\\x89\\xdcf\\x10&I\\x1e\\xee\\xb1\\x19\\xaf\\x93\\x0c&\\xd7L\\xf3\\xeb?\\x81\\xf0\\xeb\\xbf<\\x90e7Ft\\xb0f$H\\xbe\\xda\\x1e>\\xf4V\\xdb\\xaf\\x1dU\\x90\\xd6\\x12\\xa4\\xa8\\xb6\\xb1\\x9c\\x06I\\xef\\xdc6\\x98\\xcd`\\x92\\xc1\\xe4\\x9ai\\xae\\x92\\x8c#I\\xe8\\xdb\\x87 \\xe9\\xb3\\xb6i3\\\\$\\x9dP\\xdb\\x97\\xeej\\xfb\"\\xd5\\xf6\\xcb\\x1b(A\\x02\\xb5\\r\\xe58\\xb9?1\\x08\\x82\\xa4\\x99\\xcd`\\x92\\xc1\\xe4\\x9ay\\xfbFv\\x89A\"\\x10\\x06\\x89\\xbd\\xfd\\x18$\\xc2\\x80\\xd9f\\xcd`FbP3H\\xdd\\xcd\\xf6E\\x9b\\xedK1\\xdb1#w,\\xc7-I\\x8c\\x89/\\xf4\\xcc \\x0c\\x92a\\xb6\\xf5\\x80r\\xcd4\\xee\\xdb2\\x08\\xee\\xdb\\xd2\\xb7\\x06A\"\\x0c|ocC\\x82)\\xe91\\x14\\x924tOR4\\xaf$IEm\\xc7=\\x10w,\\'FR3\\xcf\\x8c\\x815\\x92f\\x92\\xd1+\\xd7L\\xeb\\xd2\\xc6 \\x9c\\x91d\\xb7\\x9d1\\xf1Y\\x12\\xda\\x0csD\\xa0\\xc6\\x96\\xa4\\xe1\\xd2\\xddl_\\xb4\\xd9\\xbe\\x14\\xb3\\x1d\\xff\\xde\\xde\\xb1\\x9c\\xe5Ho\\xdc6\\x98\\xcd`\\x92\\xc1\\xe4\\x9ai\\xe6\\x08\\xa1\\xf8s\\xe3\\x1fY7\\x9c\\x90\\xf4q$tD\\x98#\\xff\\xb4\\xed\\xe1\\xd2]l_\\xb4\\xd8\\xbe\\x14\\xb1}\\x01\\xb1\\r\\xe5,G\\x86\\xd8&L<\\xda\\xd6x\\x9dd0\\xb9f\\x9a92\\x8e#a\\xdd0G\\xc8\\xe0\\n\\xc9\\xd8\\xb4M\\xa1f\\x8e\\xba\\x8b\\xed\\x8b\\x16\\xdb\\x97\"\\xb6\\xe3\\x9b\\xbbc9Z\\xbb\\'\\x06a\\x90\\x0c\\xb3\\xad\\x99d0\\xb9f\\x9a+$\\x84\\xe0\\x97mY7\\x0c\\x122q\\xf7?\\x1d\\x11\\x06\\xe9\\x84\\xd8\\xbet\\x17\\xdb\\x17-\\xb6/El\\xc7%\\xe2\\x1d\\xcb\\xd9\\x84dxm\\xcdl\\x06\\x93\\x0c&\\xd7LK\"1\\x08/l\\x86\\xd7&\\x0c<F\\xc2\\xba\\x91 \\xf9\\x9b\\xb6\\x87Kw\\xaf}\\xd1^\\xfbR\\xbcv\\xbc\\x00\\xdc\\xb1\\x1c\\x8f\\xdaf\\x0c\\x06\\xc9\\xf0\\xda\\x9aI\\x06\\x93k\\xa6ye#?\"\\x89_\\xd9\\xf4\\xa6m\\x839\\xe8\\x88\\xf0\\xbb\\xff\\t\\xad}\\xe9\\xae\\xb5/Zk_\\x8a\\xd6\\x8ek\\x84;\\x96\\xb3\\t\\xc9\\xb0\\xda\\x9a\\xd9\\x0c&1&\\x1e\\xfe_3o\\x8bh\\xb8?B\\xa0\\x05/lz\\xcb6c\\xe2\\xaf\\x91\\xb0f$G\\'\\xac\\xf6\\xa5\\xbb\\xd5\\xbeh\\xab})V;\\xde\\xd7\\xbcc9\\xcb\\x91!\\xb5\\t\\x83\\xdf\\xfc%\\x93\\x8c^\\xb9f\\x9a\\x176\\x02\\xe1\\x85Mo\\xd8f\\x0c<\\x8d\\xc4\\xba\\x91\\x0b\\x9b\\x7f\\xcc\\xf60t\\xb7\\xda\\x83\\xb6\\xda\\x97b\\xb5\\xe3\\xa5\\xfd\\x8e\\xe5$H\\x9ay6\\x98\\xcd`\\x92\\xc1\\xe4\\x9ai]\\xd8\\x18\\x04_\\xd9H7\\xbca\\xcb H\\x12k\\x07IbP3I\\xdd\\xb5\\xf6\\xa0\\xb5\\xf6P\\xb4v\\xdc\\xfc~\\xc7r\\x96$c\\xbf\\xb6f6\\x83I\\x06\\x93k\\xa6\\x99$\\xe3<\\x12\\xa3\\xdb\\xce\\x18|\\x1a\\x89\\xb6\\x83\\x8b\\x1b\\x83Z\\x17\\xb7a\\xe8\\x9e\\xa4h]I\\x92\\x8a\\xd6\\x8e\\xdf\\xec\\xefX\\xce\\xee\\xb4\\x11\\x08\\xa3$\\x99\\xcd`\\x92\\xc1\\xe4\\x9aiF\\x89@\\x18%\\xd9mw>\\xa2\\x83v\\xc3$\\x11\\xa8\\x99\\xa4\\xeeb{\\xd0b{(b;\\x9e\\x11q\\xc7r\\xb2\\x1d\\x890\\x18$Clk&\\x19L\\xae\\x99\\xd6\\xbe6\\x02M\\x03\\x04\\xc9\\xd8\\xb2M\\x18|\\x1a\\x89\\r\\t\\x83tb\\xcb\\xf6\\xd0\\xddl\\x0f\\xdal\\x0f\\xc5l\\xc7O\\xe0\\x8e\\xe5d\\xab-a0H\\xc6\\x96m\\xcd$\\x83\\xc95\\xd3\\x9c\\x91\\x1c\\xb3\\xad\\xbb\\xed\\x06s\\xd0f\\x98\\xa3\\x13[\\xb6\\x87\\xeef{\\xd0f{(f{\\x00\\xb3\\r\\xe5,G\\x86\\xd8\\xd6\\xccf0\\xc9`r\\xcd4\\'$\\x02\\xc5\\x1flg\\xdd`W\\x1ba\\xf0a$\\xd6\\rW\\xdb\\'\\xcc\\xf6\\xd0\\xddl\\x0f\\xdal\\x0f\\xc5l\\xc7\\x93\\xfd\\xeeX\\xce\\x82d\\x98m\\xcdl\\x06\\x93\\x0c&\\xd7\\xcc\\xdbEk\\x84 \\x11(\\x9ekkt\\xdb\\x19\\x83\\x0f#\\x91n$H\\'vl\\x0f\\xdd\\xcd\\xf6\\xa0\\xcd\\xf6P\\xccv\\xfce\\xdf;\\x96\\xb3\\xafm\\x86\\xd9\\xd6\\xccf0\\xc9`r\\xcd\\xb4n\\xb5\\x11\\x087#\\xe9n\\xbb\\xc1\\x1ctDxe;a\\xb6\\x87\\xeef{\\xd0f{(f;\\x8a\\xbb;\\x96\\xb3\\t\\xc90\\xdb\\x9a\\xd9\\x0c&\\x19L\\xae\\x99\\xe6\\n\\x89@\\xb8B2\\xcc6\\xfb\\x84`S\\x1b\\xeb\\x86\\x13\\xd2\\t\\xb5=tW\\xdb\\x83V\\xdbCQ\\xdb\\xf1\\xda~\\xc7r\\x16$Cmkf3\\x98d0\\xb9f\\x9aAr\\xf6k\\xb3w\\x8fI\\xd2{\\xda\\x0f\\xda\\x0e\\x93tb\\xc7\\xf6\\xd8\\xddm\\x8f\\xdam\\x0f\\xc5m\\xc7gv\\xeeXN\\x92D\\x18H\\x92f6\\x83I\\x06\\x93k\\xa6\\x95$\\x06A\\x92t\\xb7\\xdd`\\x0e\\xda\\x0cr\\xf4\\x18\\n9\\xean\\xb6Gm\\xb6\\xc7b\\xb6\\xe3~\\x9c;\\x96\\x93%\\x12a\\xe0\\xc1\\x7f\\xcdlF\\xafd0\\xb9f\\x9a9r\\xcc6\\xe9\\x06_\\xda\\xf4\\x88\\x0e\\xda\\x0c\\x96H\\x0cj\\xe6h\\xe8\\x9e\\xa3h]I\\x8e\\x8a\\xd7\\x1e\\xc1kC9\\xcb\\x91d\\x9e\\x19\\x839\\x92\\xaf\\x93\\x0c&\\xd7L\\xeb\\xa6-\\x83\\xe0\\xa6-\\xe9\\x06\\'\\xb6\\x1bC:X72!\\x11\\xa8u\\xabm\\xec\\xae\\xb5G\\xad\\xb5\\xc7\\xa2\\xb5G\\xd0\\xdaP\\xce\\x82dhm\\xcdl\\x06\\x93\\x18\\x03\\xbbHFg\\xbf6\\x83pB\\xc2np\\xa4\\x8df\\x0e\\xda\\x0cst\\xc2j\\x8f\\xdd\\xad\\xf6\\xa8\\xad\\xf6X\\xacv<>\\xeb\\x8e\\xe5,G\\x86\\xd5&\\x0cNH\\x86\\xd5\\xd6L\\xae\\x99\\xb7\\xb9\\x06$\\x12\\x83\\xe0\\xf6\\x88\\xee\\xb6\\xd3w\\x06\\xdf\\xd9H7\\x12\\xa4\\x13\\x1b\\xb6\\xc7\\xeeZ{\\xd4Z{,Z{\\x04\\xad\\r\\xe5\\xec\\x8e-\\x810I\\x86\\xd7\\xd6L2\\x98\\\\3\\xadg#\\tDf$}\\xcc\\xc8\\xce x\\x14\\x89u\\xc35\\xd2\\t\\xaf=v\\xf7\\xda\\xa3\\xf6\\xdac\\xf1\\xda\\xf1\\x98\\xa9;\\x96\\xb3)\\x89\\xfc\\xcc\"\\x04\\xc9\\xf0\\xda\\x9aI\\x06\\x93k\\xa6yi#\\x10\\x06\\xc9\\xf0\\xda\\x9a9h3\\x9c\\x91Nh\\xed\\xb1\\xbb\\xd6\\x1e\\xb5\\xd6\\x1e\\x8b\\xd6\\x8e[\\x96\\xefX\\xcerdhm\\xc2\\xe0\\xa5\\xcd\\xd0\\xda\\x9a\\xc95\\xd3\\xcc\\x91\\xb3a\\x9bt\\x8b\\x1b\\xb6v\\x06\\xe1\\x1a\\xc9\\xf1\\xda\\x8f\\xa1\\x10\\xa4\\xee^{\\xd4^{,^{\\x04\\xaf\\r\\xe5,H\\x86\\xd7&\\x0c\\x06I2\\xc9\\xe8\\x95k\\xa6\\xf9\\xa5\\xcd9\\x87\\x84t\\x83_\\xb4e\\x10<BB\\xba\\x91\\x19\\xe9\\xe1\\xbe\\xee\\x10\\xa4\\xee^{\\xd4^{,^{\\x04\\xaf\\r\\xe5,H\\x86\\xd7&\\x0c\\x06I\\x9e\\xd5\\x9d\\x8c^\\xb9f\\x9a3\\x12\\x81\\xe0\\xd6\\xbf\\xee\\xb6\\xd3w\\x86Ar\\xb46\\x83ZA\\x9a\\xbak\\xedIk\\xed\\xb1h\\xed\\x11\\xb46\\x94\\x93Mm\\x84\\x81 if3\\x98d0\\xb9fZ{H\\x08\\x84\\x87\\xb5\\x91n\\xf1\\xa7H\\x8d\\x11\\x1dtDpecPk\\x894u\\xd7\\xda\\x93\\xd6\\xdaS\\xd1\\xdaq\\xef\\xc3\\x1d\\xcb\\xc9\\x84\\xa4\\x99g\\x83\\xd9\\x0c&\\x19L\\xae\\x99\\xd6\\x84\\xc4 \\x98\\x90t\\xb7\\x9d1\\xf8\\x0c\\t\\xeb\\x06\\x13\\x12\\x83\\x9a\\x13\\xd2\\xd0=H\\xd1\\xba\\x92 \\x15\\xaf\\x1d?\\x81;\\x96\\xb3 I\\xe6\\x991pe#\\x0c\\\\\\xd9t\\xaf\\\\3\\xad%\\x12\\x83`\\x89\\xa4G\\xb4\\xd3w\\x86A\\xc2n$H\\x04j\\x06\\xa9\\xbb\\xd7\\x9e\\xb4\\xd7\\x9e\\x8a\\xd7\\x8e\\x1b\\x96\\xefX\\xce\\x82dxm\\xc2`\\x90\\xc8\\xc6g\\x08\\x92\\xb1]{BAL\\x82D \\x0c\\x12\\x195NI\\x04\\xc2{\\xff\\xa4\\x1f\\x89\\xd2\\x89\\xa3H\\xa6\\xeej{\\xd2j{*j;n#\\xbcc93\\x92\\x04\\xc2,\\x19;\\xb65\\x93\\x0c&\\xd7L\\xf3\\xea\\xe6\\xec\\xd8&\\xdd\\x16\\x88\\x92\\xfe\\x88\\x0e\\xda\\r\\x97I\\'\\xb6lO\\xdd\\xdd\\xf6\\xa4\\xdd\\xf6T\\xdcv\\xdckz\\xc7r6)\\xc9m\\xdd\\xcf\\xc6\\xebl\\x06\\x93\\x0c&\\xd7L3H\\x8e\\xda\\xd6\\xeflg\\x0c>C\\xc2\\xba\\xe1\\x94tBmO\\xdd\\xd5\\xf6\\xa4\\xd5\\xf6T\\xd4\\xf6\\x04j\\x1b\\xca\\xd9\\xf76\\xb9\\xad\\xfb\\x991\\x18$Cmk&\\xd7L3H\\x8e\\xda&\\xdd\\xe2f\\xe4\\xdd\\x18\\xd2A\\xbb\\xe1\\x8ct\\xc2mO\\xdd\\xdd\\xf6\\xa4\\xdd\\xf6T\\xdcv\\xdc\\xb4|\\xc7rv\\\\;\\x81\\xf0\\xdaf\\xec\\xd9\\xd6L2\\x98\\\\3\\xcd$9\\xa7l\\x93nq1\\xbd\\xd3\\xcf\\x08\\x1e#a\\xed0J\\'vmO\\xdd\\xed\\xf6\\xa4\\xed\\xf6T\\xec\\xf6\\x04v\\x1b\\xca\\xc9\\xb96\\x84\\xc1$\\x19\\xbb\\xb65\\x93\\x0c&\\xd7Lk\\xf7?\\x81p\\xf7?{\\xf7\\xb8\\xe2F\\x08\\x9f#ac\\xc2$\\x9d\\xd0\\xdbSw\\xbd=i\\xbd=\\x15\\xbd=\\x81\\xde\\x86r\\xb6L\"gr@\\x92\\x8cm\\xdb\\x9aI\\x06\\x93k\\xa6\\x99$\\x84H\\x92\\x9cm\\xdbzH\\x07\\x1d\\x12\\x06\\xe9\\x84\\xde\\x9e\\xbb\\xeb\\xedY\\xeb\\xed\\xa9\\xe8\\xed\\xf8#Bw,\\xc7O\\xe0\\x89A0\\'if3\\x98d0\\xb9fZW7\\x02\\xe1oH\\x92n\\xe0\\xb7\\x8d\\x8f\\xe8\\xa0C\\x82$=\\x86B\\x92\\xba\\x0b\\xeeY\\x0b\\xee\\xb9\\x08\\xee\\xf8KSw,\\'S\\x12a`\\xc1\\xad_g3\\x98d0\\xb9fZ7J\\x08\\x84?\\xd8\\xc6\\xde\\x19lJb\\x10\\xd8$6&\\xf8\\xea\\xc6\\xa0f\\x92\\x86\\xeeI\\x8a\\x02\\x96$\\xa9\\x18\\xee\\xb8\\x0b\\xec\\x8e\\xe5\\xf87\\xf7\\x89A8\\'If3\\x98d0\\xb9fZW7\\x02\\xe1\\x81\\xa4\\xec\\xedC\\x92\\xe4\\x88\\x0e:\"\\x0c\\xd2C(\\x04\\xa9\\xbb\\xe1\\x9e\\xb5\\xe1\\x9e\\x8b\\xe1\\x9e\\xc1pC9\\xfbU[\\x02\\xc5\\xfbW\\xcf\\x0c\\xc2$\\x19{\\xb75\\x93k\\xa6\\x99$r$\\t\\xac\\x93\\xd8[\\x83u\\x92\\x1e\\xd2A\\x87\\x84Q:a\\xb8\\xe7\\xee\\x86{\\xd6\\x86{.\\x86{\\x06\\xc3\\r\\xe5\\xec\\xea&7f?\\x1b\\xaf\\xb3\\x19L2\\x98\\\\3\\xcde\\x92#\\xb8I7\\xb0IzD\\x07m\\x86\\xab\\xa4\\x13~{\\xee\\xee\\xb7g\\xed\\xb7\\xe7\\xe2\\xb7g\\xf0\\xdbPN~\\x8d\\x940\\x0b\\xe4\\xc8\\xf0\\xdb\\x9aI\\x06\\x93k\\xa6\\xb9Jr\\x8e$!\\xdd\\xc0%\\x11\\x06\\xf46k\\x869:\\xa1\\xb7\\xe7\\xeez{\\xd6z{.z{\\x06\\xbd\\r\\xe5l>\"z\\x1b\\xd7H\\x86\\xdf\\xd6L2\\x98\\\\3\\xcd\\t\\x89\\x1c\\xb6\\x8dk$\\xc7o\\xb3\\xf7\\x8f_\\xdc\\x1c\\xc1\\xcd\\xa0f\\x94\\xba\\x0b\\xeeY\\x0b\\xee\\xb9\\x08\\xee\\x19\\x047\\x94\\x93_H\"\\x0c&\\xc9\\xf0\\xdb\\x9aI\\x06\\x93k\\xa6\\x99$\\xc7o\\x93n\\xe8\\xb7\\t\\x04O\\x93\\xb0n\\x18\\xa4\\x13\\x9b\\xb7\\xe7\\xeez{\\xd6z{.z{\\x06\\xbd\\r\\xe5l\\x17\\x00\\x810I\\x86\\xdff\\xcd I\\x86\\xdf\\x9e\\x89&\\xc6$9\\xa7\\x92\\x90n\\xe8\\xb7\\xf5\\x90\\x0e\\xda\\rW\\xdb\\'\\xf4\\xf6\\xdc]o\\xcfZo\\xcfEo\\xc7\\x1f\\t\\xbac9\\xac\\x80\\x9e\\x18\\x83A2\\xf4\\xb6f\\x92\\xc1\\xe4\\x9ai\\x06\\xc99\\x95\\x84t#_\\xdb\\x10\\xc2e\\x92\\xa3\\xb7\\x19\\xd4\\xba\\xb6-\\xdd\\xf5\\xf6\\xa2\\xf5\\xf6\\\\\\xf4v<(\\xff\\x8e\\xe50K<1\\x06\\x82\\xa4\\x99\\xcd`\\x92\\xc1\\xe4\\x9ai\\x05\\x89A\\x10$\\xd2\\r\\xec6a\\xe0)\\x00\\xd6\\x0cr\\xc4\\xa0f\\x8e\\xba\\xcb\\xedE\\xcb\\xed\\xa5\\xc8\\xed\\xf8[\\nw,\\xc7\\xf5\\xe6\\x13\\x830H\\x86\\xdd\\xd6L2\\x98\\\\3\\xcd !\\x84\\xcbm\\xd2\\r\\xed6\\x830J\\xce\\xb9$\\x8f\\xa1\\x10\\xa5\\xa1{\\x94\\xa2{%Q*v{\\x01\\xbb\\r\\xe5\\xb8\\xe0|b\\x10FI2\\x9b\\xc1$\\x83\\xc95\\xd3R\\x00\\x04\\xc2\\'JH7|XR\\x0f\\xe9\\xa0C\\x82U\\xd2c($\\xa9\\xbb\\xde^\\xb4\\xde^\\x8a\\xde^@oC9.8\\x9f\\x18\\x84I2\\xec\\xb6f\\x92\\xc1\\xe4\\x9aiNJd\\x077\\x9c(\\xc1\\xde><-\\xa9\\x87t\\xd0!a\\x92N\\xd8\\xed\\xa5\\xbb\\xdd^\\xb4\\xdd^\\x8a\\xdd^\\xc0nC9\\xfb\\xe6F L\\x92\\xa1\\xb75\\x93\\x0c&\\xd7L3I\\xce\\xd9$\\xba\\xdbN?\"\\x08\\x92\\xa3\\xb7\\x1fC!H\\xdd\\xf5\\xf6\\xa2\\xf5\\xf6R\\xf4\\xf6\\x02z\\x1b\\xca\\x89\\xde&\\x0c\\xe6\\xc8\\xd0\\xdb\\x9aI\\x06\\x93k\\xa6u\\xc6\\r\\x830G\\xf2\\xdd\\xef\\x8c\\xc1\\x1c9\\xbb\\xb7\\x19\\xd4\\xccQw\\xbd\\xbdh\\xbd\\xbd\\x14\\xbd\\xbd\\x80\\xde\\x86r\\xb6-\\x89@\\x18$Cok&\\xd1\\x01A\\x90\\x1c\\xbdM\\xa0xp\\xfdG\\xe7\\xed\\xef\\xc6\\x90\\x0e:$L\\xd2\\x89\\xdf\\x92\\\\\\xba\\xdb\\xedE\\xdb\\xed\\xa5\\xd8\\xed\\x05\\xec6\\x94\\xd3$\\x19z[3\\x9b\\xc1$\\x83\\xc95\\xf3\\x16\\x92\\x19\\x92D \\xd8\\x02`\\xbc\\xfd\\xdd\\x18\\xd2\\xc1\\xba\\x91k\\xdb\\x89\\xdd\\xdbKw\\xbd\\xbdh\\xbd\\xbd\\x14\\xbd\\xbd\\x80\\xde\\x86rr\\xcb\\x8d0\\xb0\\x05@3\\x9b\\xc1$c<\\xb9fZ\\xcfK2\\x08\\x9e\\x97\\xd4\\xddv\\x839X32#\\x9d\\x90\\xdbKw\\xb9\\xbdh\\xb9\\xbd\\x14\\xb9\\xbd\\x80\\xdc\\x86r\\xba\\xd86\\xec\\xb6f6\\x83I\\x06\\x93k\\xe6-#\\xf0\\xb3\\xa4\\x04\"R\\xd2\\xb1\\xdb\\x0c\\x82$9v\\x9bA\\xad\\x19\\xe9\\xda\\xddn_\\xb5\\xdd^\\x8a\\xdd^\\xc0nC9\\x99\\x914\\xf3\\xcc\\x18\\x98\\x914\\x93\\x8c^\\xb9fZ3\\x12\\x83`F\\xd2\\xddvc\\xd4\\x07k\\x863\\xd2c(\\xe4\\xa8\\xbb\\xdd\\xbej\\xbb}-v\\xfb\\nv\\x1b\\xca\\x7f\\xfa\\r,\\x91\\x08\\x8392\\xe4\\xb6f\\x92\\xc1\\xe4\\x9ai-\\xb6\\t\\x84\\xfbmu\\xb7\\xdd`\\x0e:\"\\x98\\x8f\\x18\\xd4\\xcc\\xd1\\xd0=G\\xd1\\xbb\\x92\\x1c\\x15\\xb5}\\x05\\xb5\\r\\xe5l>\\x92\\xcc\\xb3\\xc1l\\x8c\\x81\\x13%\\xf4\\xeb\\xe4\\x9ai\\xe6\\x88@pa#\\xdd`#\\x89\\x1e\\xd1A\\x9b\\xe1|D\\xa0\\xd6\\n\\xe9\\xda]l_\\xb5\\xd8\\xbe\\x16\\xb1}\\x05\\xb1\\r\\xe5\\xe4\\xf6?a0G\\x86\\xd7\\xd6L2\\x98\\\\3\\xcd\\x1c!\\x14\\x0f\\xae\\xff\\xc8\\xbaa\\x8e\\x0c\\xad\\xcdF\\x849:\\xa1\\xb5\\xaf\\xdd\\xb5\\xf6Uk\\xedk\\xd1\\xdaW\\xd0\\xdaPN\\xee\\xfe\\x13\\x06sd\\x9c\\xb8M\\x18\\x9c\\x8f\\x0c\\xab}u\\xac6\\x83p>2\\xac\\xb6f\\x0e\\xda\\x0cstb\\xd3\\xf6\\xb5\\xbb\\xd5\\xbej\\xab}-V\\xfb\\nV\\x1b\\xca\\xd9uM\\xba\\xdfg\\xe3u6\\x83I\\x06\\x93k\\xa6\\xf5\\x14\\t\\x81\\xf0)\\x12\\xddm7\\x98\\x83\\x8e\\x08\\xd7G\\'6m_\\xbb[\\xed\\xab\\xb6\\xda\\xd7b\\xb5\\xaf`\\xb5\\xa1\\x9c\\xcdG\\xc8\\xc0\\xe6\\x7f\\xf6:8!\\xc9f\\xc9`r\\xcd4\\'$\\xe7P\\x12\\xd2\\rn\\x8f\\x10\\x06\\x83\\xe4Hm\\x065/l\\xdd\\xa5\\xf6UK\\xedk\\x91\\xdaW\\x90\\xdaP\\xce\\xa46\\x81\\x06H\\x92!\\xb55\\x93\\x0c&\\xd7L3H\\xce\\x9em\\xddm7\\x98\\x836\\xc3 \\x9dp\\xda\\xd7\\xeeN\\xfb\\xaa\\x9d\\xf6\\xb58\\xed+8m(\\'\\xa7$\\x11\\x06sd8m\\xcd$\\x83\\xc95\\xd3\\xda\\x8bD\\xa0\\xf8\\xcb>\\x1f\\x8dn;c0G\\x8e\\xd3~\\x0c\\x85\\x1cuw\\xdaW\\xed\\xb4\\xaf\\xc5i_\\xc1iC9[!\\xc9c\\xb2\\x9f\\x8d\\xd7\\xd9\\x0c&\\x19L\\xae\\x99\\xe6\\n\\t\\xa1\\xb8\\xc9\\xe8\\xa3\\xd1m7\\x98\\x83\\x8e\\x08st\\xc2h\\xaf\\xdd\\x8d\\xf6\\xaa\\x8d\\xf6\\xb5\\x18\\xed+\\x18m(\\'&\\x920\\xf0\\x8dM3\\x9b\\xc1$\\x83\\xc95\\xd3\\xba\\xae1\\x08\\x1e\\x8f$\\xdd\"\\xb4\\x1bC:h7Xj3\\xa8\\x19\\xa4\\xeeJ{\\xd5J{-J{\\x05\\xa5\\r\\xe5,H\\x86\\xd2\\xd6\\xccf0\\xc9`r\\xcd4\\x83\\xe4\\x1c\\xb7M\\xba\\xc1\\x85M\\x8f\\xe8\\xa0\\xcd`Bz\\x0c\\x85\\x1c\\r\\xdds\\x14\\x8d+\\xc9QQ\\xda+(m(\\'\\x176\\xcd<\\x1b\\xccf0\\xc9`r\\xcd4sD \\xcc\\x11v\\x83\\xa7l\\xf5\\x88\\x0e\\xda\\x0c\\xe7\\xa3\\x87P\\xc8Qw\\xa5\\xbdj\\xa5\\xbd\\x16\\xa5\\xbd\\x82\\xd2\\x86r\\x96#Ci\\x13f\\x80\\x1c\\x19J[3\\xb9f\\x9a9r~D\\x92t\\xc3{\\xfezH\\x07\\xed\\x86\\x13\\xd2\\t\\xa7\\xbdvw\\xda\\xabv\\xdakq\\xda+8m(\\xff\\xe97+\\x04\\xc9p\\xda\\x9a\\xd9\\x0c&\\x19L\\xae\\x99f\\x90\\x10B\\x17\\xa9\\xbb\\xed\\x06s\\xd0\\x11\\xe1\\x84t\\xc2i\\xaf\\xdd\\x9d\\xf6\\xaa\\x9d\\xf6Z\\x9c\\xf6\\nN\\x1b\\xca\\xf1a\\x9d\\'\\x06\\xcd\\x10$\\xf2B\\x10$Cj\\x13&\\xfe\\xd5\\xce5\\xd4\\xfa\\xceF \\x92$\\xc3jk\\xe6\\xa0#\\xc2\\x19\\xe9\\x84\\xd5^\\xbb[\\xedU[\\xed\\xb5X\\xed\\x15\\xac6\\x94\\x13\\x87D\\x18\\x9c\\x91\\x8c\\xad\\xda\\x9aI\\x06\\x93k\\xa69#9R[w\\xdb\\r\\xe6\\xa0\\xcdpF:q\\x0e\\xc9\\xda]j\\xafZj\\xafEj\\xaf \\xb5\\xa1\\x9c-\\x91\\xe4\\x0fD>\\x1b\\xccf\\xf4J\\x06\\x93k\\xa6\\xb5\\x9b\\x8dA\\xb0\\x9bMw\\xdb\\r\\xe6`\\xcd\\xc8|t\\xc2i\\xaf\\xdd\\x9d\\xf6\\xaa\\x9d\\xf6Z\\x9c\\xf6\\nN\\x1b\\xcaY\\x8e\\x8cSH\\x08\\x83\\x176\\xc3i\\xeb^\\xb9f\\x9a9r\\xf6i\\xebn\\xbb\\xc1\\x1c\\xac\\x19\\xc9\\xd1\\x89}\\xdakw\\xa7\\xbdj\\xa7\\xbd\\x16\\xa7\\xbd\\x82\\xd3\\x86r\\x96#c\\x9b6aF\\xc8\\x91\\xdc\\xef\\x9c\\x8c^\\xb9f\\x9a\\xd75\\xe2\\xb4\\xe1\\x11$\\xddm7\\x98\\x83\\x8e\\x08st\\xe2\\x88\\xed[w\\xa7}\\xd3N{-N{\\x05\\xa7\\r\\xe5\\xe4\\x99H\\xc2@\\x8e4\\xb3\\x19Lb\\x0c\\xdcc\\xbb9N\\x9bA\\xb0>\\xd2#\\xda\\r\\xe6\\xa0\\xcd G\\x8f\\xa1\\x90\\xa3\\xeeJ\\xfb\\xa6\\x95\\xf6\\xad(\\xed\\x1b(m(g\\xcf\\x8d\\x10\\x08\\x83d8m\\xcd$\\x83\\xc95\\xd3\\xbaYK <a[w\\xdb\\r\\xe6\\xa0#\\x82\\x856\\x83\\x9aA\\x1a\\xba\\x07)*W\\x12\\xa4\\xe2\\xb4o\\xe0\\xb4\\xa1\\x9c\\\\\\xd8\\x08\\x13\\x7f\\x8a\\xf2\\x99A\\xb0\\xd2&\\x0c\\xec\\x8b\\xd4L\\xae\\x99\\xe6\\x8c\\x84\\x10\\xfe\\\\\\xbb~\\xfb\\xbb\\xc1\\x1ctD8#=\\x84B\\x90\\xbaK\\xed\\x9b\\x96\\xda\\xb7\"\\xb5o \\xb5\\xa1\\x9c\\x05\\t\\x19PH\\xfau6\\x83I\\x06\\x93k\\xa6\\x99#Gj\\xebn\\xbb\\xc1\\x1c\\xb4\\x19\\xe6\\xe8!\\x14r\\xd4\\xddi\\xdf\\xb4\\xd3\\xbe\\x15\\xa7}\\x03\\xa7\\r\\xe5,Gd\\x0f6\\x06In\\xc2\\xde\\x183A\\x90\\x0c\\xa9}s\\xa46\\x830H\\x86\\xd4\\xd6\\xccA\\x9ba\\x90NH\\xed[w\\xa9}\\xd3R\\xfbV\\xa4\\xf6\\r\\xa46\\x94\\xb3 \\xc9\\xf3\\xa5\\x9f\\x19\\x839\\x92\\x1b\\xbe\\x931\\x9e\\\\3\\xcd\\x1c9\\xbf\\x1eI\\xba\\xc1]\\x7f\\xcd\\x1c\\xb4\\x19\\xe6\\xe8\\x84\\xd2\\xbeuW\\xda7\\xad\\xb4oEi\\xdf@iC9\\xcb\\x119\\x82\\x1ard(m\\xcd$\\x83\\xc95\\xd3\\\\i\\x13\\x08\\xee\\xfa\\xebn\\xbb\\xc1\\x1c\\xb4\\x19\\xe6\\xe8\\x84\\xd2\\xbeuW\\xda7\\xad\\xb4oEi\\xdf@iC9\\xcb\\x1128\\x1f\\x19\\xdb\\xb45\\x93\\x0c&\\xd7Ls>r\\xb6i\\xebn;cp>r\\x94\\xf6c(\\xe4\\xa8\\xbb\\xd2\\xbei\\xa5}+J\\xfb\\x06J\\x1b\\xcaY\\x8e\\x0c\\xa5M\\x18\\xfc\\xc2f\\xfcp\\xa4fr\\xcd4s\\xe4\\x1c\\xac\\xad\\xbb\\xed\\x06s\\xd0f\\x98\\xa3\\x13J\\xfb\\xd6]i\\xdf\\xb4\\xd2\\xbe\\x15\\xa5}\\x03\\xa5\\r\\xe5,GDE\\xe3\\x84d\\xec\\xd3\\xd6L2\\x98\\\\3\\xcd 9G\\x8f\\xe8n\\xbb\\xc1\\x1c\\xb4\\x19\\x06\\xc9\\xdf\\xa7=~\\xe8\\xed\\xb4_;\\xaa \\x15\\xa7}\\x8bN\\x1b\\xcb\\xf17#\\x0c\\xe6\\x9911G\\x06\\x93\\x18\\x132\\x9bk\\xa6\\xb1w\\x84A\\xb0w\\xc4\\x18\\xd1n0\\x07\\x1dQ\\xcc\\x91\\x80B\\x8ez;\\xed\\xd7\\x8e\\x8fs\\xf4\\xf2\\x06\\xder\\xf4\\xfaO!G\\xe4\\\\m\\xc8\\x91V\\xda\\x06\\xb3\\x19L2\\x98\\\\3\\xcd\\x1c!Dr\\xa4\\x956c\\xe2\\x02\\x89\\x8e(*m\\n5s4t\\xcfQ\\x14\\xae$G\\x97\\x92\\xa3\\xa8\\xb4\\xb1\\x1c/l\\x8c\\x89F\\xdbx\\x9d\\xcd`\\x92\\xc1\\xe4\\x9ai\\xe6\\x08!\\x92#\\xec\\x16\\x1f\\xac5Ft\\xd0\\x11a\\x8e\\x08\\xd4\\xccQo\\xa3\\xfd\\xdaQ\\xe5h(9\\x8aF\\x1b\\xcbY\\x8e\\xf46m\\xc6\\xc4\\x85\\xb6\\xf1:\\xc9`r\\xcd4\\xd6G\\x14\\x8a\\xeb#\\xd6-n\\xf7\\xa7\\xef\\x0c\\'\\xa4\\x87;\\xb0\\xdf\\x83\\xe4o\\xd3\\x1e?\\xf4V\\xda\\xaf\\x1dU\\x90\\xc6\\x12\\xa4\\xa8\\xb4\\xb1\\x9c<\\xa1\\xcd L\\x92\\xde\\xa7m0\\xc9`r\\xcd\\xbc\\xdd>\\x8b\\xbb\\x90(\\x14w!\\xb1n\\xf17l\\x8d\\x11\\x1d\\xac\\x19Y!\\xf9J{\\xfc\\xd0[i\\xbfvTA\\x9aJ\\x90\\xa2\\xd2\\xc6rr\\xd7\\x9fA\\x18$}\\xf8\\x88\\xc1$\\x83\\xc95\\xd3\\x9c\\x92\\x0c\\xa7\\xcd\\xbaa\\x90\\xb4\\xd3\\xa6\\xcd0H\\xbe\\xd3\\x1e?\\xf4v\\xda\\xaf\\x1dU\\x90\\xe6\\x12\\xa4\\xe8\\xb4\\xb1\\x1c\\xbe\"=1\\x06s$\\xcf\\x0c\\xd9\\x8c\\xd7I\\xc6\\xeb\\xe4\\x9ay\\x9bk\\xe2\\xa9\\xa3\\x0c\\x9a>@\\x8e\\xa4\\xad\\xdf\\x8dQ\\x1f\\xac\\x19\\xc9\\x91\\xef\\xb4\\xc7\\x0f\\xbd\\x9d\\xf6kG\\x95\\xa3\\xa5\\xe4(:m,gK$\\xed\\xb4\\x8d\\xd7\\xd9\\x0c&\\x19L\\xae\\x99\\xb7\\x9d\\xb3\\xf1\\x88\\x7f\\n\\xc5##\\x8cn\\xbb\\xc1\\x1c\\xac\\x19\\xc9\\x91\\xef\\xb4\\xc7\\x0f\\xbd\\x9d\\xf6kG\\x95\\xa3k\\xc9Qt\\xdaX\\xcer\\xa4\\x9d6c\\xe2\\xbdZ\\xc6\\xc4\\xed\\xb5F\\xaf\\\\3\\xcd\\xeb\\x1a9z\\x04\\xe7#\\xed\\xb4\\r\\xe6\\xa0#\\xc2\\x1c\\xf9N{\\xfc\\xd0\\xdbi\\xbfvT9ZK\\x8e\\xa2\\xd3\\xc6rv]\\xd3\\xdb\\xb4\\rf3\\x98d0\\xb9f\\x1a\\xf7j\\x194\\xe1|\\xa4\\x95\\xb6\\xc1\\x1ctD\\xf8\\x8d\\xed\\x84\\xd2\\xbetW\\xda\\x17\\xa9\\xb4_\\xde@\\xc9\\x11(m(\\xc7\\x1f\\xe6xb\\x10\\x04\\x89\\xbdP\\x0c\\x92f\\x92\\xd1+\\xd7\\xcc[F\\xe0\\xc2\\xc6\\xa0\\xb8\\xdf\\xdf\\xe8\\xb6\\x1b\\xa3>X3\\x9c\\x90\\x1eC!H\\xdd\\x9d\\xf6E;\\xedKq\\xda\\xf1\\xcb\\xd8\\x1d\\xcb\\xc9\\x85M3\\xcf\\x06\\xb31\\x06sd8\\xed\\x0b\\xcaax\\xfe\\x88B\\xf0\\xcd_w\\xdb\\r\\xe6`\\xcdH\\x8e\\xfc\\x1f\\x8a\\x1c/C\\xf7\\x1cE\\xe5JrT\\x9cv\\x94hw,g9Bf\\x85\\x1c\\xc9\\xd7\\xd9\\x0c&\\x19L\\xae\\x99\\xd6\\x02\\x89A\\xf0\\xc5\\x9ft\\x8b\\xbf[\\xc3\\x18\\x9c\\x8fH3\\xcc\\xd1C(\\xe4\\xa8\\xbb\\xd3\\xbeh\\xa7})N;\\xdeB\\xb8c9,~\\x9f\\x18\\x83\\xf3\\x91\\xde\\xa5m0\\xc9`r\\xcd\\xb4\\x16H\\x04\\x82\\xc7F\\x8cn\\xbb\\xc1\\x1ctD\\x98#\\x7f\\x97\\xf6x\\xe9\\xae\\xb4/Zi_\\x8a\\xd2\\x8e{>\\xeeX\\xce\\xe6#\\xc3hkfc\\x0c|a\\xd3L\\xae\\x99\\xd6=6\\x02\\xe1=6\\xddm7\\x98\\x83\\x8e\\x08s\\xe4\\xffF\\xe4x\\xe9n\\xb4/\\xdah_\\x8a\\xd1\\x8eo\\xee\\x8e\\xe5\\xcch\\x13(\\x1e\\x83\\xcc\\x18\\x0c\\x92a\\xb45\\x93k\\xa6\\x19$\\x84\\xf0\\x9b\\xbf\\xee\\xb63\\x06/l\\x8e\\xd1~\\x0c\\x85 u7\\xda\\x17m\\xb4/\\xc5h\\xc7\\xaf\\xa3w,\\xc73^\\x9f\\x18\\x843\\x92\\x94\\xc3\\x9b\\xc1$\\xa3W\\xae\\x99\\x96\\xd2&\\xd0\\x84W6\\xbdM\\x9b~D\\x10$Gi?\\x86B\\x90\\xba+\\xed\\x8bV\\xda\\x97\\xa2\\xb4\\xe3\\x82\\xf4\\x8e\\xe5tFB(>\\x7f\\xc4\\x18\\x0c\\x92\\xe1\\xb45\\x93k\\xa6\\xb9\\xd46\\xf6i\\x1b\\xddv\\x839h3\\x0c\\xd2\\t\\xa7}\\xe9\\xee\\xb4/\\xdai_\\x8a\\xd3\\x8e\\x9f\\xe4\\x1d\\xcb\\xd9\\x12\\xc9p\\xda\\x9a\\xd9\\x18\\x83K$\\xc3i_\\x1c\\xa7M \\xb2D2\\x9c\\xb6f\\x0e:\"\\xcc\\xd1\\t\\xa7}\\xe9\\xee\\xb4/\\xdai_\\x8a\\xd3\\x8e\\xdfl\\xeeX\\xcer$\\x8f\\x0cy6^g3\\x98d0\\xb9f\\x9a_\\xd9\\x8cm\\xda\\xac[|\\xf6|7\\xde\\xfeA\\xbba\\x90NH\\xed\\xa1\\xbb\\xd4\\x1e\\xb4\\xd4\\xbe\\x14\\xa9\\x1d\\x1f\\xe5\\xbac9\\t\\x12a`\\xa9\\xad_gc\\x0cLH\\x84\\x89g\\xfc\\xd5LkBb\\x10\\x04\\x89t\\x03\\x87\\xa4\\xdf\\xd9A\\x9bA\\x8e\\x1eC!G\\xdd\\x9d\\xf6\\xa0\\x9d\\xf6P\\x9c\\xf6\\x00N\\x1b\\xca\\xf1\\xa1\\x90\\'\\x06\\xc1\\x95M3\\x9b\\xc1$\\x83\\xc95\\xd3\\x9a\\x91\\x18\\x84A\"o\\x1f\\x93$]\\xfcA\\xbb\\xc1m6\\x065\\x934tOR\\x94\\xae$I\\xc5j\\xc7#E\\xefX\\xcef$d\\xe0\\xd2\\xa6_g3\\x98d0\\xb9f\\x9aA\"P|\\xb4\\x96u\\x1b!G\\xc8`\\x8eH3\\xcc\\x11\\x81\\x9a9\\xean\\xb5\\x07m\\xb5\\x87b\\xb5\\xe3F\\x9c;\\x96\\xe3\\xa9Z\\x8c\\xc1\\t\\xc9\\xb0\\xda\\x9aI\\x06\\x93k\\xa6yesvj\\x93n\\xb0\\x9dM\\x8f\\xe8\\xa0\\xcd\\xf0\\xcav\\xc2j\\x0f\\xdd\\xad\\xf6\\xa0\\xad\\xf6P\\xacv\\xdc\\xf5u\\xc7r\\xb2}\\x840\\x98#\\xc3jk&\\x19L\\xae\\x99f\\x8e\\x8c\\xa3G\\x8cw\\xbf\\x1b#:h3\\xcc\\xd1\\x89}\\xdaCw\\xab=h\\xab=\\x14\\xab\\x1dw\\x86\\xdc\\xb1\\x9c9$\\x02a\\x90\\x0c\\xab\\xad\\x99d0\\xb9fZV\\x9b@\\xf8\\xdd_w\\xdb\\xe9G\\x04Ar\\xac\\xf6c(\\x04\\xa9\\xbb\\xd5\\x1e\\xb4\\xd5\\x1e\\x8a\\xd5\\x1e\\xc0jC9y$\\x920\\x98#}\\xf6\\x88\\xc1$\\x83\\xc95\\xd3\\x9c\\x90\\x88\\xd4\\xc6\\x1c\\x91]\\xe18#\\x19\\x1b\\xb5\\xd9\\x900H\\'\\xac\\xf6\\xd0\\xddj\\x0f\\xdaj\\x0f\\xc5j\\x0f`\\xb5\\xa1\\x9c\\xdc\\xf7\\'\\x0c\\x06\\xc9\\xd8\\xa8M\\x18\\xb8;\\xa2\\xc7\\x93k\\xa69!!D\\x82$G\\xb4\\x1b\\xef\\xec\\xa0#\\xc2\\x1c\\x9d\\x90\\xdaCw\\xa9=h\\xa9=\\x14\\xa9\\x1d\\xb7}\\xdd\\xb1\\x9c}c\\x932\\xfa\\xd9x\\x9d\\xcd`\\x92\\xc1\\xe4\\x9aiNH\\xe4<m\\xb8]\\xab\\xbb\\xed\\x06s\\xd0\\x11a\\x8e\\xfc\\xdf\\x88\\x1c\\x87\\xeeR{\\xd0R{(R;\\xee\\x0c\\xbcc9{$\\x92@\\xf1g\\xb4\\x19\\x83A2\\xac\\xb6fr\\xcd\\xbc\\xcd5\\xb01\\x92@\\xf8\\xe4\\x08{\\xfb\\x10$c\\xa76iF\\x82tBj\\x8f\\xdd\\xa5\\xf6\\xa8\\xa5\\xf6P\\xa4\\xf6\\x00R\\x1b\\xca\\xd9R\\x9bA1H\\x84\\x81 i&\\x19L\\xae\\x99\\xd6\\x95\\x8d@\\xb8\\x81Dw\\xdb\\x8dw\\x7f\\xd0\\x11\\x81CbP3H\\xdd\\xad\\xf6\\xa8\\xad\\xf6X\\xacv\\xfc$\\xefXN\\x83$\\x7fI\\xf2\\x991\\x18$\\xc3jk&\\xd7L\\xeb\\xd2\\xc6 \\xf8\\xf2\\xaf\\xbb\\xed\\x06s\\xd0f\\x18\\xa4\\x13R{\\x1c\\xba\\x07):W\\x12\\xa4\"\\xb5G\\x90\\xdaPN\\x83$M\\xf3\\xb3\\xc1l\\x06\\x93\\x0c&\\xd7\\xcc\\xdb\\xa5\\r\\xac6\\x81H\\x90d\\xb7\\xdd`\\x0e\\xda\\x0c\\x83D\\xa0f\\x90\\xba[\\xedQ[\\xed\\xb1X\\xed\\xb8[\\xed\\x8e\\xe5/+\\tX#\\x11\\x08\\x83dhm\\xcd$\\x83\\xc95\\xd3\\x9c\\x91\\x1c\\xad\\xad\\xbb\\xed\\x8c\\xc1K\\x9b\\xa3\\xb5\\x1fC!H\\xdd\\xb5\\xf6\\xa8\\xb5\\xf6X\\xb4v\\xfcI\\xf2;\\x96\\x93/m\\x9ay6\\x98\\xcd`\\x92\\xc1\\xe4\\x9aim\\x8d$\\x10>\\xedO\\xba\\x81D\\xd2#:X3\\x92\\xa3\\x13\\x9b\\xb5\\xc7\\xeeZ{\\xd4Z{,Z;\\xfe\\x0c\\xd0\\x1d\\xcb\\xbf\\x1c\\x07\\x08A2\\xb4\\xb6f6\\x83I\\x06\\x93k\\xa6u\\xbf\\x96@\\xf1n\\xf5G\\xa3\\xdbN?\"\\x08\\x92\\xa3\\xb5\\x1fC!H\\xdd\\xb5\\xf6\\xa8\\xb5\\xf6X\\xb4v|\\x0e\\xe7\\x8e\\xe5\\xf8g\\xf2D!\\x08\\x92\\xe1\\xb55\\x93\\x0c&\\xd7\\xcc\\xdbd\\x833\\x12B3\\xceH\\xc6fm\\xcd\\x1c\\xac\\x19Y\"=\\x84B\\x90\\xbak\\xedQk\\xed\\xb1h\\xed\\xf8\\xf3-w,\\'Z\\x9b08!\\x19Z[3\\xc9`r\\xcd4WH\\xce^m\\xddmg\\x0cNH\\x8e\\xd6fP3G\\xdd\\xb5\\xf6\\xa8\\xb5\\xf6X\\xb4v<\\xc7\\xec\\x8e\\xe5\\xf8g\\xf2\\xc4 \\x0c\\x92\\xe1\\xb55\\x93\\x0c&\\xd7L\\xf3\\xcaF6k\\xe3\\x84dxm\\xcd\\x1ctD8!\\x9d\\xd8\\xac=v\\xf7\\xda\\xa3\\xf6\\xdac\\xf1\\xda\\xf1\\xac\\xbb;\\x96\\xb3\\xa562\\xb0\\xc7\\x960\\xf0\\xf0\\x88\\xee\\x95\\x0c&\\xd7L\\xeb@$\\x06\\x81\\xd6&\\xddV\\xc8\\x91\\xa1\\xb5I32!\\xf9\\xbf\\x139N\\xdd\\xb5\\xf6\\xa4\\xb5\\xf6X\\xb4v\\xfcfs\\xc7r\\xb6\\xc7\\x96A1H\\x84\\x81\\tI3\\xc9`r\\xcd\\xb4\\xael\\x04\\xc2\\xa5\\xb6\\xee\\xb6\\x1b\\xccAG\\x04\\x13\\x12\\x83ZK\\xed\\xa9\\xbb\\xd6\\x9e\\xb4\\xd6\\x9e\\x8a\\xd6\\x8eS\\xfb\\x1d\\xcb\\xc9\\n\\x890pa\\xd3\\xccf0\\xc9`r\\xcd4s\\xe4Xm\\xddm7\\x98\\x836\\x83\\t\\x89A\\xcd\\ti\\xe8\\x9e\\xa3\\xe8\\\\I\\x8e\\x8a\\xd5\\x8e\\x8f\\xd8\\xdc\\xb1\\xfc\\'8\\xea\\xf7\\x89A\\x18$\\xf2B\\x10$\\xf9:\\xc9`r\\xcd\\xb4NDb\\x10\\x9c\\x88D\\xba\\xc1i\\xc8zD\\x07kF&$\\x025\\'\\xa4\\xeeV{\\xd2V{*V;\\x1eRv\\xc7r\\xb2\\xa5\\x8d0xa3\\xa4\\xb6f\\x92\\xc1\\xe4\\x9ay\\xfbV\\x7f\\x81\\x1c!\\x84;\\x91t\\xb7\\xdd\\xf8\\x84\\x0e\\xd6\\x8cLH\\'\\xa4\\xf6\\xd4]jOZjOEj\\xc7\\xbf\\xb6w,g\\x176Cjkf3\\x98d0\\xb9f\\x9a\\x176\\xe7\\x04\\x12\\xd2\\r\\x9eA\"\\x0c\\xe6\\xe8\\xa1\\xaf~\\xcf\\xd1\\x89\\xbd\\xdaSw\\xa9=i\\xa9=\\x15\\xa9\\x1dg\\xf6;\\x96\\xc3w\\x96\\'\\xc6`\\x8e\\x0c\\xa7\\xad\\x99d0\\xb9f\\x9a9r\\x8e\\xd4\\xd6\\xddv\\x839h3\\x9c\\x8f\\x08\\xd4\\\\ uw\\xda\\x93v\\xdaSq\\xda\\xf1\\x04\\x8e;\\x96\\x93o\\xfe\\x9ay6\\x98\\xcd`\\x92\\xc1\\xe4\\x9ai\\xe6\\x08!\\xdc\\x19I\\xba\\xc1\\x866=\\xa2\\x83\\x8e\\x08\\xe7\\xa3\\x13J{\\xea\\xae\\xb4\\'\\xad\\xb4\\xa7\\xa2\\xb4\\xe3\\xcc~\\xc7r\\xdc\\xf6\\xf5\\xc4 \\x0c\\x92q\\xfe\\x08a\\xe01m\\xfd:\\xb9fZ\\x1b\\xda\\x08D.l\\xd8\\r\\x17\\xda\\xc6Vm6\"\\x9c\\x90Nl\\xd5\\x9e\\xba;\\xedI;\\xed\\xa98\\xed\\xb8\\x11\\xf5\\x8e\\xe5lB2\\xb6j\\xeb\\xd7\\xd9\\x0c&\\x19L\\xae\\x99\\xe6\\x84d\\xfcN\\xa4\\xd1m7\\x98\\x836\\xc3\\t\\xe9\\xc4V\\xed\\xa9\\xbb\\xd2\\x9e\\xb4\\xd2\\x9e\\x8a\\xd2\\x8e\\xbb\\xbe\\xeeX\\xcerD\\xf63\\xe3\\x84dl\\xd5\\xd6L2\\x98\\\\3\\xad{#\\x04\\xc23#\\xd9[\\x83 \\x19N\\x9b\\x8d\\x08\\'\\xa4\\x13N{\\xee\\xee\\xb4g\\xed\\xb4\\xa7\\xe2\\xb4\\xe3\\xbd\\xf1;\\x96\\xc3w\\x96\\'\\xc6@\\x8e4\\xb3\\x19L2\\x98\\\\3\\xad\\x0b\\x1b\\x81\\xf0\\xc2\\xa6\\xbb\\xed\\x06s\\xd0\\x11\\xc1\\x84\\xc4\\xa0\\xd6\\x844wW\\xda\\xb3V\\xdasQ\\xdaq\\xfb\\xc4\\x1d\\xcb\\xd9\\xcdZ\\x02a\\x90\\x0c\\xa7\\xad\\x99d0\\xb9fZW6\\x02\\xe1M6\\xddm7\\x98\\x83\\x8e\\x08\\x83tb\\xa7\\xf6<t\\x0fR4\\xae$H\\xc5iGcw\\xc7rre#\\x0c\\xac\\x90\\xf4\\xebl\\x06\\x93\\x0c&\\xd7L3G\\x04\\x82\\x15\\x92\\xee\\xb6\\x1b\\xccA\\x9ba\\x8e\\x08\\xd4\\xccQw\\xa5=k\\xa5=\\x17\\xa5=\\x83\\xd2\\x86r\\xa2\"\\t\\x83\\xf3\\x91\\xa1\\xb45\\x93\\x0c&\\xd7L3G\\x8e\\xd2\\xd6\\xddv\\x839\\xe8\\x88`\\x81\\xf4\\x18\\n9\\xea\\xae\\xb4g\\xad\\xb4\\xe7\\xa2\\xb4gP\\xdaP\\xce\\xe6#Ci\\x13\\x06n\\xb1\\xe9\\xd7I\\x06\\x93k\\xe6\\xed\\x92\\x05\\xcfD2\\x08~,Bw\\xdb\\r\\xe6`\\xcdH\\x8eN\\xec\\xd3\\x9e\\xbb+\\xedY+\\xed\\xb9(\\xed\\x19\\x946\\x94\\xb3\\xf9\\xc8P\\xda\\x9a\\xd9\\x0c&\\x19L\\xae\\x99\\xe6|\\xe4\\x9c>\\xa2\\xdf\\xfdn\\x8c\\xe8\\xa0#\\xc2\\xeb\\xda\\x89m\\xdasw\\xa5=k\\xa5=\\x17\\xa5=\\x83\\xd2\\x86r6\\x1f\\x19\\xbb\\xb4\\xf5\\xebl\\x06\\x93\\x8c^\\xb9f\\x9a9rN\\x1f!\\xdd\\xe0\\x87\\xb4\\xf5\\xa8\\x0f:\"\\x9c\\x8fN\\x1c>2wW\\xda\\xb3V\\xdasQ\\xda3(m(\\'\\xb7\\xfc\\t\\x83\\xf3\\x91\\xb1K[3\\xc9`r\\xcd\\xb46E2\\x08\\xbf\\xafI\\xc7\\xbe\\x1b#:X3\\x92\\xa3\\x13F{\\xeen\\xb4gm\\xb4\\xe7b\\xb4g0\\xdaP\\xce\\xaek\\xc6&m\\xcdl\\x06\\x93\\x0c&\\xd7LKD\\x12\\x08E$\\xe9\\x06\\xb7\\xfc\\xf5\\x88\\x0e:\"\\xcc\\xd1\\t\\xa3=w7\\xda\\xb36\\xdas1\\xda3\\x18m(g\\xd75\\xe3W\"\\t\\x03w\\xd8\\xf4\\xeb$\\x83\\xc95\\xd3\\xbc\\xae\\x91\\x03J\\xf0\\xbaf\\xfcJ\\xa4f\\x0e:\"\\xcc\\xd1\\t\\xa1\\xbdt\\x17\\xda\\x8b\\x16\\xdas\\x11\\xda3\\x08m(\\'\\xc7E\\x12\\x06r\\xa4\\x99\\xcd`\\x12c`}\\xb4\\x103\\x0c9\"\\x10\\xe6H\\x8fh7\\x98\\x83\\x8e\\x08r\\xf4\\x18\\n9\\xea.\\xb4\\x17-\\xb4\\x97\"\\xb4\\x17\\x10\\xdaPN\\xd6G\\x84\\xc1\\x1c\\x19>[3\\xc9`r\\xcd4s\\x84\\x10\\xc9\\x91\\xe1\\xb35s\\xd0\\x11\\xc1\\xf75\\x065s4t\\xcfQ\\xd4\\xad$G\\xc5g/\\xe0\\xb3\\xa1\\x9c\\\\\\xd74\\xf3\\xcc\\x18\\xf0G\\x84\\x81C\\xfet\\xaf\\\\3-\\x7f\\xc4 \\xf0G\\xba\\xdbn0\\x07kF\\xe6#\\x025\\xafk\\xdd}\\xf6\\xa2}\\xf6R|\\xf6\\x02>\\x1b\\xca\\xd9|d\\xf8l\\xcdl\\x06\\x93\\x0c&\\xd7\\xcc[Df\\xc8\\x11\\x81p>\\x926\\x7f7Ft\\xb0f$G\\'|\\xf6\\xd2\\xddg/\\xdag/\\xc5g/\\xe0\\xb3\\xa1\\x9c|_#\\x0c\\xe6\\xc8\\xd8\\xa2\\xad\\x99d0\\xb9f\\x9a\\xd75\\xe78m\\xddm7\\x98\\x836\\xc3\\x1c\\x9d\\xd8\\xa2\\xbdt\\xf7\\xd9\\x8b\\xf6\\xd9K\\xf1\\xd9\\x0b\\xf8l(g92|\\xb6f6\\x83I\\x06\\x93k\\xa6u~\\r\\x81\\xf0\\xe1l\\xddm7\\x98\\x835#9:\\xe1\\xb3\\x97\\xee>{\\xd1>{)>{\\x01\\x9f\\r\\xe5\\xb8K\\xed\\x89A\\x18$Chk&\\x19L\\xae\\x99\\xd6\\x0e$\\x02\\x91\\x856v\\x83\\xad\\xb5\\x84\\x81gF\\xd8\\x88p\\xa1}Bh/\\xdd\\x85\\xf6\\xa2\\x85\\xf6R\\x84\\xf6\\x02B\\x1b\\xca\\xd9B\\xdb\\x10\\xda\\x84\\xc1\\x85\\xb6q\\x9a\\xb6\\xee\\x95k\\xa6\\xb9\\xd0&\\x10.\\xb4\\r\\xa1\\xadGt\\xb0fdB:q\\xec\\xc8\\xd2]h/Zh/Eh/ \\xb4\\xa1\\x9c\\xe5\\xc8\\x10\\xda\\x84\\xc1\\x1c!\\x8392\\x84\\xf6\\x82f\\x98\\xe4\\x88@\\x98#c\\x8b\\xb6f\\x0e\\xd6\\x8c\\xe4\\xe8\\xc4\\xa9#Kw\\xa1\\xbdh\\xa1\\xbd\\x14\\xa1\\xbd\\x80\\xd0\\x86rza3\\x8c\\xb6f6\\x83I\\x06\\x93k\\xa6u\\x87\\x8dAp\\x87Mw\\xdb\\xe9G\\x04Az(\\xab\\xdf\\x83t\\xe24\\xedkw\\xa3}\\xd5F{)F{\\x01\\xa3\\r\\xe5?\\xfd\\x06\\x0e\\xf8#\\x0c\\xe4H3\\x9b\\xc1$\\x83\\xc95\\xf3\\xb6\\xf6\\x81;l\\x0c\\x82\\x05\\x12\\xe9\\x06\\x176=\\xa2\\x835\\xc3\\x1c1\\xa8\\x99\\xa3\\xeeF\\xfb\\xaa\\x8d\\xf6\\xb5\\x18\\xed+\\x18m(\\xc7/\\xc8O\\x0c\\xc2 \\x19J\\x9b5\\x83 I&\\xd7L\\xeb\\xab?\\x81\\xf0\\xb4\\x08=\\xea\\xdd`\\x0e:\"\\xb8\\xb2=\\x86B\\x90\\x86\\xeeA\\x8a\\xc6\\x95\\x04\\xa9(\\xed+(m(\\'\\xb7\\xd8\\x08\\x839\\x92\\xccf0\\xc9`r\\xcd\\xb4n\\xf9\\x13\\x08\\x8fA\\xd2\\xddv\\x839\\xe8\\x88pB\"P3G\\xdd\\x95\\xf6U+\\xedkQ\\xdaWP\\xdaPNV\\xda\\x9ayf\\x0c\\xac\\xb4\\xf5\\xeb$\\x83\\xc95\\xd3\\x9c\\x8f\\x10\\x8a\\xc7d~4\\xba\\xed\\x06s\\xd0\\x11a\\x8e\\x1eB!G\\xdd\\x95\\xf6U+\\xedkQ\\xdaWP\\xdaPNT$a0G\\x86\\xd2\\xd6L2\\x98\\\\3\\xcd\\x1c9\\xa7\\x8e\\xe8n;c\\xc0 \\xb1\\x11a\\x8eN(\\xedkw\\xa5}\\xd5J\\xfbZ\\x94\\xf6\\x15\\x946\\x94\\xb3\\xeb\\x9a\\xa1\\xb45\\xb3\\x19L2\\x98\\\\3\\xado\\xfe\\x0c\\x82o\\xfe\\xa4\\x1b.\\xb4\\r\\xa5M\\x9a\\x91\\xf5\\xd1\\t\\xa5}\\xed\\xae\\xb4\\xafZi_\\x8b\\xd2\\xbe\\x82\\xd2\\x86rv]3\\x8c6a\\xf0\\xbaf\\x18m\\xcd\\xe4\\x9ai}\\xf1g\\x10|\\xf1g\\xa3\\xc6\\t\\xc9\\xd8\\xa3M\\xba\\x91 \\x9d8v\\xe4\\xda]i_\\xb5\\xd2\\xbe\\x16\\xa5}\\x05\\xa5\\r\\xe5,H\\x86\\xd2&\\x0c\\x06\\xc9\\xd8\\xa3\\xad\\x99\\\\3\\xcd\\t\\xc9Q\\xda\\xba\\xdbn0\\x07kFrtBi_\\xbb+\\xed\\xabV\\xda\\xd7\\xa2\\xb4\\xaf\\xa0\\xb4\\xa1\\x9c\\xe5\\xc8P\\xda\\x84\\xc1\\x1c\\x19{\\xb45\\x93k\\xa6\\x99#Gi\\xebn\\xbb\\xc1\\x1c\\xac\\x19\\xc9\\xd1\\t\\xa5}\\xed\\xae\\xb4\\xafZi_\\x8b\\xd2\\xbe\\x82\\xd2\\x86r\\x96#dF\\xc8\\x91a\\xb45\\x93\\x0c&\\xd7Ls\\xa1\\xed\\x1c:B\\xba\\xe1\\x02\\xc9\\xd8\\xa3\\xcdF\\x849:a\\xb4\\xd7\\xeeF{\\xd5F\\xfbZ\\x8c\\xf6\\x15\\x8c6\\x94\\xb3[#\\x04\\x82\\tI3\\x9b\\xc1$\\x83\\xc95\\xf3\\xf6e\\x0c6\\x8f\\x10\\x08\\x7fjDw\\xdb\\r\\xe6`\\xcd\\xf0\\x1b\\x1b\\x83\\x9aA\\xea\\xae\\xb4W\\xad\\xb4\\xd7\\xa2\\xb4WP\\xdaPN\\xbe\\xb1\\x11\\x06sd\\x18m\\xcd$\\x83\\xc95\\xd3\\x9a\\x90\\x08\\x84\\xdf\\xfcu\\xb7\\x9d1p\\x8b\\x8d\\x8d\\x08&\\xa4\\xc7P\\xc8\\xd1\\xd0=GQ\\xb8\\x92\\x1c\\x15\\xa3\\xbd\\x82\\xd1\\x86rra\\xd3\\xcc\\xb3\\xc1l\\x06\\x93\\x18\\x03\\xc7\\xfbUL3G\\x08\\x91\\x1c\\xc9\\x11\\xed\\x06s\\xd0\\x11a\\x8e\\x1eB!G\\xdd\\x8d\\xf6\\xaa\\x8d\\xf6Z\\x8c\\xf6\\nF\\x1b\\xcaY\\x8e\\x0c\\xa3M\\x18Xhk&\\x19L\\xae\\x99f\\x8e\\x08t\\x83\\x1c\\x19\\x9b\\xb4\\xf5\\xbb?h3\\xcc\\xd1\\x89M\\xdakw\\xa3\\xbdj\\xa3\\xbd\\x16\\xa3\\xbd\\x82\\xd1\\x86r\\x96#i\\xbd\\x9f\\x8d\\xd7\\xd9\\x0c&\\x19L\\xae\\x99f\\x8e\\x9cM\\xda\\xba\\xdbn0\\x07m\\x869:a\\xb4\\xd7\\xeeF{\\xd5F{-F{\\x05\\xa3\\r\\xe5xC\\xf3\\x89A7\\x08\\x92\\xa1\\xb45\\x93\\x0c&\\xd7L\\xeb\\xa9\\x11\\x06\\xe1\\x85\\xcd\\xd8\\xa5\\xad\\x99\\x835#\\x0b\\xed\\x13J{\\xed\\xae\\xb4W\\xad\\xb4\\xd7\\xa2\\xb4WP\\xdaPN\\x8e\\x89$L\\xfc\\x94\\x9e\\x19\\x84A2\\x9c\\xb6fr\\xcd\\xb4vi\\x13\\x88\\xac\\x90\\x8c\\x1f\\x87$\\x0c\\xdccc#\\xc2 \\x9d\\xd8\\xa5\\xbdvW\\xda\\xabV\\xdakQ\\xda+(m(\\xc7o\\xd1O\\x0c\\xbaB\\x90\\x0c\\xa7M\\x18\\x0c\\x92\\xe1\\xb4W\"\\x871H\\xceI\\xda\\xba\\xdbn0\\x07\\x1d\\x11^\\xdaN\\x9c;\\xb2vw\\xda\\xabv\\xdakq\\xda+8m(g_\\xfd\\x91Y!G\\xc6\\xb9#\\x9aI\\x8c\\xc1\\xa5\\xb6s\\x926\\x81\\xf0\\xf9#=\\xa2\\xdd`\\x0e:\"\\xcc\\xd1\\x89sG\\xd6\\xeeN{\\xd5N{-N{\\x05\\xa7\\r\\xe5p\\xa2\\xd4\\x13c\\xf0+\\x9b\\xe1\\xb4\\t\\x83_\\xd9\\x0c\\xa7\\xbd:N\\x9b@d>2vi\\xebQ\\x1ftDxa;\\xe1\\xb4o\\xdd\\x9d\\xf6M;\\xed\\xb58\\xed\\x15\\x9c6\\x94\\x93\\xf9\\x880\\x90#\\xcdl\\x8c\\x81\\x1c\\xe9\\xd7\\xc95\\xd3\\xba\\xae\\x11\\x08s\\xa4\\xbb\\xed\\x06s\\xd0\\x11\\xc1|\\xf4\\x18\\n9\\xea\\xae\\xb4oZi\\xdf\\x8a\\xd2\\xbe\\x81\\xd2\\x86r\\xf2\\xd5_3\\xcf\\x06\\xb3\\x19L2\\x98\\\\3\\xad\\xf9\\x88@$G\\x86\\xd2\\xd6\\xccAG\\x849:\\xa1\\xb4oC\\xf7\\x1cE\\xe3JrT\\x94\\xf6\\r\\x946\\x94\\xe3\\x9f\\xc9\\x13\\x830H\\x92\\xd9\\x0c&\\x19L\\xae\\x99f\\x90\\x08\\x04\\x0eIw\\xdb\\r\\xe6\\xa0\\xcd0H\\x0f\\xa1\\x10\\xa4\\xeeN\\xfb\\xa6\\x9d\\xf6\\xad8\\xed\\x1b8m(\\'\\x8f\\x1f\\x11\\x06sd\\x1c<\\xa2\\x99d0\\xb9fZ\\xbb\\xd9\\x18\\x04\\xbb\\xd9t\\xb7\\xdd`\\x0e\\xd6\\x8c\\xe4\\xe8\\x84\\xd3\\xbeuw\\xda7\\xed\\xb4o\\xc5i\\xdf\\xc0iC9\\xbb\\xb0\\x19\\xbb\\xb45\\xb3\\x19Lb\\x0c\\xdcc\\xbb9N\\x9b@\\xf1\\xc7\\xc1>\\x1a#\\xda\\x19\\x03\\x0bm6\"\\xcc\\xd1\\t\\xa7}\\xeb\\xee\\xb4o\\xdai\\xdf\\x8a\\xd3\\xbe\\x81\\xd3\\x86r\\x96#d&\\xc8\\x91\\xa1\\xb4\\t\\x03\\xcfg\\xeb\\xd7\\xc95\\xf3\\xb6\\xf6\\x81\\xcdl\\x04\\x1a\\xe1)6\\xddmg\\x0c\\xe6\\xc8\\xd9\\xa5\\xfd\\x18\\n9\\xea\\xae\\xb4oZi\\xdf\\x8a\\xd2\\xbe\\x81\\xd2\\x86r\\xba@2\\xb6ikf3\\x98d0\\xb9f\\xde\\xf6\\x17\\xe176Gi\\xebn\\xbb\\xc1\\x1c\\xac\\x19\\t\\xd2\\t\\xa5}\\xeb\\xae\\xb4oZi\\xdf\\x8a\\xd2\\xbe\\x81\\xd2\\x86r6!\\x19\\xbb\\xb45\\xb31f\\x82\\x1c\\x91\\x1f\\xab\\x84\\x1c\\x115\\x8c\\x176\\xc7h\\xebQ\\xef\\x06s\\xd0\\x11a\\x8eN\\xec\\xd2\\xbeu7\\xda7m\\xb4o\\xc5h\\xdf\\xc0hC9\\xcb\\x91\\xb1K[3\\x1bc\\xd0 \\x19F\\xfb\\x86j8\\xfe\\x84\\xcao\\x19Drd\\x18m\\xcd\\x1c\\xac\\x19\\xc9\\xd1\\x89]\\xda\\xb7\\xeeF\\xfb\\xa6\\x8d\\xf6\\xad\\x18\\xed\\x1b\\x18m(\\'\\xf7j\\t\\x8392\\x8c\\xb6f\\x12c0GDVc\\x8e\\x08\\x84\\x0b$\\xc3hk\\xe6`\\xcdH\\x8e|\\xa3=}\\xe8m\\xb4_;\\xaa\\x1c\\x15\\xa3}\\x8bF\\x1b\\xcbq>bL\\xdc\\x84d0\\x1bc\\xc2\\x1f\\x7f2\\xc6\\x93k\\xa6\\xf1\\xd4\\x08\\x85\\xe2S#F\\xb7\\xddxg\\x07k\\x069\\x12P\\xc8Qo\\xa3\\xfd\\xda\\xf1q\\x8e^\\xde\\xc0[\\x8e^\\xff)\\xe4H\\x1bm\\x83yf\\x0c\\xe6H\\x1f;b\\xf4\\xca5\\xd3X\\x1f1\\x08\\xaekF\\xb7\\xdd`\\x0e:\"\\xcc\\xd1\\xc3\\xe3\\xb6C\\x8e\\x86\\xee9\\x8a\\xbe\\x95\\xe4\\xe8Rr\\x14\\x8d6\\x96\\xb3\\x1cI\\xe6\\x991\\xf1\\x17\"\\x8c\\xd7I\\x06\\x93k\\xa6\\x99#\\x84\\xe0\\xb8\\x08\\xa3\\xdbn0\\x07\\x1d\\x11\\xe6\\x88@\\xcd\\x1c\\xf5\\x16\\xda\\xaf\\x1dU\\x8e\\x86\\x92\\xa3(\\xb4\\xb1\\x1cO\\xd2f\\x0c\\xe6H\\x0bm\\x83I\\x06\\x93k\\xa6\\x99#\\xe3$m\\xa3\\xdb\\xce\\x18\\xbc\\xae\\x19B[@!G\\xbd\\x85\\xf6kG\\x95\\xa3\\xb1\\xe4(\\nm,g\\xf3\\x91\\x16\\xda\\x8c\\xc1\\xeb\\x9a\\x94\\xd5\\xc9\\xe8\\x95k\\xa6\\xb9>2~\\x19\\xd2\\xe8\\xb6\\x1b\\xef\\xec`\\xcdH\\x8e|\\xa1=}\\xe8-\\xb4_;\\xaa\\x1cM%GQhc9y\\x1a\\x92A\\x18$m\\xb4\\r&\\x19L\\xae\\x99\\xe6\\x84d\\xfc4\\xa4\\xd1m\\xa7\\x1f\\x11\\x04\\xc90\\xda\\x02\\nA\\xeam\\xb4_;\\xaa \\xcd%H\\xd1hc9\\x9b\\x90\\xb4\\xd0f\\xcc\\x089\\xd2B\\xdb`r\\xcd4sd\\x08mc\\xd4\\xbb1\\xa2\\x83\\x8e\\x08s\\xe4\\x1f;2}\\xe8-\\xb4_;\\xaa\\x1c-%GQhc9nec\\x0c\\xe6H\\x0bm\\x83I\\x06\\x93k\\xa6\\x99#\\x02\\xc5\\x9d#F\\xb7\\xdd`\\x0e\\xda,n\\x89\\xa4Ps>\\xea-\\xb4_;\\xaa\\x1c]K\\x8e\\xa2\\xd0\\xc6r\\x98\\xb5\\x9f\\x18\\x839\\xd2B\\x9b1\\x0b\\xe4\\x88\\x8c\\'\\x9a\\xc8\\x1aj\\x06\\xc90\\xda\\xc6\\xb0w\\x839\\xe8\\x88pB\\xf2\\xf7hO\\x1fz\\x1b\\xed\\xd7\\x8e*Hk\\tR4\\xdaX\\x8e[\\x90\\x183@\\x90\\xb4\\xd16\\x98d0\\xb9f\\x9a9\"F;n\\x1d1\\xba\\xed\\x06s\\xd0\\x11\\xe1\\x84t\\xc2h_\\xba\\x1b\\xed\\x8b4\\xda/o\\xa0\\xe4\\x08\\x8c6\\x94\\xbfP0#\\x11\\x08f$\\xcdl\\x06\\x93\\x0c&\\xd7\\xcc\\xdb\\x9fH<\\xb9\\x96Apr\\xad\\xd1mg\\x0c\\xac\\xb4\\xd9\\x88 H\\x0cj\\x06\\xa9\\xbb\\xd2\\xbeh\\xa5})J;~\\x1b\\xbbc9^I\\x9e\\x18\\x84A\\xd2\\xbb\\xb4\\r&\\x19L\\xae\\x99f\\x90\\x10\\x82\\x93\\x90\\xe8\\xdb\\x87 \\x19N\\x9b\\x8d\\x08\\x83t\\xc2i_\\x86\\xeeA\\x8a\\xca\\x95\\x04\\xa98\\xed\\x98\\x91;\\x96\\x13\\x17I\\x98\\xf8\\x14\\x1bc0G\\x92I\\xc6xr\\xcd\\xb4\\xael\\x04\"\\x13\\x12v\\xbbA\\x8e\\xe4\\xa8\\x0f:\"X!1\\xa8\\x99\\xa3\\xeeN\\xfb\\xa2\\x9d\\xf6\\xa58\\xed\\xf8\\x90\\xce\\x1d\\xcb\\x99C\"\\x10NH\\x86\\xd4\\xd6L2\\x98\\\\3\\xcd !\\x84Km\\xf6\\xf6\\xe3\\xef\\xb0\\x1bC:\\xe8\\x900I\\xfea\\xda\\xd3\\xa5\\xbb\\xd5\\xbeh\\xab})V\\xfb\\x02V\\x1b\\xcaq\\xeb\\xfc\\x13\\x83\\xe0\\xb6?a0Iz\\x9f\\xb6\\xc1\\xe4\\x9ai&\\xc9\\xd8\\xa7\\xcd\\xba]!H\\x86\\xd6f#\\xc2 =<r;\\x04\\xa9\\xbb\\xd6\\xbeh\\xad})Z;\\xbe\\xb9;\\x96\\x13\\x1bI\\x18\\xcc\\x91a\\xb55\\x93\\x0c&\\xd7L\\xe3\\xb9\\x11\\n\\xc5\\xe7FX\\xb7\\x15r\\xa4\\x8f\\x1ea\\xcdH\\x8eNX\\xedKw\\xab}\\xd1V\\xfbR\\xacv\\x9c\\xb6\\xefX\\x8ew\\xa3\\x9e\\x18\\x84\\x976\\xbdO\\xdb`\\x92\\xc1\\xe4\\x9ai\\xecg\\xa3P\\xdc\\xcfft\\xdb\\r\\xe6`\\xcd\\xc8Z\\xfb\\x84\\xd6\\xbet\\xd7\\xda\\x17\\xad\\xb5/Ek\\xc7\\xf9\\xff\\x8e\\xe5([\\x9e\\x18\\x84A2\\xbc\\xb6f\\x92\\xc1\\xe4\\x9ai<9\\xc2\\xa0\\x19\\x83dxm\\xcd\\x1c\\xac\\x19\\t\\xd2\\t\\xaf}\\xe9\\xee\\xb5/\\xdak_\\x8a\\xd7\\x8ew\\x08\\xeeX\\xce\\xael\\xc45\\xc7G\\x90\\x8c\\x17\\xda\\x18\\x03w\\xfe\\xf5\\xeb\\xe4\\x9ai.\\x91\\x10\"\\xdf\\xfe\\r\\xaf\\xad\\x99\\x83\\x8e\\x08/m\\'\\xbc\\xf6\\xa5\\xbb\\xd7\\xbeh\\xaf})^;\\xca\\x96;\\x96\\xe3_\\xa5\\'\\x06\\xe1\\x8cd\\x88m\\xcd$\\x83\\xc95\\xd384\\x82A\\xe3\\x08A2\\xc4\\xb6f\\x0e:\"\\x9c\\x91N\\x88\\xed\\xa1\\xbb\\xd8\\x1e\\xb4\\xd8\\xbe\\x14\\xb1\\x1dO\\xde\\xbcc9\\xde\\xd8|b\\x10\\x04I3\\x9b\\xc1$\\x83\\xc95\\xd3\\x9a\\x91\\x18\\x14\\x0f\\x1e5\\xba\\xed\\x06s\\xd0f0#1\\xa8\\xb5F\\x1a\\xba\\x8b\\xedA\\x8b\\xed\\xa1\\x88\\xed\\x01\\xc46\\x94\\x93K\\x1ba\\xe21\\x7f\\xc6\\xebl\\x06\\x93\\x0c&\\xd7L\\xcbk3\\x08sd\\xec\\xd5\\xd6\\xccA\\x9b\\xc1\\x84\\xf4\\x18\\n9\\x1a\\xba\\xe7(jW\\x92\\xa3\\xe2\\xb5\\xa3\\xd9\\xbdc9\\xcb\\x91d\\x9e\\x19\\x03{#\\t\\x03+$\\xcd\\xe4\\x9ai\\xceG\\x04\\x82-$\\xa4\\xdb\\x049\\x92\\xef\\xfe\\xa0\\xcdp>z\\x08\\x85\\x1cu\\xf7\\xda\\x83\\xf6\\xdaC\\xf1\\xdaQ\\xa3\\xdc\\xb1\\x9c\\xe5H\\xeeV~6^g3\\x98d0\\xb9fZ\\x0b$\\x02\\xa1\\xd6\\xd6\\xddv\\x839\\xe8\\x88p>:\\xb1W{\\xe8n\\xb5\\x07m\\xb5\\x87b\\xb5\\xa3\\xb3\\xbbc9\\xd9\\xd2F\\x18\\x9c\\x8f\\x0c\\xa9\\xad\\x99d0\\xb9f\\x9a\\xf3\\x91\\xf1\\x13\\x91F\\xb7\\xdd`\\x0e:\"\\xcc\\xd1\\t\\xa9=t\\x97\\xda\\x83\\x96\\xdaC\\x91\\xda\\x03Hm(g\\xdf\\xd8\\x08\\x84A2\\xac\\xb6f\\x92\\xc1\\xe4\\x9aiNH\\xce^m\\xddm7\\x98\\x83\\x8e\\x08/l\\'\\xac\\xf6\\xd0\\xddj\\x0f\\xdaj\\x0f\\xc5j\\xc7\\xf3\\xcb\\xefX\\x8e\\xc7\\x8e2\\x06sdHm\\xc2\\xc0C\\x91\\xfaur\\xcd\\xbc\\xdd\\xf8\\x88\\xbf\\x80\\xc4 \\x92#Cjk\\xe6`\\xcdH\\x8e\\xfc\\xc3G\\xa6\\xa1\\xbb\\xd4\\x1e\\xb4\\xd4\\x1e\\x8a\\xd4\\x8e\\x8fs\\xdd\\xb1\\x9c-\\x90\\xe4~\\xeeg\\xc6\\xc0C\\x91\\x84\\x89\\x87\\x8f0\\x06\\xb6\\xd8\\x0e(\\x87\\xf1!$\\x06\\xc1CH\\xba\\xdbn0\\x07kFrt\\xc2i\\x0f\\xdd\\x9d\\xf6\\xa0\\x9d\\xf6P\\x9cv\\xfc\\xb8\\xefX\\xce\\x16H\\xc6^m\\xfd:\\x9b\\xf1:\\xc9`r\\xcd4\\xbf\\xf8\\x1b\\xc7i\\x1b\\xddv\\xc6`\\x8e\\x1c\\xa5\\xfd\\x18\\n9\\xea\\xae\\xb4\\x07\\xad\\xb4\\x87\\xa2\\xb4\\xe3\\xdf\\xc8;\\x96\\x93\\xad\\xda\\x84\\xc1\\x1c\\x19F[3\\xc9`r\\xcd4\\x17\\xda\\x08\\xcdpkDw\\xdb\\x19\\x13\\x7f\\'\\x82\\x8e\\x08st\\xc2h\\x8f\\xdd\\x8d\\xf6\\xa8\\x8d\\xf6P\\x8cv\\\\F\\xdc\\xb1\\x1c}\\xdd\\x13\\x83 H\\x9a\\xd9\\x0c&\\x19L\\xae\\x99\\xb7\\x8c@\\x90\\x08\\x84\\x0b$\\xddm7\\x98\\x835\\xc3ol\\x0cj\\x06\\xa9\\xbb\\xd1\\x1e\\xb5\\xd1\\x1e\\x8b\\xd1\\x8e\\x1b\\xba\\xeeXN\\x16H\\x84\\x81\\x05\\x92~\\x9d\\xcd`\\x92\\xc1\\xe4\\x9ay\\xbb{\\x06\\x0bm\\x02\\xe1\\x85Mw\\xdb\\x19\\x03\\x176\\xd2\\x8c\\xe4\\xc8?O{\\x1a\\x87\\xee9\\x8a\\xc2\\x95\\xe4\\xa8\\x18\\xed\\x11\\x8c6\\x94\\x93\\x87\\xd9\\x08\\x83\\xf3\\x91d6\\x83I\\x06\\x93k\\xa6\\xb5@\"\\x10\\xee\\xd4\\xd6\\xddv\\x839\\xe8\\x880G\\x04j\\xe6\\xa8\\xbb\\xd1\\x1e\\xb5\\xd1\\x1e\\x8b\\xd1\\x1e\\xc1hC9{t\\x84@\\x18$Cik&\\x19L\\xae\\x99\\xd6\\n\\x89@\\xe4\\xc2f(m\\xc2\\x8c\\x10$Gi3\\xa8\\x19\\xa4\\xeeJ{\\xd4J{,J;\\xee\\x9e\\xb8c9\\r\\x92\\xb1Q\\x9b0\\x18$\\xf9:\\xc9x\\x9d\\\\3\\xcd 9N[w\\xdb\\r\\xe6\\xa0#\\x82\\xa5\\xf6c(\\x04\\xa9\\xbb\\xd3\\x1e\\xb5\\xd3\\x1e\\x8b\\xd3\\x8eGJ\\xdf\\xb1\\x9c]\\xd9\\x0c\\xa5\\xad\\x99\\xcd`\\x92\\xc1\\xe4\\x9ai\\xe6\\xc8Q\\xda\\xba\\xdbn0\\x07\\x1d\\x11NH\\'\\x94\\xf6\\xd8]i\\x8fZi\\x8fEi\\xc7}\\x81w,g92\\x94\\xb6f6\\x83I\\x06\\x93k\\xa6\\x99#\\x02\\xc1=\\x7f\\xd2m\\x80\\x1c\\x19J\\x9b5\\xc3\\xf9\\xe8\\x84\\xd2\\x1e\\xbb+\\xedQ+\\xed\\xb1(\\xedx\\xd2\\xdd\\x1d\\xcb\\xd976c\\x9b6a`\\xef\\x88~\\x9dd0\\xb9f\\x9a9\"\\xdb\\xb41G\\xc66m\\xcd\\x1ctD\\x98#\\xff<\\xedi\\xec\\xae\\xb4G\\xad\\xb4\\xc7\\xa2\\xb4GP\\xdaP\\xcerd(m\\xcdl\\x8c\\x81=H\\xfaur\\xcd\\xb4n\\x8d0\\x08n\\x8d\\xe8n\\xbb\\xc1\\x1c\\xac\\x19\\xc9\\x91\\x7f\\x9e\\xf64vW\\xda\\xa3V\\xdacQ\\xda#(m(g92N\\x1f\\xd1\\xaf\\xb3\\x19L2\\x98\\\\3\\xad\\xc7F\\x08\\x84\\x8f\\x8d\\x90n\\xf0 \\x9b\\x1e\\xd1\\xc1\\x9a\\x91\\xf5\\xd1\\t\\xa5=uW\\xda\\x93V\\xdacQ\\xdaQ\\xd8\\xdd\\xb1\\x1c\\x1e-}b\\x0c\\xccG\\x9a\\xd9\\x0c&\\x19L\\xae\\x99\\xd6u\\x8d@qg\\xf1G\\xa3\\xdbn0\\x07\\x1d\\x11\\xe4\\x88A\\xcd\\x1cu7\\xda\\x936\\xdaS1\\xda\\xd1\\xe9\\xde\\xb1\\x9c\\xac\\xb3\\t\\x8392\\x8c\\xb6f\\x92\\xc1\\xe4\\x9ai\\xe6\\xc89O[\\xbf\\xfb\\xdd\\x18\\xd1AG\\x04\\xd7\\xb5\\xc7P\\xc8\\xd1\\xd0=GQ\\xb8\\x92\\x1c\\x15\\xa3\\x1d\\x0f:\\xbac\\xf9\\xcb_[\\xd8\\xcbF \\x0c\\x92d6\\x83I\\x06\\x93k\\xa6\\x19$\\x02\\xc1B\\x9bt\\xc3 \\xc9\\x11\\x1d\\xb4\\x19\\x06\\xe9!\\x14\\x82\\xd4]iOZiOEiO\\xa0\\xb4\\xa1\\x1c?\\x81\\'\\x06a\\x90\\x0c\\xa5\\xad\\x99d0\\xb9f\\x9aA\"\\x10\\x06\\xc9P\\xda\\x9a9h3\\xbc\\xb2\\x9dP\\xdaSw\\xa5=i\\xa5=\\x15\\xa5\\x1d\\x1f\\x88\\xbfc9\\xbb\\xb2\\x19\\xbb\\xb45\\xb3\\x19L2\\x98\\\\3\\xcd\\x1c\\x11\\x08sd\\x18m\\xcd\\x1c\\xb4\\x19NH\\'\\x8c\\xf6\\xd4\\xddhO\\xdahO\\xc5h\\xc73\\x13\\xeeX\\x8e\\'t<1\\x08\\x83d(m\\xcd$\\x83\\xc95\\xd3\\xda\\xa5M \\xb2D\"B\\x1f\\x9e?\\xd2C:\\xe8\\x900I\\'\\x9c\\xf6\\xd4\\xddiO\\xdaiO\\xc5iO\\xe0\\xb4\\xa1\\x9c\\x9c\\xcfF\\x18\\x0c\\x92t\\xe3\\x9b\\xf1:\\xc9`r\\xcd4\\x83\\xe4l\\xd3\\xd6\\xddv\\x839\\xe8\\x880G\\'\\x9c\\xf6\\xd4\\xddiO\\xdaiO\\xc5i\\xc7O\\xf2\\x8e\\xe5\\xc4!i\\xe6\\x991\\x98#\\xc3ik&\\xd7L3G\\xc6oD\\x1a\\xddv\\x839\\xe8\\x880G\\'\\x9c\\xf6\\xd4\\xddiO\\xdaiO\\xc5iGew\\xc7r\\xfc\\xb8\\x9f\\x18\\x84A2\\xa4\\xb6f\\x92\\xc1\\xe4\\x9ai\\x06\\xc99R\\x9bt\\x83c\\xfe\\xf4\\x88\\x0e:\"\\x0c\\xd2\\x89}\\xdaSw\\xa9=i\\xa9=\\x15\\xa9=\\x81\\xd4\\x86rvb\\x04\\x810H\\x86\\xd5\\xd6L2\\x98\\\\3\\xcd \\x11\\xf5\\x8dA26j\\xb3\\x8f\\x08\\x82\\xe4X\\xed\\xc7P\\x1d\\xa4\\xb9\\xbb\\xd5\\x9e\\xb5\\xd5\\x9e\\x8a\\xd5\\x9e\\xc0jC9\\xb9\\xb2\\x11\\x06\\xee\\x8e\\xe8\\xd7\\xd9\\x0c&\\x19L\\xae\\x99\\xd6w6\\x02\\xa1\\xd5&\\xdd@\"\\xe9\\x11\\x1dtD\\x90\\xa3\\xc7P\\xc8Qw\\xab=k\\xab=\\x17\\xab=\\x83\\xd5\\x86r\\x96#d0G\\x86\\xd5&\\x0c\\xecf\\xd3\\xaf\\x93k\\xa6\\x99#\\x84H\\x8e\\x8c}\\xda\\x9a9\\xe8\\x88\\xe0\\xc2\\xc6\\xa0f\\x8e\\x86\\xee9\\x8a\\xce\\x95\\xe4\\xa8X\\xed\\x19\\xac6\\x94\\xe3\\xc9SO\\x0c\\x82\\x0b\\x1ba`\\xa9\\xad_\\'\\x19L\\xae\\x99\\xd6m\\x7f\\x06\\xc1m\\x7f\\xddm7\\x98\\x835#A\"P3H\\xdd\\xad\\xf6\\xac\\xad\\xf6\\\\\\xac\\xf6\\x0cV\\x1b\\xca\\x89\\x8c$\\x0c\\xe6\\xc8\\x90\\xda\\x9aI\\x06\\x93k\\xa69!!\\x84?7\\xaa\\xbb\\xed\\x06s\\xd0\\x11a\\x8eNH\\xed\\xb9\\xbb\\xd4\\x9e\\xb5\\xd4\\x9e\\x8b\\xd4\\x9eAjC9\\xbb\\xb0\\x19\\xdb\\xb4\\xf5\\xebl\\x06\\x93\\x0c&\\xd7L3G\\xe4<mx\"\\x92t\\x83_e#\\x0c<\\x11\\xc9F\\x849:q\\xf4\\xc8\\xdc]j\\xcfZj\\xcfEj\\xc7\\x8d8w,\\'\\'F\\x10\\x06\\xe7#\\xc3ik&\\x19L\\xae\\x99\\xb7\\xefb\\xf0 \\x1b\\x81\\xe2\\xf2\\xf0\\xa3\\xd1mg\\x0c<7B\\x9a\\x91\\x85\\xf6\\t\\xa5=wW\\xda\\xb3V\\xdasQ\\xda\\xf1\\x19\\xe5;\\x96\\xb3\\xeb\\x9a\\xa1\\xb45\\xb3\\x19L2\\x98\\\\3\\xcd\\xf9\\xc8Q\\xda\\xba\\xdbn0\\x07\\x1d\\x11\\xceG\\'\\x94\\xf6\\xdc]i\\xcfZi\\xcfEi\\xc7\\xe7\\x98\\xefX\\x8ek\\xd6\\'\\x06a\\x90\\x8c\\xe3\\xb45\\x93\\x0c&\\xd7L\\xeb\\x89H\\x02\\xe1\\x13\\x91\\xba\\xdbn0\\x07\\x1d\\x11NH\\'\\x8e\\x1e\\x99\\xbb;\\xedY;\\xed\\xb98\\xed\\xb8\\xe3\\xfd\\x8e\\xe5\\xe4\\xc8\\x08\\xc2`\\x8e\\x0c\\xa5\\xad\\x99d0\\xb9fZG!\\x11\\x88LH\\xf2\\xc0\\x94\\xdd\\x18\\xd1\\xc1\\x9a\\x91\\x1c\\x9d\\xd8\\xa7=wW\\xda\\xb3V\\xdasQ\\xda3(m(gJ\\x9b@\\x18$)~7\\xe3u\\x92\\xc1\\xe4\\x9ai~\\xf3\\'\\x10~\\xf37\\x94\\xb6f\\x0e\\xd6\\x8c\\x04\\xe9\\x84\\xd2^\\xba+\\xedE+\\xed\\xb9(\\xed\\x19\\x946\\x94\\xb3 \\x11\\x08\\x82\\xa4\\x99\\xcd`\\x92\\xc1\\xe4\\x9ai-\\x91\\x08\\x843\\x92\\xee\\xb6\\x1b\\xccAG\\x04K\\xa4\\xc7P\\x08Rw\\xa7\\xbdh\\xa7\\xbd\\x14\\xa7\\xbd\\x80\\xd3\\x86\\xf2\\x9f\\xc8\\xaf\\xb2\\x11\\x08\\x83dHm\\xcd$\\x83\\xc95\\xf3\\xf6u\\xec\\x02Ar\\xb6j\\xb3\\xb7\\x0fA2\\xa46i\\x863\\x12\\x83\\x9aA\\x1a\\xba\\x07)*W\\x12\\xa4\"\\xb5\\x17\\x90\\xdaPN\\xb6!\\x11&\\x86\\xed\\x99A\\x18$\\xc9$c@\\xb9fZwk\\tD\\x82$G\\xb4\\x1b\\xccAG\\x843\\x12\\x81\\x9a\\x97\\xb6\\xeeR{\\xd1R{)R{\\x01\\xa9\\r\\xe5DFj\\xe6\\x991\\xb0D\\xd2L2z\\xe5\\x9ai^\\xd9\\x9c\\x9d\\xda\\xba\\xdbn0\\x07m\\x869:\\xf1+\\x91Kw\\xa9\\xbdh\\xa9\\xbd\\x14\\xa9\\xbd\\x80\\xd4\\x86r\\x96#c\\xa7\\xb6f6\\x83I\\x06\\x93k\\xa6\\x99#\\x84\\xe27\\x8d\\x8fF\\xb7\\x9d1\\xb0{\\x84\\x8d\\x08stBj/\\xdd\\xa5\\xf6\\xa2\\xa5\\xf6R\\xa4\\xf6\\x02R\\x1b\\xcaY\\x8e\\x0c\\xa9M\\x188\\xbeV\\xbfN2\\x98\\\\3\\xcd\\x1c9\\x1b\\xb5u\\xb7\\xdd`\\x0e:\"\\xcc\\xd1C\\xf3\\x1dr\\xd4]j/Zj/Ej/ \\xb5\\xa1\\x1c\\x95\\xdd\\x13\\x830H\\x86\\xd5\\xd6L2\\x98\\\\3\\xcd\\x05\\x12B\\xf8\\xab\\xb5\\xec\\xedC\\x90\\x0c\\xab\\xcdF\\x84A:a\\xb5\\x97\\xeeV{\\xd1V{)V{\\x01\\xab\\r\\xe5lB2\\xa4\\xb6f6\\x83I\\x06\\x93k\\xa6\\xe5\\x90\\x18\\x84\\x176Cjk\\xe6`\\xcdH\\x8eNl\\xd4^\\xbaK\\xedEK\\xed\\xa5H\\xed\\x05\\xa46\\x94\\xe3q\\xc1O\\x0c\\xc2 \\x19V[3\\xc9`r\\xcd4\\xafl\\xe47\"\\xf1\\xcaf\\x9c>\\xa2\\x99\\x83\\x8e\\x08\\xbf\\xfa\\x9f\\xd8\\xa8\\xbdt\\xb7\\xda\\x8b\\xb6\\xdaK\\xb1\\xda\\x0bXm(g\\x13\\x92!\\xb55\\xb3\\x19Lb\\x0c\\x1c\\xf0\\xbf\\xa0\\x1d\\x8e\\x96\\xf5\\xb7\\x0c\\x8a\\x06\\xed\\xa31\\xa2\\xdd`\\x0e\\xd6\\x8c\\xe4\\xe8\\xc4\\xe9#\\xd7\\xeeR\\xfb\\xaa\\xa5\\xf6R\\xa4\\xf6\\x02R\\x1b\\xcaI\\x8e4\\xf3\\xcc\\x18\\xf8\\xe6\\xaf\\x99d\\xf4\\xca5\\xd3\\xba\\xb01\\x08.l\\xba\\xdbn0\\x07k\\x86\\x176\\x06\\xb5.l\\xd7\\xeeN\\xfb\\xaa\\x9d\\xf6\\xb58\\xed+8m(g92\\x94\\xb6f6\\x83I\\x06\\x93k\\xa6u]#\\x10~c\\xd3\\xddv\\x839\\xe8\\x880G\\'\\xf6i_\\x87\\xee9\\x8a\\xc2\\x95\\xe4\\xa8(\\xed+(m(g9\\x92\\xcc\\xb3\\xc1l\\x06\\x93\\x0c&\\xd7L3G\\x04\\x02\\x13\\xa9\\xbb\\xed\\x06s\\xd0fp]cP\\xf3\\xba\\xd6\\xddh_\\xb5\\xd1\\xbe\\x16\\xa3}\\x05\\xa3\\r\\xe5\\xec\\x1e\\x1b\\x810H\\xc6>m\\xcd$\\x83\\xc95\\xd3\\x0c\\x92s\\x9e\\xb6\\xee\\xb6\\xd3\\x8f\\x08\\x82\\xe4\\x1c>\\xc2\\xa0f\\x90\\xba+\\xed\\xabV\\xda\\xd7\\xa2\\xb4\\xaf\\xa0\\xb4\\xa1\\x9clC\"\\x0c\\xe6\\xc8P\\xda\\x9aI\\x06\\x93k\\xa6\\xb5\\x9d\\x8d@\\xf1\\x0c\\x9f\\x8fF\\xb7\\x9d1\\x98#\\xe7\\'\"\\x19\\xd4\\xccQw\\xa5}\\xd5J\\xfbZ\\x94\\xf6\\x15\\x946\\x94\\x93\\xfd\\xb5\\x84\\xc1\\x1c\\x19\\xfb\\xb45\\x93\\x0c&\\xd7Ls>r\\x94\\xb6\\xee\\xb6\\x1b\\xccAG\\x849:\\xb1O\\xfb\\xda]i_\\xb5\\xd2\\xbe\\x16\\xa5}\\x05\\xa5\\r\\xe5,G\\x86\\xd1\\xd6\\xccf0\\xc9`r\\xcd4\\xe7#\\x02\\xc1O\\xb1\\xebn\\xbb\\xc1\\x1c\\xb4\\x19.\\xb4O\\x18\\xedkw\\xa3}\\xd5F\\xfbZ\\x8c\\xf6\\x15\\x8c6\\x94\\xb3\\x1c\\x19F[3\\x9b\\xc1$\\x83\\xc95\\xf36\\xd5\\x8c\\x90#\\x02\\xc1\\xf1\\xb5\\xa4\\x1b\\xdc\\x19\\xd1#:X3\\x92\\xa3\\x13\\xdb\\xb4\\xaf\\xdd\\x8d\\xf6U\\x1b\\xedk1\\xdaW0\\xdaP\\xce\\xbe\\xb0\\x19B[3\\x9b\\xc1$\\x83\\xc95\\xd3\\xba\\xc3F r]\\x93\\x07|\\xef\\xc6\\x88\\x0e:\"\\xbc\\xae\\x9d\\x10\\xda\\xd7\\xeeB\\xfb\\xaa\\x85\\xf6\\xb5\\x08\\xed+\\x08m(g\\xf3\\x91!\\xb45\\xb3\\x19L2\\x98\\\\3\\xcd\\xf5\\x91s\\xf0\\x88\\xee\\xb6\\x1b\\x9f\\xd0AG\\x84\\xf3\\xd1\\t\\xa1\\xbdv\\x17\\xda\\xab\\x16\\xda\\xd7\"\\xb4\\xaf \\xb4\\xa1\\x9c\\xe4\\x880\\x90#\\xcdl\\x06\\x93\\x0c&\\xd7L+G\\x0c\\x02\\x81\\xa4\\xbb\\xed\\x06s\\xd0f\\x90\\xa3\\xc7P\\xc8Qw\\xa1\\xbdj\\xa1\\xbd\\x16\\xa1\\xbd\\x82\\xd0\\x86r\\x96#Chkf3\\x98d0\\xb9f\\x9a9\"\\x10\\xe6\\xc8\\xd8\\xa3\\xadGt\\xd0f\\x98\\xa3\\x13{\\xb4\\xd7\\xa1{\\x8e\\xa2o%9*B{\\x05\\xa1\\r\\xe5d}D\\x18x\\xce_3\\x9b\\xd1+\\x19L\\xae\\x99f\\x8e\\x10\\xc2\\xeb\\x9a\\xee\\xb6\\x1b\\xccAG\\x04\\xeb#\\x065s\\xd4]h\\xafZh\\xafEh\\xaf \\xb4\\xa1\\x9c\\xe5\\xc8\\xf0\\xd9\\x84\\xc1\\x1c\\x19>[3\\xb9fZ7j\\x19\\x047ju\\xb7\\xdd`\\x0e\\xd6\\x8c\\xccG\\'\\xb6h\\xaf\\xdd}\\xf6\\xaa}\\xf6Z|\\xf6\\n>\\x1b\\xcaY\\x8e\\x0c\\x9f\\xad\\x99\\xcd`\\x12c`\\xe3\\xc8J\\xc40\\xceG\\xcea\\xdazD\\xbb\\xc1\\x1c\\xb4\\x19\\xe6\\xe8\\x84\\xcf^\\xbb\\xfb\\xecU\\xfb\\xec\\xb5\\xf8\\xec\\x15|6\\x94\\xb3\\x1c\\x19>\\x9b08\\x1f\\x19>[3\\xb9f\\xde\\xa6\\x1a\\xf0G\\x0c\\x82\\xfb\"\\xba\\xdbn0\\x07kFrtb\\x8b\\xf6\\xda\\xddg\\xaf\\xdag\\xaf\\xc5g\\xaf\\xe0\\xb3\\xa1\\x9c\\xdd\\xa8%\\x10\\x06\\xc9\\x10\\xda\\x9aI\\x06\\x93k\\xa6\\xf50$\\x81\\xc8\\x02\\xc9\\x10\\xda\\xec#\\x82 \\x11W\\x8d\\x0b\\xa4\\x13B{\\xed.\\xb4W-\\xb4\\xd7\"\\xb4W\\x10\\xdaP\\xce&$dF\\xc8\\x91!\\xb45\\x93\\x0c&\\xd7L\\xf3\\xc2\\xe6\\x9c\\xa5\\xad\\xbb\\xed\\x06s\\xd0\\x11\\xe1\\x84tBh\\xaf\\xdd\\x85\\xf6\\xaa\\x85\\xf6Z\\x84\\xf6\\nB\\x1b\\xcaY\\x8e\\x0c\\xa1M\\x18\\xbc\\xb0\\x19B[3\\xb9f\\x9a9rvh\\xebn\\xbb\\xc1\\x1ctD8\\x1f\\x9d8wd\\xed.\\xb4W-\\xb4\\xd7\"\\xb4W\\x10\\xdaP\\xcerd\\x08m\\xc2`\\x8e$\\x93\\x8c^\\xb9f\\x9a_\\xd8\\x9ccG\\xd8\\x880H\\xc6\\x16m\\xd2\\x8dLH\\'\\xce\\x1d\\xb9u7\\xda7m\\xb4\\xd7b\\xb4W0\\xdaPN\\x82\\xa4\\x99g\\xc6@\\x90\\x08\\x03?X\\xab{\\xe5\\x9aiMH\\x0c\\x82;\\xfe\\xba\\xdbn\\xbc\\xb3\\x836\\x83\\x1c1\\xa8\\x99\\xa3\\xeeF\\xfb\\xa6\\x8d\\xf6\\xad\\x18\\xed\\x1b\\x18m(\\';\\xd9\\x08\\x8392\\x8c\\xb6f\\x92\\xc1\\xe4\\x9ai\\xed\\x1c!\\x10\\x1e\\xcc\\xa6\\xbb\\xed\\x06s\\xd0\\x11\\xc1\\x85\\x8dA\\xad\\x05\\xd2m\\xe8\\x9e\\xa3(\\\\I\\x8e\\x8a\\xd1\\xbe\\x81\\xd1\\x86r6\\x1fI\\xe6\\xd9`6\\x83I\\x06\\x93k\\xa69\\x1f\\x11\\x08\\xe7#\\xd9mg\\x0c\\x9c\\\\\\xcb\\x9a\\xe1|D\\xa0\\xe6|\\xd4\\xddh\\xdf\\xb4\\xd1\\xbe\\x15\\xa3}\\x03\\xa3\\r\\xe5,G\\x86\\xd1&\\x0c^\\xd7\\x90\\xc1\\xeb\\x9aa\\xb4o\\x8e\\xd1f\\x10,\\x90t\\xb7\\xdd`\\x0e\\xd6\\x8c\\xe4\\xe8\\x84\\xd1\\xbeu7\\xda7m\\xb4o\\xc5h\\xdf\\xc0hC9\\xcb\\x91a\\xb4\\t\\x839\\x92gR\\'\\xa3W\\xae\\x99f\\x8e\\x08\\x8492\\x8c\\xb6f\\x0e\\xd6\\x8c\\xe4\\xe8\\xc4\\xa1#\\xb7\\xeeF\\xfb\\xa6\\x8d\\xf6\\xad\\x18\\xed\\x1b\\x18m(g&\\x92@\\x18$c\\x8b\\xb6f\\x92\\xc1\\xe4\\x9ai^\\xd8\\x08\\x04\\xb7Ft\\xb7\\xdd`\\x0e\\xda\\x0c\\x17H\\'\\xb6h\\xdf\\xba+\\xed\\x9bV\\xda\\xb7\\xa2\\xb4o\\xa0\\xb4\\xa1\\x9cMH\\xd2\\xe9>\\x1b\\xaf\\xb3\\x19L2\\x98\\\\3\\xcd\\x1c9F[w\\xdb\\r\\xe6\\xa0#\\xc2\\t\\xe9\\x84\\xd1\\xbeu7\\xda7m\\xb4o\\xc5h\\xdf\\xc0hC9\\xfb\\xc2&\\xb7q?3\\x06sd\\x18m\\xcd\\xe4\\x9ai\\xe6\\x88@8\\x1f\\x19F[\\xbf\\xfb\\x836\\xc3\\xf9\\xe8\\x84\\xd1\\xbeu7\\xda7m\\xb4o\\xc5h\\xdf\\xc0hC9;\\x92\\x9d@xa3\\xf6hk&\\x19L\\xae\\x99f\\x90\\x08\\x84A2\\x94\\xb6f\\x0e\\xda\\x0c\\x83tb\\x8f\\xf6\\xad\\xbb\\xd2\\xbei\\xa5}+J\\xfb\\x06J\\x1b\\xca\\xe1\\xf6\\xd9\\x13c0G\\xc6\\x1em\\xcd$\\x83\\xc95\\xd3\\xda\\xebO ra3\\xf6hk\\xe6\\xa0#\\xc2\\x1c\\xf9F{\\xfe\\xd0\\xdbh\\xbfvT9*F\\xfb\\x16\\x8d6\\x96\\xe3\\x02\\x891\\xe1\\xea\\xffl\\xbc\\xcef0\\xc9`r\\xcd4r\\xc4 \\xc8\\x91\\xd1m7\\x98\\x83\\x8e(\\xe6H@!G\\xbd\\x8d\\xf6k\\xc7\\xc79zy\\x03o9z\\xfd\\xa7\\x90#\\xb2K9\\x9e\\xa6\\xc5\\xa08!\\x19\\xccf0\\xc9`r\\xcd4.l\\x0c\\x82_\\x874\\xba\\xed\\x06s\\xd0\\x11a\\x90\\xfcSG\\xe6\\x0fC\\xf7 E\\xe3J\\x82t)A\\x8aJ\\x1b\\xcb\\xd9\\x84\\x84L\\\\i\\x1b\\xaf\\xb3\\x19L2\\x98\\\\3\\x8d[#\\x0c\\x82\\x1fc3\\xba\\xed\\x06s\\xd0\\x11\\xc5ol\\x14j\\xe6\\xa8\\xb7\\xd2~\\xed\\xa8r4\\x94\\x1cE\\xa5\\x8d\\xe5\\xf8\\xd7\\xf6\\x89A8!\\xe9SG\\x0c&\\x19L\\xae\\x99\\xe6\\x95\\x8d\\xfc:$NH\\xdai\\x1b\\xccAG\\x84A\\xf2O\\x1d\\x99?\\xf4v\\xda\\xaf\\x1dU\\x90\\xc6\\x12\\xa4\\xe8\\xb4\\xb1\\x9c\\xfc\\\\-\\x83\\xe2\\xfd\\xaag\\x06a\\x92\\xf4>m\\x83\\xc95\\xd3L\\x129w\\x04\\xd7H\\xdaj\\x1b\\xccAG\\x84I\\xf2\\xad\\xf6\\xfc\\xa1\\xb7\\xd5~\\xed\\xa8\\x924\\x95$E\\xab\\x8d\\xe5\\xec\\xd2&\\xf7`?\\x1b\\xaf\\xb3\\x19L2\\x98\\\\3\\xcd%\\x92!\\xb5\\x8dn\\xbb\\xc1\\x1c\\xb4\\x19.\\x91|\\xa9=\\x7f\\xe8-\\xb5_;\\xaa\\x1c\\xcd%GQjc9\\xfe\\xce(c\\x16\\xc8\\x91\\x96\\xda\\x06\\x93\\x0c&\\xd7Ls\\x89d\\x9c;bt\\xdb\\r\\xe6\\xa0\\xcd0G\\xbe\\xd4\\x9e?\\xf4\\x96\\xda\\xaf\\x1dU\\x8e\\x96\\x92\\xa3(\\xb5\\xb1\\x9c\\xcdGD\\xeb\\xe2\\x12I[m\\x83I\\x06\\x93k\\xa69!\\x91\\xa3\\xb4q\\x89\\xa4\\xad\\xb6\\xc1\\x1ctD\\x18$\\xdfj\\xcf\\x1fz[\\xed\\xd7\\x8e*H\\xd7\\x12\\xa4h\\xb5\\xb1\\x1c\\x7f\\xfc\\x881\\x98#-\\xb5\\r&\\x19L\\xae\\x99f\\x8e\\x0c\\xa9mt\\xdb\\r\\xe6\\xa0\\xcd0G\\xfe>\\xed\\xf9Co\\xa9\\xfd\\xdaQ\\xe5h-9\\x8aR\\x1b\\xcb\\xc9m\\x7f\\x06a\\x90\\xb4\\xd5\\xa6\\xcd H\\xdaj\\xd7L3H\\x04\\xc2 \\xc9\\x11\\xed\\x06s\\xd0f\\xb8\\xd2>a\\xb5/\\xdd\\xad\\xf6EZ\\xed\\x977P\\x82\\x04V\\x1b\\xca_\\xa8\\x98#\\xc2@\\x8e4\\xb3\\x19L2\\x98\\\\3\\xad\\x1c1\\x08r\\xa4\\xbb\\xed\\x8c\\x81\\x1c\\xb1f0!1\\xa8ua\\xbbt\\xb7\\xda\\x17m\\xb5/\\xc5j\\xc7\\xb9\\xe6\\x8e\\xe5x\\xf2\\x08c0G\\x86\\xd4\\xd6L2\\x98\\\\3\\xcd\\x1c\\x19\\'\\x8f\\x18\\xddv\\x839h3\\xcc\\x91\\xbfO{\\xbe\\x0c\\xdds\\x14\\x9d+\\xc9Q\\x91\\xda\\x17\\x90\\xdaP\\xfe\\xb2@Z H\\xd2\\xeb>\\x1b\\xccf0\\xc9`r\\xcd4\\x83\\x84\\x10\\xae\\xb4u\\xb7\\x9d18!\\x91\\x11a\\x90\\x1eB!H\\xdd\\xad\\xf6E[\\xedK\\xb1\\xda\\xd1\\xd8\\xdd\\xb1\\xfc\\xe5\\xcd\\xe1\\x8cdXm\\xcdl\\x06\\x93\\x0c&\\xd7L\\xeb\\xbb?\\x81\\xe0\\xc9\\x11\\xa3\\xdbn0\\x07\\x1d\\x11\\xac\\x90\\x1eC!H\\xdd\\xad\\xf6E[\\xedK\\xb1\\xda\\x17\\xb0\\xdaP\\x8e7\\x11\\x9e\\x18\\x84A2\\xa4\\xb6f\\x92\\xc1\\xe4\\x9ai\\xceHd\\xabv<4\\x82\\xbe}\\x08\\x92!\\xb5\\xd9\\x880H\\xfe\\xe1#\\xf3\\xa5\\xbb\\xd4\\xbeh\\xa9})R;\\xbe\\xb9;\\x96\\xb3\\xefl\\x04\\xc2 \\x19V[3\\xc9`r\\xcd4\\x83d\\x9c>bt\\xdb\\xe9G\\x04Ar\\xac6\\x83\\x9aA\\xean\\xb5/\\xdaj_\\x8a\\xd5\\x8eo\\xee\\x8e\\xe5\\xc4j\\x13\\x06sdXm\\xcd$\\x83\\xc95\\xd38\\xc5\\x86B\\x98#\\xc3j\\x13\\x06sdl\\xd5\\x16P\\xc8Qw\\xab}\\xd1V\\xfbR\\xacv\\xfck{\\xc7r\\xb6\\x13\\x89@\\x18$\\xc3jk&\\xd1\\x01A\\x90\\x1c\\xabM\\xa0!\\x1e\\xa7m\\x8ch7Ft\\xd0\\x11a\\x90NX\\xedKw\\xab}\\xd1V\\xfbR\\xacv\\xfc\\xfa{\\xc7r\\x1a$Ckkf3\\x98d0\\xb9f\\xde22C\\x90\\x08\\x04\\xf7\\xfdu\\xb7\\xdd`\\x0e\\xd6\\x8c\\\\\\xd9\\xfc\\xbd\\xda\\xf3\\xa5\\xbb\\xd6\\xbeh\\xad})Z;~\\xb5\\xb9c9\\xb9\\xcfF\\x18\\xb8\\xef\\xaf\\x99\\xcd`\\x921\\x9e\\\\3\\x8d\\xa7\")\\x14\\x9f\\x8a4\\xba\\xed\\x06s\\xb0fdB\\xf2\\xcf\\xd3\\x9e\\x87\\xeeV{\\xd0V\\xfbR\\xacv\\xbc\\xf3}\\xc7r\\xb6\\xd4&\\x10LH\\x9a\\xd9\\x0c&\\x19L\\xae\\x99\\xb7\\x8c\\xc4_\\x1ae\\x10nD\\xd2\\xddv\\xfa\\x11\\xc5 \\x91f8!1\\xa8\\x19\\xa4\\xeeZ{\\xd0Z{(Z;\\xfa\\xb8;\\x96\\x93\\tI3\\xcf\\x8c\\x81\\tI3\\xc9\\xe8\\x95k\\xa65!1\\x08&$\\xddm7F}\\xb0f8!1\\xa8e#\\x87\\xa1{\\x8e\\xa2t%9*Z;\\xea\\xb8;\\x96\\x93\\xdbl\\x84\\xc1\\x1cIf3\\x98d0\\xb9fZ+m\\x02\\xe1\\x16[\\xddm7\\x98\\x83\\x8e\\x08\\xe7#\\x025\\xe7\\xa3\\xeeV{\\xd0V{(V;~\\xf9\\xbdc9\\x9b\\x8f\\x0c\\xa9\\xad\\x99\\x8d1\\xf1\\xd8\\x08\\xe3ur\\xcd4sd\\xfc@$\\xeb\\x06\\xb7\\xfd\\xf5\\x88\\x0e:\"\\x9c\\x8f\\xfc\\xe3G\\xe6\\xa1\\xbb\\xd4\\x1e\\xb4\\xd4\\x1e\\x8a\\xd4\\x8e\\xa6\\xe5\\x8e\\xe5\\xb0\\xe9\\xf1\\x891\\x98#\\xc3ik&\\x19L\\xae\\x99f\\x8e\\x10\\x1a\\xe1\\xe6\\x08\\xe9\\x8692\\x9c6\\x1b\\x11\\xe6\\xe8\\xc4F\\xed\\xa1\\xbb\\xd3\\x1e\\xb4\\xd3\\x1e\\x8a\\xd3\\x8e\\x0e\\xe5\\x8e\\xe5\\xe4\\xb6?a0G\\xfa@m\\xc6\\xe0|d(\\xed\\xc1Q\\xda\\x04\"\\xf3\\x91\\xa1\\xb45s\\xd0\\x11a\\x8e\\xfc\\x03\\xb5\\xe7\\xa1\\xbb\\xd2\\x1e\\xb4\\xd2\\x1e\\x8a\\xd2\\x8e\\x9e\\xe5\\x8e\\xe5\\xec\\xba&\\xb5\\xf7\\xb3\\xf1:\\x9b\\xc1$\\x83\\xc95\\xd3zp\\x84@$G\\x86\\xd2\\xd6\\xccAG\\x84\\xeb\\xa3\\x87P\\xc8Qw\\xa5=h\\xa5=\\x14\\xa5\\x1dU\\xdc\\x1d\\xcb\\xd9|\\x84\\x0cl\\xf8g\\xaf\\x83\\x13\\x92l\\x96\\x0c&\\xd7LsB2\\x8e\\x1fa\\xdd&\\x08\\x92\\xb1Q\\x9b5\\xc3\\t\\xe9\\xe1n\\xee\\x10\\xa4\\xeeJ{\\xd0J{(J;~?\\xbec9S\\xda\\x04\\x1a I\\x86\\xd2\\xd6L2\\x98\\\\3\\xcd \\x19?\\x11it\\xdb\\r\\xe6\\xa0#\\xc2 \\x9dP\\xdaCw\\xa5=h\\xa5=\\x14\\xa5\\x1d\\x1d\\xca\\x1d\\xcb\\xf1<$\\xc6`\\x8e\\x0c\\xa5\\xad\\x99d0\\xb9fZ\\xdb\\x90\\x084\\xc2\\xcdZ\\xddmg\\x0c\\xe6\\xc8Q\\xda\\x0cjMHcw\\xa5=j\\xa5=\\x14\\xa5\\x1d\\xc5\\xef\\x1d\\xcb\\xc9\\n\\x890\\x90#\\xfd:\\x9b\\xc1$\\x83\\xc95\\xd3Z!\\x11(>5\\xfc\\xd1\\xe8\\xb6\\x1b\\xccAG\\x049z\\x0c\\x85\\x1cu7\\xda\\xa36\\xdac1\\xda\\xd1\\xc5\\xdd\\xb1\\x9c\\x98H\\xc2\\xc076\\xcdl\\x06\\x93\\x0c&\\xd7L\\xeb\\xba\\xc6 x$\\x92t\\x8b\\xd0n\\x0c\\xe9\\xa0\\xdd`\\xa9\\xcd\\xa0f\\x90\\x86\\xeeA\\x8a\\xc6\\x95\\x04\\xa9(\\xed(Q\\xeeXNv!\\x11\\x06\\x83$\\x99\\xcd`\\x92\\xc1\\xe4\\x9ai\\x06\\x89@\\x18$\\xec\\x06\\x176=\\xa2\\x836\\xc3\\t\\xe9!\\x14r\\xd4]i\\x8fZi\\x8fEi\\xc7%\\xc2\\x1d\\xcb\\xd9\\x85\\xcdP\\xda\\x9a\\xd9\\x0c&\\x19L\\xae\\x99f\\x8e\\x08\\x849\\xc2n\\x0b\\xe4\\xc8P\\xda\\xac\\x19\\xceG\\'\\x94\\xf6\\xd8]i\\x8fZi\\x8fEi\\xc7%\\xc2\\x1d\\xcbY\\x8e\\x0c\\xa5M\\x98\\x01rd(m\\xcd\\xe4\\x9ai\\xe6\\xc8\\xf8\\x8dH\\xd6\\r~\\xba\\xc6\\x18\\xd2A\\xbb\\xe1\\x84t\\xc2i\\x8f\\xdd\\x9d\\xf6\\xa8\\x9d\\xf6X\\x9c\\xf6\\x08N\\x1b\\xca\\x7f\\xfa\\xcd\\nA2\\x9c\\xb6f6\\x83I\\x06\\x93k\\xa6\\x19$\\xc7i\\xebn\\xbb\\xc1\\x1ctD8!\\x9d\\xd8\\xa6=vw\\xda\\xa3v\\xdacq\\xda\\xf1\\x84\\xb2;\\x96\\xe3s:O\\x0c\\x9a!H\\xe4\\x85 H\\x86\\xd4&L\\xfc\\xab\\x9dk\\xa8\\xf9\\x9d\\xcd\\xb1\\xdazH\\xbb\\xc1\\x1ctD8#\\x9d\\xd8\\xa8=v\\xb7\\xda\\xa3\\xb6\\xdac\\xb1\\xda\\xf1\\xf7\\xed\\xeeXN\\x1c\\x12apF2\\xf6ik&\\x19L\\xae\\x99\\xe6\\x8cd\\xfcJ\\xa4\\xd1m7\\x98\\x83\\x8e\\x08g\\xa4\\x13R{\\xec.\\xb5G-\\xb5\\xc7\"\\xb5G\\x90\\xdaP\\xce\\x96H\\xf2\\x17 \\x9f\\rf3z%\\x83\\xc95\\xd3\\xda\\xcd\\xc6 \\xd8\\xcd\\xa6\\xbb\\xed\\x06s\\xb0fd>:\\xe1\\xb4\\xc7\\xeeN{\\xd4N{,N{\\x04\\xa7\\r\\xe5,G\\xc6\\xe1#\\x84\\xc1\\x0b\\x9b\\xe1\\xb4u\\xaf\\\\3\\xcd\\x1c9\\xdb\\xb4u\\xb7\\xdd`\\x0e\\xd6\\x8c\\xe4\\xe8\\x84\\xd3\\x9e\\xba;\\xedI;\\xed\\xb18\\xed\\x11\\x9c6\\x94\\x93\\x1ci\\xe6\\x991c\\xcc\\x11a G\\xbaW\\xae\\x99\\xd6u\\x8d@\\xf1{\\xc6G\\xa3\\xdbn0\\x07\\x1d\\x11\\xe4\\x88A\\xcd\\x1cuw\\xda\\x93v\\xdaSq\\xda\\x138m(\\'*\\x920\\x98#\\xc3ik&1\\x06\\xee\\xb1M\\x8e\\xd3f\\x10|\\xf5\\xd7#\\xda\\r\\xe6\\xa0\\xcd0G\\'\\x94\\xf64t\\xcfQ4\\xae$GEiO\\xa0\\xb4\\xa1\\x9c=6B \\x0c\\x92d6\\x83I\\x06\\x93k\\xa6u\\xb3\\x96@x\\xa4\\xb6\\xee\\xb6\\x1b\\xccAG\\x04\\x0bm\\x065\\x83\\xd4\\xddiO\\xdaiO\\xc5iO\\xe0\\xb4\\xa1\\x9c]\\xd8\\x90\\x89\\x89|f\\x10\\xac\\xb4\\t\\x03\\xfb\"5\\x93k\\xa69#\\x91#\\xb5\\xe1\\x1b\\x9b~\\xfb\\xbb\\xc1\\x1ctD8#\\x9d8|d\\xea.\\xb5\\'-\\xb5\\xa7\"\\xb5\\'\\x90\\xdaP\\xce\\x82\\x84\\x0c($\\xfd:\\x9b\\xc1$\\x83\\xc95\\xd3\\xcc\\x91s\\xa0\\xb6\\xee\\xb6\\x1b\\xccAG\\x849:q\\xf6\\xc8\\xd4\\xddiO\\xdaiO\\xc5iO\\xe0\\xb4\\xa1\\x9c\\xe5\\x88\\xec\\xc1\\xc6 \\xc9M\\xd8\\x1bc&\\x08\\x92!\\xb5\\'Gj3\\x08\\x97H\\x86\\xd4\\xd6\\xccA\\x9ba\\x90NH\\xed\\xa9\\xbb\\xd4\\x9e\\xb4\\xd4\\x9e\\x8a\\xd4\\x9e@jC9\\x0b\\x122#\\xe4\\xc8p\\xda\\x84\\xc1\\x1c\\x19\\x1b\\xb5\\'\\xe2\\x861G\\x04\\xc2\\x1c\\xc9sEv\\x839h3\\xcc\\xd1\\t\\xa5=uW\\xda\\x93V\\xdaSQ\\xdaqj\\xbfc9\\xcb\\x112\\xb0\\x9dM\\xbf\\xcef0\\xc9`r\\xcd4W\\xda\\x04\\x82\\xbb\\xfe\\xba\\xdbn0\\x07m\\x869:q\\xf4\\xc8\\xd4]iOZiOEiO\\xa0\\xb4\\xa1\\x9c\\xe5\\x08\\x19\\x9c\\x8f\\x8cm\\xda\\x9aI\\x06\\x93k\\xa69\\x1f9\\x07j\\xebn;cp>r\\x94\\xf6c(\\xe4\\xa8\\xbb\\xd2\\x9e\\xb4\\xd2\\x9e\\x8a\\xd2\\x9e@iC9\\xcb\\x91\\xa1\\xb4\\t\\x83_\\xd8\\xf4\\xafD\\x1aL\\xae\\x99f\\x8e\\x9c\\xf3\\xb4u\\xb7\\xdd`\\x0e\\xda\\x0cstBi\\xcf\\xdd\\x95\\xf6\\xac\\x95\\xf6T\\x94\\xf6\\x04J\\x1b\\xcaI\\x8e\\x08\\x13\\x8f\\x9d|6^h3\\x98d0\\xb9fZAb\\x10\\x04Iw\\xdb\\r\\xe6\\xa0\\xcd H\\x8f\\xa1\\x10\\xa4\\xeeN{\\xd6N{.N{\\x06\\xa7\\r\\xe5\\xe4\\x97\"4\\xf3\\xcc\\x18\\xcc\\x91\\xe1\\xb4\\t3B\\x8e\\x88\\x1c\\x86\\xbd#\\x04\\xc2o\\xfezD\\xbb\\xc1\\x1ctD\\x98\\xa3\\x13N{\\x1e\\xba\\xe7(\\x1aW\\x92\\xa3\\xe2\\xb4\\xff\\xff\\xde\\xce\\xb7Gr\\x1b\\xbd\\xf6_e\\xe0\\x0f\\x90\\x9d\\x92J\\x7f*\\xd8\\x18\\xb8\\xd5-\\xf2\\x8e\\x98d/\\x90\\x00y=\\xd9i\\xaf\\x1b\\xf1\\xce\\x0c\\xdam/\\x90O\\x7f{z\\xdb\\xf4\\x92\\xe7\\xb0\\xce\\xd1\\x1b\\xee\\xab\\xb1\\xf7\\xf7\\xe8a\\x95\\xcfP\\xd2O\\x14k\\x02\\xa7\\r\\xe5,GR\\xea\\xde\\x1b\\xccf0\\xc1`b\\xc94s\\x84\\x10\\xc9\\x91\\xec\\xb63\\x06.\\x90\\xd8\\x88@i3\\xa8\\x99\\xa3\\xeeJ{\\xd2J{\\xcaJ{\\x02\\xa5\\r\\xe5\\xec\\xc4&m\\xf5\\xbdq\\x9c\\xcd`\\x82\\xc1\\xc4\\x92i\\xe6\\xc8\\xd9y\\x84t\\x83\\x17k\\xf5\\x88\\x12\\x1d\\x11\\xe6\\xe8\\x80\\xd1\\x9e\\xba\\x1b\\xedI\\x1b\\xed)\\x1b\\xed\\t\\x8c6\\x94\\xb3\\x1c\\x19\\xcb\\xb4\\t\\x03\\x17\\xda\\xfa8\\xc1`b\\xc94\\xaf\\x8f\\x9ce\\xda\\xa4\\x1b,\\xf7g\\x9f\\x0c\\'\\xa4\\x9b+\\xb0\\x7f\\x0b\\xd2\\x81e\\xdaSw\\xa5=i\\xa5=e\\xa5=\\x81\\xd2\\x86r\\xf6\\x866\\x810I\\xc6:m\\xcd\\x04\\x83\\x89%\\xf3\\xf6\\xf8\\x0cV!1\\x08V!\\x91n\\x03$\\xc9P\\xda\\xa4\\x19\\xb9B:\\xa0\\xb4\\xa7\\xeeJ{\\xd2J{\\xcaJ{\\x02\\xa5\\r\\xe5\\xec\\xa9?\\x810H\\xc6\\xe6#\\x9a\\t\\x06\\x13K\\xa69%9\\xcb\\xb4I7\\x0c\\x92\\xe1\\xb4\\xd9\\x880H\\x07\\x9c\\xf6\\xd4\\xddiO\\xdaiO\\xd9iO\\xe0\\xb4\\xa1\\x1cn\\x91\\xee\\x18\\x839\\x92{\\x86l\\xc6q\\x82q\\x9cX2os\\rl:J\\xa0z\\x11\\xd6\\x07\\xd6\\rsd8m\\xd2\\x8c\\xe4\\xe8\\x80\\xd3\\x9e\\xba;\\xedI;\\xed);\\xed\\t\\x9c6\\x94\\xb3K$\\xc3i\\xeb\\xe3l\\x06\\x13\\x0c&\\x96\\xcc\\xdb\\xcaY\\xd8\\xdf\\x9fA\\xb0e\\x84\\xee\\xb6\\x1bLb\\xcdH\\x8e\\x0e8\\xed\\xa9\\xbb\\xd3\\x9e\\xb4\\xd3\\x9e\\xb2\\xd3\\x9e\\xc0iC9\\xcb\\x91\\xe1\\xb4\\t\\x03\\xcfj\\t\\x03\\xcbku\\xafX2\\xcd\\xf3\\x1a\\xd9z\\x04\\xe7#\\xc3ik&\\xd1\\x11a\\x8e\\x0e8\\xed\\xb9\\xbb\\xd3\\x9e\\xb5\\xd3\\x9e\\xb2\\xd3\\x9e\\xc0iC99\\xaf\\x11\\x06r\\xa4\\x99\\xcd`\\x82\\xc1\\xc4\\x92i=\\xab%P\\xbd\\x96\\xef\\x83\\xd1m7\\x98DG\\x04wl\\x0cj\\xcdGsw\\xa5=k\\xa5=g\\xa5=\\x83\\xd2\\x86r\\xfcU\\x8e;\\x06a\\x90\\xa4\\xf7\\xde\\x0c&\\x18\\xbdb\\xc9\\xbce\\x04Nl\\x0c\\x82\\xf5\\xfe\\xba\\xdbn\\x8c:\\xb1f8!\\xdd\\x86\\xaa \\r\\xdd\\x83T+W\\x12\\xa4\\xec\\xb4gp\\xdaPNNl\\x9a\\xb97\\x98\\x8d1\\x98#y\\x9cX2\\xad\\xf7\\x8f\\x18\\x04w\\xfe\\xba\\xdbn0\\x895#9\"P\\xf3\\xc4\\xd6\\xddi\\xcf\\xdai\\xcf\\xd9i\\xcf\\xe0\\xb4\\xa1\\x9c\\xe5\\x08\\x99\\x15rd8m\\xcd\\x04\\x83\\x89%\\xd3\\xba@b\\x10\\xb8H\\xd2m\\x82\\x1c\\xc9u\\xe3\\x896\\xc3\\x1c\\x1dp\\xdasw\\xa7=k\\xa7=g\\xa7=\\x83\\xd3\\x86r\\xb8\\xf8\\xbdc\\x0c\\xceG\\xc6*m\\xcd\\x04\\x83\\x89%\\xd3\\xbc@\"\\xbbi\\xc3k#\\xba\\xdbn0\\x89\\x8e\\x08st`\\x95\\xf6\\xdc]i\\xcfZi\\xcfYi\\xcf\\xa0\\xb4\\xa1\\x9c\\xcdG\\x86\\xd1\\xd6\\xcc\\xc6\\x18\\xb8a\\xd3L,\\x99\\xd636\\x02\\xa1\\x88\\xd4\\xddv\\x83ItD\\x98\\xa3\\x03\\xbbi\\xcf\\xdd\\x8d\\xf6\\xac\\x8d\\xf6\\x9c\\x8d\\xf6\\x0cF\\x1b\\xca\\x99\\xd1&\\x10l\\x83L\\x18\\x0c\\x92a\\xb45\\x13K\\xa6\\x19$\\x84\\xf0\\xce_w\\xdb\\x19\\x83\\'6\\xc7h\\xdf\\x86\\xaa u7\\xda\\xb36\\xdas6\\xda3\\x18m(\\xc7=^\\xef\\x18\\x843\\x92\\x94\\xc3\\x9b\\xc1\\x04\\xa3W,\\x99\\x96\\xd2&P\\xfd\\xb2\\xc3\\x07\\xa3\\xdbN\\xbf\"\\x08\\x92\\xa3\\xb4oCU\\x90\\xba+\\xedY+\\xed9+\\xed\\x19\\x946\\x94\\xd3\\x19\\t!x\\xff\\x880\\x18$\\xc3ik&\\x96L\\xf3R\\xdb\\xd9N[w\\xdb\\r&\\xd1\\x11a\\x90\\x0e8\\xed\\xb9\\xbb\\xd3\\x9e\\xb5\\xd3\\x9e\\xb3\\xd3\\x9e\\xc1iC9\\xbbD2\\x9c\\xb6f6\\xc6\\xe0%\\x92\\xe1\\xb4g\\xc7i\\x13\\x88\\xe4\\xc8p\\xda\\x9aItD\\x98\\xa3\\x03N{\\xe9\\xee\\xb4\\x17\\xed\\xb4\\xe7\\xec\\xb4gp\\xdaPNrD\\x18X\\xce\\xa6\\x8f\\xb3\\x19L0\\x98X2\\xad[6\\x02a\\x8eH\\xb7\\xfa\\xdd\\xf3\\xdd\\xf8\\xf8\\x89\\x0e\\t\\x82t\\x1b\\xaa\\x82\\xd4]j/Zj/Yj/ \\xb5\\xa1\\x9c\\x05\\t\\x19\\xb8\\xd4\\xd6\\xc7\\xd9\\x18\\x03\\x13\\x12a`\\x8f\\xbf\\x85\\xc8a\\x98\\x90\\x08D\\x82$w\\x13\\xdf\\x8dO\\x96\\xe8\\x880G\\x07\\x9c\\xf62t\\xcfQ\\xad\\\\I\\x8e\\xb2\\xd3^\\xc0iC9\\xbe\\x14r\\xc7 8\\xb3if3\\x98`0\\xb1d\\x9a3\\x12B$H\\xe4\\xe3c\\x92\\x10\\x82\\x9b66$x\\xcc\\xc6\\xa0f\\x92\\xba[\\xedE[\\xed%[\\xed\\x05\\xac6\\x94\\xb3\\x19\\xc9X\\xa9\\xad\\x8f\\xb3\\x19L0\\x98X2\\xcd 9\\x1bj\\x93n#\\xe4\\xc8\\xb0\\xda\\xac\\x19\\xe6\\xe8\\x80\\xd5^\\xba[\\xedE[\\xed%[\\xed\\x05\\xac6\\x94\\x93]\\xb5\\x08\\x83\\x13\\x92a\\xb55\\x13\\x0c&\\x96L\\xf3\\xcc\\xe6\\xac\\xd4&\\xdd`9\\x9b\\x1eQ\\xa2\\xcd\\xf0\\xccv\\xc0j/\\xdd\\xad\\xf6\\xa2\\xad\\xf6\\x92\\xad\\xf6\\x02V\\x1b\\xca\\xc9\\xf2\\x11\\xc2`\\x8e\\x0c\\xab\\xad\\x99`0\\xb1d\\x9a9r\\xb6\\x1e\\xd1\\x9f~7F\\x94h3\\xcc\\xd1\\x81u\\xdaKw\\xab\\xbdh\\xab\\xbdd\\xab\\xbd\\x80\\xd5\\x86r\\xe6\\x90\\x08\\x84A2\\xac\\xb6f\\x82\\xc1\\xc4\\x92iYm\\x02\\x91+$\\xc3j\\xb3\\xaf\\x08\\x82\\xe4X\\xed\\xdbP\\x15\\xa4\\xeeV{\\xd1V{\\xc9V{\\x01\\xab\\r\\xe5\\xe4\\x95H\\xc2`\\x8e\\x8c\\xbdG4\\x13\\x0c&\\x96LsBr\\xb6\\xd3&\\xdd\\xea\\x1b\\x8d\\xdd\\x18R\\xa2C\\xc2 \\x1d\\xb0\\xdaKw\\xab\\xbdh\\xab\\xbdd\\xab\\xbd\\x80\\xd5\\x86r\\xf2\\xdc\\x9f0\\x18$c\\xa16a\\xe0\\xe9\\x88\\x1eO,\\x99\\xe6\\x84\\xe4Hm=\\xa2\\xdd\\xf8d\\x89\\x8e\\x08st@j/\\xdd\\xa5\\xf6\\xa2\\xa5\\xf6\\x92\\xa5\\xf6\\x02R\\x1b\\xca\\xd9\\x1d\\x9b\\x94\\xd1\\xf7\\xc6q6\\x83\\t\\x06\\x13K\\xa69!\\x91\\xfd\\xb4\\xe1q\\xad\\xee\\xb6\\x1bL\\xa2#\\xc2\\x1c\\xdd\\x84\\xca\\x1c\\xad\\xdd\\xa5\\xf6\\xaa\\xa5\\xf6\\x92\\xa5\\xf6\\x02R\\x1b\\xca\\xd9+\\x91\\x04\\x82\\x9f\\xd1&\\x0c\\x04I3\\xc1`b\\xc9\\xbc\\xcd5\\xb00\\x92@\\xf8\\xe6\\x08\\xfb\\xf8u\\x90\\xf4\\x88\\x12k\\x86A\\xba\\rUA\\xea.\\xb5W-\\xb5\\xd7,\\xb5W\\x90\\xdaP\\xce.\\xb5\\x19\\x04A2\\xac\\xb6f\\x82\\xc1\\xc4\\x92i\\x9d\\xd9\\x08\\x84\\x0bHt\\xb7\\xdd\\xf8\\xf4\\x89\\x8e\\x08\\x1c\\x12\\x83\\x9aA\\x1a\\xba\\x07\\xa9V\\xae$H\\xd9j\\xaf`\\xb5\\xa1\\x9c\\x06\\t!x\\xeeO\\x18\\x0c\\x92d\\x82\\xc1\\xc4\\x92i\\x9d\\xda\\x08\\x84\\x97H\\xba\\xdbn0\\x89\\x8e\\x08\\x83D\\xa0f\\x90\\xbaK\\xedUK\\xed5K\\xed\\x15\\xa46\\x94\\xd3 \\x19?\\x13\\xa9\\x99\\xcd`\\x82\\xc1\\xc4\\x92y\\xcb\\x08Xm\\x06a\\x90\\x8c\\x1d\\xb55\\x93X3\\x12\\xa4\\x03V{\\xedn\\xb5Wm\\xb5\\xd7l\\xb5W\\xb0\\xdaP\\xfer%\\x81\\xd7H\\x86\\xd6\\xd6\\xccf0\\xc1`b\\xc94g$gKm\\xddmg\\x0c\\x9e\\xda\\x1c\\xad}\\x1b\\xaa\\x82\\xd4]k\\xafZk\\xafYk\\xaf\\xa0\\xb5\\xa1\\x9c\\xdc\\xb4i\\xe6\\xde`6\\x83\\t\\x06\\x13K\\xa6\\xb54\\x92@\\xf8\\xb6?\\xe9\\x06\\x12I\\x8f(\\xb1f$G\\x07\\x16k\\xaf\\xdd\\xb5\\xf6\\xaa\\xb5\\xf6\\x9a\\xb5\\xf6\\nZ\\x1b\\xca_&$\\xf8u?\\x02a\\x90\\x0c\\xad\\xad\\x99`0\\xb1dZ\\xcfk\\tT\\xff\\x00\\xe6\\x07\\xa3\\xdbN\\xbf\"\\x08\\x92\\xa3\\xb5oCU\\x90\\xbak\\xedUk\\xed5k\\xed\\x15\\xb46\\x94\\xe3\\x7f\\x93;\\nA\\x90\\x0c\\xaf\\xad\\x99`0\\xb1d\\xde&\\x1b\\x9c\\x91\\x10\\xaa7\\xcc\\xfc`t\\xdb\\r&\\xb1f\\xe4\\x12\\xe9\\x80\\xd6^\\xbbk\\xedUk\\xed5k\\xed\\x15\\xb46\\x94\\x13\\xadM\\x18\\x9c\\x90\\x0c\\xad\\xad\\x99`0\\xb1d\\x9aWH\\x8e\\xd6\\xd6\\xddv\\xc6\\xe0\\x84\\xe4h\\xed\\xdbP\\x95\\xa3\\xeeZ{\\xd5Z{\\xcdZ{\\x05\\xad\\r\\xe5\\xf8\\xdf\\xe4\\x8eA\\x18$\\xc3kk&\\x18L,\\x99\\xe6\\x99\\x8d,\\xd6\\xc6\\t\\xc9\\xf0\\xda\\x9aItD8!\\x1d\\xf0\\xda\\x97\\xee^\\xfb\\xa2\\xbd\\xf6\\x9a\\xbd\\xf6\\n^\\x1b\\xca\\xc9\\xa56a`\\x8d-a\\xe0\\xe5\\x11\\xdd+\\x18L,\\x99\\xd6\\x86H\\x0c\\x02\\xadM\\xba\\xadu\\x8e\\xf4\\x88\\x12k\\x86\\x13\\xd2m\\xa8\\xcaQw\\xad}\\xd1Z\\xfb\\x92\\xb5\\xf6\\x05\\xb46\\x94\\xb35\\xb6\\x0c\\x82 \\x19Z[3\\xc1`b\\xc9\\xb4\\xcel\\x04\\xc2Km\\xddm7\\x98DG\\x04\\x13\\x12\\x83\\x9aA\\x1a\\xba\\x07\\xa9\\x96\\xae$HYk_@kC9\\xb9B\"\\x0c\\x9c\\xd84\\xb3\\x19L0\\x98X2\\xcd\\x1c!\\x84WH\\xba\\xdbn0\\x89\\x8e\\x08\\'\\xa4\\x9bP\\x95\\xa3\\xeeV\\xfb\\xa2\\xad\\xf6%[\\xed\\x0bXm(\\xff\\x15\\xb6\\xfa\\xbdc\\x10\\x06\\xc9\\xf8\\x9dH}\\x9c`0\\xb1dZ;\"1\\x08vD\"\\xdd`7d=\\xa2\\xc4\\x9a\\x91\\t\\xe9\\x80\\xd5\\xbet\\xb7\\xda\\x17m\\xb5/\\xd9j_\\xc0jC9Y\\xd2F\\x18<\\xb1\\x19R[3\\xc1`b\\xc9\\xbc\\xdd\\xd5\\x9f G\\x8e\\xd4\\xd6\\xddv\\xe3\\x1bJ\\xac\\x19\\x99\\x90\\x0eH\\xedKw\\xa9}\\xd1R\\xfb\\x92\\xa5\\xf6\\x05\\xa46\\x94\\xb3\\x13\\x9b!\\xb55\\xb3\\x19L0\\x98X2\\xcd\\x13\\x9b\\xb3\\x03\\t\\xe9\\x06\\xef \\x11\\x06st\\xd3W\\xff\\x96\\xa3\\x03k\\xb5/\\xdd\\xa5\\xf6EK\\xedK\\x96\\xda\\x17\\x90\\xdaP\\x0e\\xf7,w\\x8c\\xc1\\x1c\\x19N[3\\xc1`b\\xc94s\\xe4\\xfcL\\xa4\\xee\\xb6\\x1bL\\xa2\\xcdp>:\\xe0\\xb4/\\xdd\\x9d\\xf6E;\\xedKv\\xda\\x17p\\xdaP\\xce\\xee\\xfc\\x8d\\xa5\\xda\\x9a\\xd9\\x0c&\\x18L,\\x99f\\x8e\\x10\\xc2\\x95\\x91\\xa4\\x1b,h\\xd3#JtD8\\x1f\\xdd\\x84\\xaa\\x1cuW\\xda\\x17\\xad\\xb4/Yi_@iC9.\\xfb\\xbac\\x10\\x06\\xc9\\xd8\\x7f\\x840\\xf0\\x9a\\xb6>N,\\x99\\xd6\\x826\\x02\\x91\\x13\\x1bv\\xc3\\x0bmc\\xa96\\x1b\\x11NH\\x07\\x9c\\xf6\\xa5\\xbb\\xd3\\xbeh\\xa7}\\xc9N\\xfb\\x02N\\x1b\\xca\\xd9\\x84d,\\xd5\\xd6\\xc7\\xd9\\x0c&\\x18L,\\x99\\xe6\\x84\\xe4\\xfcN\\xa4\\xee\\xb6\\x1bL\\xa2\\xcdpB\\xf2\\x95\\xf6\\xfc\\xbe\\xb7\\xd2~\\xed\\xa8r\\x94\\x95\\xf6\\xa5V\\xdaX\\x8e9bL\\xbd\\xe6\\xed\\xde8\\xd0f0\\xc1`b\\xc94\\x9e\\x8d0\\x08\\xf6\\x8c\\xa4\\x1f\\xad\\n\\x921\\xa2DGTOH\\x02\\xaa\\x82\\xd4\\xdbi\\xbfv\\xbc\\x1d\\xa4\\x97\\x0f\\xf0\\x16\\xa4\\xd7?UA\\xd2\\xbf\\x13\\xc9\\x18\\xcc\\x91V\\xda\\x06\\x13\\x0c&\\x96L\\xe3\\xc4\\xc6 8\\xb1\\x19\\xddv\\x83ItD\\xf5\\x84D\\xa1f\\x8e\\x86\\xee9\\xaa\\x8d+\\xc9\\xd1)\\xe7\\xa8V\\xdaXN\\x1e\\xd62\\x08\\x83$\\x99\\xcd`\\x82\\xc1\\xc4\\x92i\\x9c\\xd9\\x18\\x04\\x0f\\xd9\\x8cn\\xbb\\xc1$:\"\\x0c\\x12\\x81\\x9aA\\xea\\xed\\xb4_;\\xaa \\r9H\\xb5\\xd3\\xc6rvf\\xd3\\xdb\\x8f\\x18\\xc7\\xd9\\x0c&\\x18L,\\x99f\\x8e\\x8cM\\xb5\\x8dn\\xbb\\xc1$\\xda\\x0cs\\xe4+\\xed\\xf9}o\\xa5\\xfd\\xdaQ\\xe5h\\xcc9\\xaa\\x956\\x96\\xa3\\x8ad\\x0c\\xceGZi\\x1bL0\\x98X2\\xcd\\x1c\\x19J\\xdb\\xe8\\xb6\\x1bL\\xa2#\\xc2\\x0b$_i\\xcf\\xef{+\\xed\\xd7\\x8e*G\\xe7\\x9c\\xa3Zic9\\x9b\\x8f\\xb4\\xd2fL\\xfd\\x88\\xcd8N0\\x98X2o\\xa7\\xac\\xfa\\x9dH\\n\\xd5?\\x16at\\xdb\\r&\\xb1f$G\\xfe:\\xed\\xf9}o\\xa5\\xfd\\xdaQ\\xe5h\\xca9\\xaa\\x956\\x96\\xb3\\xf9H+m\\x83\\xd9\\x0c&\\x18L,\\x99\\xe6|d\\xec>b|\\xfa\\xdd\\x18Q\\xa2#\\xc2\\xf3\\x9a\\xaf\\xb4\\xe7\\xf7\\xbd\\x95\\xf6kG\\x95\\xa39\\xe7\\xa8V\\xdaX\\xce\\xe6#\\xbdJ\\xdb8\\xcef0\\xc1\\xe8\\x15K\\xa6\\x99#c\\xf7\\x11\\xd6\\xad\\xfe!mc\\xd4\\x89\\x8e\\x08\\xe7#\\x7f\\x95\\xf6\\xfc\\xbe\\xb7\\xd2~\\xed\\xa8r\\xb4\\xe4\\x1c\\xd5J\\x1b\\xcb\\xd9\\x8d\\xbf6\\xda\\x06\\xb3\\x19L0\\x98X2\\x8dE\\x91\\x14\\xc2\\xfb5\\xe9\\xd8wcD\\x895#9\\xf2\\x8d\\xf6\\xfc\\xbe\\xb7\\xd1~\\xed\\xa8r\\xb4\\xe6\\x1c\\xd5F\\x1b\\xcb\\xd9yM/\\xd26\\x98\\xcd`\\x82\\xc1\\xc4\\x92i\\x8aH\\xf2+\\x91(\"\\xb1[\\xfd\\xc8\\xdf\\x18Q\\xa2#\\xc2\\x1c\\x1d0\\xda\\xa7\\xeeF\\xfb$\\x8d\\xf6\\xcb\\x07\\xc89\\x02\\xa3\\r\\xe5\\xe4\\xbc\\xa6\\x99{\\xc6\\xd4O\\xd8\\x8c\\xe3\\x04\\x83\\x89%\\xd3:\\xaf\\x11\\x08\\xcfk\\xba\\xdbn0\\x89\\x8e\\x08r\\xc4\\xa0\\xd6u\\xf6\\xa9\\xbb\\xd0>i\\xa1}\\xcaB\\xbb~\\xa0q\\xc5r\\xdc.\\x921\\x98#Chk&0\\x06\\xae\\x8fN\\xc6\\x1am\\x06\\r\\x98#Chk&\\xd1\\x11a\\x8e\\x0e\\x08\\xed\\xd3\\xd0=G\\xb5n%9\\xcaB\\xbb^6{\\xc5rr}D\\x18\\xcc\\x91d6\\x83\\t\\x06\\x13K\\xa6\\x99#\\x84H\\x8ed\\xb7\\xdd`\\x12\\x1d\\x11\\xdc\\xaf1\\xa8\\x99\\xa3\\xee>\\xfb\\xa4}\\xf6)\\xfb\\xec\\xfa9\\xd4\\x15\\xcb\\xd9yM/\\xd1f\\x0c\\xf8#\\xc2\\xd4\\x9b\\xfc\\x19\\xbdb\\xc9\\xb4\\xfc\\x11\\x83\\xc0\\x1f\\xe9n\\xbb\\xc1$\\xd6\\x8c\\xccG7\\xa5w\\x95\\xa3\\xee>\\xfb\\xa4}\\xf6)\\xfb\\xec\\xfa\\xbd\\xa2+\\x96\\xb3\\xf9\\xc8\\xf0\\xd9\\x9a\\xd9\\x0c&\\x18L,\\x99\\xb7\\x88L\\x90#\\x02\\xe1|$m\\xfen\\x8c(\\xb1f$G\\x07|\\xf6\\xa9\\xbb\\xcf>i\\x9f}\\xca>\\xbb\\xfepW,\\'\\xf7k\\x84\\xc1\\x1c\\xe9%\\xda\\x06\\x13\\x0c&\\x96L\\xf3\\xbcfl\\xa7mt\\xdb\\r&\\xd1f\\x98#\\x7f\\x89\\xf6|\\xea\\xee\\xb3O\\xdag\\x9f\\xb2\\xcf\\xaeO\\xdaW,g92|\\xb6f6\\x83\\t\\x06\\x13K\\xa6\\xb1\\x7f\\r\\x83\\xe0\\xe5l\\xa3\\xdbn0\\x895#9:\\xe0\\xb3O\\xdd}\\xf6I\\xfb\\xecS\\xf6\\xd9\\xf5_\\xdb+\\x96\\x93\\x9d\\xd9\\x18\\x84A2\\x84\\xb6f\\x82\\xc1\\xc4\\x92i\\xad@\"\\x10\\xb9\\xf1\\xc7n\\xf5\\xd2Z\\xc6\\xd4\\xef\\x8c\\xd0\\x11\\xe1\\x85\\xf6\\x01\\xa1}\\xea.\\xb4OZh\\x9f\\xb2\\xd0\\xae\\xa7\\xf6+\\x96\\xb3\\x0bmCh\\x13\\x06/\\xb4\\xf5n\\xdaF\\xafX2\\xcd\\x0bm\\x02\\xe1\\x85\\xb6!\\xb4\\xf5\\x88\\x12kF&$\\x025/\\xb4\\xbb\\x0b\\xed\\x93\\x16\\xda\\xa7,\\xb4k\\xef{\\xc5r\\x96#Ch\\x13\\x06s\\x84\\x0c\\xe6\\xc8\\x10\\xda\\'4\\xc3$G\\x04\\xc2\\x1c\\xe9%\\xda\\x06\\x93X3\\x92#\\xff\\'\"\\xe7\\xa1\\xbb\\xd0\\x1e\\xb4\\xd0>e\\xa1]\\xff\\x92\\xd4\\x15\\xcb\\xd9\\x89\\x8d@\\x10$\\xcdl\\x06\\x13\\x0c&\\x96L\\xeb\\t\\x1b\\x83\\xe0\\t\\x9b\\xee\\xb6\\xd3\\xaf\\xa8\\x0e\\x12i\\x86\\'6\\x06\\xb5NlCw\\xa3=h\\xa3=d\\xa3]\\xbf\\xc6u\\xc5\\xf2_\\xbf\\xaf7\\xf8c\\x0c\\xe6\\xc80\\xda\\x9a\\t\\x06\\x13K\\xe6\\xed\\xda\\x07\\x9e\\xb0\\x11\\x08\\xef\\xfcI78\\xb1\\xe9\\x11%\\xd6\\x8c\\xe4\\xe8\\x80\\xd1\\x1e\\x86\\xee9\\xaa\\x85+\\xc9Q6\\xda\\xf5\\xfe-W,\\xc7\\x1b\\xe4;\\x06a\\x90$\\xb3\\xd1f\\x10$\\xc9\\xc4\\x92i\\xdd\\xfa\\x13\\x08v\\x8b0F\\xbd\\x1bL\\xa2#\\x823\\xdbm\\xa8\\nRw\\xa5=h\\xa5=d\\xa5]O\\xedW,\\'\\x8f\\xd8\\x08\\x8392\\x96hk&\\x18L,\\x99\\xd6#\\x7f\\x02\\xc16HF\\xb7\\xdd`\\x12\\x1d\\x11NH\\x07\\x96h\\x0f\\xdd\\x95\\xf6\\xa0\\x95\\xf6\\x90\\x95v}\\x1dq\\xc5rr\\xa5\\xad\\x99{\\xc6\\xc0\\x95\\xb6>N0\\x98X2\\xcd\\xf9\\x08\\xa1\\x11Ol\\xc6\\x12m\\xcd$:\"\\xcc\\xd1M\\xa8\\xcaQw\\xa5=h\\xa5=d\\xa5=\\x80\\xd2\\x86r\\xa2\"\\t\\x8392\\x94\\xb6f\\x82\\xc1\\xc4\\x92i\\xe6\\x88,\\xd1\\xc6\\x1c\\x19J\\x9b0`\\x90\\xd8\\x880G\\x07\\x94\\xf6\\xd0]i\\x0fZi\\x0fYi\\xd7O\\xa2\\xaeX\\xce\\xcek\\x86\\xd2\\xd6\\xccf0\\xc1`b\\xc9\\xb4\\xee\\xfc\\x19\\x04w\\xfe\\xa4\\x1b^h\\x1bJ\\x9b4#\\xd7G\\x07\\x94\\xf6\\xd0]i\\x0fZi\\x0fYi\\xd7\\x7f#\\xafX\\xce\\xcek\\x86\\xd1&\\x0c\\x9e\\xd7\\x0c\\xa3\\xad\\x99X2\\xcd\\x1b\\x7f\\x02\\xe1\\x8d\\xbf\\x16\\xfa\\xbb1\\xa4\\xc4\\xba\\x91 \\xf9\\xdb\\x8e\\xccCw\\xa5=h\\xa5=d\\xa5]\\xff\\xbd\\xbdb9\\x0b\\x92\\xa1\\xb4\\t\\x83A2\\xd6hk&\\x96LsBr\\x94\\xb6\\xee\\xb6\\x1bLb\\xcdH\\x8e\\x0e(\\xed\\xa1\\xbb\\xd2\\x1e\\xb4\\xd2\\x1e\\xb2\\xd2\\xae\\xbf\\xc9+\\x96\\xb3\\x1c\\x19J\\x9b0\\x98#c\\x8d\\xb6fb\\xc94s\\xe4(m\\xddm7\\x98\\xc4\\x9a\\x91\\x1c\\x1dP\\xdacw\\xa5=j\\xa5=d\\xa5]\\xff\\x8c\\xc8\\x15\\xcbI\\x8e\\x083\\xd69\\xd2\\xc7\\xd9\\x0c&\\x18L,\\x99\\xd6\\x856\\x81p\\xad?\\xe9\\x06\\x17HzD\\x89\\x8e\\x08rt\\x1b\\xaar\\xd4\\xddh\\x8f\\xdah\\x8f\\xd9h\\xd7;e]\\xb1\\x9c=\\x1a!\\x10LH\\x9a\\xd9\\x0c&\\x18L,\\x997\\xc9\\x08\\x8bG\\x08\\x04?5bt\\xdb\\r&\\xb1fx\\xc7\\xc6\\xa0f\\x90\\x86\\xeeA\\xaa\\x85+\\tRV\\xda#(m(\\'wl\\x84\\xc1\\x1cIf3\\x98`0\\xb1d\\x9a\\x13\\x12Bx\\xe7\\xaf\\xbb\\xed\\x8c\\x81GllD8!\\xdd\\x84\\xaa\\x1cu7\\xda\\xa36\\xdac6\\xda#\\x18m(g\\'6\\xc3hkf3\\x98\\xc0\\x98z{\\xbf\\x92i\\xe6\\xc8\\xf8uHcD\\xbb\\xc1$:\"\\xcc\\xd1\\x01\\xa3=v7\\xda\\xa36\\xdac6\\xda#\\x18m(g92\\x8c6a\\xe0B[3\\xc1`b\\xc94sD\\xa0\\x0b\\xe4\\xc8X\\xa4\\xad?}\\xa2\\xcd0G\\x07\\x16i\\x8f\\xdd\\x8d\\xf6\\xa8\\x8d\\xf6\\x98\\x8d\\xf6\\x08F\\x1b\\xcaY\\x8e\\xa4\\xf5\\xbe7\\x8e\\xb3\\x19L0\\x98X2\\xcd\\x1c9\\x8b\\xb4u\\xb7\\xdd`\\x12m\\x869:`\\xb4\\xc7\\xeeF{\\xd4F{\\xccF\\xbb\\xbee\\xb9b9>\\xd0\\xbcc\\xd0\\x05\\x82d(m\\xcd\\x04\\x83\\x89%\\xd3zk\\x84Axb3Vik&\\xb1f\\xe4B\\xfb\\x80\\xd2\\x1e\\xbb+\\xedQ+\\xed1+\\xed\\xfaa\\xe5\\x15\\xcb\\xc9\\xdbG\\x84\\xa9\\xbf\\xa5{\\x06a\\x90\\x0c\\xa7\\xad\\x99X2\\xadU\\xda\\x04\"WH\\xfa\\xc7!\\x8d\\xaf(\\xd1\\x11a\\x90\\x0e\\xac\\xd2\\x1e\\xbb+\\xedQ+\\xed1+\\xed\\x11\\x946\\x94\\xe3]\\xf4\\x1d\\x83\\x16\\x08\\x92\\xe1\\xb4\\t\\x83A2\\x9c\\xf6H\\xe40\\x06\\xc9\\xd8I\\xdb\\xe8\\xb6\\x1bL\\xa2#\\xc2S\\xdb\\x81}G\\xc6\\xeeN{\\xd4N{\\xccN{\\x04\\xa7\\r\\xe5\\xec\\xd6\\x1f\\x99\\x15rd\\xec;\\xa2\\x99\\xc0\\x18\\xbc\\xd46v\\xd2f\\x10\\xbe\\x7f\\xa4G\\xb4\\x1bL\\xa2#\\xc2\\x1c\\x1d\\xd8w\\xe4\\xdc\\xddi\\x9f\\xb5\\xd3\\x1e\\xb3\\xd3\\xae_\\xf7\\xbab9\\xec(u\\xc7\\x18\\xb8e\\xd3\\xcc\\xc6\\x18\\xb8e\\xd3\\xc7\\x89%\\xd3\\xca\\x11\\x81p>\\xd2\\xddvc\\xd4\\x89\\x8e\\x08Nl\\x0cj\\xe6\\xa8\\xbb\\xd3>k\\xa7}\\xceN\\xbb\\xfe\\x1by\\xc5r2\\x1f\\x11\\x06sd(m\\xc2`\\x8e\\x0c\\xa5}&n\\x18\\xcek\\x04\"92\\x94\\xb6f\\x12\\x1d\\x11\\xccG\\xb7\\xa1*GC\\xf7\\x1c\\xd5\\xc6\\x95\\xe4(+\\xed3(m(\\'\\xb7\\xfe\\x9a\\xb97\\x98\\xcd`\\x82\\xc1\\xc4\\x92i\\xceG\\x08\\x91\\x1c\\xc9n\\xbb\\xc1$:\"\\xcc\\xd1M\\xa8\\xcaQw\\xa5}\\xd6J\\xfb\\x9c\\x95\\xf6\\x19\\x946\\x94\\xe3\\x7f\\x93;\\x06a\\x90\\x0c\\xa7\\xad\\x99`0\\xb1d\\x9aAr6\\xd2\\xd6\\xddv\\x83I\\xb4\\x19\\x06\\xe9\\x80\\xd3>ww\\xdag\\xed\\xb4\\xcf\\xd9i\\xd7?\\xc5y\\xc5r\\xf2\\xfa\\x11a0G\\xc6\\xc6#\\x9a\\t\\x06\\x13K\\xa6\\xb5\\x9a\\x8dA\\xb0\\x9aMw\\xdb\\r&\\xb1f$G\\x07\\x9c\\xf6\\xb9\\xbb\\xd3>k\\xa7}\\xceN\\xbb~\\xff\\xe6\\x8a\\xe5\\xec\\xc4f\\xac\\xd2\\xd6\\xccf0\\x811\\xf0\\x8c\\xed\\xec8m\\x02\\xd5K\\x1e>\\x18#\\xda\\x19\\x83\\x17\\xda\\x8e\\xd3\\xbe\\rU9\\xea\\xee\\xb4\\xcf\\xdai\\x9f\\xb3\\xd3>\\x83\\xd3\\x86r\\x96#d\\xce\\x90#Ci\\x13\\x06\\xde\\xcf\\xd6\\xc7\\x89%\\xf3v\\xed\\x03\\x8b\\xd9\\x08T?\\x19\\xfa`t\\xdb\\x19\\x839rVi\\xdf\\x86\\xaa\\x1cuW\\xdag\\xad\\xb4\\xcfYi\\xd7\\x97\\x9aW,\\xa7\\x17H\\xc62m\\xcdl\\x06\\x13\\x0c&\\x96\\xcc\\xdb\\xfa\"\\xbcc#\\xcb\\xb4\\xf1J\\xdbP\\xda\\x9aI\\xac\\x19\\t\\xd2\\x01\\xa5}\\xee\\xae\\xb4\\xcfZi\\x9f\\xb3\\xd2\\xae\\xff\\xde^\\xb1\\x9cMH\\xc6*m\\xcdl\\x8c9C\\x8e\\xc8\\x8fUB\\x8e\\x88\\x1a\\xc6\\x13\\x1bY\\xa5\\x8d92\\x8c\\xb6f\\x12\\x1d\\x11\\xe6\\xe8\\xc0*\\xedsw\\xa3}\\xd6F\\xfb\\x9c\\x8dv\\xfd:\\xfc\\x15\\xcbY\\x8e\\x8cU\\xda\\x9a\\xd9\\x18\\x83\\x06\\xc90\\xdagT\\xc3\\x13^h\\x93U\\xda\\x98#\\xc3hk&\\xb1f$G\\x07ViO\\xdd\\x8d\\xf6\\xa4\\x8d\\xf69\\x1b\\xed\\xfa\\xe9\\xd9\\x15\\xcbaO\\xf2;\\xc6@\\x8e4\\xb3\\x19L`\\x0c\\xe4h\"\\xb2\\x1ar\\xc4 \\xb8@\\xd2#\\xda\\r&\\xb1f\\x98\\xa3\\xdbP\\x95\\xa3\\xeeF{\\xd2F{\\xcaF\\xbb^\\xa6|\\xc5r2\\x1f\\x11\\x06\\x16!ifc\\xcc\\x0892\\x8c\\xf6\\x84j\\x18\\xdf\\x1aa\\x10\\xbc5\\xa2\\xbb\\xed\\xc6\\'K\\xac\\x19\\xc9\\xd1\\x01\\xa3=\\r\\xddsT\\x0bW\\x92\\xa3l\\xb4\\'0\\xdaP\\xcer$\\x99{\\xc6`\\x8e$\\x13\\x8c^\\xb1dZ\\xd7G\\x04\\xc2\\xf3\\x9a\\xee\\xb6\\x1bL\\xa2#\\xc2\\x1c\\x11\\xa8y^\\xebn\\xb4\\'m\\xb4\\xa7l\\xb4\\xeb\\xdb\\x9a+\\x96\\xb3\\x1c\\x19B\\x9b0\\xf0\\x0b\\x11\\xfa8\\xc1`b\\xc94s\\x84\\x10n\\x17\\xa1\\xbb\\xed\\x06\\x93\\xe8\\x880G\\x07v\\xd2\\x9e\\xba\\x0b\\xedI\\x0b\\xed)\\x0b\\xed\\xfar\\xf4\\x8a\\xe5d-\\x1ba0G\\x86\\xd0\\xd6L0\\x98X2\\xcd\\x1c9;i\\xebn;c\\xf0\\xbc\\xe6\\x08\\xed\\xdbP\\x95\\xa3\\xeeB{\\xd2B{\\xcaB{\\x02\\xa1\\r\\xe5l>2\\x846a\\xf0\\xbc&eu0z\\xc5\\x92i^\\x1f9\\xbf\\x0c\\xa9\\xbb\\xed\\xc6\\'K\\xac\\x19\\xc9\\xd1\\x01\\xa1=u\\x17\\xda\\x93\\x16\\xdaS\\x16\\xda\\x13\\x08m(goC\\x12\\x08\\x83d\\x18m\\xcd\\x04\\x83\\x89%\\xd3\\x9c\\x90\\x9cE\\xda\\xba\\xdbN\\xbf\"\\x08\\x92c\\xb4oCU\\x90\\xba\\x1b\\xedI\\x1b\\xed)\\x1b\\xed\\t\\x8c6\\x94\\xb3\\t\\xc9\\x10\\xda\\x84\\x19!G\\x86\\xd0\\xd6L,\\x99f\\x8e\\x9c5\\xdaz\\xd4\\xbb1\\xa2DG\\x849:\\xb0\\xed\\xc8\\xd4]hOZhOYhO \\xb4\\xa1\\x9c,e#\\x0c\\xe6\\xc8\\x10\\xda\\x9a\\t\\x06\\x13K\\xa6\\x99#\\x02\\xc1\\xca\\x11\\xddm7\\x98D\\x9b\\xc1\\x92H\\x065\\xe7\\xa3\\xeeB{\\xd2B{\\xcaB{\\x02\\xa1\\r\\xe50k\\xdf1\\x06sd\\x08m\\xc2\\xcc\\x90#2\\x1e4\\x91\\xce\\x1am\\x02\\x91\\x13\\x9ba\\xb45\\x93\\xe8\\x88pB:\\xb0F{\\xeen\\xb4gm\\xb4\\xa7l\\xb4\\'0\\xdaPN\\x96 \\x11f\\xa8\\x83D\\x18\\x08\\x92f\\x82\\xc1\\xc4\\x92i\\xe5\\x88@\\xb8\\xd6_w\\xdb\\r&\\xd1\\x11\\xc1\\x84\\xc4\\xa0f\\x8e\\xba\\x1b\\xedY\\x1b\\xed9\\x1b\\xed\\x19\\x8c6\\x94\\x93\\xb5\\xfe\\x84\\x81\\tI3\\x9b\\xc1\\x04\\x83\\x89%\\xf3\\xf6\\x1f\\x046\\xae%\\x10n\\\\\\xab\\xbb\\xed\\x8c\\x81\\x0bm6\"\\xcc\\xd1\\x01\\xa3=\\x0f\\xddsT\\x0bW\\x92\\xa3l\\xb4g0\\xdaP\\x8e\\'\\x92;\\x06a\\x90$\\xb3\\x19L0\\x98X2\\xcd !\\x84\\x1b!\\xb1\\x8f\\x0fA\\x92#JtD\\x18$\\x025\\x83\\xd4]i\\xcfZi\\xcfYi\\xcf\\xa0\\xb4\\xa1\\x9cMH\\xc8\\xc0Kl\\x84\\xc1\\x1c\\x19J\\x9b0\\xb0&rv\\x946\\x81\\xc8\\x84\\x84\\xdd.\\x90#Ci\\xb3\\x11\\xc1\\x05\\xd2m\\xa8\\xcaQw\\xa5=k\\xa5=g\\xa5=\\x83\\xd2\\x86r\\xa6\\x90\\x08\\x84\\x13\\x92\\xe1\\xb45\\x13\\x0c&\\x96L3H\\x8e\\xd3f\\x1f\\x1f~\\x86]\\x0f)\\xd1!a\\x92\\x0eH\\xed\\xb9\\xbb\\xd4\\x9e\\xb5\\xd4\\x9e\\xb3\\xd4\\x9eAjC9\\xae\\x9c\\xbfc\\x10<\\xf5\\'\\x0c&\\xc9X\\xa6\\xad\\x99X2\\xcd$9\\xcb\\xb4I\\xb7\\x05\\x82dXm6\"\\x0c\\xd2\\x01\\xab=w\\xb7\\xda\\xb3\\xb6\\xdas\\xb6\\xda3Xm(\\'2\\x920\\x98#Cjk&\\x18L,\\x99\\xd6k#\\x0c\\x82\\xd7FH\\xb7\\x15rd\\xec<B\\x9a\\x91\\x1c\\x1d\\x90\\xdasw\\xa9=k\\xa9=g\\xa9=\\x83\\xd4\\x86r|\\x18u\\xc7 <\\xb5\\x19\\xcb\\xb45\\x13\\x0c&\\x96Lk9\\x1b\\x83`9\\x9b\\xee\\xb6\\x1bLb\\xcd\\xc8\\xb5\\xf6\\x81e\\xdasw\\xab=k\\xab=g\\xab=\\x83\\xd5\\x86rv\\xadmXm\\xcdl\\x06\\x13\\x0c&\\x96L\\xeb\\xbd\\x11\\x02\\xd5\\x0f\\xab?\\x18\\xddv\\x83I\\xac\\x19\\xc9\\xd1\\x81e\\xdasw\\xab=k\\xab=g\\xab=\\x83\\xd5\\x86rvb#\\xa6\\x19^@\\xd2\\x07\\xda\\x18\\x03\\xcf\\xfd\\xf5qb\\xc94\\xaf\\x90\\x10\"7\\xff\\x86\\xd5\\xd6L\\xa2#\\xc23\\xdb\\x81u\\xdaKw\\xab\\xbdh\\xab=g\\xab=\\x83\\xd5\\x86r\\xfc\\xabt\\xc7 \\x98\\x914\\xb3\\x19L0\\x98X2\\xad-#\\x08T\\xef\\x95\\xf9\\xc1\\xe8\\xb6\\x1bL\\xa2#\\x82\\x19\\xe96T\\x05\\xa9\\xbb\\xd6^\\xb4\\xd6^\\xb2\\xd6^@kC9>\\xd6\\xbcc\\x10\\x06\\xc9\\xf0\\xda\\x9a\\t\\x06\\x13K\\xa65#1\\x08\\xb6\\x1d\\xd5\\xddv\\x83I\\xb4\\x19\\xccH\\x0cj\\x06i\\xe8\\x1e\\xa4\\xda\\xba\\x92 e\\xaf\\xbd\\x80\\xd7\\x86rrj#\\x0cl\\xf2\\xa7\\x8f\\xb3\\x19L0\\x98X2-\\xad\\xcd \\xcc\\x91\\xec\\xb6\\x1bL\\xa2\\xcdpB\"P\\xebR{\\xe9\\xae\\xb5\\x17\\xad\\xb5\\x97\\xac\\xb5\\x17\\xd0\\xdaP\\xcerd\\xac\\xd4&\\x0c\\xac\\x8c$\\x0c\\\\!i&\\x96Ls>r\\xb6\\x1e!\\xdd\\xce\\x90#Ck\\xb3f8\\x1f\\x1dX\\xa9\\xbdt\\xd7\\xda\\x8b\\xd6\\xdaK\\xd6\\xda\\x0bhm(g9\\x92k\\x95\\xef\\x8d\\xe3l\\x06\\x13\\x0c&\\x96L\\xf3\\x02\\t!\\\\\\xd0\\xa6\\xbb\\xed\\x06\\x93\\xe8\\x88p>: \\xb5\\x97\\xeeR{\\xd1R{\\xc9R{\\x01\\xa9\\r\\xe5dA\\x1bap>2\\x9c\\xb6f\\x82\\xc1\\xc4\\x92i\\xceG\\x08\\x91\\x1c\\x19+\\xb55\\x93\\xe8\\x880G\\x07\\x9c\\xf6\\xd2\\xddi/\\xdai/\\xd9i/\\xe0\\xb4\\xa1\\x9c\\xde\\xb1\\x19+\\xb55\\xb3\\x19L0\\x98X2\\xcd\\t\\x89lP\\x82A2Vjk&\\xd1\\x11\\xe1\\x89\\xed\\x80\\xd4^\\xbaK\\xedEK\\xed%K\\xed\\x05\\xa46\\x94\\x13\\x17I\\x18\\xcc\\x91\\xe1\\xb4\\t\\x03\\xafD\\xea\\xe3\\xc4\\x92y{\\xee\\x01\\xbf\\x7f\\xc4 \\xcc\\x91\\xe1\\xb45\\x93X3\\x92\\xa3\\x03+\\xb5\\x97\\xeeN{\\xd1N{\\xc9N{\\x01\\xa7\\r\\xe5\\xec\\x02I\\xae\\xe6\\xbeg\\x0c\\xbc\\x12I\\x18\\xd8z\\x840\\xb0\\xc0vA9\\x8c\\xaf 1\\x08^A\\xd2\\xddv\\x83I\\xac\\x19\\xc9\\xd1\\x01\\xa7\\xbdtw\\xda\\x8bv\\xdaKv\\xda\\x0b8m(g\\x17H\\xc6Jm}\\x9c\\xcd8N0\\x98X2\\xcd\\x1b\\x7fg3m\\xddmg\\x0c\\xe6\\xc8Q\\xda\\xb7\\xa12Gkw\\xa5\\xbdj\\xa5\\xbdd\\xa5\\xbd\\x80\\xd2\\x86r\\xb2P\\x9b0\\x90#\\xcdl\\x06\\x13\\x0c&\\x96L\\xebB\\x9b@\\xf5\\x8b|\\x1f\\x8cn;c\\xe0W\"\\xd8\\x88 G\\xb7\\xa1*G\\xdd\\x8d\\xf6\\xaa\\x8d\\xf6\\x9a\\x8d\\xf6\\nF\\x1b\\xca\\xd1\\xd7\\xdd1\\x08\\x83d\\x18m\\xcd\\x04\\x83\\x89%\\xf3\\x96\\x11\\x0c\\x12Y\\xa9\\r\\x17H\\xba\\xdbn0\\x895\\xc3;\\xb6\\xdbP\\x15\\xa4\\xa1{\\x90j\\xe1J\\x82\\x94\\x8d\\xf6\\nF\\x1b\\xca\\xc9\\x05\\x12a\\xe0\\x02I\\x1fg3\\x98`0\\xb1d\\xde\\x9e\\x9e\\xc1\\x856\\x81\\xf0\\xc4\\xa6\\xbb\\xed\\x8c\\x81\\x13\\x1biFrD\\xa0\\xe6\\x84\\xd4\\xddh\\xaf\\xdah\\xaf\\xd9h\\xaf`\\xb4\\xa1\\x9c\\xbc\\xcaF\\x18\\x9c\\x8f\\x8c\\x85\\xda\\x9a\\t\\x06\\x13K\\xa6u\\x81D \\\\\\xa8\\xad\\xbb\\xed\\x06\\x93\\xe8\\x880G\\x07\\x16j\\xaf\\xdd\\x8d\\xf6\\xaa\\x8d\\xf6\\x9a\\x8d\\xf6\\nF\\x1b\\xca\\xd9\\x9b#\\x04\\xc2 \\x19J[3\\xc1`b\\xc94\\xaf\\x90\\x9c\\x85\\xda\\xba\\xdb\\xce\\x98\\x11\\x82\\xe4(m\\x065\\x83\\xd4]i\\xafZi\\xafYi\\xaf\\xa0\\xb4\\xa1\\x9c\\x06\\xc9X\\xa7M\\x18\\x0c\\x92<N0\\x8e\\x13K\\xa6\\x19$\\xb2\\xfb\\x08\\x06\\xc9p\\xda\\x9aItDx\\xa9}\\xc0i\\xaf\\xdd\\x9d\\xf6\\xaa\\x9d\\xf6\\x9a\\x9d\\xf6\\nN\\x1b\\xca\\xd9\\x99\\xcdP\\xda\\x9a\\xd9\\x0c&\\x18L,\\x99f\\x8e\\x9c\\xcdGt\\xb7\\xdd`\\x12\\x1d\\x11NH\\x07\\x94\\xf6\\xda]i\\xafZi\\xafYi\\xaf\\xa0\\xb4\\xa1\\x9c\\xe5\\xc8P\\xda\\x9a\\xd9\\x0c&\\x18L,\\x99f\\x8e\\x08\\x04\\xcf\\xfcI\\xb7\\x01rd(m\\xd6\\x0c\\xe7\\xa3\\x03\\xcb\\xb4\\xd7\\xeeJ{\\xd5J{\\xcdJ{\\x05\\xa5\\r\\xe5\\xec\\x8e\\xcdX\\xa6M\\x18X;\\xa2\\x8f\\x13\\x0c&\\x96L3Gd\\x996\\xe6\\xc8X\\xa6\\xad\\x99DG\\x849:\\xa0\\xb4\\xd7\\xeeJ{\\xd5J{\\xcdJ{\\x05\\xa5\\r\\xe5,G\\x86\\xd2\\xd6\\xcc\\xc6\\x18X\\x83\\xa4\\x8f\\x13K\\xa6\\xf5h\\x84A\\xf0hDw\\xdb\\r&\\xb1f$G\\x07Vi_\\xba+\\xed\\x8bV\\xdakV\\xda+(m(\\'9\"\\x0c\\xec=\\xa2\\x8f\\xb3\\x19L0\\x98X2\\xad\\xd7F\\x08\\x84\\xaf\\x8d\\x90n\\xf0\\x1e\\x9b\\x1eQb\\xcd\\xf0\\xfa\\x88A\\xad\\xf3\\xda\\xa5\\xbb\\xd2\\xbeh\\xa5}\\xc9J\\xfb\\x02J\\x1b\\xca\\xe1\\xcd\\xd2;\\xc6\\xc0|\\xa4\\x99\\xcd`\\x82\\xc1\\xc4\\x92i\\x9d\\xd7\\x084\\x80\\x89\\xd4\\xddv\\x83ItD\\x98\\xa3\\x03{\\x8f\\\\\\x86\\xee9\\xaa\\x85+\\xc9Q6\\xda\\x170\\xdaPN\\xae\\xb3\\t\\x839\\x92\\xccf0\\xc1`b\\xc94s\\x84\\x10\\xde\\xaf\\xe9O\\xbf\\x1b#JtDp^\\xbb\\rU9\\xean\\xb4/\\xdah_\\xb2\\xd1\\xbe\\x80\\xd1\\x86\\xf2\\x97\\xaf\\x1b\\xd6\\xb2\\x11\\x08\\x83d(m\\xcd\\x04\\x83\\x89%\\xd3\\x0c\\x92\\xb3H\\x9bt\\xc3 \\x19J\\x9b5\\xc3 \\x1dP\\xda\\x97\\xeeJ\\xfb\\xa2\\x95\\xf6%+\\xed\\x0b(m(\\xc7o\\xe0\\x8eA\\x18$Cik&\\x18L,\\x99f\\x90\\x08\\x84A2\\x94\\xb6f\\x12m\\x86g\\xb6\\x03J\\xfb\\xd2]i_\\xb4\\xd2\\xbed\\xa5}\\x01\\xa5\\r\\xe5\\xec\\xccf\\xac\\xd2\\xd6\\xccf0\\xc1`b\\xc94sD \\xcc\\x91a\\xb45\\x93h3\\x9c\\x90\\x0e\\x18\\xedKw\\xa3}\\xd1F\\xfb\\x92\\x8d\\xf6\\x05\\x8c6\\x94\\xe3\\x06\\x1dw\\x0c\\xc2 \\x19J[3\\xc1`b\\xc9\\xb4Vi\\x13\\x08Wi\\x93nu\\x00vcH\\x89\\x0e\\t\\x93t\\xc0i_\\xba;\\xed\\x8bv\\xda\\x97\\xec\\xb4/\\xe0\\xb4\\xa1\\x9c\\xfcR\\x04a0H\\xd2\\x8do\\xc6q\\x82\\xc1\\xc4\\x92i\\x06\\xc9\\xd9P[w\\xdb\\r&\\xd1\\x11a\\x8e\\x0e8\\xedKw\\xa7}\\xd1N\\xfb\\x92\\x9d\\xf6\\x05\\x9c6\\x943\\x87d8m\\xc2`\\x8e\\x0c\\xa7\\xad\\x99X2\\xcd\\x1c\\x91\\xfdI0G\\x86\\xd3\\xd6L\\xa2#\\xc2\\x1c\\x1dp\\xda\\x97\\xeeN\\xfb\\xa2\\x9d\\xf6%;\\xed\\x0b8m(\\xc7\\xaf\\xfb\\x8eA\\x18$Cjk&\\x18L,\\x99f\\x90\\xc8:m\\x0c\\x12v\\x83]\\xfe\\xf4\\x88\\x12\\x1d\\x11\\x06\\xc9_\\xa7\\xbd\\xbc\\xef-\\xb5_;\\xaa e\\xa9}\\xa9\\xa56\\x96\\x93\\x1d#\\x18T\\x07\\xc9`6\\x83\\t\\x06\\x13K\\xa6\\x11$\\x06A\\x90\\x8cn;\\xfd\\x8a\\xaa \\xd1\\x11\\xd5\\xf7l\\x02\\xaa\\x82\\xd4\\xdbj\\xbfv\\xbc\\x1d\\xa4\\x97\\x0f\\xf0\\x16\\xa4\\xd7?UA\\xd2\\xbf\\x11\\xc9\\x98\\xfa\\xe9\\x88q\\x9c\\xcd`\\x82\\xc1\\xc4\\x92i\\xdc\\xb31\\x08\\xac6\\xebVK$cD\\x89\\x8e\\x08s\\xe4\\xaf\\xd3^\\xde\\x0f\\xddsTKW\\x92\\xa3S\\xceQm\\xb5\\xb1\\x9c\\xe5\\x08\\x19\\xcc\\x91<\\xce\\xc6\\x98z5\\x9bq\\x9cX2\\xcd\\x1c!Dr$\\xbb\\xed\\x06\\x93\\xe8\\x88\\xea\\x13\\x1b\\x85\\x9a9\\xeam\\xb5_;\\xaa\\x1c\\r9G\\xb5\\xd5\\xc6r\\xdcy\\xea\\x8eAxb\\xd3[\\x8f\\x18\\xc7\\t\\x06\\x13K\\xa6\\xf1\\xd8\\x9fB\\xf5c\\x7f\\xa3\\xdbn0\\x895#A\\xf2\\xb7\\x1eY\\xde\\xf7\\xb6\\xda\\xaf\\x1dU\\x90\\xc6\\x1c\\xa4\\xdajc9\\xcaH\\xc6`\\x8e\\xb4\\xd46\\x98`0\\xb1d\\x9a\\x13\\x12B\\xf0c\\xa3F\\xb7\\xdd`\\x12\\x1d\\x11\\xe6\\xc8\\x97\\xda\\xcb\\xfb\\xdeR\\xfb\\xb5\\xa3\\xca\\xd19\\xe7\\xa8\\x96\\xdaX\\xceNlz\\x99\\xb6q\\x9c\\xcd`\\x82\\xc1\\xc4\\x92i\\xe6\\x88l\\xa7]\\xbf\\x11\\xc9\\xba\\xd5\\xbf\\xc9\\xc6\\x98\\xfa\\x8dH:\"\\xcc\\xd1\\xcd\\xfdI\\xaa\\x1c\\xf5\\x96\\xda\\xaf\\x1dU\\x8e\\xa6\\x9c\\xa3Zjc9\\xee\\x18\\xc1\\x18\\x9c\\x8f\\xb4\\xd36\\x98`0\\xb1d\\xde\\xee\\xc5\\xea\\x17\\xd9\\x18T\\xff\\x14\\xfd\\x07\\xa3\\xdb\\xce\\x98\\xfa\\xbd\\x11\\xd6\\x8c\\\\h\\xfbJ{y\\xdf[i\\xbfvT9\\x9as\\x8ej\\xa5\\x8d\\xe5\\xec\\xbc\\xa6\\x95\\xb6\\xc1l\\x06\\x13\\x0c&\\x96Ls>2v\\x1e1\\xba\\xed\\x06\\x93\\xe8\\x88p>\\xf2\\x95\\xf6\\xf2\\xbe\\xb7\\xd2~\\xed\\xa8r\\xb4\\xe4\\x1c\\xd5J\\x1b\\xcb\\xf1\\x9a\\xf5\\x8eA\\x18$\\xbd\\x9d\\xb6\\xc1\\x04\\x83\\x89%\\xd3x#\\x92A\\xf0F\\xa4\\xd1m7\\x98DG\\x84\\x13\\x92\\xff#\\x91\\xcb\\xfb\\xdeN\\xfb\\xb5\\xa3\\n\\xd2\\x9a\\x83T;m,\\xc7-#\\x18\\x839\\xd2J\\xdb`\\x82\\xc1\\xc4\\x92il\\x85D!\\x9c\\x90\\xe4\\x86)\\xbb1\\xa2\\xc4\\x9a\\x91\\x1c\\xf9\\xeb\\xb4\\x97Sw\\xa5}\\x92J\\xfb\\xe5\\x03\\xe4\\x1c\\x81\\xd2\\x86r\\xa6\\xb4\\t\\x04Ab\\x07\\xaa\\x83\\xa4\\x8f\\x13\\x0c&\\x96L\\xeb\\xce\\x9fAp\\xe7\\xaf\\xbb\\xed\\x06\\x93X3\\x0c\\xd2m\\xa8\\nRw\\xa5}\\xd2J\\xfb\\x94\\x95v\\xfd3YW,\\xa7A\\xd2+\\xb5\\rf3\\x98`0\\xb1dZ\\x97H\\x04\\xc2\\x19Iw\\xdb\\r&\\xd1\\x11\\xc1%\\xd2m\\xa8\\n\\xd2\\xd0=H\\xb5r%A\\xcaN\\xbb~\\xfb\\xfa\\x8a\\xe5\\xbf\\xe2\\x8f\\xb21\\x08\\x83$\\x99\\xcd`\\x82\\xc1\\xc4\\x92y\\xbb\\x1d;A\\x90\\x10\"A\"\\x1f\\x1f\\x82$G\\x94X32#\\x11\\xa8\\x19\\xa4\\xeeR\\xfb\\xa4\\xa5\\xf6)K\\xed\\xfa\\x99\\xe6\\x15\\xcbq\\x19\\x12c\\xea\\xb0\\xdd3\\x08\\x83dHm=\\xa0X2\\xad\\xa7\\xb5\\x04\\xc2\\xa7\\xb5zD\\xbb\\xc1$:\"\\x9c\\x91\\x0eH\\xedSw\\xa9}\\xd2R\\xfb\\x94\\xa5\\xf6\\t\\xa46\\x94\\x13\\x19\\xa9\\x99{\\xc6\\xe0%\\x92d\\x82\\xd1+\\x96L\\xf3\\xccf\\xac\\xd46\\xba\\xed\\x06\\x93h3\\xcc\\xd1\\xcd\\xe5\\xdcU\\x8e\\xbaK\\xed\\x93\\x96\\xda\\xa7,\\xb5\\xeb\\x0fw\\xc5r\\x96#\\xbdR\\xdb`6\\x83\\t\\x06\\x13K\\xa6\\x99#\\x84&\\xbc\\xd4\\xd6+\\xb5\\x19\\x03\\xabG\\xd8\\x880G\\x07\\xa4\\xf6\\xa9\\xbb\\xd4>i\\xa9}\\xcaR\\xbb>k_\\xb1\\x9c\\xe5\\xc8\\x90\\xda\\x84\\xa9\\xb7\\xaf5\\x8e\\x13\\x0c&\\x96L3G\\xc6\\xde#F\\xb7\\xdd`\\x12\\x1d\\x11\\xe6\\xe8\\xa6\\xf9\\xaer\\xd4]j\\x9f\\xb4\\xd4>e\\xa9]\\x7f\\xddW,Gew\\xc7 \\x0c\\x92a\\xb55\\x13\\x0c&\\x96L\\xf3\\x02\\t!\\xf8\\xd1Z\\xfa\\xf1!H\\x86\\xd5f#\\xc2 \\x1d\\xb0\\xda\\xa7\\xeeV\\xfb\\xa4\\xad\\xf6)[\\xed\\xfa\\x12\\xe1\\x8a\\xe5lB2\\xa4\\xb6f6\\x83\\t\\x06\\x13K\\xa6\\xe9\\x90\\x8c\\xfd\\xb4\\x8dn\\xbb\\xc1$\\xd6\\x8c\\xe4\\xc8_\\xa8\\xbd\\x9c\\xbaK\\xed\\x93\\x96\\xda\\xa7,\\xb5\\xebg\\x08W,\\'Ok\\t\\x8392\\xa4\\xb6f\\x82\\xc1\\xc4\\x92i\\x9e\\xd8\\xc8OD\\xe2\\x89Mo>b0\\x89\\x8e\\x08\\xef\\xfc\\x0f\\xac\\xd3\\x1e\\xbaK\\xedAK\\xedS\\x96\\xda\\xf5\\x16\\xc7W,\\'\\xf3\\x91f\\xee\\rf3\\x98\\xc0\\x98z\\x7f\\xff\\x92y\\xbb\\x86\\x86\\x87#\\x04\\x9a\\xe1\\xbc\\xa6G\\xb4\\x1bLb\\xcd0G\\x0cj\\xe6\\xa8\\xbb\\xd3\\x1e\\xb4\\xd3\\x1e\\xb2\\xd3\\xae\\x17\\x98^\\xb1\\x9c\\xe5\\xc8P\\xda\\x84\\x81\\x1b\\x7f\\xcd\\x04\\xa3W,\\x99\\xd6y\\x8dAp^\\xd3\\xddv\\x83I\\xac\\x19\\x9e\\xd7\\x18\\xd4:\\xaf\\rC\\xf7\\x1c\\xd5\\xc2\\x95\\xe4(+\\xed\\xfa\\x1a\\xfa\\x8a\\xe5,G\\x92\\xb97\\x98\\xcd`\\x82\\xc1\\xc4\\x92i\\x9d\\xd7\\x08\\x847l\\xba\\xdbn0\\x89\\x8e\\x08sD\\xa0f\\x8e\\xba\\x1b\\xedA\\x1b\\xed!\\x1b\\xed\\xfa\\xed\\xeb+\\x96\\xb3\\x1c\\x19\\xab\\xb45\\xb3\\x19L0\\x98X2\\xcd\\x1c\\x19{\\x8f\\x18\\xddv\\x83I\\xb4\\x19\\x9e\\xd7\\xfc\\xbdG\\x96\\xa1\\xbb\\xd0\\x1e\\xb4\\xd0\\x1e\\xb2\\xd0\\x1e@hC9{\\xc4F \\x0c\\x92\\xb1L[3\\xc1`b\\xc94\\x83dl\\xa7mt\\xdb\\xe9W\\x04A2\\xf6\\x1e\\xa1P3H\\xdd\\x8d\\xf6\\xa0\\x8d\\xf6\\x90\\x8d\\xf6\\x00F\\x1b\\xca\\xc9*$\\xc2`\\x8e\\x0c\\xa3\\xad\\x99`0\\xb1dZ\\xab\\xd9\\x08t\\x1e G\\x86\\xd1&\\x0c\\xe6\\xc8\\xf8\\x85H\\n5s\\xd4\\xddh\\x0f\\xdah\\x0f\\xd9h\\xd7\\x1bf]\\xb1\\x9c,\\xaf%\\x0c\\xe6\\xc8X\\xa6\\xad\\x99`0\\xb1d\\x9a\\xf3\\x91c\\xb4u\\xb7\\xdd`\\x12\\x1d\\x11\\xe6\\xe8\\xc02\\xed\\xa1\\xbb\\xd1\\x1e\\xb4\\xd1\\x1e\\xb2\\xd1\\xae\\xbf\\xc9+\\x96\\xb3\\x1c\\x19B[3\\x9b\\xc1\\x04\\x83\\x89%\\xd3\\x9c\\x8f\\x08T\\xff\\x12\\xbb\\xd1m7\\x98D\\x9b\\xe1\\x85\\xf6\\x01\\xa1=t\\x17\\xda\\x83\\x16\\xdaC\\x16\\xda\\xf5\\xfd\\xf1\\x15\\xcbY\\x8e\\x0c\\xa1\\xad\\x99\\xcd`\\x82\\xc1\\xc4\\x92y;e\\x8d\\x90#\\x02\\xd5\\xbb\\xd7\\xb2n\\xf0`D\\x8f(\\xb1f$G\\x07Vi\\x0f\\xdd\\x85\\xf6\\xa0\\x85\\xf6\\x90\\x85v\\xadP\\xaeX\\xcen\\xd8\\x0c\\xa1\\xad\\x99\\xcd`\\x82\\xc1\\xc4\\x92i=`#\\x10\\xae@\"\\xdd0G\\x86\\xd0f#\\xc2\\xf3\\xda\\x01\\xa1=v\\x17\\xda\\xa3\\x16\\xdaC\\x16\\xda\\xf5\\xa2\\xf8+\\x96\\x93\\xf9\\x880\\x90#\\xcdl\\x06\\x13\\x0c&\\x96L\\xeb\\xfa\\x88@x}\\xa4\\xbb\\xed\\xc67\\x94\\xe8\\x88`>\\xba\\rU9\\xea.\\xb4G-\\xb4\\xc7,\\xb4\\xebG\\xdeW,g92\\x84\\xb6f6\\x83\\t\\x06\\x13K\\xa6\\x99#\\x02\\x81@\\xd2\\xddv\\x83I\\xb4\\x19\\xe6\\xe8\\xc0\\x1a\\xedq\\xe8\\x9e\\xa3\\xda\\xb7\\x92\\x1ce\\xa1=\\x82\\xd0\\x86r\\x96#\\xa9t\\xef\\rf3\\x98`0\\xb1d\\x9a9\"\\x10\\xe6H~\\xfa\\xdd\\x18Q\\xa2\\xcd0G7\\xa1*G\\xdd\\x85\\xf6\\xa8\\x85\\xf6\\x98\\x85\\xf6\\x08B\\x1b\\xca\\xc9\\xf5\\x11a\\xe05\\x7f\\xcdlF\\xaf`0\\xb1d\\x9a9\"\\xdb\\x8e\\xe0y\\xcd\\x10\\xda\\x9aItDp}\\xc4\\xa0f\\x8e\\xba\\x0b\\xedQ\\x0b\\xed1\\x0b\\xedzk\\x9a+\\x96\\xb3\\x1c\\x19>\\x9b0\\x98#\\xc3gk&\\x96L\\xebA-\\x83\\xe0A\\xad\\xee\\xb6\\x1bLb\\xcd\\xc8|t`\\x85\\xf6\\xd8\\xddg\\x8f\\xdag\\x8f\\xd9g\\x8f\\xe0\\xb3\\xa1\\x9c\\xe5\\xc8\\xf0\\xd9\\x9a\\xd9\\x0c&0\\x06\\x16\\x8e\\x8c\\xce\\nm\\x06\\xe1y\\xcd\\xf0\\xd9\\x9aI\\xb4\\x19\\xe6\\xe8\\x80\\xcf\\x1e\\xbb\\xfb\\xecQ\\xfb\\xec1\\xfb\\xecz\\x03\\x97+\\x96\\xb3\\x1c\\x19>\\x9b08\\x1f\\x19>[3\\xb1d\\xde\\xa6\\x1a\\xf0G\\x0c\\x82\\xe7\"\\xba\\xdbn0\\x895#9:\\xb0B{\\xec\\xee\\xb3G\\xed\\xb3\\xc7\\xec\\xb3\\xeb%\\x81W,g\\x0fj\\t\\x84A2\\x84\\xb6f\\x82\\xc1\\xc4\\x92i\\xbd\\x0bI r\\x81d\\x08m\\xf6\\x15A\\x90\\x88\\xab\\xc6\\x0b\\xa4\\x03B{\\xec.\\xb4G-\\xb4\\xc7,\\xb4G\\x10\\xdaP\\xce&$dF\\xc8\\x91!\\xb45\\x13\\x0c&\\x96L\\xf3\\xc4FVhc\\x8e\\x8c\\x15\\xda\\x9aItD8!\\x1d\\x10\\xdacw\\xa1=j\\xa1=f\\xa1=\\x82\\xd0\\x86r\\x96#Ch\\x13\\x06Ol\\x86\\xd0\\xd6L,\\x99f\\x8e\\x9c\\x15\\xda\\xba\\xdbn0\\x89\\x8e\\x08\\xe7\\xa3\\x03\\xdb\\x8e\\x9c\\xbb\\x0b\\xed\\xb3\\x16\\xdac\\x16\\xda#\\x08m(\\'9\\xd2\\xcc=c G\\x9a\\tF\\xafX2\\xad\\x1b6\\x06\\xc1\\r\\x1b\\x1b\\x11\\x04I\\x0f)\\xb1n8!1\\xa8\\x19\\xa4\\xeeF\\xfb\\xac\\x8d\\xf69\\x1b\\xed3\\x18m(gA2\\x8c6a0HrG\\xee`\\xf4\\x8a%\\xd3\\x9a\\x90\\x18\\x04O\\xfcu\\xb7\\xdd\\xf8d\\x896\\xc3\\x1c\\x1dX\\xa2}\\x1e\\xba\\xe7\\xa8\\x16\\xae$G\\xd9h\\x9f\\xc1hC9Y\\xc9F\\x18\\xcc\\x91d6\\x83\\t\\x06\\x13K\\xa6\\xb5r\\x84@\\xb8/\\x9b\\xee\\xb6\\x1bL\\xa2#\\x82\\x13\\x1b\\x83Z\\x17H\\xe7\\xeeF\\xfb\\xac\\x8d\\xf69\\x1b\\xedzM\\xe0\\x15\\xcb\\xd9|d,\\xd1\\xd6\\xccf0\\xc1`b\\xc94\\xe7#\\x02\\xe1|d\\x18m\\xc2\\xc0\\xc6\\xb5\\xac\\x19\\xceG\\x07\\xf6\\x1c9w7\\xdagm\\xb4\\xcf\\xd9h\\xd7\\x0bu\\xaeX\\xcerd\\x18m\\xc2\\xe0y\\r\\x19<\\xaf\\x19F\\xfb\\xec\\x18m\\x06\\xe1\\x05\\x92a\\xb45\\x93X3\\x92\\xa3\\x03F\\xfb\\xdc\\xddh\\x9f\\xb5\\xd1>g\\xa3]\\xaf\\xe5\\xbab9\\xcb\\x91a\\xb4\\t\\x839\\x92[R\\x07\\xa3W,\\x99f\\x8e\\x08\\x8492\\x8c\\xb6f\\x12kFrt`\\xcf\\x91sw\\xa3}\\xd6F\\xfb\\x9c\\x8d\\xf6\\x19\\x8c6\\x943\\x13I \\x0c\\x92\\xb1D[3\\xc1`b\\xc94Ol\\x04\\x82G#\\xba\\xdbn0\\x896\\xc3\\x0b\\xa4\\x03K\\xb4\\xcf\\xdd\\x95\\xf6Y+\\xedsV\\xda\\xf5\\xa2\\xc0+\\x96\\xb3\\tI:\\xdd{\\xe38\\x9b\\xc1\\x04\\x83\\x89%\\xd3\\xcc\\x91c\\xb4u\\xb7\\xdd`\\x12\\x1d\\x11NH\\x07\\x8c\\xf6\\xb9\\xbb\\xd1>k\\xa3}\\xceF\\xfb\\x0cF\\x1b\\xca\\xd9\\r\\x9b\\\\\\xc6}\\xcf\\x18\\xcc\\x91a\\xb45\\x13K\\xa6\\x99#\\x02\\xe1|d\\x18m\\xfd\\xe9\\x13m\\x86\\xf3\\xd1\\x01\\xa3}\\xeen\\xb4\\xcf\\xdah\\x9f\\xb3\\xd1>\\x83\\xd1\\x86r\\xb6#;\\x81\\xf0\\xc4f\\xac\\xd1\\xd6L0\\x98X2\\xcd \\x11\\x08\\x83d(m\\xcd$\\xda\\x0c\\x83t`\\x8d\\xf6\\xd4]iOZi\\x9f\\xb3\\xd2\\xae\\x7f\\x91\\xe3\\x8a\\xe5\\xf0\\xf8\\xec\\x8e1\\x90#\\xcdl\\x06\\x13\\x0c&\\x96Lk\\xad?\\x81p\\xad\\xbf\\xee\\xb6\\x1bL\\xa2#\\x82\\x1c1\\xa8\\x99\\xa3\\xeeF{\\xd2F{\\xcaF\\xbb\\xfe\\xd1\\x96+\\x96\\x93\\x0b$\\xc2\\x9c!G\\xc6\\x1am\\xcd\\x04\\x83\\x89%\\xd3\\xcc\\x11B$G\\x86\\xd1\\xd6L\\xa2#\\xc2\\x1c\\x1dX\\xa3=\\r\\xddsT\\x0bW\\x92\\xa3l\\xb4\\xeb\\x15\\x16W,\\xc7o\\xe0\\x8eA8!If3\\x98`0\\xb1dZ\\'6\\x02\\xe1\\x8fC\\xean\\xbb\\xc1$:\"\\x0c\\x12\\x81\\x9aA\\xea\\xae\\xb4\\'\\xad\\xb4\\xa7\\xac\\xb4\\'P\\xdaP\\xce&$c\\x91\\xb6>\\xcef0\\xc1`b\\xc9\\xb4\\x1e\\x8d\\x10\\x08\\x7f\\x8bMw\\xdb\\r&\\xd1\\x11\\xc1\\x1d\\xdbm\\xa8\\xcaQw\\xa5=i\\xa5=e\\xa5=\\x81\\xd2\\x86r\\xfck{\\xc7 \\x9c\\x90\\x8c]G4\\x13\\x0c&\\x96L\\xf3\\xccF~\\x1c\\x12\\'$\\xc3ik&\\xd1\\x11a\\x90\\x8c]G\\xfe\\xf0\\xf3\\x8f\\x0f\\x0f\\xcf\\xf7\\x1f\\x9f?~\\xff\\xc7\\x8f\\xbf<\\x7f\\t\\x8f?=?<\\xbd{z\\xf8\\xe1\\xe5?\\xf6\\xe9\\x9f\\xff\\xed\\xdbA^\\xa8\\xdf\\xff\\xaf\\xef\\xff\\xf8\\xf5\\xe9\\xf1\\xf3\\xf3\\x9f\\xbe>?~\\xf9\\xfc\\xf3\\xbb\\x1f\\x1f>~z\\xfc\\xfc\\x97\\x9fs\\x94\\xfe\\xf2\\xf4\\xf8\\xe9__\\xb2D\\xfe\\xcd\\x7f<\\xbc\\x8c\\xe3\\xf9\\xe9\\x97o\\xf1\\xfc\\xf2\\xf4\\xf8\\xbf_>?\\x7f\\xfc\\xe9\\xee\\xe1\\xf3\\xcbQ\\x7f\\x0f\\xda\\xbb_\\x1f\\x9e\\x9e\\x1f\\xff\\x8c\\xff\\xc7\\x1f^:\\x7f\\xfc\\xcb\\xc3\\xbf}|\\xfa\\xcb\\xe3K\\xe3\\x9f\\x1e~x9\\xda\\xfb\\x7fZ\\xbe{\\xf7\\xf4\\xf7,\\xbf\\xfe\\xf9\\xf9\\xcb\\xd7\\xd7?M\\xdf\\xbd\\xfb\\xef/\\xcf/I\\xff\\xed\\x9f\\xbe\\r\\xf4\\xe1\\xe9\\xdb?M\\xa7\\xd3\\xfa~\\xca\\xff\\xfb\\xee\\xdd\\x0f_\\xbe<\\xf3\\xff\\xeb\\xad\\xe7\\xcb\\xc0\\x7f\\xf9\\xfa\\xee\\xeb\\xc7\\xaf\\x0fO\\xff\\xf1\\xf8\\xbf\\x0f/\\x7f\\xb3^\\xbe\\xd8\\x97!~\\xfb\\xd3\\xb7\\x9f(\\xff\\xe1\\xf1\\xe9\\xe7\\xe7\\xff\\xf7\\x02\\xfe\\xfb/\\x7f\\xfd\\xef\\xd7#}\\xfbw\\xcf\\xff\\xf9\\xe5\\xbf\\x1e?=\\xff\\xf8\\x8a\\xbf\\xfe\\xe3o\\x7f\\xeb^\\xfe\\xf9\\xdba\\xff\\xf4\\xf4:\\xa2O_\\xfe\\xf6\\xf9?\\x7f|\\xf8\\xfc\\xa7\\x97O\\xfe\\xf2W\\xf1\\xe9\\xf1\\xe5\\x83\\x7f\\xfc\\xf6\\xed\\xfe\\xcbw_\\xbf<=?}||~\\xf90?}\\xfc\\xf3\\xff\\xfc\\x9f\\xcf\\x9f\\xfe\\xeb\\xc7\\xc7\\xe7\\x87\\xfc]}z\\xfa\\xf8\\xc3\\xef\\x7f\\x8b\\xff\\xfc\\xf0\\xd3Ow_\\xfe\\xfa\\xd7\\x97\\xfa\\x97o\\xff\\xf3\\x97\\xcf/\\xff\\xee\\x97\\x9f\\x1fB=\\xba\\xdf\\xa6\\x88\\xfc\\xdf\\xe0\\xfe\\xeb\\xe3\\xbf|7~\\xfb$\\xbf}\\xf9\\xbf\\xff\\x9b?\\x7f\\xf9\\xfa\\xf8\\xed?\\xe6\\xe9\\xdb\\x97\\xf1\\xf7/1\\xbc~_\\xef>=\\xfe\\xf0\\xc3\\xcb\\x7f\\xa0\\xcf\\xcf\\xaf\\r~\\x1f\\xd3o\\xff\\xfaO\\x9f>m\\xbf\\xfe>\\xf3|\\xff\\xc7/\\x9f>\\xfd\\xdf\\xd7\\x03\\xbc\\x04\\xea\\x1f\\xfe\\xfc\\xf2\\xc7\\xbf\\x1f\\xf1\\xef\\xff:\\xff\\xf9\\x1f\\x9b}\\xff\\xc7\\x97\\x8f\\xfa\\xb7\\x97\\xa0\\xbd{\\xfa\\xe7\\xc7\\x97H<}\\xf8\\xf4:\\xa0?\\xfc\\xed\\xcb\\xd3\\xff\\xbcF\\xf8\\xfb\\xff\\x0fPK\\x07\\x08\\xd0!=\\xcdz\\x96\\x00\\x00b\\xbf\\x06\\x00PK\\x01\\x02\\x14\\x00\\x14\\x00\\x08\\x08\\x08\\x00\\x8d^\\x8bP\\xc7\\xcdN\\xab\\xa8\\x00\\x00\\x00+\\x01\\x00\\x00\\x18\\x00\\x00\\x00\\x00\\x00\\x00\\x00\\x00\\x00\\x00\\x00\\x00\\x00\\x00\\x00\\x00\\x00xl/drawings/drawing1.xmlPK\\x01\\x02\\x14\\x00\\x14\\x00\\x08\\x08\\x08\\x00\\x8d^\\x8bPO\\xf0\\xf9z\\xd2\\x00\\x00\\x00%\\x02\\x00\\x00\\x1a\\x00\\x00\\x00\\x00\\x00\\x00\\x00\\x00\\x00\\x00\\x00\\x00\\x00\\xee\\x00\\x00\\x00xl/_rels/workbook.xml.relsPK\\x01\\x02\\x14\\x00\\x14\\x00\\x08\\x08\\x08\\x00\\x8d^\\x8bP\"\\xa2\\xcf\\xa3\\t\\x02\\x00\\x00,\\x0b\\x00\\x00\\x14\\x00\\x00\\x00\\x00\\x00\\x00\\x00\\x00\\x00\\x00\\x00\\x00\\x00\\x08\\x02\\x00\\x00xl/sharedStrings.xmlPK\\x01\\x02\\x14\\x00\\x14\\x00\\x08\\x08\\x08\\x00\\x8d^\\x8bP\\xc2\\xd51\\x97\\xa8\\x00\\x00\\x00\\x1a\\x01\\x00\\x00#\\x00\\x00\\x00\\x00\\x00\\x00\\x00\\x00\\x00\\x00\\x00\\x00\\x00S\\x04\\x00\\x00xl/worksheets/_rels/sheet1.xml.relsPK\\x01\\x02\\x14\\x00\\x14\\x00\\x08\\x08\\x08\\x00\\x8d^\\x8bPa\\xf9{\\xd0L\\x02\\x00\\x00\\x17\\x04\\x00\\x00\\x0f\\x00\\x00\\x00\\x00\\x00\\x00\\x00\\x00\\x00\\x00\\x00\\x00\\x00L\\x05\\x00\\x00xl/workbook.xmlPK\\x01\\x02\\x14\\x00\\x14\\x00\\x08\\x08\\x08\\x00\\x8d^\\x8bP\\x96a\\xae\\xec\\xdb\\x02\\x00\\x00\\x13\\x15\\x00\\x00\\r\\x00\\x00\\x00\\x00\\x00\\x00\\x00\\x00\\x00\\x00\\x00\\x00\\x00\\xd5\\x07\\x00\\x00xl/styles.xmlPK\\x01\\x02\\x14\\x00\\x14\\x00\\x08\\x08\\x08\\x00\\x8d^\\x8bP\\x85\\x9a4\\x9a\\xee\\x00\\x00\\x00\\xce\\x02\\x00\\x00\\x0b\\x00\\x00\\x00\\x00\\x00\\x00\\x00\\x00\\x00\\x00\\x00\\x00\\x00\\xeb\\n\\x00\\x00_rels/.relsPK\\x01\\x02\\x14\\x00\\x14\\x00\\x08\\x08\\x08\\x00\\x8d^\\x8bP9\\xb4\\xa9\\x1bA\\x01\\x00\\x00\\xab\\x03\\x00\\x00\\x13\\x00\\x00\\x00\\x00\\x00\\x00\\x00\\x00\\x00\\x00\\x00\\x00\\x00\\x12\\x0c\\x00\\x00docProps/custom.xmlPK\\x01\\x02\\x14\\x00\\x14\\x00\\x08\\x08\\x08\\x00\\x8d^\\x8bP$[\\x0fX\\x8c\\x01\\x00\\x00\\x13\\x03\\x00\\x00\\x11\\x00\\x00\\x00\\x00\\x00\\x00\\x00\\x00\\x00\\x00\\x00\\x00\\x00\\x94\\r\\x00\\x00docProps/core.xmlPK\\x01\\x02\\x14\\x00\\x14\\x00\\x08\\x08\\x08\\x00\\x8d^\\x8bP\\xe2\\xaeS\\xb8\\xeb\\x00\\x00\\x00|\\x01\\x00\\x00\\x10\\x00\\x00\\x00\\x00\\x00\\x00\\x00\\x00\\x00\\x00\\x00\\x00\\x00_\\x0f\\x00\\x00docProps/app.xmlPK\\x01\\x02\\x14\\x00\\x14\\x00\\x08\\x08\\x08\\x00\\x8d^\\x8bP\\xfa\\xae\\x87\\xf2V\\x01\\x00\\x00\\xce\\x05\\x00\\x00\\x13\\x00\\x00\\x00\\x00\\x00\\x00\\x00\\x00\\x00\\x00\\x00\\x00\\x00\\x88\\x10\\x00\\x00[Content_Types].xmlPK\\x01\\x02\\x14\\x00\\x14\\x00\\x08\\x08\\x08\\x00\\x8d^\\x8bP\\xd0!=\\xcdz\\x96\\x00\\x00b\\xbf\\x06\\x00\\x18\\x00\\x00\\x00\\x00\\x00\\x00\\x00\\x00\\x00\\x00\\x00\\x00\\x00\\x1f\\x12\\x00\\x00xl/worksheets/sheet1.xmlPK\\x05\\x06\\x00\\x00\\x00\\x00\\x0c\\x00\\x0c\\x00\\x17\\x03\\x00\\x00\\xdf\\xa8\\x00\\x00\\x00\\x00'}"
            ]
          },
          "metadata": {
            "tags": []
          },
          "execution_count": 1
        }
      ]
    },
    {
      "cell_type": "code",
      "metadata": {
        "id": "fMOk27Dp5u2M"
      },
      "source": [
        "import pandas as pd\n",
        "import numpy as np\n",
        "import matplotlib.pyplot as plt\n",
        "import seaborn as sns"
      ],
      "execution_count": 2,
      "outputs": []
    },
    {
      "cell_type": "code",
      "metadata": {
        "id": "CYF6sOE07vTK"
      },
      "source": [
        "dataset = pd.read_excel('Customers2.xlsx')"
      ],
      "execution_count": 3,
      "outputs": []
    },
    {
      "cell_type": "code",
      "metadata": {
        "id": "fpjaeFuS73MN",
        "outputId": "785e4e66-d9ab-4459-bc56-50300b13c3f7",
        "colab": {
          "base_uri": "https://localhost:8080/",
          "height": 204
        }
      },
      "source": [
        "dataset.head()"
      ],
      "execution_count": 4,
      "outputs": [
        {
          "output_type": "execute_result",
          "data": {
            "text/html": [
              "<div>\n",
              "<style scoped>\n",
              "    .dataframe tbody tr th:only-of-type {\n",
              "        vertical-align: middle;\n",
              "    }\n",
              "\n",
              "    .dataframe tbody tr th {\n",
              "        vertical-align: top;\n",
              "    }\n",
              "\n",
              "    .dataframe thead th {\n",
              "        text-align: right;\n",
              "    }\n",
              "</style>\n",
              "<table border=\"1\" class=\"dataframe\">\n",
              "  <thead>\n",
              "    <tr style=\"text-align: right;\">\n",
              "      <th></th>\n",
              "      <th>CustomerID</th>\n",
              "      <th>NumCalls</th>\n",
              "      <th>NumEmails</th>\n",
              "      <th>NumDownloads</th>\n",
              "      <th>NumEvents</th>\n",
              "      <th>NumForms</th>\n",
              "      <th>Language</th>\n",
              "      <th>Country</th>\n",
              "      <th>WebVisits</th>\n",
              "      <th>PageVisits</th>\n",
              "      <th>PriorClient</th>\n",
              "      <th>MadeAPurchase</th>\n",
              "    </tr>\n",
              "  </thead>\n",
              "  <tbody>\n",
              "    <tr>\n",
              "      <th>0</th>\n",
              "      <td>1</td>\n",
              "      <td>33</td>\n",
              "      <td>19</td>\n",
              "      <td>1</td>\n",
              "      <td>0</td>\n",
              "      <td>1</td>\n",
              "      <td>German</td>\n",
              "      <td>Germany</td>\n",
              "      <td>10.0</td>\n",
              "      <td>0.0</td>\n",
              "      <td>Yes</td>\n",
              "      <td>No</td>\n",
              "    </tr>\n",
              "    <tr>\n",
              "      <th>1</th>\n",
              "      <td>2</td>\n",
              "      <td>0</td>\n",
              "      <td>1</td>\n",
              "      <td>0</td>\n",
              "      <td>1</td>\n",
              "      <td>0</td>\n",
              "      <td>English</td>\n",
              "      <td>USA</td>\n",
              "      <td>61.0</td>\n",
              "      <td>0.0</td>\n",
              "      <td>No</td>\n",
              "      <td>No</td>\n",
              "    </tr>\n",
              "    <tr>\n",
              "      <th>2</th>\n",
              "      <td>3</td>\n",
              "      <td>4</td>\n",
              "      <td>6</td>\n",
              "      <td>2</td>\n",
              "      <td>0</td>\n",
              "      <td>0</td>\n",
              "      <td>Spanish</td>\n",
              "      <td>Mexico</td>\n",
              "      <td>1.0</td>\n",
              "      <td>0.0</td>\n",
              "      <td>No</td>\n",
              "      <td>No</td>\n",
              "    </tr>\n",
              "    <tr>\n",
              "      <th>3</th>\n",
              "      <td>4</td>\n",
              "      <td>0</td>\n",
              "      <td>10</td>\n",
              "      <td>0</td>\n",
              "      <td>0</td>\n",
              "      <td>1</td>\n",
              "      <td>English</td>\n",
              "      <td>India</td>\n",
              "      <td>26.0</td>\n",
              "      <td>0.0</td>\n",
              "      <td>No</td>\n",
              "      <td>No</td>\n",
              "    </tr>\n",
              "    <tr>\n",
              "      <th>4</th>\n",
              "      <td>5</td>\n",
              "      <td>7</td>\n",
              "      <td>0</td>\n",
              "      <td>0</td>\n",
              "      <td>0</td>\n",
              "      <td>0</td>\n",
              "      <td>English</td>\n",
              "      <td>USA</td>\n",
              "      <td>11.0</td>\n",
              "      <td>0.0</td>\n",
              "      <td>No</td>\n",
              "      <td>Yes</td>\n",
              "    </tr>\n",
              "  </tbody>\n",
              "</table>\n",
              "</div>"
            ],
            "text/plain": [
              "   CustomerID  NumCalls  NumEmails  ...  PageVisits  PriorClient  MadeAPurchase\n",
              "0           1        33         19  ...         0.0          Yes             No\n",
              "1           2         0          1  ...         0.0           No             No\n",
              "2           3         4          6  ...         0.0           No             No\n",
              "3           4         0         10  ...         0.0           No             No\n",
              "4           5         7          0  ...         0.0           No            Yes\n",
              "\n",
              "[5 rows x 12 columns]"
            ]
          },
          "metadata": {
            "tags": []
          },
          "execution_count": 4
        }
      ]
    },
    {
      "cell_type": "code",
      "metadata": {
        "id": "OVFX7HsL77d9",
        "outputId": "ec6db9ee-8acc-4024-d877-3c031cef6d71",
        "colab": {
          "base_uri": "https://localhost:8080/",
          "height": 34
        }
      },
      "source": [
        "dataset.shape"
      ],
      "execution_count": 5,
      "outputs": [
        {
          "output_type": "execute_result",
          "data": {
            "text/plain": [
              "(753, 12)"
            ]
          },
          "metadata": {
            "tags": []
          },
          "execution_count": 5
        }
      ]
    },
    {
      "cell_type": "code",
      "metadata": {
        "id": "39wVOR32F21N",
        "outputId": "d0464dcf-5f31-41b6-e8f4-b7e10691fd7c",
        "colab": {
          "base_uri": "https://localhost:8080/",
          "height": 297
        }
      },
      "source": [
        "dataset.describe()"
      ],
      "execution_count": 6,
      "outputs": [
        {
          "output_type": "execute_result",
          "data": {
            "text/html": [
              "<div>\n",
              "<style scoped>\n",
              "    .dataframe tbody tr th:only-of-type {\n",
              "        vertical-align: middle;\n",
              "    }\n",
              "\n",
              "    .dataframe tbody tr th {\n",
              "        vertical-align: top;\n",
              "    }\n",
              "\n",
              "    .dataframe thead th {\n",
              "        text-align: right;\n",
              "    }\n",
              "</style>\n",
              "<table border=\"1\" class=\"dataframe\">\n",
              "  <thead>\n",
              "    <tr style=\"text-align: right;\">\n",
              "      <th></th>\n",
              "      <th>CustomerID</th>\n",
              "      <th>NumCalls</th>\n",
              "      <th>NumEmails</th>\n",
              "      <th>NumDownloads</th>\n",
              "      <th>NumEvents</th>\n",
              "      <th>NumForms</th>\n",
              "      <th>WebVisits</th>\n",
              "      <th>PageVisits</th>\n",
              "    </tr>\n",
              "  </thead>\n",
              "  <tbody>\n",
              "    <tr>\n",
              "      <th>count</th>\n",
              "      <td>753.000000</td>\n",
              "      <td>753.000000</td>\n",
              "      <td>753.000000</td>\n",
              "      <td>753.000000</td>\n",
              "      <td>753.000000</td>\n",
              "      <td>753.000000</td>\n",
              "      <td>739.000000</td>\n",
              "      <td>739.000000</td>\n",
              "    </tr>\n",
              "    <tr>\n",
              "      <th>mean</th>\n",
              "      <td>377.000000</td>\n",
              "      <td>5.946879</td>\n",
              "      <td>1.284197</td>\n",
              "      <td>0.358566</td>\n",
              "      <td>0.339973</td>\n",
              "      <td>0.265604</td>\n",
              "      <td>4.209743</td>\n",
              "      <td>3.645467</td>\n",
              "    </tr>\n",
              "    <tr>\n",
              "      <th>std</th>\n",
              "      <td>217.516666</td>\n",
              "      <td>8.759028</td>\n",
              "      <td>3.767721</td>\n",
              "      <td>0.929129</td>\n",
              "      <td>0.838697</td>\n",
              "      <td>1.229556</td>\n",
              "      <td>10.613721</td>\n",
              "      <td>12.600658</td>\n",
              "    </tr>\n",
              "    <tr>\n",
              "      <th>min</th>\n",
              "      <td>1.000000</td>\n",
              "      <td>0.000000</td>\n",
              "      <td>0.000000</td>\n",
              "      <td>0.000000</td>\n",
              "      <td>0.000000</td>\n",
              "      <td>0.000000</td>\n",
              "      <td>0.000000</td>\n",
              "      <td>0.000000</td>\n",
              "    </tr>\n",
              "    <tr>\n",
              "      <th>25%</th>\n",
              "      <td>189.000000</td>\n",
              "      <td>0.000000</td>\n",
              "      <td>0.000000</td>\n",
              "      <td>0.000000</td>\n",
              "      <td>0.000000</td>\n",
              "      <td>0.000000</td>\n",
              "      <td>0.000000</td>\n",
              "      <td>0.000000</td>\n",
              "    </tr>\n",
              "    <tr>\n",
              "      <th>50%</th>\n",
              "      <td>377.000000</td>\n",
              "      <td>1.000000</td>\n",
              "      <td>0.000000</td>\n",
              "      <td>0.000000</td>\n",
              "      <td>0.000000</td>\n",
              "      <td>0.000000</td>\n",
              "      <td>0.000000</td>\n",
              "      <td>0.000000</td>\n",
              "    </tr>\n",
              "    <tr>\n",
              "      <th>75%</th>\n",
              "      <td>565.000000</td>\n",
              "      <td>10.000000</td>\n",
              "      <td>1.000000</td>\n",
              "      <td>0.000000</td>\n",
              "      <td>0.000000</td>\n",
              "      <td>0.000000</td>\n",
              "      <td>3.500000</td>\n",
              "      <td>1.000000</td>\n",
              "    </tr>\n",
              "    <tr>\n",
              "      <th>max</th>\n",
              "      <td>753.000000</td>\n",
              "      <td>55.000000</td>\n",
              "      <td>41.000000</td>\n",
              "      <td>11.000000</td>\n",
              "      <td>6.000000</td>\n",
              "      <td>14.000000</td>\n",
              "      <td>133.000000</td>\n",
              "      <td>117.000000</td>\n",
              "    </tr>\n",
              "  </tbody>\n",
              "</table>\n",
              "</div>"
            ],
            "text/plain": [
              "       CustomerID    NumCalls   NumEmails  ...    NumForms   WebVisits  PageVisits\n",
              "count  753.000000  753.000000  753.000000  ...  753.000000  739.000000  739.000000\n",
              "mean   377.000000    5.946879    1.284197  ...    0.265604    4.209743    3.645467\n",
              "std    217.516666    8.759028    3.767721  ...    1.229556   10.613721   12.600658\n",
              "min      1.000000    0.000000    0.000000  ...    0.000000    0.000000    0.000000\n",
              "25%    189.000000    0.000000    0.000000  ...    0.000000    0.000000    0.000000\n",
              "50%    377.000000    1.000000    0.000000  ...    0.000000    0.000000    0.000000\n",
              "75%    565.000000   10.000000    1.000000  ...    0.000000    3.500000    1.000000\n",
              "max    753.000000   55.000000   41.000000  ...   14.000000  133.000000  117.000000\n",
              "\n",
              "[8 rows x 8 columns]"
            ]
          },
          "metadata": {
            "tags": []
          },
          "execution_count": 6
        }
      ]
    },
    {
      "cell_type": "code",
      "metadata": {
        "id": "mqkX9z30F5my",
        "outputId": "5681fea5-c644-4467-a8df-06e03e7fb244",
        "colab": {
          "base_uri": "https://localhost:8080/",
          "height": 340
        }
      },
      "source": [
        "dataset.info()"
      ],
      "execution_count": 7,
      "outputs": [
        {
          "output_type": "stream",
          "text": [
            "<class 'pandas.core.frame.DataFrame'>\n",
            "RangeIndex: 753 entries, 0 to 752\n",
            "Data columns (total 12 columns):\n",
            " #   Column         Non-Null Count  Dtype  \n",
            "---  ------         --------------  -----  \n",
            " 0   CustomerID     753 non-null    int64  \n",
            " 1   NumCalls       753 non-null    int64  \n",
            " 2   NumEmails      753 non-null    int64  \n",
            " 3   NumDownloads   753 non-null    int64  \n",
            " 4   NumEvents      753 non-null    int64  \n",
            " 5   NumForms       753 non-null    int64  \n",
            " 6   Language       753 non-null    object \n",
            " 7   Country        753 non-null    object \n",
            " 8   WebVisits      739 non-null    float64\n",
            " 9   PageVisits     739 non-null    float64\n",
            " 10  PriorClient    753 non-null    object \n",
            " 11  MadeAPurchase  753 non-null    object \n",
            "dtypes: float64(2), int64(6), object(4)\n",
            "memory usage: 70.7+ KB\n"
          ],
          "name": "stdout"
        }
      ]
    },
    {
      "cell_type": "code",
      "metadata": {
        "id": "UkbXH6XiRicS",
        "outputId": "1a7e1c61-9c55-479a-d813-65e53aa217b2",
        "colab": {
          "base_uri": "https://localhost:8080/",
          "height": 238
        }
      },
      "source": [
        "dataset.isna().sum()"
      ],
      "execution_count": 8,
      "outputs": [
        {
          "output_type": "execute_result",
          "data": {
            "text/plain": [
              "CustomerID        0\n",
              "NumCalls          0\n",
              "NumEmails         0\n",
              "NumDownloads      0\n",
              "NumEvents         0\n",
              "NumForms          0\n",
              "Language          0\n",
              "Country           0\n",
              "WebVisits        14\n",
              "PageVisits       14\n",
              "PriorClient       0\n",
              "MadeAPurchase     0\n",
              "dtype: int64"
            ]
          },
          "metadata": {
            "tags": []
          },
          "execution_count": 8
        }
      ]
    },
    {
      "cell_type": "markdown",
      "metadata": {
        "id": "vBGQXHh5R1PY"
      },
      "source": [
        "##Univariate Data Analysis"
      ]
    },
    {
      "cell_type": "code",
      "metadata": {
        "id": "guozGRfNRrh2",
        "outputId": "64172491-52e8-40b8-c3d9-ee277e135e30",
        "colab": {
          "base_uri": "https://localhost:8080/",
          "height": 34
        }
      },
      "source": [
        "dataset['CustomerID'].nunique()"
      ],
      "execution_count": 9,
      "outputs": [
        {
          "output_type": "execute_result",
          "data": {
            "text/plain": [
              "753"
            ]
          },
          "metadata": {
            "tags": []
          },
          "execution_count": 9
        }
      ]
    },
    {
      "cell_type": "code",
      "metadata": {
        "id": "ppxsbKhuSQUa"
      },
      "source": [
        "dataset.drop(['CustomerID'],axis = 1, inplace = True)"
      ],
      "execution_count": 10,
      "outputs": []
    },
    {
      "cell_type": "code",
      "metadata": {
        "id": "HkQRUUBoSYMc",
        "outputId": "100b3b7e-81f0-4073-abb6-6e14dd4aba3b",
        "colab": {
          "base_uri": "https://localhost:8080/",
          "height": 312
        }
      },
      "source": [
        "sns.histplot(dataset['NumCalls'], bins = 20).set_title('Histogram of NumCalls')"
      ],
      "execution_count": 11,
      "outputs": [
        {
          "output_type": "execute_result",
          "data": {
            "text/plain": [
              "Text(0.5, 1.0, 'Histogram of NumCalls')"
            ]
          },
          "metadata": {
            "tags": []
          },
          "execution_count": 11
        },
        {
          "output_type": "display_data",
          "data": {
            "image/png": "[encoded data removed]",
            "text/plain": [
              "<Figure size 432x288 with 1 Axes>"
            ]
          },
          "metadata": {
            "tags": [],
            "needs_background": "light"
          }
        }
      ]
    },
    {
      "cell_type": "code",
      "metadata": {
        "id": "1q5TNQ24S1RD",
        "outputId": "1d4cadd9-ad71-4247-e82b-3a2e4e668e94",
        "colab": {
          "base_uri": "https://localhost:8080/",
          "height": 312
        }
      },
      "source": [
        "sns.histplot(dataset['NumEmails'], bins = 20).set_title('Histogram of NumEmails')"
      ],
      "execution_count": 12,
      "outputs": [
        {
          "output_type": "execute_result",
          "data": {
            "text/plain": [
              "Text(0.5, 1.0, 'Histogram of NumEmails')"
            ]
          },
          "metadata": {
            "tags": []
          },
          "execution_count": 12
        },
        {
          "output_type": "display_data",
          "data": {
            "image/png": "[encoded data removed]",
            "text/plain": [
              "<Figure size 432x288 with 1 Axes>"
            ]
          },
          "metadata": {
            "tags": [],
            "needs_background": "light"
          }
        }
      ]
    },
    {
      "cell_type": "code",
      "metadata": {
        "id": "CEvUEaxeTaQP",
        "outputId": "5c805763-c7b4-4988-edcb-f73807e32062",
        "colab": {
          "base_uri": "https://localhost:8080/",
          "height": 312
        }
      },
      "source": [
        "sns.histplot(dataset['NumDownloads']).set_title('Histogram of NumDownloads')"
      ],
      "execution_count": 13,
      "outputs": [
        {
          "output_type": "execute_result",
          "data": {
            "text/plain": [
              "Text(0.5, 1.0, 'Histogram of NumDownloads')"
            ]
          },
          "metadata": {
            "tags": []
          },
          "execution_count": 13
        },
        {
          "output_type": "display_data",
          "data": {
            "image/png": "[encoded data removed]",
            "text/plain": [
              "<Figure size 432x288 with 1 Axes>"
            ]
          },
          "metadata": {
            "tags": [],
            "needs_background": "light"
          }
        }
      ]
    },
    {
      "cell_type": "code",
      "metadata": {
        "id": "IbRz9uUQT1yu",
        "outputId": "3b9ca0c5-a125-44e2-f403-adaf28cb7fc5",
        "colab": {
          "base_uri": "https://localhost:8080/",
          "height": 312
        }
      },
      "source": [
        "sns.histplot(dataset['NumEvents']).set_title('Histogram of NumEvents')"
      ],
      "execution_count": 14,
      "outputs": [
        {
          "output_type": "execute_result",
          "data": {
            "text/plain": [
              "Text(0.5, 1.0, 'Histogram of NumEvents')"
            ]
          },
          "metadata": {
            "tags": []
          },
          "execution_count": 14
        },
        {
          "output_type": "display_data",
          "data": {
            "image/png": "[encoded data removed]",
            "text/plain": [
              "<Figure size 432x288 with 1 Axes>"
            ]
          },
          "metadata": {
            "tags": [],
            "needs_background": "light"
          }
        }
      ]
    },
    {
      "cell_type": "code",
      "metadata": {
        "id": "5xpTdc0-VwrB",
        "outputId": "d60595e1-764c-40cc-a67f-d538e0ad94f9",
        "colab": {
          "base_uri": "https://localhost:8080/",
          "height": 312
        }
      },
      "source": [
        "sns.histplot(dataset['NumForms']).set_title('Histogram of NumForms')"
      ],
      "execution_count": 15,
      "outputs": [
        {
          "output_type": "execute_result",
          "data": {
            "text/plain": [
              "Text(0.5, 1.0, 'Histogram of NumForms')"
            ]
          },
          "metadata": {
            "tags": []
          },
          "execution_count": 15
        },
        {
          "output_type": "display_data",
          "data": {
            "image/png": "[encoded data removed]",
            "text/plain": [
              "<Figure size 432x288 with 1 Axes>"
            ]
          },
          "metadata": {
            "tags": [],
            "needs_background": "light"
          }
        }
      ]
    },
    {
      "cell_type": "code",
      "metadata": {
        "id": "84J0ThAiV6hE",
        "outputId": "bd0fb92b-9692-4e02-ea6b-5351f239312b",
        "colab": {
          "base_uri": "https://localhost:8080/",
          "height": 312
        }
      },
      "source": [
        "sns.histplot(dataset['PageVisits'], bins = 20).set_title('Histogram of PageVisits')"
      ],
      "execution_count": 16,
      "outputs": [
        {
          "output_type": "execute_result",
          "data": {
            "text/plain": [
              "Text(0.5, 1.0, 'Histogram of PageVisits')"
            ]
          },
          "metadata": {
            "tags": []
          },
          "execution_count": 16
        },
        {
          "output_type": "display_data",
          "data": {
            "image/png": "[encoded data removed]",
            "text/plain": [
              "<Figure size 432x288 with 1 Axes>"
            ]
          },
          "metadata": {
            "tags": [],
            "needs_background": "light"
          }
        }
      ]
    },
    {
      "cell_type": "code",
      "metadata": {
        "id": "UuoPSnchWIlx",
        "outputId": "207fece1-32ec-4318-a323-95cc4c21334e",
        "colab": {
          "base_uri": "https://localhost:8080/",
          "height": 312
        }
      },
      "source": [
        "sns.histplot(dataset['WebVisits'], bins = 20).set_title('Histogram of WebVisits')"
      ],
      "execution_count": 17,
      "outputs": [
        {
          "output_type": "execute_result",
          "data": {
            "text/plain": [
              "Text(0.5, 1.0, 'Histogram of WebVisits')"
            ]
          },
          "metadata": {
            "tags": []
          },
          "execution_count": 17
        },
        {
          "output_type": "display_data",
          "data": {
            "image/png": "[encoded data removed]",
            "text/plain": [
              "<Figure size 432x288 with 1 Axes>"
            ]
          },
          "metadata": {
            "tags": [],
            "needs_background": "light"
          }
        }
      ]
    },
    {
      "cell_type": "code",
      "metadata": {
        "id": "iGaSZvhhWZvW",
        "outputId": "bfda153c-6304-4c1d-981a-e9be53d9ed62",
        "colab": {
          "base_uri": "https://localhost:8080/",
          "height": 312
        }
      },
      "source": [
        "sns.scatterplot(x = dataset['PageVisits'], y = dataset['WebVisits']).set_title('Scatter Plot of PageVisits and WebVists')"
      ],
      "execution_count": 18,
      "outputs": [
        {
          "output_type": "execute_result",
          "data": {
            "text/plain": [
              "Text(0.5, 1.0, 'Scatter Plot of PageVisits and WebVists')"
            ]
          },
          "metadata": {
            "tags": []
          },
          "execution_count": 18
        },
        {
          "output_type": "display_data",
          "data": {
            "image/png": "[encoded data removed]",
            "text/plain": [
              "<Figure size 432x288 with 1 Axes>"
            ]
          },
          "metadata": {
            "tags": [],
            "needs_background": "light"
          }
        }
      ]
    },
    {
      "cell_type": "code",
      "metadata": {
        "id": "eeyAPo72WuQa",
        "outputId": "338ad979-4848-4554-9c3a-a42551ea2bc7",
        "colab": {
          "base_uri": "https://localhost:8080/",
          "height": 102
        }
      },
      "source": [
        "dataset['Country'].unique()"
      ],
      "execution_count": 19,
      "outputs": [
        {
          "output_type": "execute_result",
          "data": {
            "text/plain": [
              "array(['Germany', 'USA', 'Mexico', 'India', 'Spain', 'China', 'Denmark',\n",
              "       'France', 'Japan', 'Switzerland', 'Uganda', 'Argentina', 'Austria',\n",
              "       'Belgium', 'Colombia', 'Singapore', 'Hungary', 'Brazil', 'Chile',\n",
              "       'Italy', 'Portugal', 'Canada', 'Finland', 'Netherlands', 'Serbia',\n",
              "       'Thailand', 'Peru', 'Norway'], dtype=object)"
            ]
          },
          "metadata": {
            "tags": []
          },
          "execution_count": 19
        }
      ]
    },
    {
      "cell_type": "code",
      "metadata": {
        "id": "zVl2JTudXRIz",
        "outputId": "db66bf5f-1324-46ef-950c-47dd2e59a2f0",
        "colab": {
          "base_uri": "https://localhost:8080/",
          "height": 417
        }
      },
      "source": [
        "chart = sns.countplot(dataset['Country'])\n",
        "chart.set_xticklabels(chart.get_xticklabels(), rotation = 90)\n",
        "chart.set_title('Bar Graph of Country')"
      ],
      "execution_count": 20,
      "outputs": [
        {
          "output_type": "stream",
          "text": [
            "/usr/local/lib/python3.6/dist-packages/seaborn/_decorators.py:43: FutureWarning: Pass the following variable as a keyword arg: x. From version 0.12, the only valid positional argument will be `data`, and passing other arguments without an explicit keyword will result in an error or misinterpretation.\n",
            "  FutureWarning\n"
          ],
          "name": "stderr"
        },
        {
          "output_type": "execute_result",
          "data": {
            "text/plain": [
              "Text(0.5, 1.0, 'Bar Graph of Country')"
            ]
          },
          "metadata": {
            "tags": []
          },
          "execution_count": 20
        },
        {
          "output_type": "display_data",
          "data": {
            "image/png": "[encoded data removed]",
            "text/plain": [
              "<Figure size 432x288 with 1 Axes>"
            ]
          },
          "metadata": {
            "tags": [],
            "needs_background": "light"
          }
        }
      ]
    },
    {
      "cell_type": "code",
      "metadata": {
        "id": "WIIOO0L2X2Rs",
        "outputId": "ef462dea-72f5-4d37-cd1c-2f5f630bbb99",
        "colab": {
          "base_uri": "https://localhost:8080/",
          "height": 423
        }
      },
      "source": [
        "chart = sns.countplot(dataset['Language'])\n",
        "chart.set_xticklabels(chart.get_xticklabels(), rotation = 90)\n",
        "chart.set_title('Bar Graph of Language')"
      ],
      "execution_count": 21,
      "outputs": [
        {
          "output_type": "stream",
          "text": [
            "/usr/local/lib/python3.6/dist-packages/seaborn/_decorators.py:43: FutureWarning: Pass the following variable as a keyword arg: x. From version 0.12, the only valid positional argument will be `data`, and passing other arguments without an explicit keyword will result in an error or misinterpretation.\n",
            "  FutureWarning\n"
          ],
          "name": "stderr"
        },
        {
          "output_type": "execute_result",
          "data": {
            "text/plain": [
              "Text(0.5, 1.0, 'Bar Graph of Language')"
            ]
          },
          "metadata": {
            "tags": []
          },
          "execution_count": 21
        },
        {
          "output_type": "display_data",
          "data": {
            "image/png": "[encoded data removed]",
            "text/plain": [
              "<Figure size 432x288 with 1 Axes>"
            ]
          },
          "metadata": {
            "tags": [],
            "needs_background": "light"
          }
        }
      ]
    },
    {
      "cell_type": "code",
      "metadata": {
        "id": "pEaPzTV7Zy16",
        "outputId": "9926dd57-3ea7-4f99-846b-be4c267a2958",
        "colab": {
          "base_uri": "https://localhost:8080/",
          "height": 85
        }
      },
      "source": [
        "dataset.columns"
      ],
      "execution_count": 22,
      "outputs": [
        {
          "output_type": "execute_result",
          "data": {
            "text/plain": [
              "Index(['NumCalls', 'NumEmails', 'NumDownloads', 'NumEvents', 'NumForms',\n",
              "       'Language', 'Country', 'WebVisits', 'PageVisits', 'PriorClient',\n",
              "       'MadeAPurchase'],\n",
              "      dtype='object')"
            ]
          },
          "metadata": {
            "tags": []
          },
          "execution_count": 22
        }
      ]
    },
    {
      "cell_type": "code",
      "metadata": {
        "id": "LQLFVMupZnHw",
        "outputId": "3a7b164b-2752-415f-dced-0f02aee2dd80",
        "colab": {
          "base_uri": "https://localhost:8080/",
          "height": 372
        }
      },
      "source": [
        "chart = sns.countplot(dataset['PriorClient'])\n",
        "chart.set_xticklabels(chart.get_xticklabels(), rotation = 90)\n",
        "chart.set_title('Bar Graph of PriorClient')"
      ],
      "execution_count": 23,
      "outputs": [
        {
          "output_type": "stream",
          "text": [
            "/usr/local/lib/python3.6/dist-packages/seaborn/_decorators.py:43: FutureWarning: Pass the following variable as a keyword arg: x. From version 0.12, the only valid positional argument will be `data`, and passing other arguments without an explicit keyword will result in an error or misinterpretation.\n",
            "  FutureWarning\n"
          ],
          "name": "stderr"
        },
        {
          "output_type": "execute_result",
          "data": {
            "text/plain": [
              "Text(0.5, 1.0, 'Bar Graph of PriorClient')"
            ]
          },
          "metadata": {
            "tags": []
          },
          "execution_count": 23
        },
        {
          "output_type": "display_data",
          "data": {
            "image/png": "[encoded data removed]",
            "text/plain": [
              "<Figure size 432x288 with 1 Axes>"
            ]
          },
          "metadata": {
            "tags": [],
            "needs_background": "light"
          }
        }
      ]
    },
    {
      "cell_type": "code",
      "metadata": {
        "id": "kUXhDfX1Z5QM",
        "outputId": "cd8e0d56-5d41-4e2d-ca99-9c2f19ee97b0",
        "colab": {
          "base_uri": "https://localhost:8080/",
          "height": 68
        }
      },
      "source": [
        "dataset['PriorClient'].value_counts()"
      ],
      "execution_count": 24,
      "outputs": [
        {
          "output_type": "execute_result",
          "data": {
            "text/plain": [
              "Yes    483\n",
              "No     270\n",
              "Name: PriorClient, dtype: int64"
            ]
          },
          "metadata": {
            "tags": []
          },
          "execution_count": 24
        }
      ]
    },
    {
      "cell_type": "code",
      "metadata": {
        "id": "9uyIUgisZ_y2",
        "outputId": "0660fe1c-e506-4899-8394-945f1aa9134e",
        "colab": {
          "base_uri": "https://localhost:8080/",
          "height": 68
        }
      },
      "source": [
        "dataset['MadeAPurchase'].value_counts()"
      ],
      "execution_count": 25,
      "outputs": [
        {
          "output_type": "execute_result",
          "data": {
            "text/plain": [
              "Yes    509\n",
              "No     244\n",
              "Name: MadeAPurchase, dtype: int64"
            ]
          },
          "metadata": {
            "tags": []
          },
          "execution_count": 25
        }
      ]
    },
    {
      "cell_type": "code",
      "metadata": {
        "id": "urJp2Z3BaErw",
        "outputId": "4a7d4b31-9cd6-4715-c95c-1221a207a054",
        "colab": {
          "base_uri": "https://localhost:8080/",
          "height": 312
        }
      },
      "source": [
        "sns.boxplot(x = dataset['NumCalls'], y = dataset['PriorClient']).set_title(\"BoxPlot of NumCalls\")"
      ],
      "execution_count": 26,
      "outputs": [
        {
          "output_type": "execute_result",
          "data": {
            "text/plain": [
              "Text(0.5, 1.0, 'BoxPlot of NumCalls')"
            ]
          },
          "metadata": {
            "tags": []
          },
          "execution_count": 26
        },
        {
          "output_type": "display_data",
          "data": {
            "image/png": "[encoded data removed]",
            "text/plain": [
              "<Figure size 432x288 with 1 Axes>"
            ]
          },
          "metadata": {
            "tags": [],
            "needs_background": "light"
          }
        }
      ]
    },
    {
      "cell_type": "code",
      "metadata": {
        "id": "BVnf_UNBaXvs",
        "outputId": "a1f3766f-ef57-44fd-df67-89d8ce48b2e1",
        "colab": {
          "base_uri": "https://localhost:8080/",
          "height": 910
        }
      },
      "source": [
        "plt.figure(figsize= (10,15))\n",
        "sns.boxplot(x = dataset['NumCalls'], y = dataset['Country']).set_title(\"BoxPlot of NumCalls\")"
      ],
      "execution_count": 27,
      "outputs": [
        {
          "output_type": "execute_result",
          "data": {
            "text/plain": [
              "Text(0.5, 1.0, 'BoxPlot of NumCalls')"
            ]
          },
          "metadata": {
            "tags": []
          },
          "execution_count": 27
        },
        {
          "output_type": "display_data",
          "data": {
            "image/png": "[encoded data removed]",
            "text/plain": [
              "<Figure size 720x1080 with 1 Axes>"
            ]
          },
          "metadata": {
            "tags": [],
            "needs_background": "light"
          }
        }
      ]
    },
    {
      "cell_type": "code",
      "metadata": {
        "id": "a-DsPCNuawZs",
        "outputId": "fa9c3427-2c1b-4c3c-ec96-91740bf340bf",
        "colab": {
          "base_uri": "https://localhost:8080/",
          "height": 312
        }
      },
      "source": [
        "sns.boxplot(x = dataset['NumDownloads'], y = dataset['PriorClient']).set_title('Box Plot of NumDownloads')"
      ],
      "execution_count": 28,
      "outputs": [
        {
          "output_type": "execute_result",
          "data": {
            "text/plain": [
              "Text(0.5, 1.0, 'Box Plot of NumDownloads')"
            ]
          },
          "metadata": {
            "tags": []
          },
          "execution_count": 28
        },
        {
          "output_type": "display_data",
          "data": {
            "image/png": "[encoded data removed]",
            "text/plain": [
              "<Figure size 432x288 with 1 Axes>"
            ]
          },
          "metadata": {
            "tags": [],
            "needs_background": "light"
          }
        }
      ]
    },
    {
      "cell_type": "code",
      "metadata": {
        "id": "KZLiLahLc6wA"
      },
      "source": [
        "labels = {'Yes': 1, 'No': 0}"
      ],
      "execution_count": 29,
      "outputs": []
    },
    {
      "cell_type": "code",
      "metadata": {
        "id": "EC4Ia5btdQPR"
      },
      "source": [
        "dataset['PriorClient'] = dataset['PriorClient'].apply(lambda x: labels[x])"
      ],
      "execution_count": 30,
      "outputs": []
    },
    {
      "cell_type": "code",
      "metadata": {
        "id": "T8E1r_lWdiqE"
      },
      "source": [
        "dataset['MadeAPurchase'] = dataset['MadeAPurchase'].apply(lambda x: labels[x])"
      ],
      "execution_count": 31,
      "outputs": []
    },
    {
      "cell_type": "code",
      "metadata": {
        "id": "nbn0ex27druc",
        "outputId": "93dcfbec-9206-42a0-f1ab-a4471c735eed",
        "colab": {
          "base_uri": "https://localhost:8080/",
          "height": 204
        }
      },
      "source": [
        "dataset.head()"
      ],
      "execution_count": 32,
      "outputs": [
        {
          "output_type": "execute_result",
          "data": {
            "text/html": [
              "<div>\n",
              "<style scoped>\n",
              "    .dataframe tbody tr th:only-of-type {\n",
              "        vertical-align: middle;\n",
              "    }\n",
              "\n",
              "    .dataframe tbody tr th {\n",
              "        vertical-align: top;\n",
              "    }\n",
              "\n",
              "    .dataframe thead th {\n",
              "        text-align: right;\n",
              "    }\n",
              "</style>\n",
              "<table border=\"1\" class=\"dataframe\">\n",
              "  <thead>\n",
              "    <tr style=\"text-align: right;\">\n",
              "      <th></th>\n",
              "      <th>NumCalls</th>\n",
              "      <th>NumEmails</th>\n",
              "      <th>NumDownloads</th>\n",
              "      <th>NumEvents</th>\n",
              "      <th>NumForms</th>\n",
              "      <th>Language</th>\n",
              "      <th>Country</th>\n",
              "      <th>WebVisits</th>\n",
              "      <th>PageVisits</th>\n",
              "      <th>PriorClient</th>\n",
              "      <th>MadeAPurchase</th>\n",
              "    </tr>\n",
              "  </thead>\n",
              "  <tbody>\n",
              "    <tr>\n",
              "      <th>0</th>\n",
              "      <td>33</td>\n",
              "      <td>19</td>\n",
              "      <td>1</td>\n",
              "      <td>0</td>\n",
              "      <td>1</td>\n",
              "      <td>German</td>\n",
              "      <td>Germany</td>\n",
              "      <td>10.0</td>\n",
              "      <td>0.0</td>\n",
              "      <td>1</td>\n",
              "      <td>0</td>\n",
              "    </tr>\n",
              "    <tr>\n",
              "      <th>1</th>\n",
              "      <td>0</td>\n",
              "      <td>1</td>\n",
              "      <td>0</td>\n",
              "      <td>1</td>\n",
              "      <td>0</td>\n",
              "      <td>English</td>\n",
              "      <td>USA</td>\n",
              "      <td>61.0</td>\n",
              "      <td>0.0</td>\n",
              "      <td>0</td>\n",
              "      <td>0</td>\n",
              "    </tr>\n",
              "    <tr>\n",
              "      <th>2</th>\n",
              "      <td>4</td>\n",
              "      <td>6</td>\n",
              "      <td>2</td>\n",
              "      <td>0</td>\n",
              "      <td>0</td>\n",
              "      <td>Spanish</td>\n",
              "      <td>Mexico</td>\n",
              "      <td>1.0</td>\n",
              "      <td>0.0</td>\n",
              "      <td>0</td>\n",
              "      <td>0</td>\n",
              "    </tr>\n",
              "    <tr>\n",
              "      <th>3</th>\n",
              "      <td>0</td>\n",
              "      <td>10</td>\n",
              "      <td>0</td>\n",
              "      <td>0</td>\n",
              "      <td>1</td>\n",
              "      <td>English</td>\n",
              "      <td>India</td>\n",
              "      <td>26.0</td>\n",
              "      <td>0.0</td>\n",
              "      <td>0</td>\n",
              "      <td>0</td>\n",
              "    </tr>\n",
              "    <tr>\n",
              "      <th>4</th>\n",
              "      <td>7</td>\n",
              "      <td>0</td>\n",
              "      <td>0</td>\n",
              "      <td>0</td>\n",
              "      <td>0</td>\n",
              "      <td>English</td>\n",
              "      <td>USA</td>\n",
              "      <td>11.0</td>\n",
              "      <td>0.0</td>\n",
              "      <td>0</td>\n",
              "      <td>1</td>\n",
              "    </tr>\n",
              "  </tbody>\n",
              "</table>\n",
              "</div>"
            ],
            "text/plain": [
              "   NumCalls  NumEmails  NumDownloads  ...  PageVisits  PriorClient MadeAPurchase\n",
              "0        33         19             1  ...         0.0            1             0\n",
              "1         0          1             0  ...         0.0            0             0\n",
              "2         4          6             2  ...         0.0            0             0\n",
              "3         0         10             0  ...         0.0            0             0\n",
              "4         7          0             0  ...         0.0            0             1\n",
              "\n",
              "[5 rows x 11 columns]"
            ]
          },
          "metadata": {
            "tags": []
          },
          "execution_count": 32
        }
      ]
    },
    {
      "cell_type": "code",
      "metadata": {
        "id": "aJS8tOO8dtx2",
        "outputId": "c8d8447b-b819-4227-f694-d5600527e628",
        "colab": {
          "base_uri": "https://localhost:8080/",
          "height": 356
        }
      },
      "source": [
        "sns.heatmap(dataset.corr(), vmin = -1, vmax = 1, linewidths= 1, cmap = \"coolwarm\")"
      ],
      "execution_count": 33,
      "outputs": [
        {
          "output_type": "execute_result",
          "data": {
            "text/plain": [
              "<matplotlib.axes._subplots.AxesSubplot at 0x7f30a8d96438>"
            ]
          },
          "metadata": {
            "tags": []
          },
          "execution_count": 33
        },
        {
          "output_type": "display_data",
          "data": {
            "image/png": "[encoded data removed]",
            "text/plain": [
              "<Figure size 432x288 with 2 Axes>"
            ]
          },
          "metadata": {
            "tags": [],
            "needs_background": "light"
          }
        }
      ]
    },
    {
      "cell_type": "code",
      "metadata": {
        "id": "OSgl-cVpd4Gr",
        "outputId": "29be5ce5-643e-431a-8cb0-cf2b1bc7bdb7",
        "colab": {
          "base_uri": "https://localhost:8080/",
          "height": 510
        }
      },
      "source": [
        "dataset.Country.value_counts()"
      ],
      "execution_count": 34,
      "outputs": [
        {
          "output_type": "execute_result",
          "data": {
            "text/plain": [
              "USA            180\n",
              "Canada         151\n",
              "Japan           72\n",
              "France          43\n",
              "China           39\n",
              "Mexico          36\n",
              "Spain           27\n",
              "Colombia        27\n",
              "Switzerland     24\n",
              "India           24\n",
              "Brazil          24\n",
              "Italy           18\n",
              "Singapore       18\n",
              "Germany         10\n",
              "Finland          9\n",
              "Belgium          6\n",
              "Netherlands      6\n",
              "Chile            6\n",
              "Austria          6\n",
              "Uganda           3\n",
              "Peru             3\n",
              "Portugal         3\n",
              "Hungary          3\n",
              "Denmark          3\n",
              "Norway           3\n",
              "Serbia           3\n",
              "Argentina        3\n",
              "Thailand         3\n",
              "Name: Country, dtype: int64"
            ]
          },
          "metadata": {
            "tags": []
          },
          "execution_count": 34
        }
      ]
    },
    {
      "cell_type": "code",
      "metadata": {
        "id": "VU9VZowqeC5d"
      },
      "source": [
        "interaction_columns = ['NumCalls', 'NumEmails', 'NumDownloads', 'NumEvents', 'NumForms','WebVisits', 'PageVisits']"
      ],
      "execution_count": 35,
      "outputs": []
    },
    {
      "cell_type": "code",
      "metadata": {
        "id": "uS9MZQjae1Al"
      },
      "source": [
        "for i in range(dataset.shape[0]):\n",
        "  sum = 0.0\n",
        "  for j in interaction_columns:\n",
        "    sum = sum + dataset.loc[i,j]\n",
        "  dataset.loc[i,'Total_interactions'] = sum"
      ],
      "execution_count": 36,
      "outputs": []
    },
    {
      "cell_type": "code",
      "metadata": {
        "id": "7O9fRGg-e_1x",
        "outputId": "96326cfe-5b9c-40f1-9b0a-2053195bac88",
        "colab": {
          "base_uri": "https://localhost:8080/",
          "height": 221
        }
      },
      "source": [
        "dataset['Total_interactions']"
      ],
      "execution_count": 37,
      "outputs": [
        {
          "output_type": "execute_result",
          "data": {
            "text/plain": [
              "0      64.0\n",
              "1      63.0\n",
              "2      13.0\n",
              "3      37.0\n",
              "4      18.0\n",
              "       ... \n",
              "748     3.0\n",
              "749     4.0\n",
              "750    15.0\n",
              "751     1.0\n",
              "752    20.0\n",
              "Name: Total_interactions, Length: 753, dtype: float64"
            ]
          },
          "metadata": {
            "tags": []
          },
          "execution_count": 37
        }
      ]
    },
    {
      "cell_type": "code",
      "metadata": {
        "id": "Jzrbzo3AfCt2",
        "outputId": "8b5387bd-1c99-4a5b-9ad3-bd73a1cae757",
        "colab": {
          "base_uri": "https://localhost:8080/",
          "height": 204
        }
      },
      "source": [
        "dataset.head()"
      ],
      "execution_count": 38,
      "outputs": [
        {
          "output_type": "execute_result",
          "data": {
            "text/html": [
              "<div>\n",
              "<style scoped>\n",
              "    .dataframe tbody tr th:only-of-type {\n",
              "        vertical-align: middle;\n",
              "    }\n",
              "\n",
              "    .dataframe tbody tr th {\n",
              "        vertical-align: top;\n",
              "    }\n",
              "\n",
              "    .dataframe thead th {\n",
              "        text-align: right;\n",
              "    }\n",
              "</style>\n",
              "<table border=\"1\" class=\"dataframe\">\n",
              "  <thead>\n",
              "    <tr style=\"text-align: right;\">\n",
              "      <th></th>\n",
              "      <th>NumCalls</th>\n",
              "      <th>NumEmails</th>\n",
              "      <th>NumDownloads</th>\n",
              "      <th>NumEvents</th>\n",
              "      <th>NumForms</th>\n",
              "      <th>Language</th>\n",
              "      <th>Country</th>\n",
              "      <th>WebVisits</th>\n",
              "      <th>PageVisits</th>\n",
              "      <th>PriorClient</th>\n",
              "      <th>MadeAPurchase</th>\n",
              "      <th>Total_interactions</th>\n",
              "    </tr>\n",
              "  </thead>\n",
              "  <tbody>\n",
              "    <tr>\n",
              "      <th>0</th>\n",
              "      <td>33</td>\n",
              "      <td>19</td>\n",
              "      <td>1</td>\n",
              "      <td>0</td>\n",
              "      <td>1</td>\n",
              "      <td>German</td>\n",
              "      <td>Germany</td>\n",
              "      <td>10.0</td>\n",
              "      <td>0.0</td>\n",
              "      <td>1</td>\n",
              "      <td>0</td>\n",
              "      <td>64.0</td>\n",
              "    </tr>\n",
              "    <tr>\n",
              "      <th>1</th>\n",
              "      <td>0</td>\n",
              "      <td>1</td>\n",
              "      <td>0</td>\n",
              "      <td>1</td>\n",
              "      <td>0</td>\n",
              "      <td>English</td>\n",
              "      <td>USA</td>\n",
              "      <td>61.0</td>\n",
              "      <td>0.0</td>\n",
              "      <td>0</td>\n",
              "      <td>0</td>\n",
              "      <td>63.0</td>\n",
              "    </tr>\n",
              "    <tr>\n",
              "      <th>2</th>\n",
              "      <td>4</td>\n",
              "      <td>6</td>\n",
              "      <td>2</td>\n",
              "      <td>0</td>\n",
              "      <td>0</td>\n",
              "      <td>Spanish</td>\n",
              "      <td>Mexico</td>\n",
              "      <td>1.0</td>\n",
              "      <td>0.0</td>\n",
              "      <td>0</td>\n",
              "      <td>0</td>\n",
              "      <td>13.0</td>\n",
              "    </tr>\n",
              "    <tr>\n",
              "      <th>3</th>\n",
              "      <td>0</td>\n",
              "      <td>10</td>\n",
              "      <td>0</td>\n",
              "      <td>0</td>\n",
              "      <td>1</td>\n",
              "      <td>English</td>\n",
              "      <td>India</td>\n",
              "      <td>26.0</td>\n",
              "      <td>0.0</td>\n",
              "      <td>0</td>\n",
              "      <td>0</td>\n",
              "      <td>37.0</td>\n",
              "    </tr>\n",
              "    <tr>\n",
              "      <th>4</th>\n",
              "      <td>7</td>\n",
              "      <td>0</td>\n",
              "      <td>0</td>\n",
              "      <td>0</td>\n",
              "      <td>0</td>\n",
              "      <td>English</td>\n",
              "      <td>USA</td>\n",
              "      <td>11.0</td>\n",
              "      <td>0.0</td>\n",
              "      <td>0</td>\n",
              "      <td>1</td>\n",
              "      <td>18.0</td>\n",
              "    </tr>\n",
              "  </tbody>\n",
              "</table>\n",
              "</div>"
            ],
            "text/plain": [
              "   NumCalls  NumEmails  ...  MadeAPurchase  Total_interactions\n",
              "0        33         19  ...              0                64.0\n",
              "1         0          1  ...              0                63.0\n",
              "2         4          6  ...              0                13.0\n",
              "3         0         10  ...              0                37.0\n",
              "4         7          0  ...              1                18.0\n",
              "\n",
              "[5 rows x 12 columns]"
            ]
          },
          "metadata": {
            "tags": []
          },
          "execution_count": 38
        }
      ]
    },
    {
      "cell_type": "code",
      "metadata": {
        "id": "jnWIGC1nfgVb"
      },
      "source": [
        "country_cols = pd.get_dummies(dataset['Country'])"
      ],
      "execution_count": 39,
      "outputs": []
    },
    {
      "cell_type": "code",
      "metadata": {
        "id": "z0BMmJLnnGFY"
      },
      "source": [
        "cols_to_keep = ['USA','Canada','Japan','France','China']"
      ],
      "execution_count": 40,
      "outputs": []
    },
    {
      "cell_type": "code",
      "metadata": {
        "id": "yZrR9JiznyXh"
      },
      "source": [
        "country_cols = country_cols[cols_to_keep]"
      ],
      "execution_count": 41,
      "outputs": []
    },
    {
      "cell_type": "code",
      "metadata": {
        "id": "3z4HjmSwoXkj",
        "outputId": "8a8690a0-16e8-4414-9984-931831273a1c",
        "colab": {
          "base_uri": "https://localhost:8080/",
          "height": 204
        }
      },
      "source": [
        "country_cols.head()"
      ],
      "execution_count": 42,
      "outputs": [
        {
          "output_type": "execute_result",
          "data": {
            "text/html": [
              "<div>\n",
              "<style scoped>\n",
              "    .dataframe tbody tr th:only-of-type {\n",
              "        vertical-align: middle;\n",
              "    }\n",
              "\n",
              "    .dataframe tbody tr th {\n",
              "        vertical-align: top;\n",
              "    }\n",
              "\n",
              "    .dataframe thead th {\n",
              "        text-align: right;\n",
              "    }\n",
              "</style>\n",
              "<table border=\"1\" class=\"dataframe\">\n",
              "  <thead>\n",
              "    <tr style=\"text-align: right;\">\n",
              "      <th></th>\n",
              "      <th>USA</th>\n",
              "      <th>Canada</th>\n",
              "      <th>Japan</th>\n",
              "      <th>France</th>\n",
              "      <th>China</th>\n",
              "    </tr>\n",
              "  </thead>\n",
              "  <tbody>\n",
              "    <tr>\n",
              "      <th>0</th>\n",
              "      <td>0</td>\n",
              "      <td>0</td>\n",
              "      <td>0</td>\n",
              "      <td>0</td>\n",
              "      <td>0</td>\n",
              "    </tr>\n",
              "    <tr>\n",
              "      <th>1</th>\n",
              "      <td>1</td>\n",
              "      <td>0</td>\n",
              "      <td>0</td>\n",
              "      <td>0</td>\n",
              "      <td>0</td>\n",
              "    </tr>\n",
              "    <tr>\n",
              "      <th>2</th>\n",
              "      <td>0</td>\n",
              "      <td>0</td>\n",
              "      <td>0</td>\n",
              "      <td>0</td>\n",
              "      <td>0</td>\n",
              "    </tr>\n",
              "    <tr>\n",
              "      <th>3</th>\n",
              "      <td>0</td>\n",
              "      <td>0</td>\n",
              "      <td>0</td>\n",
              "      <td>0</td>\n",
              "      <td>0</td>\n",
              "    </tr>\n",
              "    <tr>\n",
              "      <th>4</th>\n",
              "      <td>1</td>\n",
              "      <td>0</td>\n",
              "      <td>0</td>\n",
              "      <td>0</td>\n",
              "      <td>0</td>\n",
              "    </tr>\n",
              "  </tbody>\n",
              "</table>\n",
              "</div>"
            ],
            "text/plain": [
              "   USA  Canada  Japan  France  China\n",
              "0    0       0      0       0      0\n",
              "1    1       0      0       0      0\n",
              "2    0       0      0       0      0\n",
              "3    0       0      0       0      0\n",
              "4    1       0      0       0      0"
            ]
          },
          "metadata": {
            "tags": []
          },
          "execution_count": 42
        }
      ]
    },
    {
      "cell_type": "code",
      "metadata": {
        "id": "D5KmGfQAozIt"
      },
      "source": [
        "dataset = pd.concat([dataset,country_cols], axis = 1)"
      ],
      "execution_count": 43,
      "outputs": []
    },
    {
      "cell_type": "code",
      "metadata": {
        "id": "yOWON8CvU_y0",
        "outputId": "2710080a-181e-43c2-b4f9-d8fc1926ee09",
        "colab": {
          "base_uri": "https://localhost:8080/",
          "height": 224
        }
      },
      "source": [
        "dataset.head()"
      ],
      "execution_count": 44,
      "outputs": [
        {
          "output_type": "execute_result",
          "data": {
            "text/html": [
              "<div>\n",
              "<style scoped>\n",
              "    .dataframe tbody tr th:only-of-type {\n",
              "        vertical-align: middle;\n",
              "    }\n",
              "\n",
              "    .dataframe tbody tr th {\n",
              "        vertical-align: top;\n",
              "    }\n",
              "\n",
              "    .dataframe thead th {\n",
              "        text-align: right;\n",
              "    }\n",
              "</style>\n",
              "<table border=\"1\" class=\"dataframe\">\n",
              "  <thead>\n",
              "    <tr style=\"text-align: right;\">\n",
              "      <th></th>\n",
              "      <th>NumCalls</th>\n",
              "      <th>NumEmails</th>\n",
              "      <th>NumDownloads</th>\n",
              "      <th>NumEvents</th>\n",
              "      <th>NumForms</th>\n",
              "      <th>Language</th>\n",
              "      <th>Country</th>\n",
              "      <th>WebVisits</th>\n",
              "      <th>PageVisits</th>\n",
              "      <th>PriorClient</th>\n",
              "      <th>MadeAPurchase</th>\n",
              "      <th>Total_interactions</th>\n",
              "      <th>USA</th>\n",
              "      <th>Canada</th>\n",
              "      <th>Japan</th>\n",
              "      <th>France</th>\n",
              "      <th>China</th>\n",
              "    </tr>\n",
              "  </thead>\n",
              "  <tbody>\n",
              "    <tr>\n",
              "      <th>0</th>\n",
              "      <td>33</td>\n",
              "      <td>19</td>\n",
              "      <td>1</td>\n",
              "      <td>0</td>\n",
              "      <td>1</td>\n",
              "      <td>German</td>\n",
              "      <td>Germany</td>\n",
              "      <td>10.0</td>\n",
              "      <td>0.0</td>\n",
              "      <td>1</td>\n",
              "      <td>0</td>\n",
              "      <td>64.0</td>\n",
              "      <td>0</td>\n",
              "      <td>0</td>\n",
              "      <td>0</td>\n",
              "      <td>0</td>\n",
              "      <td>0</td>\n",
              "    </tr>\n",
              "    <tr>\n",
              "      <th>1</th>\n",
              "      <td>0</td>\n",
              "      <td>1</td>\n",
              "      <td>0</td>\n",
              "      <td>1</td>\n",
              "      <td>0</td>\n",
              "      <td>English</td>\n",
              "      <td>USA</td>\n",
              "      <td>61.0</td>\n",
              "      <td>0.0</td>\n",
              "      <td>0</td>\n",
              "      <td>0</td>\n",
              "      <td>63.0</td>\n",
              "      <td>1</td>\n",
              "      <td>0</td>\n",
              "      <td>0</td>\n",
              "      <td>0</td>\n",
              "      <td>0</td>\n",
              "    </tr>\n",
              "    <tr>\n",
              "      <th>2</th>\n",
              "      <td>4</td>\n",
              "      <td>6</td>\n",
              "      <td>2</td>\n",
              "      <td>0</td>\n",
              "      <td>0</td>\n",
              "      <td>Spanish</td>\n",
              "      <td>Mexico</td>\n",
              "      <td>1.0</td>\n",
              "      <td>0.0</td>\n",
              "      <td>0</td>\n",
              "      <td>0</td>\n",
              "      <td>13.0</td>\n",
              "      <td>0</td>\n",
              "      <td>0</td>\n",
              "      <td>0</td>\n",
              "      <td>0</td>\n",
              "      <td>0</td>\n",
              "    </tr>\n",
              "    <tr>\n",
              "      <th>3</th>\n",
              "      <td>0</td>\n",
              "      <td>10</td>\n",
              "      <td>0</td>\n",
              "      <td>0</td>\n",
              "      <td>1</td>\n",
              "      <td>English</td>\n",
              "      <td>India</td>\n",
              "      <td>26.0</td>\n",
              "      <td>0.0</td>\n",
              "      <td>0</td>\n",
              "      <td>0</td>\n",
              "      <td>37.0</td>\n",
              "      <td>0</td>\n",
              "      <td>0</td>\n",
              "      <td>0</td>\n",
              "      <td>0</td>\n",
              "      <td>0</td>\n",
              "    </tr>\n",
              "    <tr>\n",
              "      <th>4</th>\n",
              "      <td>7</td>\n",
              "      <td>0</td>\n",
              "      <td>0</td>\n",
              "      <td>0</td>\n",
              "      <td>0</td>\n",
              "      <td>English</td>\n",
              "      <td>USA</td>\n",
              "      <td>11.0</td>\n",
              "      <td>0.0</td>\n",
              "      <td>0</td>\n",
              "      <td>1</td>\n",
              "      <td>18.0</td>\n",
              "      <td>1</td>\n",
              "      <td>0</td>\n",
              "      <td>0</td>\n",
              "      <td>0</td>\n",
              "      <td>0</td>\n",
              "    </tr>\n",
              "  </tbody>\n",
              "</table>\n",
              "</div>"
            ],
            "text/plain": [
              "   NumCalls  NumEmails  NumDownloads  NumEvents  ...  Canada Japan France  China\n",
              "0        33         19             1          0  ...       0     0      0      0\n",
              "1         0          1             0          1  ...       0     0      0      0\n",
              "2         4          6             2          0  ...       0     0      0      0\n",
              "3         0         10             0          0  ...       0     0      0      0\n",
              "4         7          0             0          0  ...       0     0      0      0\n",
              "\n",
              "[5 rows x 17 columns]"
            ]
          },
          "metadata": {
            "tags": []
          },
          "execution_count": 44
        }
      ]
    },
    {
      "cell_type": "code",
      "metadata": {
        "id": "l1rBX0t-VEx0"
      },
      "source": [
        "dataset.drop(['Country','Language'], axis = 1, inplace = True)"
      ],
      "execution_count": 45,
      "outputs": []
    },
    {
      "cell_type": "code",
      "metadata": {
        "id": "JqHGmiZwVcHm"
      },
      "source": [
        "dataset.dropna(inplace = True)"
      ],
      "execution_count": 46,
      "outputs": []
    },
    {
      "cell_type": "code",
      "metadata": {
        "id": "gXcib1nwVN2f"
      },
      "source": [
        "X = dataset.drop(['MadeAPurchase'], axis = 1)"
      ],
      "execution_count": 47,
      "outputs": []
    },
    {
      "cell_type": "code",
      "metadata": {
        "id": "rzRXxgOTVW6M"
      },
      "source": [
        "Y = dataset['MadeAPurchase']"
      ],
      "execution_count": 48,
      "outputs": []
    },
    {
      "cell_type": "code",
      "metadata": {
        "id": "bK4ACiV1VatN"
      },
      "source": [
        "import tensorflow as tf\n",
        "from tensorflow import keras"
      ],
      "execution_count": 49,
      "outputs": []
    },
    {
      "cell_type": "code",
      "metadata": {
        "id": "FJ4FhRhfXUYH"
      },
      "source": [
        "model = keras.Sequential(\n",
        "    [keras.layers.Dense(units = 64, activation = 'tanh'),\n",
        "    keras.layers.Dense(units = 128, activation = 'tanh'),\n",
        "    keras.layers.Dense(units = 256, activation = 'tanh'),\n",
        "    keras.layers.Dense(units = 1,activation = 'sigmoid')]\n",
        ")"
      ],
      "execution_count": 50,
      "outputs": []
    },
    {
      "cell_type": "code",
      "metadata": {
        "id": "chWaQIPeX_vB"
      },
      "source": [
        "model.compile(optimizer = 'adam', loss = keras.losses.BinaryCrossentropy(from_logits=True), metrics = ['accuracy'])"
      ],
      "execution_count": 51,
      "outputs": []
    },
    {
      "cell_type": "code",
      "metadata": {
        "id": "GYGr7XUjs7id"
      },
      "source": [
        "from sklearn.model_selection import train_test_split"
      ],
      "execution_count": 52,
      "outputs": []
    },
    {
      "cell_type": "code",
      "metadata": {
        "id": "IgXSMp3-tGGy"
      },
      "source": [
        "X_train,X_test,Y_train,Y_test = train_test_split(X,Y, test_size = 0.3)"
      ],
      "execution_count": 53,
      "outputs": []
    },
    {
      "cell_type": "code",
      "metadata": {
        "id": "KzhGiengoE44"
      },
      "source": [
        "epochs = 10"
      ],
      "execution_count": 54,
      "outputs": []
    },
    {
      "cell_type": "code",
      "metadata": {
        "id": "c0uoMgzxtUIJ",
        "outputId": "4ae60ff6-f33e-4f01-a0a4-e355a9514004",
        "colab": {
          "base_uri": "https://localhost:8080/",
          "height": 479
        }
      },
      "source": [
        "history = model.fit(x = X, y = Y, epochs = 10,validation_split = 0.3)"
      ],
      "execution_count": 55,
      "outputs": [
        {
          "output_type": "stream",
          "text": [
            "Epoch 1/10\n",
            "WARNING:tensorflow:Layer dense is casting an input tensor from dtype float64 to the layer's dtype of float32, which is new behavior in TensorFlow 2.  The layer has dtype float32 because its dtype defaults to floatx.\n",
            "\n",
            "If you intended to run this layer in float32, you can safely ignore this warning. If in doubt, this warning is likely only an issue if you are porting a TensorFlow 1.X model to TensorFlow 2.\n",
            "\n",
            "To change all layers to have dtype float64 by default, call `tf.keras.backend.set_floatx('float64')`. To change just this layer, pass dtype='float64' to the layer constructor. If you are the author of this layer, you can disable autocasting by passing autocast=False to the base Layer constructor.\n",
            "\n",
            "17/17 [==============================] - 0s 9ms/step - loss: 0.6188 - accuracy: 0.6673 - val_loss: 0.5214 - val_accuracy: 0.7883\n",
            "Epoch 2/10\n",
            "17/17 [==============================] - 0s 2ms/step - loss: 0.5892 - accuracy: 0.7253 - val_loss: 0.4950 - val_accuracy: 0.8604\n",
            "Epoch 3/10\n",
            "17/17 [==============================] - 0s 2ms/step - loss: 0.5792 - accuracy: 0.7660 - val_loss: 0.4855 - val_accuracy: 0.8784\n",
            "Epoch 4/10\n",
            "17/17 [==============================] - 0s 2ms/step - loss: 0.5800 - accuracy: 0.7350 - val_loss: 0.4869 - val_accuracy: 0.8784\n",
            "Epoch 5/10\n",
            "17/17 [==============================] - 0s 2ms/step - loss: 0.5755 - accuracy: 0.7485 - val_loss: 0.4797 - val_accuracy: 0.8874\n",
            "Epoch 6/10\n",
            "17/17 [==============================] - 0s 2ms/step - loss: 0.5726 - accuracy: 0.7679 - val_loss: 0.4797 - val_accuracy: 0.8919\n",
            "Epoch 7/10\n",
            "17/17 [==============================] - 0s 2ms/step - loss: 0.5754 - accuracy: 0.7679 - val_loss: 0.4790 - val_accuracy: 0.8919\n",
            "Epoch 8/10\n",
            "17/17 [==============================] - 0s 2ms/step - loss: 0.5695 - accuracy: 0.7621 - val_loss: 0.4796 - val_accuracy: 0.8874\n",
            "Epoch 9/10\n",
            "17/17 [==============================] - 0s 2ms/step - loss: 0.5675 - accuracy: 0.7698 - val_loss: 0.4758 - val_accuracy: 0.8964\n",
            "Epoch 10/10\n",
            "17/17 [==============================] - 0s 2ms/step - loss: 0.5643 - accuracy: 0.7776 - val_loss: 0.4759 - val_accuracy: 0.8919\n"
          ],
          "name": "stdout"
        }
      ]
    },
    {
      "cell_type": "code",
      "metadata": {
        "id": "9KYD4wOttft9",
        "outputId": "eb03660e-49eb-468a-c57e-96eae0b3e36d",
        "colab": {
          "base_uri": "https://localhost:8080/",
          "height": 34
        }
      },
      "source": [
        "loss, accuracy = model.evaluate(X_test)"
      ],
      "execution_count": 56,
      "outputs": [
        {
          "output_type": "stream",
          "text": [
            "7/7 [==============================] - 0s 988us/step - loss: 0.0000e+00 - accuracy: 0.0000e+00\n"
          ],
          "name": "stdout"
        }
      ]
    },
    {
      "cell_type": "code",
      "metadata": {
        "id": "HUIxYuSOlcAH"
      },
      "source": [
        "history_dict = history.history"
      ],
      "execution_count": 57,
      "outputs": []
    },
    {
      "cell_type": "code",
      "metadata": {
        "id": "1DL-lll8mxN4"
      },
      "source": [
        "acc = history_dict['accuracy']\n",
        "loss = history_dict['loss']\n",
        "val_acc = history_dict['val_accuracy']\n",
        "val_loss = history_dict['val_loss']"
      ],
      "execution_count": 58,
      "outputs": []
    },
    {
      "cell_type": "code",
      "metadata": {
        "id": "UZaEU8ZnmzXY",
        "outputId": "14161dee-75ac-4cbb-c0ad-298816702090",
        "colab": {
          "base_uri": "https://localhost:8080/",
          "height": 295
        }
      },
      "source": [
        "plt.plot(np.arange(epochs), acc, \"bo\",  label = \"Training accuracy\")\n",
        "plt.plot(np.arange(epochs), val_acc, \"b\", label = \"Validation accuracy\")\n",
        "plt.title(\"Training and Validation accuracy\")\n",
        "plt.xlabel(\"Epochs\")\n",
        "plt.ylabel(\"Accuracy\")\n",
        "plt.legend()\n",
        "plt.show()"
      ],
      "execution_count": 80,
      "outputs": [
        {
          "output_type": "display_data",
          "data": {
            "image/png": "[encoded data removed]",
            "text/plain": [
              "<Figure size 432x288 with 1 Axes>"
            ]
          },
          "metadata": {
            "tags": [],
            "needs_background": "light"
          }
        }
      ]
    },
    {
      "cell_type": "code",
      "metadata": {
        "id": "lrTcvJc9KGGu",
        "outputId": "ee666d93-3232-4a15-ae6a-d28adccc7b94",
        "colab": {
          "base_uri": "https://localhost:8080/",
          "height": 295
        }
      },
      "source": [
        "plt.plot(np.arange(epochs), loss, \"bo\",  label = \"Training loss\")\n",
        "plt.plot(np.arange(epochs), val_loss, \"b\", label = \"Validation loss\")\n",
        "plt.title(\"Training and Validation loss\")\n",
        "plt.xlabel(\"Epochs\")\n",
        "plt.ylabel(\"Loss\")\n",
        "plt.legend()\n",
        "plt.show()"
      ],
      "execution_count": 81,
      "outputs": [
        {
          "output_type": "display_data",
          "data": {
            "image/png": "[encoded data removed]",
            "text/plain": [
              "<Figure size 432x288 with 1 Axes>"
            ]
          },
          "metadata": {
            "tags": [],
            "needs_background": "light"
          }
        }
      ]
    },
    {
      "cell_type": "code",
      "metadata": {
        "id": "dtyOhDobn_Mf"
      },
      "source": [
        "from sklearn import linear_model"
      ],
      "execution_count": 60,
      "outputs": []
    },
    {
      "cell_type": "code",
      "metadata": {
        "id": "sdqp81AU8xdf"
      },
      "source": [
        "clf = linear_model.LogisticRegression(max_iter = 1000)"
      ],
      "execution_count": 63,
      "outputs": []
    },
    {
      "cell_type": "code",
      "metadata": {
        "id": "0QzvRzbJF_Bl",
        "outputId": "f22f05a3-ee81-4498-9ee2-d48a4aa370bd",
        "colab": {
          "base_uri": "https://localhost:8080/",
          "height": 102
        }
      },
      "source": [
        "clf.fit(X_train,Y_train)"
      ],
      "execution_count": 64,
      "outputs": [
        {
          "output_type": "execute_result",
          "data": {
            "text/plain": [
              "LogisticRegression(C=1.0, class_weight=None, dual=False, fit_intercept=True,\n",
              "                   intercept_scaling=1, l1_ratio=None, max_iter=1000,\n",
              "                   multi_class='auto', n_jobs=None, penalty='l2',\n",
              "                   random_state=None, solver='lbfgs', tol=0.0001, verbose=0,\n",
              "                   warm_start=False)"
            ]
          },
          "metadata": {
            "tags": []
          },
          "execution_count": 64
        }
      ]
    },
    {
      "cell_type": "code",
      "metadata": {
        "id": "V6KiLhyfGD_h"
      },
      "source": [
        "Y_pred = clf.predict(X_test)"
      ],
      "execution_count": 66,
      "outputs": []
    },
    {
      "cell_type": "code",
      "metadata": {
        "id": "nLMP8WsUGWPs"
      },
      "source": [
        "from sklearn.metrics import accuracy_score"
      ],
      "execution_count": 67,
      "outputs": []
    },
    {
      "cell_type": "code",
      "metadata": {
        "id": "5p4ylZ9ZGfDN",
        "outputId": "f99bae9b-b1ff-4cf8-bfa0-0d53013392f1",
        "colab": {
          "base_uri": "https://localhost:8080/",
          "height": 34
        }
      },
      "source": [
        "accuracy_score(Y_pred,Y_test)"
      ],
      "execution_count": 68,
      "outputs": [
        {
          "output_type": "execute_result",
          "data": {
            "text/plain": [
              "0.7342342342342343"
            ]
          },
          "metadata": {
            "tags": []
          },
          "execution_count": 68
        }
      ]
    },
    {
      "cell_type": "code",
      "metadata": {
        "id": "boCNJp3TGicB"
      },
      "source": [
        "from sklearn.metrics import confusion_matrix"
      ],
      "execution_count": 69,
      "outputs": []
    },
    {
      "cell_type": "code",
      "metadata": {
        "id": "8ckTm4pUG-Qz",
        "outputId": "9e9aa680-46f1-41d2-813e-ebf1cb63ece2",
        "colab": {
          "base_uri": "https://localhost:8080/",
          "height": 51
        }
      },
      "source": [
        "confusion_matrix(Y_test,Y_pred)"
      ],
      "execution_count": 70,
      "outputs": [
        {
          "output_type": "execute_result",
          "data": {
            "text/plain": [
              "array([[ 33,  45],\n",
              "       [ 14, 130]])"
            ]
          },
          "metadata": {
            "tags": []
          },
          "execution_count": 70
        }
      ]
    },
    {
      "cell_type": "code",
      "metadata": {
        "id": "Kb6JPn34HGwA"
      },
      "source": [
        "from sklearn.metrics import precision_recall_fscore_support"
      ],
      "execution_count": 71,
      "outputs": []
    },
    {
      "cell_type": "code",
      "metadata": {
        "id": "DXPFjVXtHVL7",
        "outputId": "1ffbee94-cf25-4bf4-b1d8-12868c0f6cf9",
        "colab": {
          "base_uri": "https://localhost:8080/",
          "height": 85
        }
      },
      "source": [
        "precision_recall_fscore_support(Y_test, Y_pred)"
      ],
      "execution_count": 74,
      "outputs": [
        {
          "output_type": "execute_result",
          "data": {
            "text/plain": [
              "(array([0.70212766, 0.74285714]),\n",
              " array([0.42307692, 0.90277778]),\n",
              " array([0.528     , 0.81504702]),\n",
              " array([ 78, 144]))"
            ]
          },
          "metadata": {
            "tags": []
          },
          "execution_count": 74
        }
      ]
    },
    {
      "cell_type": "code",
      "metadata": {
        "id": "vm-k5h7CHbE9"
      },
      "source": [
        "from sklearn.model_selection import cross_val_score"
      ],
      "execution_count": 75,
      "outputs": []
    },
    {
      "cell_type": "code",
      "metadata": {
        "id": "OjO-C5YiIZlD",
        "outputId": "189feb77-aeb8-4b14-f23a-744177742b88",
        "colab": {
          "base_uri": "https://localhost:8080/",
          "height": 34
        }
      },
      "source": [
        "cross_val_score(clf, X = X, y = Y)"
      ],
      "execution_count": 79,
      "outputs": [
        {
          "output_type": "execute_result",
          "data": {
            "text/plain": [
              "array([0.64189189, 0.73648649, 0.75675676, 0.75675676, 0.7755102 ])"
            ]
          },
          "metadata": {
            "tags": []
          },
          "execution_count": 79
        }
      ]
    }
  ]
}